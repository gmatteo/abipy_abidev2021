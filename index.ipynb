{
 "cells": [
  {
   "cell_type": "code",
   "execution_count": 1,
   "metadata": {
    "slideshow": {
     "slide_type": "skip"
    }
   },
   "outputs": [],
   "source": [
    "import os\n",
    "\n",
    "# Ignore numpy warnings\n",
    "import warnings\n",
    "warnings.filterwarnings('ignore')\n",
    "\n",
    "%matplotlib inline\n",
    "#%matplotlib notebook\n",
    "\n",
    "# Use seaborn settings.\n",
    "import seaborn as sns\n",
    "sns.set(\n",
    "        #context=\"paper\",\n",
    "        context=\"talk\",\n",
    "        #context=\"poster\",\n",
    "        style='darkgrid',\n",
    "        #style=\"dark\",\n",
    "        #palette='deep',\n",
    "        font='sans-serif', \n",
    "        #font_scale=1.0, \n",
    "        #color_codes=False, \n",
    "        rc={'figure.figsize': (12, 8.0)}, # width and height in inches.\n",
    "        #rc={'figure.figsize': (12, 12.0)}, # width and height in inches.\n",
    ")\n",
    "\n",
    "import IPython\n",
    "\n",
    "def _embed(src, width=\"800\", height=\"400\"):\n",
    "    return IPython.display.IFrame(src=src, width=str(width), height=str(height))\n",
    "\n",
    "from IPython.core.magic import (register_line_magic, register_cell_magic,\n",
    "                                register_line_cell_magic)\n",
    "\n",
    "@register_line_magic\n",
    "def embed(line):\n",
    "    \"my line magic\"\n",
    "    #return line\n",
    "    return _embed(line)\n",
    "\n",
    "# We delete these to avoid name conflicts for automagic to work\n",
    "del embed\n",
    "#del lcmagic\n",
    "\n",
    "# Theme\n",
    "# import jtplot module in notebook\n",
    "#from jupyterthemes import jtplot\n",
    "\n",
    "# choose which theme to inherit plotting style from\n",
    "# onedork | grade3 | oceans16 | chesterish | monokai | solarizedl | solarizedd\n",
    "#jtplot.style(theme='monokai')\n",
    "\n",
    "# set \"context\" (paper, notebook, talk, poster)\n",
    "# scale font-size of ticklabels, legend, etc.\n",
    "# remove spines from x and y axes and make grid dashed\n",
    "#jtplot.style(context='talk', fscale=1.4, spines=False, gridlines='--')\n",
    "\n",
    "# turn on X- and Y-axis tick marks (default=False)\n",
    "# turn off the axis grid lines (default=True)\n",
    "# and set the default figure size\n",
    "#jtplot.style(ticks=True, grid=False, figsize=(6, 4.5))\n",
    "\n",
    "# reset default matplotlib rcParams\n",
    "#jtplot.reset()\n",
    "\n",
    "from abipy import abilab\n",
    "import abipy.data as abidata\n",
    "abiopen = abilab.abiopen\n",
    "\n",
    "#abilab.abipanel()\n",
    "\n",
    "si_pseudo = os.path.join(abidata.pseudo_dir, \"14si.pspnc\")"
   ]
  },
  {
   "cell_type": "markdown",
   "metadata": {
    "slideshow": {
     "slide_type": "slide"
    }
   },
   "source": [
    "# New features of AbiPy v0.9\n",
    "\n",
    "### M. Giantomassi and the AbiPy group\n",
    "\n",
    "9th international ABINIT developer workshop<br> \n",
    "<small>20-22nd May 2019 - Louvain-la-Neuve, Belgium</small>\n",
    "\n",
    "<!-- link rel=\"stylesheet\" href=\"reveal.js/css/theme/sky.css\" id=\"theme\" -->\n",
    "<img src=\"./assets/intro_logos.png\" width=\"85%\" heigh=\"15%\" align=\"center\">\n",
    "<hr> \n",
    "\n",
    "* These slides have been generated using [jupyter](https://jupyter.org), [nbconvert](https://github.com/jupyter/nbconvert) and [revealjs](https://revealjs.com/)\n",
    "* The notebook can be downloaded from this [github repo](https://github.com/gmatteo/abipy_intro_abidev2019)\n",
    "* To install and configure the software, follow these [installation instructions](https://github.com/abinit/abipy#getting-abipy)\n",
    "\n",
    "Use the Space key to navigate through all slides."
   ]
  },
  {
   "cell_type": "markdown",
   "metadata": {
    "slideshow": {
     "slide_type": "slide"
    }
   },
   "source": [
    "<img src=\"./assets/abipy_logo.jpg\" width=\"55%\" align=\"center\">\n",
    "\n",
    "## What is AbiPy?\n",
    "\n",
    "#### Python package for:\n",
    "\n",
    "   * Generating ABINIT input files automatically\n",
    "   * Post-processing output results (*netcdf* and *text* files)\n",
    "   * Interfacing ABINIT with external tools\n",
    "   * Creating and executing workflows (band structures, DFPT, $GW$, BSE…)\n",
    "\n",
    "#### Why python?\n",
    "\n",
    "   * Easy to use and to learn\n",
    "   * Great support for science ([numpy](http://www.numpy.org/), [scipy](https://www.scipy.org/), [pandas](http://pandas.pydata.org/), [matplotlib](https://matplotlib.org/) …)\n",
    "   * Interactive environments ([ipython](http://ipython.org/), [jupyter notebooks](https://jupyter.org/), GUIs)\n",
    "   * More powerful and flexible than Fortran for implementing the high-level logic needed in modern ab-initio workflows\n",
    "   * [pymatgen](https://github.com/materialsproject) ecosystem and the [materials project database](https://www.materialsproject.org/)…"
   ]
  },
  {
   "cell_type": "markdown",
   "metadata": {
    "slideshow": {
     "slide_type": "subslide"
    }
   },
   "source": [
    "## How to install AbiPy\n",
    "\n",
    "<!-- From the most simple to the most complex one, you have three options:-->\n",
    "\n",
    "Using [pip](https://pypi.org/project/pip/) and python wheels:\n",
    "\n",
    "        pip install abipy --user\n",
    "\n",
    "Using [conda](https://conda.io/en/latest/) (*recommended*):\n",
    "\n",
    "        conda install abipy --channel conda-forge\n",
    "\n",
    "From the [github repository](https://github.com/abinit/abipy) (*develop mode*):\n",
    "\n",
    "        git clone https://github.com/abinit/abipy.git\n",
    "        cd abipy && python setup.py develop\n",
    "    \n",
    "<!--\n",
    "https://pypi.org/project/abipy/\n",
    "https://anaconda.org/abinit/abipy\n",
    "-->\n",
    "\n",
    "<hr>\n",
    "\n",
    "For further info see http://abinit.github.io/abipy/installation.html"
   ]
  },
  {
   "cell_type": "markdown",
   "metadata": {
    "slideshow": {
     "slide_type": "slide"
    }
   },
   "source": [
    "## AbiPy documentation with galleries of matplotlib examples and workflows\n",
    "\n",
    "<!--\n",
    "* http://abinit.github.io/abipy/index.html\n",
    "\n",
    "* Jupyter notebooks \n",
    "* Gallery of matplotlib examples and flows\n",
    "* abitutorial github repo with additional example\n",
    "\n",
    "<img src=\"./assets/abipy_doc_homepage.png\" width=\"100%\" align=\"center\">\n",
    "-->"
   ]
  },
  {
   "cell_type": "code",
   "execution_count": 2,
   "metadata": {
    "scrolled": false,
    "slideshow": {
     "slide_type": "-"
    }
   },
   "outputs": [
    {
     "data": {
      "text/html": [
       "\n",
       "        <iframe\n",
       "            width=\"800\"\n",
       "            height=\"400\"\n",
       "            src=\"https://abinit.github.io/abipy/index.html\"\n",
       "            frameborder=\"0\"\n",
       "            allowfullscreen\n",
       "        ></iframe>\n",
       "        "
      ],
      "text/plain": [
       "<IPython.lib.display.IFrame at 0x7fb8b2bb76a0>"
      ]
     },
     "execution_count": 2,
     "metadata": {},
     "output_type": "execute_result"
    }
   ],
   "source": [
    "%embed https://abinit.github.io/abipy/index.html"
   ]
  },
  {
   "cell_type": "code",
   "execution_count": 3,
   "metadata": {
    "slideshow": {
     "slide_type": "skip"
    }
   },
   "outputs": [
    {
     "data": {
      "text/html": [
       "\n",
       "        <iframe\n",
       "            width=\"800\"\n",
       "            height=\"400\"\n",
       "            src=\"https://abinit.github.io/abipy/gallery/index.html\"\n",
       "            frameborder=\"0\"\n",
       "            allowfullscreen\n",
       "        ></iframe>\n",
       "        "
      ],
      "text/plain": [
       "<IPython.lib.display.IFrame at 0x7fb8b8b02eb8>"
      ]
     },
     "execution_count": 3,
     "metadata": {},
     "output_type": "execute_result"
    }
   ],
   "source": [
    "%embed https://abinit.github.io/abipy/gallery/index.html"
   ]
  },
  {
   "cell_type": "code",
   "execution_count": 4,
   "metadata": {
    "slideshow": {
     "slide_type": "skip"
    }
   },
   "outputs": [
    {
     "data": {
      "text/html": [
       "\n",
       "        <iframe\n",
       "            width=\"800\"\n",
       "            height=\"400\"\n",
       "            src=\"https://abinit.github.io/abipy/flow_gallery/index.html\"\n",
       "            frameborder=\"0\"\n",
       "            allowfullscreen\n",
       "        ></iframe>\n",
       "        "
      ],
      "text/plain": [
       "<IPython.lib.display.IFrame at 0x7fb8b8b02a90>"
      ]
     },
     "execution_count": 4,
     "metadata": {},
     "output_type": "execute_result"
    }
   ],
   "source": [
    "%embed https://abinit.github.io/abipy/flow_gallery/index.html"
   ]
  },
  {
   "cell_type": "markdown",
   "metadata": {
    "slideshow": {
     "slide_type": "subslide"
    }
   },
   "source": [
    "##  Jupyter notebooks with [examples and lessons](https://nbviewer.jupyter.org/github/abinit/abitutorials/blob/master/abitutorials/index.ipynb) inspired by the official tutorials\n",
    "\n",
    "<!-- img src=\"./assets/abipy_notebooks.png\" width=\"100%\" align=\"center\" -->"
   ]
  },
  {
   "cell_type": "code",
   "execution_count": 5,
   "metadata": {
    "slideshow": {
     "slide_type": "-"
    }
   },
   "outputs": [
    {
     "data": {
      "text/html": [
       "\n",
       "        <iframe\n",
       "            width=\"800\"\n",
       "            height=\"400\"\n",
       "            src=\"https://nbviewer.jupyter.org/github/abinit/abitutorials/blob/master/abitutorials/index.ipynb\"\n",
       "            frameborder=\"0\"\n",
       "            allowfullscreen\n",
       "        ></iframe>\n",
       "        "
      ],
      "text/plain": [
       "<IPython.lib.display.IFrame at 0x7fb8b2bb76d8>"
      ]
     },
     "execution_count": 5,
     "metadata": {},
     "output_type": "execute_result"
    }
   ],
   "source": [
    "%embed https://nbviewer.jupyter.org/github/abinit/abitutorials/blob/master/abitutorials/index.ipynb"
   ]
  },
  {
   "cell_type": "markdown",
   "metadata": {
    "slideshow": {
     "slide_type": "skip"
    }
   },
   "source": [
    "## Command line interface\n",
    "\n",
    "* *abiopen.py* ➝ Open output files inside *ipython* or print/visualize file\n",
    "* *abistruct.py* ➝ Operate on crystalline structures read from file\n",
    "* *abicomp.py* ➝ Compare multiple files (i.e. convergence studies)\n",
    "* *abiview.py* ➝ Quick visualization of output files\n",
    "* *abinp.py* ➝ Generate input files for typical calculations\n",
    "    \n",
    "### Documentation \n",
    "\n",
    "* `abistruct.py --help` for manpage\n",
    "* `abistruct.py COMMAND --help` for help about `COMMAND`\n",
    "<hr>\n",
    "HTML documentation available at http://abinit.github.io/abipy/scripts/index.html\n",
    "\n",
    "### Examples\n",
    "<p></p>\n",
    "\n",
    "```shell\n",
    "abistruct.py spglib si_scf_GSR.nc\n",
    "abistruct.py convert si_scf_GSR.nc -f cif\n",
    "abiopen.py si_scf_GSR.nc --print\n",
    "```\n",
    "\n",
    "### and many more..."
   ]
  },
  {
   "cell_type": "markdown",
   "metadata": {
    "slideshow": {
     "slide_type": "slide"
    }
   },
   "source": [
    "\n",
    "<img src=\"./assets/abipy_logo.jpg\" width=\"55%\" align=\"center\">\n",
    "\n",
    "## New features related to DFPT and electron-phonon\n",
    "\n",
    "#### DFPT\n",
    "\n",
    "   * Converters DDB --> phonopy/tdep, tdep --> DDB\n",
    "   * Can connect ABINT DPT part with tools for anharmonic calculations hipive... \n",
    "   * Flows to compute effective masses (DFPT or finite differences)\n",
    "\n",
    "#### E-PH\n",
    "\n",
    "   * Post-processing tools for e-ph self-energy, transport properties, scattering potentials and e-ph matrix elements\n",
    "   * New flows to automate e-ph calculations"
   ]
  },
  {
   "cell_type": "markdown",
   "metadata": {
    "slideshow": {
     "slide_type": "subslide"
    }
   },
   "source": [
    "## DDB converters\n",
    "\n",
    "* Contributed by G. Petretto\n",
    "* Based on ...\n",
    "* Applications:\n",
    "\n",
    "Example to compute irreps from DDB using phonopy"
   ]
  },
  {
   "cell_type": "markdown",
   "metadata": {
    "slideshow": {
     "slide_type": "subslide"
    }
   },
   "source": [
    "This example shows how to use AbiPy to calculate physical properties related to strain for an insulator.\n",
    "\n",
    "the rigid-atom elastic tensor\n",
    "\n",
    "the rigid-atom piezoelectric tensor (insulators only)\n",
    "\n",
    "the internal strain tensor\n",
    "\n",
    "the atomic relaxation corrections to the elastic and piezoelectric tensor\n",
    "\n",
    "\n",
    "\n",
    "\n",
    "https://abinit.github.io/abipy/flow_gallery/run_elastic.html#sphx-glr-flow-gallery-run-elastic-py"
   ]
  },
  {
   "cell_type": "markdown",
   "metadata": {
    "slideshow": {
     "slide_type": "subslide"
    }
   },
   "source": [
    "## Flow for effective masses with DFPT\n",
    "\n",
    "https://abinit.github.io/abipy/flow_gallery/run_effmass_dfpt.html#sphx-glr-flow-gallery-run-effmass-dfpt-py"
   ]
  },
  {
   "cell_type": "markdown",
   "metadata": {
    "slideshow": {
     "slide_type": "subslide"
    }
   },
   "source": [
    "This example shows how to compute the e-ph matrix elements in AlAs along a q-path with AbiPy flows. \n",
    "The final results are stored in the GKQ.nc file (one file for q-point) in the outdata of each task.\n",
    "\n",
    "https://abinit.github.io/abipy/flow_gallery/run_gkq.html#sphx-glr-flow-gallery-run-gkq-py"
   ]
  },
  {
   "cell_type": "markdown",
   "metadata": {
    "slideshow": {
     "slide_type": "slide"
    }
   },
   "source": [
    "\n",
    "<img src=\"./assets/abipy_logo.jpg\" width=\"55%\" align=\"center\">\n",
    "\n",
    "## Matplotlib vs Plotly\n",
    "\n",
    "#### Matplotlib\n",
    "\n",
    "   * Generating ABINIT input files automatically\n",
    "\n",
    "\n",
    "#### Plotly\n",
    "\n",
    "   * Easy to use and to learn\n",
    "   \n",
    "<small>Several other plotting libraries are available in the pydata ecosystem</small>"
   ]
  },
  {
   "cell_type": "markdown",
   "metadata": {
    "slideshow": {
     "slide_type": "subslide"
    }
   },
   "source": [
    "## AbiPy with matplotlib\n",
    "\n",
    "- AbiPy will continue to support/develop matplotlib-based tools \n",
    "- Basic plots will supports both matplotlib and plotly\n",
    "- plotly versions will be developed according to the needs."
   ]
  },
  {
   "cell_type": "code",
   "execution_count": null,
   "metadata": {
    "slideshow": {
     "slide_type": "subslide"
    }
   },
   "outputs": [],
   "source": [
    "gsr = abiopen(\"si_nscf_GSR.nc\")\n",
    "gsr.ebands.plot(with_gaps=True);"
   ]
  },
  {
   "cell_type": "markdown",
   "metadata": {
    "slideshow": {
     "slide_type": "subslide"
    }
   },
   "source": [
    "## AbiPy with plotly\n",
    "\n",
    "* Convention: *object.plot* becomes *object.plotly*\n",
    "* Requires browser \n",
    "* Contributed by Yuqing He."
   ]
  },
  {
   "cell_type": "code",
   "execution_count": null,
   "metadata": {
    "slideshow": {
     "slide_type": "subslide"
    }
   },
   "outputs": [],
   "source": [
    "gsr.ebands.plotly(with_gaps=True, chart_studio=True);"
   ]
  },
  {
   "cell_type": "code",
   "execution_count": null,
   "metadata": {
    "slideshow": {
     "slide_type": "skip"
    }
   },
   "outputs": [],
   "source": [
    "#from abipy.tools.plotting import push_to_chart_studio\n",
    "#push_to_chart_studio(fig)"
   ]
  },
  {
   "cell_type": "markdown",
   "metadata": {
    "slideshow": {
     "slide_type": "subslide"
    }
   },
   "source": [
    "To update the plotly figure to the chart studio server, use:\n",
    "\n",
    "```python\n",
    "gsr.ebands.plotly(with_gaps=True, chart_studio=True);\n",
    "```\n",
    "\n",
    "<div class=\"alert alert-warning\">\n",
    "**Note:** This is a note!\n",
    "</div>"
   ]
  },
  {
   "cell_type": "code",
   "execution_count": null,
   "metadata": {
    "slideshow": {
     "slide_type": "subslide"
    }
   },
   "outputs": [],
   "source": [
    "%embed https://chart-studio.plotly.com/~gmatteo/214"
   ]
  },
  {
   "cell_type": "code",
   "execution_count": null,
   "metadata": {
    "slideshow": {
     "slide_type": "skip"
    }
   },
   "outputs": [],
   "source": [
    "#gsr.ebands.plotly_ebands_with_edos(\"si_scf_GSR.nc\", with_gaps=True)"
   ]
  },
  {
   "cell_type": "markdown",
   "metadata": {
    "slideshow": {
     "slide_type": "subslide"
    }
   },
   "source": [
    "## 3d plots with plotly:"
   ]
  },
  {
   "cell_type": "code",
   "execution_count": null,
   "metadata": {
    "slideshow": {
     "slide_type": "subslide"
    }
   },
   "outputs": [],
   "source": [
    "#gsr.ebands.plotly_with_edos(abidata(\"si_scf_GSR.nc\"));\n",
    "gsr.ebands.kpoints.plotly();"
   ]
  },
  {
   "cell_type": "markdown",
   "metadata": {
    "slideshow": {
     "slide_type": "subslide"
    }
   },
   "source": [
    "## 3d plots with plotly:"
   ]
  },
  {
   "cell_type": "code",
   "execution_count": null,
   "metadata": {
    "slideshow": {
     "slide_type": "subslide"
    }
   },
   "outputs": [],
   "source": [
    "gsr.ebands.kpoints.plot();"
   ]
  },
  {
   "cell_type": "markdown",
   "metadata": {
    "slideshow": {
     "slide_type": "slide"
    }
   },
   "source": [
    "<img src=\"./assets/abipy_logo.jpg\" width=\"55%\" align=\"center\">\n",
    "\n",
    "## What is Panel?\n",
    "\n",
    "#### Python package for:\n",
    "\n",
    "   * Generating ABINIT input files automatically\n",
    "\n",
    "#### Why panel?\n",
    "\n",
    "   * Support both bokeh dashboards as well as jupyter notebooks\n",
    "   * Fits well with the AbiPy implementation\n",
    "\n",
    "<small>Other frameworks: plotly-dash, jupyter+voila, streamlit</small>"
   ]
  },
  {
   "cell_type": "markdown",
   "metadata": {
    "slideshow": {
     "slide_type": "subslide"
    }
   },
   "source": [
    "## Client-Server model from 100 miles\n",
    "\n",
    "- The client connects to the server via the browser\n",
    "- The client upload files and/or sends requests to the server via the GUI provided by the browser (HTML/JS/CSS).\n",
    "- The server receives the files/requests, executes python code and sends the results back to the client\n",
    "  in a format that the browser can understand e.g. JSON.\n",
    "- client and server may be running on the same machine or on different machines connected by a network.\n",
    "\n"
   ]
  },
  {
   "cell_type": "markdown",
   "metadata": {},
   "source": [
    "### Advantages:\n",
    "\n",
    "- Client does not need to install the scientific software stack (if different machines)\n",
    "- Can take advantage of modern HTML technologies to present the results in the browser\n",
    "- Can implement web apps that allows the user to upload the data and analyze the results \n",
    "  withouth having to install python software.\n",
    "\n",
    "### Disavantages\n",
    "\n",
    "- Round trip delay if client != host and slow connection\n",
    "- Upoloadng a 1Gb file to the remote server just because you don't want to install software on the localhost \n",
    "  is a very **bad** idea. \n",
    "- OK for relatively small files (< 1Gb) but this approach is not designed to handle big data.\n",
    "- Not all the HPC centers provide specialized nodes to post-process the results inside a web browser/notebook. \n",
    "  "
   ]
  },
  {
   "cell_type": "code",
   "execution_count": null,
   "metadata": {
    "slideshow": {
     "slide_type": "subslide"
    }
   },
   "outputs": [],
   "source": [
    "abilab.abipanel();"
   ]
  },
  {
   "cell_type": "code",
   "execution_count": null,
   "metadata": {
    "slideshow": {
     "slide_type": "subslide"
    }
   },
   "outputs": [],
   "source": [
    "gsr.get_panel()"
   ]
  },
  {
   "cell_type": "code",
   "execution_count": null,
   "metadata": {
    "slideshow": {
     "slide_type": "slide"
    }
   },
   "outputs": [],
   "source": [
    "gsr.structure.get_panel()"
   ]
  },
  {
   "cell_type": "markdown",
   "metadata": {
    "slideshow": {
     "slide_type": "subslide"
    }
   },
   "source": [
    "## Other files are supported as well"
   ]
  },
  {
   "cell_type": "code",
   "execution_count": null,
   "metadata": {
    "slideshow": {
     "slide_type": "slide"
    }
   },
   "outputs": [],
   "source": [
    "ddb = abilab.abiopen(\"ZnSe_hex_qpt_DDB\")\n",
    "\n",
    "ddb.get_panel()"
   ]
  },
  {
   "cell_type": "markdown",
   "metadata": {
    "slideshow": {
     "slide_type": "subslide"
    }
   },
   "source": [
    "A similar result can be obtained by executing inside the terminal:\n",
    "\n",
    "```sh\n",
    "abiopen.py ZnSe_hex_qpt_DDB --panel  # or -pn if you prefere the short version. \n",
    "```\n",
    "\n",
    "In this case, we get a dashboard:"
   ]
  },
  {
   "cell_type": "markdown",
   "metadata": {
    "slideshow": {
     "slide_type": "subslide"
    }
   },
   "source": [
    "#### To produce a predefined set of matplotlib figures, use:\n",
    "<p></p>\n",
    "\n",
    "```shell\n",
    "abiopen.py mgb2_kpath_FATBANDS.nc --expose --seaborn\n",
    "```    \n",
    "\n",
    "<img src=\"assets/mgb2_fatbands.png\" width=\"100%\" align=\"center\" alt=\"abiopen_expose\">"
   ]
  },
  {
   "cell_type": "markdown",
   "metadata": {
    "slideshow": {
     "slide_type": "-"
    }
   },
   "source": [
    "#### Replace *--expose* with *--notebook* to generate a jupyter notebook with predefined python code"
   ]
  },
  {
   "cell_type": "markdown",
   "metadata": {
    "slideshow": {
     "slide_type": "subslide"
    }
   },
   "source": [
    "#### *abiopen.py* supports output files (note *abo* extension):"
   ]
  },
  {
   "cell_type": "code",
   "execution_count": null,
   "metadata": {
    "slideshow": {
     "slide_type": "-"
    }
   },
   "outputs": [],
   "source": [
    "!abiopen.py gs_dfpt.abo -p "
   ]
  },
  {
   "cell_type": "markdown",
   "metadata": {
    "slideshow": {
     "slide_type": "subslide"
    }
   },
   "source": [
    "#### and log files as well:"
   ]
  },
  {
   "cell_type": "code",
   "execution_count": null,
   "metadata": {},
   "outputs": [],
   "source": [
    "!abiopen.py run.log -p "
   ]
  },
  {
   "cell_type": "markdown",
   "metadata": {
    "slideshow": {
     "slide_type": "subslide"
    }
   },
   "source": [
    "#### If you are still using perl scripts to extract data from the main output file, check this out:\n",
    "<p></p>\n",
    "\n",
    "```sh\n",
    "abiopen.py gs_dfpt.abo --expose --seaborn\n",
    "```\n",
    "\n",
    "<center>\n",
    "<img src=\"assets/abiopen_abo.png\" width=\"75%\" align=\"center\">\n",
    "</center>\n",
    "\n",
    "#### The introduction of Yaml documents in the main output (*cfr.* Theo's talk) will facilitate the implementation of new post-processing tools..."
   ]
  },
  {
   "cell_type": "markdown",
   "metadata": {
    "slideshow": {
     "slide_type": "slide"
    }
   },
   "source": [
    "<img src=\"assets/abistruct.png\" width=\"35%\" align=\"center\">\n",
    "\n",
    "#### It works with any file providing a structure object (*.nc*, .abi, *.cif* …) "
   ]
  },
  {
   "cell_type": "markdown",
   "metadata": {
    "slideshow": {
     "slide_type": "subslide"
    }
   },
   "source": [
    "#### Convert structure from netcdf format to CIF (*abivars*, *xsf*, *poscar*,  *qe*,  *siesta*,  *wannier90*,  *json*)"
   ]
  },
  {
   "cell_type": "code",
   "execution_count": null,
   "metadata": {
    "slideshow": {
     "slide_type": "-"
    }
   },
   "outputs": [],
   "source": [
    "!abistruct.py convert si_scf_GSR.nc -f cif"
   ]
  },
  {
   "cell_type": "markdown",
   "metadata": {
    "slideshow": {
     "slide_type": "subslide"
    }
   },
   "source": [
    "#### Are you still using *cut3d* to export the structure in a format that other applications can understand?\n",
    "<p></p>\n",
    "\n",
    "\n",
    "```sh\n",
    "abistruct.py visualize run_si02.abi\n",
    "```\n",
    "\n",
    "<img src=\"assets/sio2_vesta.png\" width=\"75%\" align=\"center\">\n",
    "\n",
    "#### Supports also *ovito*, *xcrysden*, *vtk*, *mayavi*, *matplotlib*  (Use *--application* option)"
   ]
  },
  {
   "cell_type": "markdown",
   "metadata": {
    "slideshow": {
     "slide_type": "skip"
    }
   },
   "source": [
    "#### Read structure from FILE and print ABINIT variables for NSCF along k-path:"
   ]
  },
  {
   "cell_type": "code",
   "execution_count": null,
   "metadata": {
    "slideshow": {
     "slide_type": "skip"
    }
   },
   "outputs": [],
   "source": [
    "!abistruct.py kpath si_scf_GSR.nc"
   ]
  },
  {
   "cell_type": "markdown",
   "metadata": {
    "slideshow": {
     "slide_type": "skip"
    }
   },
   "source": [
    "#### Want to know what's happening in the structural relaxation?\n",
    "<p></p>\n",
    "\n",
    "```sh\n",
    "abiview.py hist sic_relax_HIST.nc\n",
    "```\n",
    "\n",
    "<center>\n",
    "<img src=\"assets/abiview_hist.png\" width=\"60%\" align=\"center\">\n",
    "</center>"
   ]
  },
  {
   "cell_type": "markdown",
   "metadata": {
    "slideshow": {
     "slide_type": "skip"
    }
   },
   "source": [
    "#### Want a GUI? \n",
    "\n",
    "Use *--appname* for app in [avogadro, ovito, v_sim, vesta, xcrysden, mpl, mayavi, vtk]"
   ]
  },
  {
   "cell_type": "markdown",
   "metadata": {
    "slideshow": {
     "slide_type": "subslide"
    }
   },
   "source": [
    "#### Need to call *anaddb* to compute and visualize ph-bands and DOS from DDB?\n",
    "<p></p>\n",
    "\n",
    "```sh\n",
    "abiview.py ddb ZnSe_hex_qpt_DDB --seaborn\n",
    "```"
   ]
  },
  {
   "cell_type": "markdown",
   "metadata": {
    "slideshow": {
     "slide_type": "slide"
    }
   },
   "source": [
    "<img src=\"assets/abicomp.png\" width=\"30%\" align=\"center\">"
   ]
  },
  {
   "cell_type": "markdown",
   "metadata": {
    "slideshow": {
     "slide_type": "skip"
    }
   },
   "source": [
    "## Abipy Robots\n",
    "\n",
    "* High-level interface to operate on <u>multiple files</u> with the same file extension\n",
    "\n",
    "* Useful for:\n",
    "\n",
    "     * convergence studies\n",
    "     * producing multiple plots\n",
    "     * building [Pandas dataframes](https://pandas.pydata.org/) (data in tabular format powered by python)\n",
    "\n",
    "* Each *Robot* is associated to a file extension, *e.g.* \n",
    "\n",
    "     * GSR.nc ➝ *GsrRobot*\n",
    "     * DDB ➝ *DdbRobot*\n",
    "     \n",
    "* *Robots* can be constructed from:\n",
    "\n",
    "    1. List of filenames\n",
    "    2. Directories and regular expressions\n",
    "    \n",
    "* Command line interface provided by the *abicomp.py* script:\n",
    "\n",
    "* To generate notebook to compare multiple *GSR* files, use:\n",
    "\n",
    "            abicomp.py gsr out1_GSR.nc  out2_GSR.nc --notebook"
   ]
  },
  {
   "cell_type": "markdown",
   "metadata": {
    "slideshow": {
     "slide_type": "subslide"
    }
   },
   "source": [
    "#### To compare multiple structures:"
   ]
  },
  {
   "cell_type": "code",
   "execution_count": null,
   "metadata": {
    "slideshow": {
     "slide_type": "-"
    }
   },
   "outputs": [],
   "source": [
    "!abicomp.py structure *.cif si_nscf_GSR.nc `find . -name *_DDB`"
   ]
  },
  {
   "cell_type": "markdown",
   "metadata": {
    "slideshow": {
     "slide_type": "-"
    }
   },
   "source": [
    "#### Note shell wildcard characters and Unix `find` inside backticks (bash rocks!)"
   ]
  },
  {
   "cell_type": "code",
   "execution_count": null,
   "metadata": {
    "slideshow": {
     "slide_type": "notes"
    }
   },
   "outputs": [],
   "source": [
    "#plotter = abilab.ElectronBandsPlotter()\n",
    "#plotter.add_ebands(label=\"BZ sampling\", bands=\"si_scf_GSR.nc\")\n",
    "#plotter.add_ebands(label=\"k-path\", bands=\"si_nscf_GSR.nc\")\n",
    "#plotter.gridplot(with_gaps=True);"
   ]
  },
  {
   "cell_type": "markdown",
   "metadata": {
    "slideshow": {
     "slide_type": "subslide"
    }
   },
   "source": [
    "#### Using *ElectronBandsPlotter* to visualize multiple band structures:\n",
    "<p></p>\n",
    "\n",
    "```sh\n",
    "abicomp.py ebands *_GSR.nc\n",
    "```\n",
    "\n",
    "<p></p>\n",
    "\n",
    "<img src=\"assets/abicomp_ebands.png\" width=\"85%\" align=\"center\">"
   ]
  },
  {
   "cell_type": "markdown",
   "metadata": {
    "slideshow": {
     "slide_type": "skip"
    }
   },
   "source": [
    "#### Pandas dataframe printed to terminal:"
   ]
  },
  {
   "cell_type": "markdown",
   "metadata": {
    "slideshow": {
     "slide_type": "skip"
    }
   },
   "source": [
    "```text\n",
    "               nsppol  nspinor  nspden  nkpt  nband  nelect    fermie  \\\n",
    "si_nscf_GSR.nc       1        1       1    14      8     8.0  5.598453\n",
    "si_scf_GSR.nc        1        1       1    29      8     8.0  5.598453\n",
    "\n",
    "               formula  natom  alpha  beta  gamma         a         b  \\\n",
    "si_nscf_GSR.nc     Si2      2   60.0  60.0   60.0  3.866975  3.866975\n",
    "si_scf_GSR.nc      Si2      2   60.0  60.0   60.0  3.866975  3.866975\n",
    "\n",
    "                       c     volume abispg_num spglib_symb  spglib_num  \\\n",
    "si_nscf_GSR.nc  3.866975  40.888292        227       Fd-3m         227\n",
    "si_scf_GSR.nc   3.866975  40.888292        227       Fd-3m         227\n",
    "\n",
    "               spglib_lattice_type scheme  occopt  tsmear_ev  bandwidth_spin0  \\\n",
    "si_nscf_GSR.nc               cubic   none       1   0.272114        11.855854\n",
    "si_scf_GSR.nc                cubic   none       1   0.272114        11.855874\n",
    "\n",
    "                fundgap_spin0  dirgap_spin0  gap_type  \\\n",
    "si_nscf_GSR.nc       0.524340      2.531828  indirect\n",
    "si_scf_GSR.nc        0.562277      2.531798  indirect\n",
    "\n",
    "                                   fundgap_kstart              fundgap_kend  \\\n",
    "si_nscf_GSR.nc  [+0.000, +0.000, +0.000] $\\Gamma$  [+0.000, +0.429, +0.429]\n",
    "si_scf_GSR.nc            [+0.000, +0.000, +0.000]  [+0.375, +0.375, +0.000]\n",
    "\n",
    "                                    dirgap_kstart  \\\n",
    "si_nscf_GSR.nc  [+0.000, +0.000, +0.000] $\\Gamma$\n",
    "si_scf_GSR.nc            [+0.000, +0.000, +0.000]\n",
    "\n",
    "                                      dirgap_kend\n",
    "si_nscf_GSR.nc  [+0.000, +0.000, +0.000] $\\Gamma$\n",
    "si_scf_GSR.nc            [+0.000, +0.000, +0.000]\n",
    "```"
   ]
  },
  {
   "cell_type": "markdown",
   "metadata": {
    "slideshow": {
     "slide_type": "slide"
    }
   },
   "source": [
    "## Bash is handy but python is more flexible\n",
    "\n",
    "##### Let's use the *DdbRobot* to compare phonons obtained with different ${\\bf k}$-meshes and smearing values:"
   ]
  },
  {
   "cell_type": "code",
   "execution_count": null,
   "metadata": {
    "run_control": {
     "marked": true
    },
    "slideshow": {
     "slide_type": "-"
    }
   },
   "outputs": [],
   "source": [
    "paths = [\n",
    "    \"mgb2_888k_0.01tsmear_DDB\",\n",
    "    \"mgb2_888k_0.04tsmear_DDB\",\n",
    "    \"mgb2_121212k_0.01tsmear_DDB\",\n",
    "    \"mgb2_121212k_0.04tsmear_DDB\",\n",
    "]\n",
    "\n",
    "paths = [os.path.join(abidata.dirpath, \"refs\", \"mgb2_phonons_nkpt_tsmear\", f) \n",
    "         for f in paths]\n",
    "\n",
    "robot = abilab.DdbRobot()\n",
    "for i, path in enumerate(paths):\n",
    "    robot.add_file(path, path)"
   ]
  },
  {
   "cell_type": "code",
   "execution_count": null,
   "metadata": {
    "slideshow": {
     "slide_type": "-"
    }
   },
   "outputs": [],
   "source": [
    "# Define function to change labels:\n",
    "func = lambda ddb: \"nkpt: %s, tsmear: %.2f\" % (\n",
    "    ddb.header[\"nkpt\"], ddb.header[\"tsmear\"])\n",
    "\n",
    "robot.remap_labels(func)\n",
    "robot"
   ]
  },
  {
   "cell_type": "markdown",
   "metadata": {
    "slideshow": {
     "slide_type": "subslide"
    }
   },
   "source": [
    "<!-- We are usually interested in the convergence behavior with respect to one or two parameters of \n",
    "the calculations.-->\n",
    "\n",
    "#### Now we can build a dataframe with the most important parameters:"
   ]
  },
  {
   "cell_type": "code",
   "execution_count": null,
   "metadata": {
    "slideshow": {
     "slide_type": "-"
    }
   },
   "outputs": [],
   "source": [
    "robot.get_params_dataframe()"
   ]
  },
  {
   "cell_type": "markdown",
   "metadata": {
    "slideshow": {
     "slide_type": "-"
    }
   },
   "source": [
    "#### and check that all DDBs have been computed with the same crystalline structure:"
   ]
  },
  {
   "cell_type": "code",
   "execution_count": null,
   "metadata": {
    "slideshow": {
     "slide_type": "-"
    }
   },
   "outputs": [],
   "source": [
    "robot.get_lattice_dataframe()"
   ]
  },
  {
   "cell_type": "markdown",
   "metadata": {
    "slideshow": {
     "slide_type": "skip"
    }
   },
   "source": [
    "* Dataframes can be exported to different formats: CSV, $Latex$, JSON, Excel, ...\n",
    "* Use [dataframe.to_clipboard()](https://pandas.pydata.org/pandas-docs/stable/reference/api/pandas.DataFrame.to_clipboard.html#pandas-dataframe-to-clipboard) \n",
    "to copy to clipboard and paste into spreadsheet editor\n",
    "* Explore your *DataFrames* inside *jupyter* with [qgrid](https://github.com/quantopian/qgrid)\n",
    "* High-level plotting interface provided by [seaborn](https://seaborn.pydata.org/)\n",
    "<p></p>\n",
    "\n",
    "```python\n",
    "energy_table.plot(x=\"nkpt\", y=[\"energy_Ha\", \"ediff_Ha\", \"pressure\"], \n",
    "                  style=\"-o\", subplots=True);\n",
    "```"
   ]
  },
  {
   "cell_type": "markdown",
   "metadata": {
    "slideshow": {
     "slide_type": "subslide"
    }
   },
   "source": [
    "#### To analyze the effect of k-sampling/smearing on the vibrational properties:"
   ]
  },
  {
   "cell_type": "code",
   "execution_count": null,
   "metadata": {
    "slideshow": {
     "slide_type": "-"
    }
   },
   "outputs": [],
   "source": [
    "# Invoke anaddb and store results\n",
    "r = robot.anaget_phonon_plotters(nqsmall=2)\n",
    "\n",
    "r.phbands_plotter.gridplot_with_hue(\"tsmear\", with_dos=True);"
   ]
  },
  {
   "cell_type": "markdown",
   "metadata": {
    "slideshow": {
     "slide_type": "skip"
    }
   },
   "source": [
    "## *AbinitInput* object \n",
    "\n",
    "Programmatic interface to generate input files:\n",
    "\n",
    "* *Dict-like* object storing ABINIT variables \n",
    "* Methods to set multiple variables (*e.g.* **k**-path from *structure*)\n",
    "* Factory functions to generate input files with minimal effort\n",
    "\n",
    "Can invoke ABINIT to get important parameters such as:\n",
    "\n",
    "  * list of **k**-points in the IBZ\n",
    "  * list of irreducible DFPT perturbations\n",
    "  * list of possible configurations for MPI jobs (*npkpt*, *npfft*, *npband* …)\n",
    "     \n",
    "#### To build an input, we need a *structure* and a list of *pseudos*:"
   ]
  },
  {
   "cell_type": "markdown",
   "metadata": {
    "slideshow": {
     "slide_type": "skip"
    }
   },
   "source": [
    "### Input file for band structure calculation + DOS\n",
    "\n",
    "1. GS run to get the density \n",
    "2. NSCF run along high-symmetry **k**-path\n",
    "3. NSCF run with **k**-mesh to compute the DOS"
   ]
  },
  {
   "cell_type": "code",
   "execution_count": null,
   "metadata": {
    "slideshow": {
     "slide_type": "skip"
    }
   },
   "outputs": [],
   "source": [
    "multi = abilab.ebands_input(structure=\"si.cif\", \n",
    "                            pseudos=\"14si.pspnc\",\n",
    "                            ecut=8, \n",
    "                            spin_mode=\"unpolarized\", \n",
    "                            smearing=None, \n",
    "                            dos_kppa=5000)\n",
    "\n",
    "multi.get_vars_dataframe(\"kptopt\", \"iscf\", \"ngkpt\")"
   ]
  },
  {
   "cell_type": "markdown",
   "metadata": {
    "slideshow": {
     "slide_type": "skip"
    }
   },
   "source": [
    "#### To build an input for SCF+NSCF run with (relaxed) structure from the materials project database:\n",
    "<p></p>\n",
    "\n",
    "        abinp.py ebands mp-149          "
   ]
  },
  {
   "cell_type": "markdown",
   "metadata": {
    "slideshow": {
     "slide_type": "slide"
    }
   },
   "source": [
    "## Future developments\n",
    "\n",
    "### Post-processing tools\n",
    "\n",
    "* Support for more *netcdf* files\n",
    "* More post-processing tools for MD calculations\n",
    "* More converters and interfaces for third-party applications\n",
    "* Integrate AbiPy with [jupyterlab](https://github.com/jupyterlab/jupyterlab) to create a flexible graphical enviroment for Abinit exposing (part) \n",
    "  of the python API \n",
    "* Explore web-based technologies for data analysis and visualization ([plotly](https://plot.ly/), [dash](https://plot.ly/products/dash/)) \n",
    "* Develop toolkit to build web apps powered by AbiPy and pymatgen to disseminate scientific results. \n",
    "\n",
    "## Continuous Integration\n",
    "\n",
    "* Use AbiPy programmatic interface to implement:\n",
    "\n",
    "    * Validation of parallel algorithms for np in range(1, N)\n",
    "    * Stress testing\n",
    "    * Benchmarks"
   ]
  }
 ],
 "metadata": {
  "celltoolbar": "Slideshow",
  "kernelspec": {
   "display_name": "Python 3",
   "language": "python",
   "name": "python3"
  },
  "language_info": {
   "codemirror_mode": {
    "name": "ipython",
    "version": 3
   },
   "file_extension": ".py",
   "mimetype": "text/x-python",
   "name": "python",
   "nbconvert_exporter": "python",
   "pygments_lexer": "ipython3",
   "version": "3.7.0"
  },
  "latex_envs": {
   "bibliofile": "biblio.bib",
   "cite_by": "apalike",
   "current_citInitial": 1,
   "eqLabelWithNumbers": true,
   "eqNumInitial": 0
  }
 },
 "nbformat": 4,
 "nbformat_minor": 2
}
