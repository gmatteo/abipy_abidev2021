{
 "cells": [
  {
   "cell_type": "code",
   "execution_count": null,
   "metadata": {
    "slideshow": {
     "slide_type": "skip"
    }
   },
   "outputs": [],
   "source": [
    "import os\n",
    "\n",
    "# Ignore numpy warnings\n",
    "import warnings\n",
    "warnings.filterwarnings('ignore')\n",
    "\n",
    "%matplotlib inline\n",
    "#%matplotlib notebook\n",
    "\n",
    "# Use seaborn settings.\n",
    "import seaborn as sns\n",
    "sns.set(\n",
    "        #context=\"paper\",\n",
    "        context=\"talk\",\n",
    "        #context=\"poster\",\n",
    "        style='darkgrid',\n",
    "        #style=\"dark\",\n",
    "        #palette='deep',\n",
    "        font='sans-serif', \n",
    "        #font_scale=1.0, \n",
    "        #color_codes=False, \n",
    "        rc={'figure.figsize': (12, 8.0)}, # width and height in inches.\n",
    "        #rc={'figure.figsize': (12, 12.0)}, # width and height in inches.\n",
    ")\n",
    "\n",
    "import IPython\n",
    "\n",
    "def _embed(src, width=\"800\", height=\"400\"):\n",
    "    return IPython.display.IFrame(src=src, width=str(width), height=str(height))\n",
    "\n",
    "from IPython.core.magic import (register_line_magic, register_cell_magic,\n",
    "                                register_line_cell_magic)\n",
    "\n",
    "@register_line_magic\n",
    "def embed(line):\n",
    "    \"my line magic\"\n",
    "    #return line\n",
    "    return _embed(line)\n",
    "\n",
    "# We delete these to avoid name conflicts for automagic to work\n",
    "del embed\n",
    "#del lcmagic\n",
    "\n",
    "# Theme\n",
    "# import jtplot module in notebook\n",
    "#from jupyterthemes import jtplot\n",
    "\n",
    "# choose which theme to inherit plotting style from\n",
    "# onedork | grade3 | oceans16 | chesterish | monokai | solarizedl | solarizedd\n",
    "#jtplot.style(theme='monokai')\n",
    "\n",
    "# set \"context\" (paper, notebook, talk, poster)\n",
    "# scale font-size of ticklabels, legend, etc.\n",
    "# remove spines from x and y axes and make grid dashed\n",
    "#jtplot.style(context='talk', fscale=1.4, spines=False, gridlines='--')\n",
    "\n",
    "# turn on X- and Y-axis tick marks (default=False)\n",
    "# turn off the axis grid lines (default=True)\n",
    "# and set the default figure size\n",
    "#jtplot.style(ticks=True, grid=False, figsize=(6, 4.5))\n",
    "\n",
    "# reset default matplotlib rcParams\n",
    "#jtplot.reset()\n",
    "\n",
    "from abipy import abilab\n",
    "import abipy.data as abidata\n",
    "abiopen = abilab.abiopen\n",
    "\n",
    "si_pseudo = os.path.join(abidata.pseudo_dir, \"14si.pspnc\")"
   ]
  },
  {
   "cell_type": "markdown",
   "metadata": {
    "slideshow": {
     "slide_type": "slide"
    }
   },
   "source": [
    "# New features of AbiPy v0.7\n",
    "\n",
    "### M. Giantomassi and the AbiPy group\n",
    "\n",
    "9th international ABINIT developer workshop<br> \n",
    "<small>20-22nd May 2019 - Louvain-la-Neuve, Belgium</small>\n",
    "\n",
    "<!-- link rel=\"stylesheet\" href=\"reveal.js/css/theme/sky.css\" id=\"theme\" -->\n",
    "<img src=\"./assets/intro_logos.png\" width=\"85%\" heigh=\"15%\" align=\"center\">\n",
    "<hr> \n",
    "\n",
    "* These slides have been generated using [jupyter](https://jupyter.org), [nbconvert](https://github.com/jupyter/nbconvert) and [revealjs](https://revealjs.com/)\n",
    "* The notebook can be downloaded from this [github repo](https://github.com/gmatteo/abipy_intro_abidev2019)\n",
    "* To install and configure the software, follow these [installation instructions](https://github.com/abinit/abipy#getting-abipy)\n",
    "\n",
    "Use the Space key to navigate through all slides."
   ]
  },
  {
   "cell_type": "markdown",
   "metadata": {
    "slideshow": {
     "slide_type": "slide"
    }
   },
   "source": [
    "<img src=\"./assets/abipy_logo.jpg\" width=\"55%\" align=\"center\">\n",
    "\n",
    "## What is AbiPy?\n",
    "\n",
    "#### Python package for:\n",
    "\n",
    "   * Generating ABINIT input files automatically\n",
    "   * Post-processing output results (*netcdf* and *text* files)\n",
    "   * Interfacing ABINIT with external tools (e.g. [Vesta](http://jp-minerals.org/vesta/en/))\n",
    "   * Creating and executing workflows (band structures, DFPT, $GW$, BSE…)\n",
    "\n",
    "#### Why python?\n",
    "\n",
    "   * Easy to use and to learn\n",
    "   * Great support for science ([numpy](http://www.numpy.org/), [scipy](https://www.scipy.org/), [pandas](http://pandas.pydata.org/), [matplotlib](https://matplotlib.org/) …)\n",
    "   * Interactive environments ([ipython](http://ipython.org/), [jupyter notebooks](https://jupyter.org/), GUIs)\n",
    "   * More powerful and flexible than Fortran for implementing the high-level logic needed in modern ab-initio workflows\n",
    "   * [pymatgen](https://github.com/materialsproject) ecosystem and the [materials project database](https://www.materialsproject.org/)…"
   ]
  },
  {
   "cell_type": "markdown",
   "metadata": {
    "slideshow": {
     "slide_type": "subslide"
    }
   },
   "source": [
    "## How to install AbiPy\n",
    "\n",
    "<!-- From the most simple to the most complex one, you have three options:-->\n",
    "\n",
    "Using [pip](https://pypi.org/project/pip/) and python wheels:\n",
    "\n",
    "        pip install abipy --user\n",
    "\n",
    "Using [conda](https://conda.io/en/latest/) (*recommended*):\n",
    "\n",
    "        conda install abipy --channel abinit \n",
    "\n",
    "From the [github repository](https://github.com/abinit/abipy) (*develop mode*):\n",
    "\n",
    "        git clone https://github.com/abinit/abipy.git\n",
    "        cd abipy \n",
    "        python setup.py develop\n",
    "    \n",
    "<!--\n",
    "https://pypi.org/project/abipy/\n",
    "https://anaconda.org/abinit/abipy\n",
    "-->\n",
    "\n",
    "<hr>\n",
    "\n",
    "For further info see http://abinit.github.io/abipy/installation.html"
   ]
  },
  {
   "cell_type": "markdown",
   "metadata": {
    "slideshow": {
     "slide_type": "slide"
    }
   },
   "source": [
    "## AbiPy documentation with galleries of matplotlib examples and workflows\n",
    "\n",
    "<!--\n",
    "* http://abinit.github.io/abipy/index.html\n",
    "\n",
    "* Jupyter notebooks \n",
    "* Gallery of matplotlib examples and flows\n",
    "* abitutorial github repo with additional example\n",
    "\n",
    "<img src=\"./assets/abipy_doc_homepage.png\" width=\"100%\" align=\"center\">\n",
    "-->"
   ]
  },
  {
   "cell_type": "code",
   "execution_count": null,
   "metadata": {
    "scrolled": false,
    "slideshow": {
     "slide_type": "-"
    }
   },
   "outputs": [],
   "source": [
    "%embed https://abinit.github.io/abipy/index.html"
   ]
  },
  {
   "cell_type": "markdown",
   "metadata": {
    "slideshow": {
     "slide_type": "subslide"
    }
   },
   "source": [
    "##  Jupyter notebooks with [examples and lessons](https://nbviewer.jupyter.org/github/abinit/abitutorials/blob/master/abitutorials/index.ipynb) inspired by the official tutorials\n",
    "\n",
    "<!-- img src=\"./assets/abipy_notebooks.png\" width=\"100%\" align=\"center\" -->"
   ]
  },
  {
   "cell_type": "code",
   "execution_count": null,
   "metadata": {
    "slideshow": {
     "slide_type": "-"
    }
   },
   "outputs": [],
   "source": [
    "%embed https://nbviewer.jupyter.org/github/abinit/abitutorials/blob/master/abitutorials/index.ipynb"
   ]
  },
  {
   "cell_type": "markdown",
   "metadata": {
    "slideshow": {
     "slide_type": "slide"
    }
   },
   "source": [
    "<img src=\"./assets/Data-Analysis.jpg\" width=\"95%\" align=\"center\">\n",
    "\n",
    "* Since AbiPy is not restricted to high-throughput, we'll show how to use the <u>terminal</u> to analyze calculations\n",
    "\n",
    "* Well, a python script would be much more flexible but the goal here is to show \n",
    "  that one can replace *grep*, *vim*, *gnuplot* with AbiPy\n",
    "\n",
    "<div class=\"alert alert-warning\">\n",
    "No perl scripts were harmed in the making of this notebook\n",
    "</div>"
   ]
  },
  {
   "cell_type": "markdown",
   "metadata": {
    "slideshow": {
     "slide_type": "slide"
    }
   },
   "source": [
    "## Command line interface\n",
    "\n",
    "* *abiopen.py* ➝ Open output files inside *ipython* or print/visualize file\n",
    "* *abistruct.py* ➝ Operate on crystalline structures read from file\n",
    "* *abicomp.py* ➝ Compare multiple files (i.e. convergence studies)\n",
    "* *abiview.py* ➝ Quick visualization of output files\n",
    "* *abinp.py* ➝ Generate input files for typical calculations\n",
    "    \n",
    "### Documentation \n",
    "\n",
    "* `abistruct.py --help` for manpage\n",
    "* `abistruct.py COMMAND --help` for help about `COMMAND`\n",
    "<hr>\n",
    "HTML documentation available at http://abinit.github.io/abipy/scripts/index.html\n",
    "\n",
    "### Examples\n",
    "<p></p>\n",
    "\n",
    "```shell\n",
    "abistruct.py spglib si_scf_GSR.nc\n",
    "abistruct.py convert si_scf_GSR.nc -f cif\n",
    "abiopen.py si_scf_GSR.nc --print\n",
    "```\n",
    "\n",
    "### and many more..."
   ]
  },
  {
   "cell_type": "code",
   "execution_count": 22,
   "metadata": {
    "slideshow": {
     "slide_type": "slide"
    }
   },
   "outputs": [
    {
     "data": {
      "application/vnd.plotly.v1+json": {
       "config": {
        "plotlyServerURL": "https://plotly.com"
       },
       "data": [
        {
         "line": {
          "color": "black",
          "width": 2
         },
         "mode": "lines",
         "name": "",
         "showlegend": false,
         "type": "scatter",
         "x": [
          0,
          1,
          2,
          3,
          4,
          5,
          6,
          7,
          8,
          9,
          10,
          11,
          12,
          13
         ],
         "y": [
          -9.535786584476371,
          -9.876086072577124,
          -10.50248616041993,
          -11.072135054815655,
          -11.49997087419812,
          -11.762095707628028,
          -11.855854002139353,
          -11.762377983295668,
          -11.50477647913229,
          -11.070113139712472,
          -10.472375477678483,
          -9.711907857213474,
          -8.80627918610692,
          -7.770717499465216
         ]
        },
        {
         "line": {
          "color": "black",
          "width": 2
         },
         "mode": "lines",
         "name": "",
         "showlegend": false,
         "type": "scatter",
         "x": [
          0,
          1,
          2,
          3,
          4,
          5,
          6,
          7,
          8,
          9,
          10,
          11,
          12,
          13
         ],
         "y": [
          -6.932268857216583,
          -6.43466268058439,
          -5.32246565612085,
          -3.928375477089248,
          -2.3943640811461293,
          -0.8732321955292113,
          -1.8810997204354862e-10,
          -0.5570011558894024,
          -1.6672108194971527,
          -2.8989034584222813,
          -4.182931950763718,
          -5.430649177987346,
          -6.638177513397373,
          -7.770717499206782
         ]
        },
        {
         "line": {
          "color": "black",
          "width": 2
         },
         "mode": "lines",
         "name": "",
         "showlegend": false,
         "type": "scatter",
         "x": [
          0,
          1,
          2,
          3,
          4,
          5,
          6,
          7,
          8,
          9,
          10,
          11,
          12,
          13
         ],
         "y": [
          -1.205076152062217,
          -1.1553086614693786,
          -1.0090768426644035,
          -0.7663867705309526,
          -0.4526779027859842,
          -0.14266808604246428,
          -6.019984510885479e-11,
          -0.3276142442992862,
          -0.972216601358169,
          -1.6064227733017695,
          -2.136764772819509,
          -2.5278823531194936,
          -2.7654307093388297,
          -2.844891372378396
         ]
        },
        {
         "line": {
          "color": "black",
          "width": 2
         },
         "mode": "lines",
         "name": "",
         "showlegend": false,
         "type": "scatter",
         "x": [
          0,
          1,
          2,
          3,
          4,
          5,
          6,
          7,
          8,
          9,
          10,
          11,
          12,
          13
         ],
         "y": [
          -1.2050761518987496,
          -1.155308661315078,
          -1.009076842522739,
          -0.7663867703985989,
          -0.4526779026646457,
          -0.14266808591143487,
          0,
          -0.3276142442072123,
          -0.9722166012294071,
          -1.606422773175796,
          -2.136764772694111,
          -2.5278823529902867,
          -2.7654307092079202,
          -2.84489137224668
         ]
        },
        {
         "line": {
          "color": "black",
          "width": 2
         },
         "mode": "lines",
         "name": "",
         "showlegend": false,
         "type": "scatter",
         "x": [
          0,
          1,
          2,
          3,
          4,
          5,
          6,
          7,
          8,
          9,
          10,
          11,
          12,
          13
         ],
         "y": [
          1.3454389436664638,
          1.396036327425712,
          1.5542838024392251,
          1.8235759126039426,
          2.1779644141648093,
          2.49791994104946,
          2.5318280023996245,
          2.3196096023242694,
          1.832801345948508,
          1.3142687705394227,
          0.8827985310190627,
          0.6006801032754359,
          0.5243396805984153,
          0.6741757513882654
         ]
        },
        {
         "line": {
          "color": "black",
          "width": 2
         },
         "mode": "lines",
         "name": "",
         "showlegend": false,
         "type": "scatter",
         "x": [
          0,
          1,
          2,
          3,
          4,
          5,
          6,
          7,
          8,
          9,
          10,
          11,
          12,
          13
         ],
         "y": [
          3.3661486562320615,
          3.4124944120844916,
          3.505955981163801,
          3.4860954395102723,
          3.1805995622616567,
          2.7431167271405847,
          2.5318280024990933,
          2.9732007681489527,
          3.924313282358483,
          3.566247236456473,
          2.5627516495996954,
          1.6902771019859726,
          1.0556641680571177,
          0.6741757521259233
         ]
        },
        {
         "line": {
          "color": "black",
          "width": 2
         },
         "mode": "lines",
         "name": "",
         "showlegend": false,
         "type": "scatter",
         "x": [
          0,
          1,
          2,
          3,
          4,
          5,
          6,
          7,
          8,
          9,
          10,
          11,
          12,
          13
         ],
         "y": [
          3.3661486562843894,
          3.4124944121447474,
          3.505955981234978,
          3.4860954395923525,
          3.1805995623550043,
          2.7431167272535752,
          2.531828002567412,
          2.9732007682898125,
          3.9243132824601865,
          5.078702746089359,
          6.285304926098657,
          7.570282110475537,
          8.869605080905535,
          9.764149253744405
         ]
        },
        {
         "line": {
          "color": "black",
          "width": 2
         },
         "mode": "lines",
         "name": "",
         "showlegend": false,
         "type": "scatter",
         "x": [
          0,
          1,
          2,
          3,
          4,
          5,
          6,
          7,
          8,
          9,
          10,
          11,
          12,
          13
         ],
         "y": [
          7.486496748336757,
          7.556828944477271,
          7.557970384259399,
          6.522346635844359,
          5.080395136037723,
          3.64439068026601,
          2.895410090535165,
          3.420376450984275,
          4.097951464863831,
          5.078702748883293,
          6.2853060058610595,
          7.57028255163697,
          8.86960516576719,
          9.764201394368893
         ]
        },
        {
         "marker": {
          "color": "blue",
          "line": {
           "width": 2
          },
          "opacity": 0.9,
          "size": 12
         },
         "mode": "markers",
         "name": "",
         "showlegend": false,
         "type": "scatter",
         "x": [
          6,
          12
         ],
         "y": [
          0,
          0.5243396805984153
         ]
        },
        {
         "hoverinfo": "none",
         "line": {
          "width": 2
         },
         "marker": {
          "color": "gray"
         },
         "mode": "lines",
         "name": "",
         "showlegend": false,
         "type": "scatter",
         "x": [
          6,
          12,
          null,
          10.908235801598831,
          12,
          10.83650190851499,
          null
         ],
         "y": [
          0,
          0.5243396805984153,
          null,
          0.015371882878898568,
          0.5243396805984153,
          0.8362202268605036,
          null
         ]
        },
        {
         "marker": {
          "color": "blue",
          "line": {
           "width": 2
          },
          "opacity": 0.9,
          "size": 12
         },
         "mode": "markers",
         "name": "",
         "showlegend": false,
         "type": "scatter",
         "x": [
          6,
          6
         ],
         "y": [
          0,
          2.5318280023996245
         ]
        },
        {
         "hoverinfo": "none",
         "line": {
          "width": 2
         },
         "marker": {
          "color": "gray"
         },
         "mode": "lines",
         "name": "",
         "showlegend": false,
         "type": "scatter",
         "x": [
          6,
          6,
          null,
          6.173187235251333,
          6,
          5.826812764748667,
          null
         ],
         "y": [
          0,
          2.5318280023996245,
          null,
          2.0559999842088135,
          2.5318280023996245,
          2.0559999842088135,
          null
         ]
        }
       ],
       "layout": {
        "hovermode": false,
        "template": {
         "data": {
          "bar": [
           {
            "error_x": {
             "color": "#2a3f5f"
            },
            "error_y": {
             "color": "#2a3f5f"
            },
            "marker": {
             "line": {
              "color": "#E5ECF6",
              "width": 0.5
             }
            },
            "type": "bar"
           }
          ],
          "barpolar": [
           {
            "marker": {
             "line": {
              "color": "#E5ECF6",
              "width": 0.5
             }
            },
            "type": "barpolar"
           }
          ],
          "carpet": [
           {
            "aaxis": {
             "endlinecolor": "#2a3f5f",
             "gridcolor": "white",
             "linecolor": "white",
             "minorgridcolor": "white",
             "startlinecolor": "#2a3f5f"
            },
            "baxis": {
             "endlinecolor": "#2a3f5f",
             "gridcolor": "white",
             "linecolor": "white",
             "minorgridcolor": "white",
             "startlinecolor": "#2a3f5f"
            },
            "type": "carpet"
           }
          ],
          "choropleth": [
           {
            "colorbar": {
             "outlinewidth": 0,
             "ticks": ""
            },
            "type": "choropleth"
           }
          ],
          "contour": [
           {
            "colorbar": {
             "outlinewidth": 0,
             "ticks": ""
            },
            "colorscale": [
             [
              0,
              "#0d0887"
             ],
             [
              0.1111111111111111,
              "#46039f"
             ],
             [
              0.2222222222222222,
              "#7201a8"
             ],
             [
              0.3333333333333333,
              "#9c179e"
             ],
             [
              0.4444444444444444,
              "#bd3786"
             ],
             [
              0.5555555555555556,
              "#d8576b"
             ],
             [
              0.6666666666666666,
              "#ed7953"
             ],
             [
              0.7777777777777778,
              "#fb9f3a"
             ],
             [
              0.8888888888888888,
              "#fdca26"
             ],
             [
              1,
              "#f0f921"
             ]
            ],
            "type": "contour"
           }
          ],
          "contourcarpet": [
           {
            "colorbar": {
             "outlinewidth": 0,
             "ticks": ""
            },
            "type": "contourcarpet"
           }
          ],
          "heatmap": [
           {
            "colorbar": {
             "outlinewidth": 0,
             "ticks": ""
            },
            "colorscale": [
             [
              0,
              "#0d0887"
             ],
             [
              0.1111111111111111,
              "#46039f"
             ],
             [
              0.2222222222222222,
              "#7201a8"
             ],
             [
              0.3333333333333333,
              "#9c179e"
             ],
             [
              0.4444444444444444,
              "#bd3786"
             ],
             [
              0.5555555555555556,
              "#d8576b"
             ],
             [
              0.6666666666666666,
              "#ed7953"
             ],
             [
              0.7777777777777778,
              "#fb9f3a"
             ],
             [
              0.8888888888888888,
              "#fdca26"
             ],
             [
              1,
              "#f0f921"
             ]
            ],
            "type": "heatmap"
           }
          ],
          "heatmapgl": [
           {
            "colorbar": {
             "outlinewidth": 0,
             "ticks": ""
            },
            "colorscale": [
             [
              0,
              "#0d0887"
             ],
             [
              0.1111111111111111,
              "#46039f"
             ],
             [
              0.2222222222222222,
              "#7201a8"
             ],
             [
              0.3333333333333333,
              "#9c179e"
             ],
             [
              0.4444444444444444,
              "#bd3786"
             ],
             [
              0.5555555555555556,
              "#d8576b"
             ],
             [
              0.6666666666666666,
              "#ed7953"
             ],
             [
              0.7777777777777778,
              "#fb9f3a"
             ],
             [
              0.8888888888888888,
              "#fdca26"
             ],
             [
              1,
              "#f0f921"
             ]
            ],
            "type": "heatmapgl"
           }
          ],
          "histogram": [
           {
            "marker": {
             "colorbar": {
              "outlinewidth": 0,
              "ticks": ""
             }
            },
            "type": "histogram"
           }
          ],
          "histogram2d": [
           {
            "colorbar": {
             "outlinewidth": 0,
             "ticks": ""
            },
            "colorscale": [
             [
              0,
              "#0d0887"
             ],
             [
              0.1111111111111111,
              "#46039f"
             ],
             [
              0.2222222222222222,
              "#7201a8"
             ],
             [
              0.3333333333333333,
              "#9c179e"
             ],
             [
              0.4444444444444444,
              "#bd3786"
             ],
             [
              0.5555555555555556,
              "#d8576b"
             ],
             [
              0.6666666666666666,
              "#ed7953"
             ],
             [
              0.7777777777777778,
              "#fb9f3a"
             ],
             [
              0.8888888888888888,
              "#fdca26"
             ],
             [
              1,
              "#f0f921"
             ]
            ],
            "type": "histogram2d"
           }
          ],
          "histogram2dcontour": [
           {
            "colorbar": {
             "outlinewidth": 0,
             "ticks": ""
            },
            "colorscale": [
             [
              0,
              "#0d0887"
             ],
             [
              0.1111111111111111,
              "#46039f"
             ],
             [
              0.2222222222222222,
              "#7201a8"
             ],
             [
              0.3333333333333333,
              "#9c179e"
             ],
             [
              0.4444444444444444,
              "#bd3786"
             ],
             [
              0.5555555555555556,
              "#d8576b"
             ],
             [
              0.6666666666666666,
              "#ed7953"
             ],
             [
              0.7777777777777778,
              "#fb9f3a"
             ],
             [
              0.8888888888888888,
              "#fdca26"
             ],
             [
              1,
              "#f0f921"
             ]
            ],
            "type": "histogram2dcontour"
           }
          ],
          "mesh3d": [
           {
            "colorbar": {
             "outlinewidth": 0,
             "ticks": ""
            },
            "type": "mesh3d"
           }
          ],
          "parcoords": [
           {
            "line": {
             "colorbar": {
              "outlinewidth": 0,
              "ticks": ""
             }
            },
            "type": "parcoords"
           }
          ],
          "pie": [
           {
            "automargin": true,
            "type": "pie"
           }
          ],
          "scatter": [
           {
            "marker": {
             "colorbar": {
              "outlinewidth": 0,
              "ticks": ""
             }
            },
            "type": "scatter"
           }
          ],
          "scatter3d": [
           {
            "line": {
             "colorbar": {
              "outlinewidth": 0,
              "ticks": ""
             }
            },
            "marker": {
             "colorbar": {
              "outlinewidth": 0,
              "ticks": ""
             }
            },
            "type": "scatter3d"
           }
          ],
          "scattercarpet": [
           {
            "marker": {
             "colorbar": {
              "outlinewidth": 0,
              "ticks": ""
             }
            },
            "type": "scattercarpet"
           }
          ],
          "scattergeo": [
           {
            "marker": {
             "colorbar": {
              "outlinewidth": 0,
              "ticks": ""
             }
            },
            "type": "scattergeo"
           }
          ],
          "scattergl": [
           {
            "marker": {
             "colorbar": {
              "outlinewidth": 0,
              "ticks": ""
             }
            },
            "type": "scattergl"
           }
          ],
          "scattermapbox": [
           {
            "marker": {
             "colorbar": {
              "outlinewidth": 0,
              "ticks": ""
             }
            },
            "type": "scattermapbox"
           }
          ],
          "scatterpolar": [
           {
            "marker": {
             "colorbar": {
              "outlinewidth": 0,
              "ticks": ""
             }
            },
            "type": "scatterpolar"
           }
          ],
          "scatterpolargl": [
           {
            "marker": {
             "colorbar": {
              "outlinewidth": 0,
              "ticks": ""
             }
            },
            "type": "scatterpolargl"
           }
          ],
          "scatterternary": [
           {
            "marker": {
             "colorbar": {
              "outlinewidth": 0,
              "ticks": ""
             }
            },
            "type": "scatterternary"
           }
          ],
          "surface": [
           {
            "colorbar": {
             "outlinewidth": 0,
             "ticks": ""
            },
            "colorscale": [
             [
              0,
              "#0d0887"
             ],
             [
              0.1111111111111111,
              "#46039f"
             ],
             [
              0.2222222222222222,
              "#7201a8"
             ],
             [
              0.3333333333333333,
              "#9c179e"
             ],
             [
              0.4444444444444444,
              "#bd3786"
             ],
             [
              0.5555555555555556,
              "#d8576b"
             ],
             [
              0.6666666666666666,
              "#ed7953"
             ],
             [
              0.7777777777777778,
              "#fb9f3a"
             ],
             [
              0.8888888888888888,
              "#fdca26"
             ],
             [
              1,
              "#f0f921"
             ]
            ],
            "type": "surface"
           }
          ],
          "table": [
           {
            "cells": {
             "fill": {
              "color": "#EBF0F8"
             },
             "line": {
              "color": "white"
             }
            },
            "header": {
             "fill": {
              "color": "#C8D4E3"
             },
             "line": {
              "color": "white"
             }
            },
            "type": "table"
           }
          ]
         },
         "layout": {
          "annotationdefaults": {
           "arrowcolor": "#2a3f5f",
           "arrowhead": 0,
           "arrowwidth": 1
          },
          "autotypenumbers": "strict",
          "coloraxis": {
           "colorbar": {
            "outlinewidth": 0,
            "ticks": ""
           }
          },
          "colorscale": {
           "diverging": [
            [
             0,
             "#8e0152"
            ],
            [
             0.1,
             "#c51b7d"
            ],
            [
             0.2,
             "#de77ae"
            ],
            [
             0.3,
             "#f1b6da"
            ],
            [
             0.4,
             "#fde0ef"
            ],
            [
             0.5,
             "#f7f7f7"
            ],
            [
             0.6,
             "#e6f5d0"
            ],
            [
             0.7,
             "#b8e186"
            ],
            [
             0.8,
             "#7fbc41"
            ],
            [
             0.9,
             "#4d9221"
            ],
            [
             1,
             "#276419"
            ]
           ],
           "sequential": [
            [
             0,
             "#0d0887"
            ],
            [
             0.1111111111111111,
             "#46039f"
            ],
            [
             0.2222222222222222,
             "#7201a8"
            ],
            [
             0.3333333333333333,
             "#9c179e"
            ],
            [
             0.4444444444444444,
             "#bd3786"
            ],
            [
             0.5555555555555556,
             "#d8576b"
            ],
            [
             0.6666666666666666,
             "#ed7953"
            ],
            [
             0.7777777777777778,
             "#fb9f3a"
            ],
            [
             0.8888888888888888,
             "#fdca26"
            ],
            [
             1,
             "#f0f921"
            ]
           ],
           "sequentialminus": [
            [
             0,
             "#0d0887"
            ],
            [
             0.1111111111111111,
             "#46039f"
            ],
            [
             0.2222222222222222,
             "#7201a8"
            ],
            [
             0.3333333333333333,
             "#9c179e"
            ],
            [
             0.4444444444444444,
             "#bd3786"
            ],
            [
             0.5555555555555556,
             "#d8576b"
            ],
            [
             0.6666666666666666,
             "#ed7953"
            ],
            [
             0.7777777777777778,
             "#fb9f3a"
            ],
            [
             0.8888888888888888,
             "#fdca26"
            ],
            [
             1,
             "#f0f921"
            ]
           ]
          },
          "colorway": [
           "#636efa",
           "#EF553B",
           "#00cc96",
           "#ab63fa",
           "#FFA15A",
           "#19d3f3",
           "#FF6692",
           "#B6E880",
           "#FF97FF",
           "#FECB52"
          ],
          "font": {
           "color": "#2a3f5f"
          },
          "geo": {
           "bgcolor": "white",
           "lakecolor": "white",
           "landcolor": "#E5ECF6",
           "showlakes": true,
           "showland": true,
           "subunitcolor": "white"
          },
          "hoverlabel": {
           "align": "left"
          },
          "hovermode": "closest",
          "mapbox": {
           "style": "light"
          },
          "paper_bgcolor": "white",
          "plot_bgcolor": "#E5ECF6",
          "polar": {
           "angularaxis": {
            "gridcolor": "white",
            "linecolor": "white",
            "ticks": ""
           },
           "bgcolor": "#E5ECF6",
           "radialaxis": {
            "gridcolor": "white",
            "linecolor": "white",
            "ticks": ""
           }
          },
          "scene": {
           "xaxis": {
            "backgroundcolor": "#E5ECF6",
            "gridcolor": "white",
            "gridwidth": 2,
            "linecolor": "white",
            "showbackground": true,
            "ticks": "",
            "zerolinecolor": "white"
           },
           "yaxis": {
            "backgroundcolor": "#E5ECF6",
            "gridcolor": "white",
            "gridwidth": 2,
            "linecolor": "white",
            "showbackground": true,
            "ticks": "",
            "zerolinecolor": "white"
           },
           "zaxis": {
            "backgroundcolor": "#E5ECF6",
            "gridcolor": "white",
            "gridwidth": 2,
            "linecolor": "white",
            "showbackground": true,
            "ticks": "",
            "zerolinecolor": "white"
           }
          },
          "shapedefaults": {
           "line": {
            "color": "#2a3f5f"
           }
          },
          "ternary": {
           "aaxis": {
            "gridcolor": "white",
            "linecolor": "white",
            "ticks": ""
           },
           "baxis": {
            "gridcolor": "white",
            "linecolor": "white",
            "ticks": ""
           },
           "bgcolor": "#E5ECF6",
           "caxis": {
            "gridcolor": "white",
            "linecolor": "white",
            "ticks": ""
           }
          },
          "title": {
           "x": 0.05
          },
          "xaxis": {
           "automargin": true,
           "gridcolor": "white",
           "linecolor": "white",
           "ticks": "",
           "title": {
            "standoff": 15
           },
           "zerolinecolor": "white",
           "zerolinewidth": 2
          },
          "yaxis": {
           "automargin": true,
           "gridcolor": "white",
           "linecolor": "white",
           "ticks": "",
           "title": {
            "standoff": 15
           },
           "zerolinecolor": "white",
           "zerolinewidth": 2
          }
         }
        },
        "title": {
         "font": {
          "size": 12
         },
         "text": "Si₂: direct gap = 2.53, fundamental gap = 0.52 (eV)"
        },
        "xaxis": {
         "range": [
          0,
          13
         ],
         "tickfont": {
          "size": 16
         },
         "ticktext": [
          "L",
          "Γ",
          "X"
         ],
         "tickvals": [
          0,
          6,
          13
         ],
         "title": {
          "text": "Wave Vector"
         }
        },
        "yaxis": {
         "range": [
          -7.5318280023996245,
          7.5318280023996245
         ],
         "title": {
          "text": "Energy (eV)"
         }
        }
       }
      },
      "text/html": [
       "<div>                            <div id=\"50482f5f-2430-4520-a911-4dda5a05ce0b\" class=\"plotly-graph-div\" style=\"height:525px; width:100%;\"></div>            <script type=\"text/javascript\">                require([\"plotly\"], function(Plotly) {                    window.PLOTLYENV=window.PLOTLYENV || {};                                    if (document.getElementById(\"50482f5f-2430-4520-a911-4dda5a05ce0b\")) {                    Plotly.newPlot(                        \"50482f5f-2430-4520-a911-4dda5a05ce0b\",                        [{\"line\": {\"color\": \"black\", \"width\": 2.0}, \"mode\": \"lines\", \"name\": \"\", \"showlegend\": false, \"type\": \"scatter\", \"x\": [0, 1, 2, 3, 4, 5, 6, 7, 8, 9, 10, 11, 12, 13], \"y\": [-9.535786584476371, -9.876086072577124, -10.50248616041993, -11.072135054815655, -11.49997087419812, -11.762095707628028, -11.855854002139353, -11.762377983295668, -11.50477647913229, -11.070113139712472, -10.472375477678483, -9.711907857213474, -8.80627918610692, -7.770717499465216]}, {\"line\": {\"color\": \"black\", \"width\": 2.0}, \"mode\": \"lines\", \"name\": \"\", \"showlegend\": false, \"type\": \"scatter\", \"x\": [0, 1, 2, 3, 4, 5, 6, 7, 8, 9, 10, 11, 12, 13], \"y\": [-6.932268857216583, -6.43466268058439, -5.32246565612085, -3.928375477089248, -2.3943640811461293, -0.8732321955292113, -1.8810997204354862e-10, -0.5570011558894024, -1.6672108194971527, -2.8989034584222813, -4.182931950763718, -5.430649177987346, -6.638177513397373, -7.770717499206782]}, {\"line\": {\"color\": \"black\", \"width\": 2.0}, \"mode\": \"lines\", \"name\": \"\", \"showlegend\": false, \"type\": \"scatter\", \"x\": [0, 1, 2, 3, 4, 5, 6, 7, 8, 9, 10, 11, 12, 13], \"y\": [-1.205076152062217, -1.1553086614693786, -1.0090768426644035, -0.7663867705309526, -0.4526779027859842, -0.14266808604246428, -6.019984510885479e-11, -0.3276142442992862, -0.972216601358169, -1.6064227733017695, -2.136764772819509, -2.5278823531194936, -2.7654307093388297, -2.844891372378396]}, {\"line\": {\"color\": \"black\", \"width\": 2.0}, \"mode\": \"lines\", \"name\": \"\", \"showlegend\": false, \"type\": \"scatter\", \"x\": [0, 1, 2, 3, 4, 5, 6, 7, 8, 9, 10, 11, 12, 13], \"y\": [-1.2050761518987496, -1.155308661315078, -1.009076842522739, -0.7663867703985989, -0.4526779026646457, -0.14266808591143487, 0.0, -0.3276142442072123, -0.9722166012294071, -1.606422773175796, -2.136764772694111, -2.5278823529902867, -2.7654307092079202, -2.84489137224668]}, {\"line\": {\"color\": \"black\", \"width\": 2.0}, \"mode\": \"lines\", \"name\": \"\", \"showlegend\": false, \"type\": \"scatter\", \"x\": [0, 1, 2, 3, 4, 5, 6, 7, 8, 9, 10, 11, 12, 13], \"y\": [1.3454389436664638, 1.396036327425712, 1.5542838024392251, 1.8235759126039426, 2.1779644141648093, 2.49791994104946, 2.5318280023996245, 2.3196096023242694, 1.832801345948508, 1.3142687705394227, 0.8827985310190627, 0.6006801032754359, 0.5243396805984153, 0.6741757513882654]}, {\"line\": {\"color\": \"black\", \"width\": 2.0}, \"mode\": \"lines\", \"name\": \"\", \"showlegend\": false, \"type\": \"scatter\", \"x\": [0, 1, 2, 3, 4, 5, 6, 7, 8, 9, 10, 11, 12, 13], \"y\": [3.3661486562320615, 3.4124944120844916, 3.505955981163801, 3.4860954395102723, 3.1805995622616567, 2.7431167271405847, 2.5318280024990933, 2.9732007681489527, 3.924313282358483, 3.566247236456473, 2.5627516495996954, 1.6902771019859726, 1.0556641680571177, 0.6741757521259233]}, {\"line\": {\"color\": \"black\", \"width\": 2.0}, \"mode\": \"lines\", \"name\": \"\", \"showlegend\": false, \"type\": \"scatter\", \"x\": [0, 1, 2, 3, 4, 5, 6, 7, 8, 9, 10, 11, 12, 13], \"y\": [3.3661486562843894, 3.4124944121447474, 3.505955981234978, 3.4860954395923525, 3.1805995623550043, 2.7431167272535752, 2.531828002567412, 2.9732007682898125, 3.9243132824601865, 5.078702746089359, 6.285304926098657, 7.570282110475537, 8.869605080905535, 9.764149253744405]}, {\"line\": {\"color\": \"black\", \"width\": 2.0}, \"mode\": \"lines\", \"name\": \"\", \"showlegend\": false, \"type\": \"scatter\", \"x\": [0, 1, 2, 3, 4, 5, 6, 7, 8, 9, 10, 11, 12, 13], \"y\": [7.486496748336757, 7.556828944477271, 7.557970384259399, 6.522346635844359, 5.080395136037723, 3.64439068026601, 2.895410090535165, 3.420376450984275, 4.097951464863831, 5.078702748883293, 6.2853060058610595, 7.57028255163697, 8.86960516576719, 9.764201394368893]}, {\"marker\": {\"color\": \"blue\", \"line\": {\"width\": 2}, \"opacity\": 0.9, \"size\": 12}, \"mode\": \"markers\", \"name\": \"\", \"showlegend\": false, \"type\": \"scatter\", \"x\": [6, 12], \"y\": [0.0, 0.5243396805984153]}, {\"hoverinfo\": \"none\", \"line\": {\"width\": 2}, \"marker\": {\"color\": \"gray\"}, \"mode\": \"lines\", \"name\": \"\", \"showlegend\": false, \"type\": \"scatter\", \"x\": [6, 12, null, 10.908235801598831, 12, 10.83650190851499, null], \"y\": [0.0, 0.5243396805984153, null, 0.015371882878898568, 0.5243396805984153, 0.8362202268605036, null]}, {\"marker\": {\"color\": \"blue\", \"line\": {\"width\": 2}, \"opacity\": 0.9, \"size\": 12}, \"mode\": \"markers\", \"name\": \"\", \"showlegend\": false, \"type\": \"scatter\", \"x\": [6, 6], \"y\": [0.0, 2.5318280023996245]}, {\"hoverinfo\": \"none\", \"line\": {\"width\": 2}, \"marker\": {\"color\": \"gray\"}, \"mode\": \"lines\", \"name\": \"\", \"showlegend\": false, \"type\": \"scatter\", \"x\": [6, 6, null, 6.173187235251333, 6, 5.826812764748667, null], \"y\": [0.0, 2.5318280023996245, null, 2.0559999842088135, 2.5318280023996245, 2.0559999842088135, null]}],                        {\"hovermode\": false, \"template\": {\"data\": {\"bar\": [{\"error_x\": {\"color\": \"#2a3f5f\"}, \"error_y\": {\"color\": \"#2a3f5f\"}, \"marker\": {\"line\": {\"color\": \"#E5ECF6\", \"width\": 0.5}}, \"type\": \"bar\"}], \"barpolar\": [{\"marker\": {\"line\": {\"color\": \"#E5ECF6\", \"width\": 0.5}}, \"type\": \"barpolar\"}], \"carpet\": [{\"aaxis\": {\"endlinecolor\": \"#2a3f5f\", \"gridcolor\": \"white\", \"linecolor\": \"white\", \"minorgridcolor\": \"white\", \"startlinecolor\": \"#2a3f5f\"}, \"baxis\": {\"endlinecolor\": \"#2a3f5f\", \"gridcolor\": \"white\", \"linecolor\": \"white\", \"minorgridcolor\": \"white\", \"startlinecolor\": \"#2a3f5f\"}, \"type\": \"carpet\"}], \"choropleth\": [{\"colorbar\": {\"outlinewidth\": 0, \"ticks\": \"\"}, \"type\": \"choropleth\"}], \"contour\": [{\"colorbar\": {\"outlinewidth\": 0, \"ticks\": \"\"}, \"colorscale\": [[0.0, \"#0d0887\"], [0.1111111111111111, \"#46039f\"], [0.2222222222222222, \"#7201a8\"], [0.3333333333333333, \"#9c179e\"], [0.4444444444444444, \"#bd3786\"], [0.5555555555555556, \"#d8576b\"], [0.6666666666666666, \"#ed7953\"], [0.7777777777777778, \"#fb9f3a\"], [0.8888888888888888, \"#fdca26\"], [1.0, \"#f0f921\"]], \"type\": \"contour\"}], \"contourcarpet\": [{\"colorbar\": {\"outlinewidth\": 0, \"ticks\": \"\"}, \"type\": \"contourcarpet\"}], \"heatmap\": [{\"colorbar\": {\"outlinewidth\": 0, \"ticks\": \"\"}, \"colorscale\": [[0.0, \"#0d0887\"], [0.1111111111111111, \"#46039f\"], [0.2222222222222222, \"#7201a8\"], [0.3333333333333333, \"#9c179e\"], [0.4444444444444444, \"#bd3786\"], [0.5555555555555556, \"#d8576b\"], [0.6666666666666666, \"#ed7953\"], [0.7777777777777778, \"#fb9f3a\"], [0.8888888888888888, \"#fdca26\"], [1.0, \"#f0f921\"]], \"type\": \"heatmap\"}], \"heatmapgl\": [{\"colorbar\": {\"outlinewidth\": 0, \"ticks\": \"\"}, \"colorscale\": [[0.0, \"#0d0887\"], [0.1111111111111111, \"#46039f\"], [0.2222222222222222, \"#7201a8\"], [0.3333333333333333, \"#9c179e\"], [0.4444444444444444, \"#bd3786\"], [0.5555555555555556, \"#d8576b\"], [0.6666666666666666, \"#ed7953\"], [0.7777777777777778, \"#fb9f3a\"], [0.8888888888888888, \"#fdca26\"], [1.0, \"#f0f921\"]], \"type\": \"heatmapgl\"}], \"histogram\": [{\"marker\": {\"colorbar\": {\"outlinewidth\": 0, \"ticks\": \"\"}}, \"type\": \"histogram\"}], \"histogram2d\": [{\"colorbar\": {\"outlinewidth\": 0, \"ticks\": \"\"}, \"colorscale\": [[0.0, \"#0d0887\"], [0.1111111111111111, \"#46039f\"], [0.2222222222222222, \"#7201a8\"], [0.3333333333333333, \"#9c179e\"], [0.4444444444444444, \"#bd3786\"], [0.5555555555555556, \"#d8576b\"], [0.6666666666666666, \"#ed7953\"], [0.7777777777777778, \"#fb9f3a\"], [0.8888888888888888, \"#fdca26\"], [1.0, \"#f0f921\"]], \"type\": \"histogram2d\"}], \"histogram2dcontour\": [{\"colorbar\": {\"outlinewidth\": 0, \"ticks\": \"\"}, \"colorscale\": [[0.0, \"#0d0887\"], [0.1111111111111111, \"#46039f\"], [0.2222222222222222, \"#7201a8\"], [0.3333333333333333, \"#9c179e\"], [0.4444444444444444, \"#bd3786\"], [0.5555555555555556, \"#d8576b\"], [0.6666666666666666, \"#ed7953\"], [0.7777777777777778, \"#fb9f3a\"], [0.8888888888888888, \"#fdca26\"], [1.0, \"#f0f921\"]], \"type\": \"histogram2dcontour\"}], \"mesh3d\": [{\"colorbar\": {\"outlinewidth\": 0, \"ticks\": \"\"}, \"type\": \"mesh3d\"}], \"parcoords\": [{\"line\": {\"colorbar\": {\"outlinewidth\": 0, \"ticks\": \"\"}}, \"type\": \"parcoords\"}], \"pie\": [{\"automargin\": true, \"type\": \"pie\"}], \"scatter\": [{\"marker\": {\"colorbar\": {\"outlinewidth\": 0, \"ticks\": \"\"}}, \"type\": \"scatter\"}], \"scatter3d\": [{\"line\": {\"colorbar\": {\"outlinewidth\": 0, \"ticks\": \"\"}}, \"marker\": {\"colorbar\": {\"outlinewidth\": 0, \"ticks\": \"\"}}, \"type\": \"scatter3d\"}], \"scattercarpet\": [{\"marker\": {\"colorbar\": {\"outlinewidth\": 0, \"ticks\": \"\"}}, \"type\": \"scattercarpet\"}], \"scattergeo\": [{\"marker\": {\"colorbar\": {\"outlinewidth\": 0, \"ticks\": \"\"}}, \"type\": \"scattergeo\"}], \"scattergl\": [{\"marker\": {\"colorbar\": {\"outlinewidth\": 0, \"ticks\": \"\"}}, \"type\": \"scattergl\"}], \"scattermapbox\": [{\"marker\": {\"colorbar\": {\"outlinewidth\": 0, \"ticks\": \"\"}}, \"type\": \"scattermapbox\"}], \"scatterpolar\": [{\"marker\": {\"colorbar\": {\"outlinewidth\": 0, \"ticks\": \"\"}}, \"type\": \"scatterpolar\"}], \"scatterpolargl\": [{\"marker\": {\"colorbar\": {\"outlinewidth\": 0, \"ticks\": \"\"}}, \"type\": \"scatterpolargl\"}], \"scatterternary\": [{\"marker\": {\"colorbar\": {\"outlinewidth\": 0, \"ticks\": \"\"}}, \"type\": \"scatterternary\"}], \"surface\": [{\"colorbar\": {\"outlinewidth\": 0, \"ticks\": \"\"}, \"colorscale\": [[0.0, \"#0d0887\"], [0.1111111111111111, \"#46039f\"], [0.2222222222222222, \"#7201a8\"], [0.3333333333333333, \"#9c179e\"], [0.4444444444444444, \"#bd3786\"], [0.5555555555555556, \"#d8576b\"], [0.6666666666666666, \"#ed7953\"], [0.7777777777777778, \"#fb9f3a\"], [0.8888888888888888, \"#fdca26\"], [1.0, \"#f0f921\"]], \"type\": \"surface\"}], \"table\": [{\"cells\": {\"fill\": {\"color\": \"#EBF0F8\"}, \"line\": {\"color\": \"white\"}}, \"header\": {\"fill\": {\"color\": \"#C8D4E3\"}, \"line\": {\"color\": \"white\"}}, \"type\": \"table\"}]}, \"layout\": {\"annotationdefaults\": {\"arrowcolor\": \"#2a3f5f\", \"arrowhead\": 0, \"arrowwidth\": 1}, \"autotypenumbers\": \"strict\", \"coloraxis\": {\"colorbar\": {\"outlinewidth\": 0, \"ticks\": \"\"}}, \"colorscale\": {\"diverging\": [[0, \"#8e0152\"], [0.1, \"#c51b7d\"], [0.2, \"#de77ae\"], [0.3, \"#f1b6da\"], [0.4, \"#fde0ef\"], [0.5, \"#f7f7f7\"], [0.6, \"#e6f5d0\"], [0.7, \"#b8e186\"], [0.8, \"#7fbc41\"], [0.9, \"#4d9221\"], [1, \"#276419\"]], \"sequential\": [[0.0, \"#0d0887\"], [0.1111111111111111, \"#46039f\"], [0.2222222222222222, \"#7201a8\"], [0.3333333333333333, \"#9c179e\"], [0.4444444444444444, \"#bd3786\"], [0.5555555555555556, \"#d8576b\"], [0.6666666666666666, \"#ed7953\"], [0.7777777777777778, \"#fb9f3a\"], [0.8888888888888888, \"#fdca26\"], [1.0, \"#f0f921\"]], \"sequentialminus\": [[0.0, \"#0d0887\"], [0.1111111111111111, \"#46039f\"], [0.2222222222222222, \"#7201a8\"], [0.3333333333333333, \"#9c179e\"], [0.4444444444444444, \"#bd3786\"], [0.5555555555555556, \"#d8576b\"], [0.6666666666666666, \"#ed7953\"], [0.7777777777777778, \"#fb9f3a\"], [0.8888888888888888, \"#fdca26\"], [1.0, \"#f0f921\"]]}, \"colorway\": [\"#636efa\", \"#EF553B\", \"#00cc96\", \"#ab63fa\", \"#FFA15A\", \"#19d3f3\", \"#FF6692\", \"#B6E880\", \"#FF97FF\", \"#FECB52\"], \"font\": {\"color\": \"#2a3f5f\"}, \"geo\": {\"bgcolor\": \"white\", \"lakecolor\": \"white\", \"landcolor\": \"#E5ECF6\", \"showlakes\": true, \"showland\": true, \"subunitcolor\": \"white\"}, \"hoverlabel\": {\"align\": \"left\"}, \"hovermode\": \"closest\", \"mapbox\": {\"style\": \"light\"}, \"paper_bgcolor\": \"white\", \"plot_bgcolor\": \"#E5ECF6\", \"polar\": {\"angularaxis\": {\"gridcolor\": \"white\", \"linecolor\": \"white\", \"ticks\": \"\"}, \"bgcolor\": \"#E5ECF6\", \"radialaxis\": {\"gridcolor\": \"white\", \"linecolor\": \"white\", \"ticks\": \"\"}}, \"scene\": {\"xaxis\": {\"backgroundcolor\": \"#E5ECF6\", \"gridcolor\": \"white\", \"gridwidth\": 2, \"linecolor\": \"white\", \"showbackground\": true, \"ticks\": \"\", \"zerolinecolor\": \"white\"}, \"yaxis\": {\"backgroundcolor\": \"#E5ECF6\", \"gridcolor\": \"white\", \"gridwidth\": 2, \"linecolor\": \"white\", \"showbackground\": true, \"ticks\": \"\", \"zerolinecolor\": \"white\"}, \"zaxis\": {\"backgroundcolor\": \"#E5ECF6\", \"gridcolor\": \"white\", \"gridwidth\": 2, \"linecolor\": \"white\", \"showbackground\": true, \"ticks\": \"\", \"zerolinecolor\": \"white\"}}, \"shapedefaults\": {\"line\": {\"color\": \"#2a3f5f\"}}, \"ternary\": {\"aaxis\": {\"gridcolor\": \"white\", \"linecolor\": \"white\", \"ticks\": \"\"}, \"baxis\": {\"gridcolor\": \"white\", \"linecolor\": \"white\", \"ticks\": \"\"}, \"bgcolor\": \"#E5ECF6\", \"caxis\": {\"gridcolor\": \"white\", \"linecolor\": \"white\", \"ticks\": \"\"}}, \"title\": {\"x\": 0.05}, \"xaxis\": {\"automargin\": true, \"gridcolor\": \"white\", \"linecolor\": \"white\", \"ticks\": \"\", \"title\": {\"standoff\": 15}, \"zerolinecolor\": \"white\", \"zerolinewidth\": 2}, \"yaxis\": {\"automargin\": true, \"gridcolor\": \"white\", \"linecolor\": \"white\", \"ticks\": \"\", \"title\": {\"standoff\": 15}, \"zerolinecolor\": \"white\", \"zerolinewidth\": 2}}}, \"title\": {\"font\": {\"size\": 12}, \"text\": \"Si\\u2082: direct gap = 2.53, fundamental gap = 0.52 (eV)\"}, \"xaxis\": {\"range\": [0, 13], \"tickfont\": {\"size\": 16}, \"ticktext\": [\"L\", \"\\u0393\", \"X\"], \"tickvals\": [0, 6, 13], \"title\": {\"text\": \"Wave Vector\"}}, \"yaxis\": {\"range\": [-7.5318280023996245, 7.5318280023996245], \"title\": {\"text\": \"Energy (eV)\"}}},                        {\"responsive\": true}                    ).then(function(){\n",
       "                            \n",
       "var gd = document.getElementById('50482f5f-2430-4520-a911-4dda5a05ce0b');\n",
       "var x = new MutationObserver(function (mutations, observer) {{\n",
       "        var display = window.getComputedStyle(gd).display;\n",
       "        if (!display || display === 'none') {{\n",
       "            console.log([gd, 'removed!']);\n",
       "            Plotly.purge(gd);\n",
       "            observer.disconnect();\n",
       "        }}\n",
       "}});\n",
       "\n",
       "// Listen for the removal of the full notebook cells\n",
       "var notebookContainer = gd.closest('#notebook-container');\n",
       "if (notebookContainer) {{\n",
       "    x.observe(notebookContainer, {childList: true});\n",
       "}}\n",
       "\n",
       "// Listen for the clearing of the current output cell\n",
       "var outputEl = gd.closest('.output');\n",
       "if (outputEl) {{\n",
       "    x.observe(outputEl, {childList: true});\n",
       "}}\n",
       "\n",
       "                        })                };                });            </script>        </div>"
      ]
     },
     "metadata": {},
     "output_type": "display_data"
    }
   ],
   "source": [
    "gsr = abiopen(\"si_nscf_GSR.nc\")\n",
    "gsr.ebands.plotly(with_gaps=True);"
   ]
  },
  {
   "cell_type": "code",
   "execution_count": 23,
   "metadata": {
    "slideshow": {
     "slide_type": "slide"
    }
   },
   "outputs": [
    {
     "data": {
      "application/javascript": [
       "\n",
       "(function(root) {\n",
       "  function now() {\n",
       "    return new Date();\n",
       "  }\n",
       "\n",
       "  var force = true;\n",
       "\n",
       "  if (typeof root._bokeh_onload_callbacks === \"undefined\" || force === true) {\n",
       "    root._bokeh_onload_callbacks = [];\n",
       "    root._bokeh_is_loading = undefined;\n",
       "  }\n",
       "\n",
       "  if (typeof (root._bokeh_timeout) === \"undefined\" || force === true) {\n",
       "    root._bokeh_timeout = Date.now() + 5000;\n",
       "    root._bokeh_failed_load = false;\n",
       "  }\n",
       "\n",
       "  function run_callbacks() {\n",
       "    try {\n",
       "      root._bokeh_onload_callbacks.forEach(function(callback) {\n",
       "        if (callback != null)\n",
       "          callback();\n",
       "      });\n",
       "    } finally {\n",
       "      delete root._bokeh_onload_callbacks\n",
       "    }\n",
       "    console.debug(\"Bokeh: all callbacks have finished\");\n",
       "  }\n",
       "\n",
       "  function load_libs(css_urls, js_urls, js_modules, callback) {\n",
       "    if (css_urls == null) css_urls = [];\n",
       "    if (js_urls == null) js_urls = [];\n",
       "    if (js_modules == null) js_modules = [];\n",
       "\n",
       "    root._bokeh_onload_callbacks.push(callback);\n",
       "    if (root._bokeh_is_loading > 0) {\n",
       "      console.debug(\"Bokeh: BokehJS is being loaded, scheduling callback at\", now());\n",
       "      return null;\n",
       "    }\n",
       "    if (js_urls.length === 0 && js_modules.length === 0) {\n",
       "      run_callbacks();\n",
       "      return null;\n",
       "    }\n",
       "    console.debug(\"Bokeh: BokehJS not loaded, scheduling load and callback at\", now());\n",
       "    root._bokeh_is_loading = css_urls.length + js_urls.length + js_modules.length;\n",
       "\n",
       "    function on_load() {\n",
       "      root._bokeh_is_loading--;\n",
       "      if (root._bokeh_is_loading === 0) {\n",
       "        console.debug(\"Bokeh: all BokehJS libraries/stylesheets loaded\");\n",
       "        run_callbacks()\n",
       "      }\n",
       "    }\n",
       "\n",
       "    function on_error() {\n",
       "      console.error(\"failed to load \" + url);\n",
       "    }\n",
       "\n",
       "    for (var i = 0; i < css_urls.length; i++) {\n",
       "      var url = css_urls[i];\n",
       "      const element = document.createElement(\"link\");\n",
       "      element.onload = on_load;\n",
       "      element.onerror = on_error;\n",
       "      element.rel = \"stylesheet\";\n",
       "      element.type = \"text/css\";\n",
       "      element.href = url;\n",
       "      console.debug(\"Bokeh: injecting link tag for BokehJS stylesheet: \", url);\n",
       "      document.body.appendChild(element);\n",
       "    }\n",
       "\n",
       "    var skip = [];\n",
       "    if (window.requirejs) {\n",
       "      window.requirejs.config({'paths': {'tabulator': 'https://unpkg.com/tabulator-tables@4.9.3/dist/js/tabulator'}});\n",
       "      window.requirejs.config({'paths': {'plotly': 'https://cdn.plot.ly/plotly-latest.min'}});\n",
       "      window.requirejs.config({'paths': {'clipboard': 'https://cdn.jsdelivr.net/npm/clipboard@2/dist/clipboard.min'}});\n",
       "      require([\"clipboard\"], function(clipboard,) {\n",
       "        window.clipboard = clipboard;\n",
       "      })\n",
       "    }\n",
       "    if (((window['tabulator'] !== undefined) && (!(window['tabulator'] instanceof HTMLElement))) || window.requirejs) {\n",
       "      var urls = ['https://unpkg.com/tabulator-tables@4.9.3/dist/js/tabulator.js', 'https://unpkg.com/moment@2.27.0/moment.js'];\n",
       "      for (var i = 0; i < urls.length; i++) {\n",
       "        skip.push(urls[i])\n",
       "      }\n",
       "    }\n",
       "    if (((window['Plotly'] !== undefined) && (!(window['Plotly'] instanceof HTMLElement))) || window.requirejs) {\n",
       "      var urls = ['https://cdn.plot.ly/plotly-latest.min.js'];\n",
       "      for (var i = 0; i < urls.length; i++) {\n",
       "        skip.push(urls[i])\n",
       "      }\n",
       "    }\n",
       "    for (var i = 0; i < js_urls.length; i++) {\n",
       "      var url = js_urls[i];\n",
       "      if (skip.indexOf(url) >= 0) { on_load(); continue; }\n",
       "      var element = document.createElement('script');\n",
       "      element.onload = on_load;\n",
       "      element.onerror = on_error;\n",
       "      element.async = false;\n",
       "      element.src = url;\n",
       "      console.debug(\"Bokeh: injecting script tag for BokehJS library: \", url);\n",
       "      document.head.appendChild(element);\n",
       "    }\n",
       "    for (var i = 0; i < js_modules.length; i++) {\n",
       "      var url = js_modules[i];\n",
       "      if (skip.indexOf(url) >= 0) { on_load(); continue; }\n",
       "      var element = document.createElement('script');\n",
       "      element.onload = on_load;\n",
       "      element.onerror = on_error;\n",
       "      element.async = false;\n",
       "      element.src = url;\n",
       "      element.type = \"module\";\n",
       "      console.debug(\"Bokeh: injecting script tag for BokehJS library: \", url);\n",
       "      document.head.appendChild(element);\n",
       "    }\n",
       "    if (!js_urls.length && !js_modules.length) {\n",
       "      on_load()\n",
       "    }\n",
       "  };\n",
       "\n",
       "  function inject_raw_css(css) {\n",
       "    const element = document.createElement(\"style\");\n",
       "    element.appendChild(document.createTextNode(css));\n",
       "    document.body.appendChild(element);\n",
       "  }\n",
       "\n",
       "  var js_urls = [\"https://code.jquery.com/jquery-3.4.1.min.js\", \"https://cdn.plot.ly/plotly-latest.min.js\", \"https://unpkg.com/tabulator-tables@4.9.3/dist/js/tabulator.js\", \"https://unpkg.com/moment@2.27.0/moment.js\", \"https://cdn.bokeh.org/bokeh/release/bokeh-2.3.1.min.js\", \"https://cdn.bokeh.org/bokeh/release/bokeh-widgets-2.3.1.min.js\", \"https://cdn.bokeh.org/bokeh/release/bokeh-tables-2.3.1.min.js\", \"https://cdn.jsdelivr.net/npm/clipboard@2/dist/clipboard.min.js\", \"https://unpkg.com/@holoviz/panel@^0.11.3/dist/panel.min.js\"];\n",
       "  var js_modules = [];\n",
       "  var css_urls = [\"https://unpkg.com/tabulator-tables@4.9.3/dist/css/tabulator_simple.min.css\", \"https://unpkg.com/@holoviz/panel@0.11.3/dist/css/alerts.css\", \"https://unpkg.com/@holoviz/panel@0.11.3/dist/css/card.css\", \"https://unpkg.com/@holoviz/panel@0.11.3/dist/css/widgets.css\", \"https://unpkg.com/@holoviz/panel@0.11.3/dist/css/markdown.css\", \"https://unpkg.com/@holoviz/panel@0.11.3/dist/css/json.css\", \"https://unpkg.com/@holoviz/panel@0.11.3/dist/css/loading.css\", \"https://unpkg.com/@holoviz/panel@0.11.3/dist/css/dataframe.css\"];\n",
       "  var inline_js = [\n",
       "    function(Bokeh) {\n",
       "      inject_raw_css(\"\\n    .bk.pn-loading.arcs:before {\\n      background-image: url(\\\"data:image/svg+xml;base64,PHN2ZyB4bWxucz0iaHR0cDovL3d3dy53My5vcmcvMjAwMC9zdmciIHhtbG5zOnhsaW5rPSJodHRwOi8vd3d3LnczLm9yZy8xOTk5L3hsaW5rIiBzdHlsZT0ibWFyZ2luOiBhdXRvOyBiYWNrZ3JvdW5kOiBub25lOyBkaXNwbGF5OiBibG9jazsgc2hhcGUtcmVuZGVyaW5nOiBhdXRvOyIgdmlld0JveD0iMCAwIDEwMCAxMDAiIHByZXNlcnZlQXNwZWN0UmF0aW89InhNaWRZTWlkIj4gIDxjaXJjbGUgY3g9IjUwIiBjeT0iNTAiIHI9IjMyIiBzdHJva2Utd2lkdGg9IjgiIHN0cm9rZT0iI2MzYzNjMyIgc3Ryb2tlLWRhc2hhcnJheT0iNTAuMjY1NDgyNDU3NDM2NjkgNTAuMjY1NDgyNDU3NDM2NjkiIGZpbGw9Im5vbmUiIHN0cm9rZS1saW5lY2FwPSJyb3VuZCI+ICAgIDxhbmltYXRlVHJhbnNmb3JtIGF0dHJpYnV0ZU5hbWU9InRyYW5zZm9ybSIgdHlwZT0icm90YXRlIiByZXBlYXRDb3VudD0iaW5kZWZpbml0ZSIgZHVyPSIxcyIga2V5VGltZXM9IjA7MSIgdmFsdWVzPSIwIDUwIDUwOzM2MCA1MCA1MCI+PC9hbmltYXRlVHJhbnNmb3JtPiAgPC9jaXJjbGU+PC9zdmc+\\\")\\n    }\\n    \");\n",
       "    },\n",
       "    function(Bokeh) {\n",
       "      Bokeh.set_log_level(\"info\");\n",
       "    },\n",
       "    function(Bokeh) {} // ensure no trailing comma for IE\n",
       "  ];\n",
       "\n",
       "  function run_inline_js() {\n",
       "    if ((root.Bokeh !== undefined) || (force === true)) {\n",
       "      for (var i = 0; i < inline_js.length; i++) {\n",
       "        inline_js[i].call(root, root.Bokeh);\n",
       "      }} else if (Date.now() < root._bokeh_timeout) {\n",
       "      setTimeout(run_inline_js, 100);\n",
       "    } else if (!root._bokeh_failed_load) {\n",
       "      console.log(\"Bokeh: BokehJS failed to load within specified timeout.\");\n",
       "      root._bokeh_failed_load = true;\n",
       "    }\n",
       "  }\n",
       "\n",
       "  if (root._bokeh_is_loading === 0) {\n",
       "    console.debug(\"Bokeh: BokehJS loaded, going straight to plotting\");\n",
       "    run_inline_js();\n",
       "  } else {\n",
       "    load_libs(css_urls, js_urls, js_modules, function() {\n",
       "      console.debug(\"Bokeh: BokehJS plotting callback run at\", now());\n",
       "      run_inline_js();\n",
       "    });\n",
       "  }\n",
       "}(window));"
      ],
      "application/vnd.holoviews_load.v0+json": "\n(function(root) {\n  function now() {\n    return new Date();\n  }\n\n  var force = true;\n\n  if (typeof root._bokeh_onload_callbacks === \"undefined\" || force === true) {\n    root._bokeh_onload_callbacks = [];\n    root._bokeh_is_loading = undefined;\n  }\n\n  if (typeof (root._bokeh_timeout) === \"undefined\" || force === true) {\n    root._bokeh_timeout = Date.now() + 5000;\n    root._bokeh_failed_load = false;\n  }\n\n  function run_callbacks() {\n    try {\n      root._bokeh_onload_callbacks.forEach(function(callback) {\n        if (callback != null)\n          callback();\n      });\n    } finally {\n      delete root._bokeh_onload_callbacks\n    }\n    console.debug(\"Bokeh: all callbacks have finished\");\n  }\n\n  function load_libs(css_urls, js_urls, js_modules, callback) {\n    if (css_urls == null) css_urls = [];\n    if (js_urls == null) js_urls = [];\n    if (js_modules == null) js_modules = [];\n\n    root._bokeh_onload_callbacks.push(callback);\n    if (root._bokeh_is_loading > 0) {\n      console.debug(\"Bokeh: BokehJS is being loaded, scheduling callback at\", now());\n      return null;\n    }\n    if (js_urls.length === 0 && js_modules.length === 0) {\n      run_callbacks();\n      return null;\n    }\n    console.debug(\"Bokeh: BokehJS not loaded, scheduling load and callback at\", now());\n    root._bokeh_is_loading = css_urls.length + js_urls.length + js_modules.length;\n\n    function on_load() {\n      root._bokeh_is_loading--;\n      if (root._bokeh_is_loading === 0) {\n        console.debug(\"Bokeh: all BokehJS libraries/stylesheets loaded\");\n        run_callbacks()\n      }\n    }\n\n    function on_error() {\n      console.error(\"failed to load \" + url);\n    }\n\n    for (var i = 0; i < css_urls.length; i++) {\n      var url = css_urls[i];\n      const element = document.createElement(\"link\");\n      element.onload = on_load;\n      element.onerror = on_error;\n      element.rel = \"stylesheet\";\n      element.type = \"text/css\";\n      element.href = url;\n      console.debug(\"Bokeh: injecting link tag for BokehJS stylesheet: \", url);\n      document.body.appendChild(element);\n    }\n\n    var skip = [];\n    if (window.requirejs) {\n      window.requirejs.config({'paths': {'tabulator': 'https://unpkg.com/tabulator-tables@4.9.3/dist/js/tabulator'}});\n      window.requirejs.config({'paths': {'plotly': 'https://cdn.plot.ly/plotly-latest.min'}});\n      window.requirejs.config({'paths': {'clipboard': 'https://cdn.jsdelivr.net/npm/clipboard@2/dist/clipboard.min'}});\n      require([\"clipboard\"], function(clipboard,) {\n        window.clipboard = clipboard;\n      })\n    }\n    if (((window['tabulator'] !== undefined) && (!(window['tabulator'] instanceof HTMLElement))) || window.requirejs) {\n      var urls = ['https://unpkg.com/tabulator-tables@4.9.3/dist/js/tabulator.js', 'https://unpkg.com/moment@2.27.0/moment.js'];\n      for (var i = 0; i < urls.length; i++) {\n        skip.push(urls[i])\n      }\n    }\n    if (((window['Plotly'] !== undefined) && (!(window['Plotly'] instanceof HTMLElement))) || window.requirejs) {\n      var urls = ['https://cdn.plot.ly/plotly-latest.min.js'];\n      for (var i = 0; i < urls.length; i++) {\n        skip.push(urls[i])\n      }\n    }\n    for (var i = 0; i < js_urls.length; i++) {\n      var url = js_urls[i];\n      if (skip.indexOf(url) >= 0) { on_load(); continue; }\n      var element = document.createElement('script');\n      element.onload = on_load;\n      element.onerror = on_error;\n      element.async = false;\n      element.src = url;\n      console.debug(\"Bokeh: injecting script tag for BokehJS library: \", url);\n      document.head.appendChild(element);\n    }\n    for (var i = 0; i < js_modules.length; i++) {\n      var url = js_modules[i];\n      if (skip.indexOf(url) >= 0) { on_load(); continue; }\n      var element = document.createElement('script');\n      element.onload = on_load;\n      element.onerror = on_error;\n      element.async = false;\n      element.src = url;\n      element.type = \"module\";\n      console.debug(\"Bokeh: injecting script tag for BokehJS library: \", url);\n      document.head.appendChild(element);\n    }\n    if (!js_urls.length && !js_modules.length) {\n      on_load()\n    }\n  };\n\n  function inject_raw_css(css) {\n    const element = document.createElement(\"style\");\n    element.appendChild(document.createTextNode(css));\n    document.body.appendChild(element);\n  }\n\n  var js_urls = [\"https://code.jquery.com/jquery-3.4.1.min.js\", \"https://cdn.plot.ly/plotly-latest.min.js\", \"https://unpkg.com/tabulator-tables@4.9.3/dist/js/tabulator.js\", \"https://unpkg.com/moment@2.27.0/moment.js\", \"https://cdn.bokeh.org/bokeh/release/bokeh-2.3.1.min.js\", \"https://cdn.bokeh.org/bokeh/release/bokeh-widgets-2.3.1.min.js\", \"https://cdn.bokeh.org/bokeh/release/bokeh-tables-2.3.1.min.js\", \"https://cdn.jsdelivr.net/npm/clipboard@2/dist/clipboard.min.js\", \"https://unpkg.com/@holoviz/panel@^0.11.3/dist/panel.min.js\"];\n  var js_modules = [];\n  var css_urls = [\"https://unpkg.com/tabulator-tables@4.9.3/dist/css/tabulator_simple.min.css\", \"https://unpkg.com/@holoviz/panel@0.11.3/dist/css/alerts.css\", \"https://unpkg.com/@holoviz/panel@0.11.3/dist/css/card.css\", \"https://unpkg.com/@holoviz/panel@0.11.3/dist/css/widgets.css\", \"https://unpkg.com/@holoviz/panel@0.11.3/dist/css/markdown.css\", \"https://unpkg.com/@holoviz/panel@0.11.3/dist/css/json.css\", \"https://unpkg.com/@holoviz/panel@0.11.3/dist/css/loading.css\", \"https://unpkg.com/@holoviz/panel@0.11.3/dist/css/dataframe.css\"];\n  var inline_js = [\n    function(Bokeh) {\n      inject_raw_css(\"\\n    .bk.pn-loading.arcs:before {\\n      background-image: url(\\\"data:image/svg+xml;base64,PHN2ZyB4bWxucz0iaHR0cDovL3d3dy53My5vcmcvMjAwMC9zdmciIHhtbG5zOnhsaW5rPSJodHRwOi8vd3d3LnczLm9yZy8xOTk5L3hsaW5rIiBzdHlsZT0ibWFyZ2luOiBhdXRvOyBiYWNrZ3JvdW5kOiBub25lOyBkaXNwbGF5OiBibG9jazsgc2hhcGUtcmVuZGVyaW5nOiBhdXRvOyIgdmlld0JveD0iMCAwIDEwMCAxMDAiIHByZXNlcnZlQXNwZWN0UmF0aW89InhNaWRZTWlkIj4gIDxjaXJjbGUgY3g9IjUwIiBjeT0iNTAiIHI9IjMyIiBzdHJva2Utd2lkdGg9IjgiIHN0cm9rZT0iI2MzYzNjMyIgc3Ryb2tlLWRhc2hhcnJheT0iNTAuMjY1NDgyNDU3NDM2NjkgNTAuMjY1NDgyNDU3NDM2NjkiIGZpbGw9Im5vbmUiIHN0cm9rZS1saW5lY2FwPSJyb3VuZCI+ICAgIDxhbmltYXRlVHJhbnNmb3JtIGF0dHJpYnV0ZU5hbWU9InRyYW5zZm9ybSIgdHlwZT0icm90YXRlIiByZXBlYXRDb3VudD0iaW5kZWZpbml0ZSIgZHVyPSIxcyIga2V5VGltZXM9IjA7MSIgdmFsdWVzPSIwIDUwIDUwOzM2MCA1MCA1MCI+PC9hbmltYXRlVHJhbnNmb3JtPiAgPC9jaXJjbGU+PC9zdmc+\\\")\\n    }\\n    \");\n    },\n    function(Bokeh) {\n      Bokeh.set_log_level(\"info\");\n    },\n    function(Bokeh) {} // ensure no trailing comma for IE\n  ];\n\n  function run_inline_js() {\n    if ((root.Bokeh !== undefined) || (force === true)) {\n      for (var i = 0; i < inline_js.length; i++) {\n        inline_js[i].call(root, root.Bokeh);\n      }} else if (Date.now() < root._bokeh_timeout) {\n      setTimeout(run_inline_js, 100);\n    } else if (!root._bokeh_failed_load) {\n      console.log(\"Bokeh: BokehJS failed to load within specified timeout.\");\n      root._bokeh_failed_load = true;\n    }\n  }\n\n  if (root._bokeh_is_loading === 0) {\n    console.debug(\"Bokeh: BokehJS loaded, going straight to plotting\");\n    run_inline_js();\n  } else {\n    load_libs(css_urls, js_urls, js_modules, function() {\n      console.debug(\"Bokeh: BokehJS plotting callback run at\", now());\n      run_inline_js();\n    });\n  }\n}(window));"
     },
     "metadata": {},
     "output_type": "display_data"
    },
    {
     "data": {
      "application/javascript": [
       "\n",
       "if ((window.PyViz === undefined) || (window.PyViz instanceof HTMLElement)) {\n",
       "  window.PyViz = {comms: {}, comm_status:{}, kernels:{}, receivers: {}, plot_index: []}\n",
       "}\n",
       "\n",
       "\n",
       "    function JupyterCommManager() {\n",
       "    }\n",
       "\n",
       "    JupyterCommManager.prototype.register_target = function(plot_id, comm_id, msg_handler) {\n",
       "      if (window.comm_manager || ((window.Jupyter !== undefined) && (Jupyter.notebook.kernel != null))) {\n",
       "        var comm_manager = window.comm_manager || Jupyter.notebook.kernel.comm_manager;\n",
       "        comm_manager.register_target(comm_id, function(comm) {\n",
       "          comm.on_msg(msg_handler);\n",
       "        });\n",
       "      } else if ((plot_id in window.PyViz.kernels) && (window.PyViz.kernels[plot_id])) {\n",
       "        window.PyViz.kernels[plot_id].registerCommTarget(comm_id, function(comm) {\n",
       "          comm.onMsg = msg_handler;\n",
       "        });\n",
       "      } else if (typeof google != 'undefined' && google.colab.kernel != null) {\n",
       "        google.colab.kernel.comms.registerTarget(comm_id, (comm) => {\n",
       "          var messages = comm.messages[Symbol.asyncIterator]();\n",
       "          function processIteratorResult(result) {\n",
       "            var message = result.value;\n",
       "            console.log(message)\n",
       "            var content = {data: message.data, comm_id};\n",
       "            var buffers = []\n",
       "            for (var buffer of message.buffers || []) {\n",
       "              buffers.push(new DataView(buffer))\n",
       "            }\n",
       "            var metadata = message.metadata || {};\n",
       "            var msg = {content, buffers, metadata}\n",
       "            msg_handler(msg);\n",
       "            return messages.next().then(processIteratorResult);\n",
       "          }\n",
       "          return messages.next().then(processIteratorResult);\n",
       "        })\n",
       "      }\n",
       "    }\n",
       "\n",
       "    JupyterCommManager.prototype.get_client_comm = function(plot_id, comm_id, msg_handler) {\n",
       "      if (comm_id in window.PyViz.comms) {\n",
       "        return window.PyViz.comms[comm_id];\n",
       "      } else if (window.comm_manager || ((window.Jupyter !== undefined) && (Jupyter.notebook.kernel != null))) {\n",
       "        var comm_manager = window.comm_manager || Jupyter.notebook.kernel.comm_manager;\n",
       "        var comm = comm_manager.new_comm(comm_id, {}, {}, {}, comm_id);\n",
       "        if (msg_handler) {\n",
       "          comm.on_msg(msg_handler);\n",
       "        }\n",
       "      } else if ((plot_id in window.PyViz.kernels) && (window.PyViz.kernels[plot_id])) {\n",
       "        var comm = window.PyViz.kernels[plot_id].connectToComm(comm_id);\n",
       "        comm.open();\n",
       "        if (msg_handler) {\n",
       "          comm.onMsg = msg_handler;\n",
       "        }\n",
       "      } else if (typeof google != 'undefined' && google.colab.kernel != null) {\n",
       "        var comm_promise = google.colab.kernel.comms.open(comm_id)\n",
       "        comm_promise.then((comm) => {\n",
       "          window.PyViz.comms[comm_id] = comm;\n",
       "          if (msg_handler) {\n",
       "            var messages = comm.messages[Symbol.asyncIterator]();\n",
       "            function processIteratorResult(result) {\n",
       "              var message = result.value;\n",
       "              var content = {data: message.data};\n",
       "              var metadata = message.metadata || {comm_id};\n",
       "              var msg = {content, metadata}\n",
       "              msg_handler(msg);\n",
       "              return messages.next().then(processIteratorResult);\n",
       "            }\n",
       "            return messages.next().then(processIteratorResult);\n",
       "          }\n",
       "        }) \n",
       "        var sendClosure = (data, metadata, buffers, disposeOnDone) => {\n",
       "          return comm_promise.then((comm) => {\n",
       "            comm.send(data, metadata, buffers, disposeOnDone);\n",
       "          });\n",
       "        };\n",
       "        var comm = {\n",
       "          send: sendClosure\n",
       "        };\n",
       "      }\n",
       "      window.PyViz.comms[comm_id] = comm;\n",
       "      return comm;\n",
       "    }\n",
       "    window.PyViz.comm_manager = new JupyterCommManager();\n",
       "    \n",
       "\n",
       "\n",
       "var JS_MIME_TYPE = 'application/javascript';\n",
       "var HTML_MIME_TYPE = 'text/html';\n",
       "var EXEC_MIME_TYPE = 'application/vnd.holoviews_exec.v0+json';\n",
       "var CLASS_NAME = 'output';\n",
       "\n",
       "/**\n",
       " * Render data to the DOM node\n",
       " */\n",
       "function render(props, node) {\n",
       "  var div = document.createElement(\"div\");\n",
       "  var script = document.createElement(\"script\");\n",
       "  node.appendChild(div);\n",
       "  node.appendChild(script);\n",
       "}\n",
       "\n",
       "/**\n",
       " * Handle when a new output is added\n",
       " */\n",
       "function handle_add_output(event, handle) {\n",
       "  var output_area = handle.output_area;\n",
       "  var output = handle.output;\n",
       "  if ((output.data == undefined) || (!output.data.hasOwnProperty(EXEC_MIME_TYPE))) {\n",
       "    return\n",
       "  }\n",
       "  var id = output.metadata[EXEC_MIME_TYPE][\"id\"];\n",
       "  var toinsert = output_area.element.find(\".\" + CLASS_NAME.split(' ')[0]);\n",
       "  if (id !== undefined) {\n",
       "    var nchildren = toinsert.length;\n",
       "    var html_node = toinsert[nchildren-1].children[0];\n",
       "    html_node.innerHTML = output.data[HTML_MIME_TYPE];\n",
       "    var scripts = [];\n",
       "    var nodelist = html_node.querySelectorAll(\"script\");\n",
       "    for (var i in nodelist) {\n",
       "      if (nodelist.hasOwnProperty(i)) {\n",
       "        scripts.push(nodelist[i])\n",
       "      }\n",
       "    }\n",
       "\n",
       "    scripts.forEach( function (oldScript) {\n",
       "      var newScript = document.createElement(\"script\");\n",
       "      var attrs = [];\n",
       "      var nodemap = oldScript.attributes;\n",
       "      for (var j in nodemap) {\n",
       "        if (nodemap.hasOwnProperty(j)) {\n",
       "          attrs.push(nodemap[j])\n",
       "        }\n",
       "      }\n",
       "      attrs.forEach(function(attr) { newScript.setAttribute(attr.name, attr.value) });\n",
       "      newScript.appendChild(document.createTextNode(oldScript.innerHTML));\n",
       "      oldScript.parentNode.replaceChild(newScript, oldScript);\n",
       "    });\n",
       "    if (JS_MIME_TYPE in output.data) {\n",
       "      toinsert[nchildren-1].children[1].textContent = output.data[JS_MIME_TYPE];\n",
       "    }\n",
       "    output_area._hv_plot_id = id;\n",
       "    if ((window.Bokeh !== undefined) && (id in Bokeh.index)) {\n",
       "      window.PyViz.plot_index[id] = Bokeh.index[id];\n",
       "    } else {\n",
       "      window.PyViz.plot_index[id] = null;\n",
       "    }\n",
       "  } else if (output.metadata[EXEC_MIME_TYPE][\"server_id\"] !== undefined) {\n",
       "    var bk_div = document.createElement(\"div\");\n",
       "    bk_div.innerHTML = output.data[HTML_MIME_TYPE];\n",
       "    var script_attrs = bk_div.children[0].attributes;\n",
       "    for (var i = 0; i < script_attrs.length; i++) {\n",
       "      toinsert[toinsert.length - 1].childNodes[1].setAttribute(script_attrs[i].name, script_attrs[i].value);\n",
       "    }\n",
       "    // store reference to server id on output_area\n",
       "    output_area._bokeh_server_id = output.metadata[EXEC_MIME_TYPE][\"server_id\"];\n",
       "  }\n",
       "}\n",
       "\n",
       "/**\n",
       " * Handle when an output is cleared or removed\n",
       " */\n",
       "function handle_clear_output(event, handle) {\n",
       "  var id = handle.cell.output_area._hv_plot_id;\n",
       "  var server_id = handle.cell.output_area._bokeh_server_id;\n",
       "  if (((id === undefined) || !(id in PyViz.plot_index)) && (server_id !== undefined)) { return; }\n",
       "  var comm = window.PyViz.comm_manager.get_client_comm(\"hv-extension-comm\", \"hv-extension-comm\", function () {});\n",
       "  if (server_id !== null) {\n",
       "    comm.send({event_type: 'server_delete', 'id': server_id});\n",
       "    return;\n",
       "  } else if (comm !== null) {\n",
       "    comm.send({event_type: 'delete', 'id': id});\n",
       "  }\n",
       "  delete PyViz.plot_index[id];\n",
       "  if ((window.Bokeh !== undefined) & (id in window.Bokeh.index)) {\n",
       "    var doc = window.Bokeh.index[id].model.document\n",
       "    doc.clear();\n",
       "    const i = window.Bokeh.documents.indexOf(doc);\n",
       "    if (i > -1) {\n",
       "      window.Bokeh.documents.splice(i, 1);\n",
       "    }\n",
       "  }\n",
       "}\n",
       "\n",
       "/**\n",
       " * Handle kernel restart event\n",
       " */\n",
       "function handle_kernel_cleanup(event, handle) {\n",
       "  delete PyViz.comms[\"hv-extension-comm\"];\n",
       "  window.PyViz.plot_index = {}\n",
       "}\n",
       "\n",
       "/**\n",
       " * Handle update_display_data messages\n",
       " */\n",
       "function handle_update_output(event, handle) {\n",
       "  handle_clear_output(event, {cell: {output_area: handle.output_area}})\n",
       "  handle_add_output(event, handle)\n",
       "}\n",
       "\n",
       "function register_renderer(events, OutputArea) {\n",
       "  function append_mime(data, metadata, element) {\n",
       "    // create a DOM node to render to\n",
       "    var toinsert = this.create_output_subarea(\n",
       "    metadata,\n",
       "    CLASS_NAME,\n",
       "    EXEC_MIME_TYPE\n",
       "    );\n",
       "    this.keyboard_manager.register_events(toinsert);\n",
       "    // Render to node\n",
       "    var props = {data: data, metadata: metadata[EXEC_MIME_TYPE]};\n",
       "    render(props, toinsert[0]);\n",
       "    element.append(toinsert);\n",
       "    return toinsert\n",
       "  }\n",
       "\n",
       "  events.on('output_added.OutputArea', handle_add_output);\n",
       "  events.on('output_updated.OutputArea', handle_update_output);\n",
       "  events.on('clear_output.CodeCell', handle_clear_output);\n",
       "  events.on('delete.Cell', handle_clear_output);\n",
       "  events.on('kernel_ready.Kernel', handle_kernel_cleanup);\n",
       "\n",
       "  OutputArea.prototype.register_mime_type(EXEC_MIME_TYPE, append_mime, {\n",
       "    safe: true,\n",
       "    index: 0\n",
       "  });\n",
       "}\n",
       "\n",
       "if (window.Jupyter !== undefined) {\n",
       "  try {\n",
       "    var events = require('base/js/events');\n",
       "    var OutputArea = require('notebook/js/outputarea').OutputArea;\n",
       "    if (OutputArea.prototype.mime_types().indexOf(EXEC_MIME_TYPE) == -1) {\n",
       "      register_renderer(events, OutputArea);\n",
       "    }\n",
       "  } catch(err) {\n",
       "  }\n",
       "}\n"
      ],
      "application/vnd.holoviews_load.v0+json": "\nif ((window.PyViz === undefined) || (window.PyViz instanceof HTMLElement)) {\n  window.PyViz = {comms: {}, comm_status:{}, kernels:{}, receivers: {}, plot_index: []}\n}\n\n\n    function JupyterCommManager() {\n    }\n\n    JupyterCommManager.prototype.register_target = function(plot_id, comm_id, msg_handler) {\n      if (window.comm_manager || ((window.Jupyter !== undefined) && (Jupyter.notebook.kernel != null))) {\n        var comm_manager = window.comm_manager || Jupyter.notebook.kernel.comm_manager;\n        comm_manager.register_target(comm_id, function(comm) {\n          comm.on_msg(msg_handler);\n        });\n      } else if ((plot_id in window.PyViz.kernels) && (window.PyViz.kernels[plot_id])) {\n        window.PyViz.kernels[plot_id].registerCommTarget(comm_id, function(comm) {\n          comm.onMsg = msg_handler;\n        });\n      } else if (typeof google != 'undefined' && google.colab.kernel != null) {\n        google.colab.kernel.comms.registerTarget(comm_id, (comm) => {\n          var messages = comm.messages[Symbol.asyncIterator]();\n          function processIteratorResult(result) {\n            var message = result.value;\n            console.log(message)\n            var content = {data: message.data, comm_id};\n            var buffers = []\n            for (var buffer of message.buffers || []) {\n              buffers.push(new DataView(buffer))\n            }\n            var metadata = message.metadata || {};\n            var msg = {content, buffers, metadata}\n            msg_handler(msg);\n            return messages.next().then(processIteratorResult);\n          }\n          return messages.next().then(processIteratorResult);\n        })\n      }\n    }\n\n    JupyterCommManager.prototype.get_client_comm = function(plot_id, comm_id, msg_handler) {\n      if (comm_id in window.PyViz.comms) {\n        return window.PyViz.comms[comm_id];\n      } else if (window.comm_manager || ((window.Jupyter !== undefined) && (Jupyter.notebook.kernel != null))) {\n        var comm_manager = window.comm_manager || Jupyter.notebook.kernel.comm_manager;\n        var comm = comm_manager.new_comm(comm_id, {}, {}, {}, comm_id);\n        if (msg_handler) {\n          comm.on_msg(msg_handler);\n        }\n      } else if ((plot_id in window.PyViz.kernels) && (window.PyViz.kernels[plot_id])) {\n        var comm = window.PyViz.kernels[plot_id].connectToComm(comm_id);\n        comm.open();\n        if (msg_handler) {\n          comm.onMsg = msg_handler;\n        }\n      } else if (typeof google != 'undefined' && google.colab.kernel != null) {\n        var comm_promise = google.colab.kernel.comms.open(comm_id)\n        comm_promise.then((comm) => {\n          window.PyViz.comms[comm_id] = comm;\n          if (msg_handler) {\n            var messages = comm.messages[Symbol.asyncIterator]();\n            function processIteratorResult(result) {\n              var message = result.value;\n              var content = {data: message.data};\n              var metadata = message.metadata || {comm_id};\n              var msg = {content, metadata}\n              msg_handler(msg);\n              return messages.next().then(processIteratorResult);\n            }\n            return messages.next().then(processIteratorResult);\n          }\n        }) \n        var sendClosure = (data, metadata, buffers, disposeOnDone) => {\n          return comm_promise.then((comm) => {\n            comm.send(data, metadata, buffers, disposeOnDone);\n          });\n        };\n        var comm = {\n          send: sendClosure\n        };\n      }\n      window.PyViz.comms[comm_id] = comm;\n      return comm;\n    }\n    window.PyViz.comm_manager = new JupyterCommManager();\n    \n\n\nvar JS_MIME_TYPE = 'application/javascript';\nvar HTML_MIME_TYPE = 'text/html';\nvar EXEC_MIME_TYPE = 'application/vnd.holoviews_exec.v0+json';\nvar CLASS_NAME = 'output';\n\n/**\n * Render data to the DOM node\n */\nfunction render(props, node) {\n  var div = document.createElement(\"div\");\n  var script = document.createElement(\"script\");\n  node.appendChild(div);\n  node.appendChild(script);\n}\n\n/**\n * Handle when a new output is added\n */\nfunction handle_add_output(event, handle) {\n  var output_area = handle.output_area;\n  var output = handle.output;\n  if ((output.data == undefined) || (!output.data.hasOwnProperty(EXEC_MIME_TYPE))) {\n    return\n  }\n  var id = output.metadata[EXEC_MIME_TYPE][\"id\"];\n  var toinsert = output_area.element.find(\".\" + CLASS_NAME.split(' ')[0]);\n  if (id !== undefined) {\n    var nchildren = toinsert.length;\n    var html_node = toinsert[nchildren-1].children[0];\n    html_node.innerHTML = output.data[HTML_MIME_TYPE];\n    var scripts = [];\n    var nodelist = html_node.querySelectorAll(\"script\");\n    for (var i in nodelist) {\n      if (nodelist.hasOwnProperty(i)) {\n        scripts.push(nodelist[i])\n      }\n    }\n\n    scripts.forEach( function (oldScript) {\n      var newScript = document.createElement(\"script\");\n      var attrs = [];\n      var nodemap = oldScript.attributes;\n      for (var j in nodemap) {\n        if (nodemap.hasOwnProperty(j)) {\n          attrs.push(nodemap[j])\n        }\n      }\n      attrs.forEach(function(attr) { newScript.setAttribute(attr.name, attr.value) });\n      newScript.appendChild(document.createTextNode(oldScript.innerHTML));\n      oldScript.parentNode.replaceChild(newScript, oldScript);\n    });\n    if (JS_MIME_TYPE in output.data) {\n      toinsert[nchildren-1].children[1].textContent = output.data[JS_MIME_TYPE];\n    }\n    output_area._hv_plot_id = id;\n    if ((window.Bokeh !== undefined) && (id in Bokeh.index)) {\n      window.PyViz.plot_index[id] = Bokeh.index[id];\n    } else {\n      window.PyViz.plot_index[id] = null;\n    }\n  } else if (output.metadata[EXEC_MIME_TYPE][\"server_id\"] !== undefined) {\n    var bk_div = document.createElement(\"div\");\n    bk_div.innerHTML = output.data[HTML_MIME_TYPE];\n    var script_attrs = bk_div.children[0].attributes;\n    for (var i = 0; i < script_attrs.length; i++) {\n      toinsert[toinsert.length - 1].childNodes[1].setAttribute(script_attrs[i].name, script_attrs[i].value);\n    }\n    // store reference to server id on output_area\n    output_area._bokeh_server_id = output.metadata[EXEC_MIME_TYPE][\"server_id\"];\n  }\n}\n\n/**\n * Handle when an output is cleared or removed\n */\nfunction handle_clear_output(event, handle) {\n  var id = handle.cell.output_area._hv_plot_id;\n  var server_id = handle.cell.output_area._bokeh_server_id;\n  if (((id === undefined) || !(id in PyViz.plot_index)) && (server_id !== undefined)) { return; }\n  var comm = window.PyViz.comm_manager.get_client_comm(\"hv-extension-comm\", \"hv-extension-comm\", function () {});\n  if (server_id !== null) {\n    comm.send({event_type: 'server_delete', 'id': server_id});\n    return;\n  } else if (comm !== null) {\n    comm.send({event_type: 'delete', 'id': id});\n  }\n  delete PyViz.plot_index[id];\n  if ((window.Bokeh !== undefined) & (id in window.Bokeh.index)) {\n    var doc = window.Bokeh.index[id].model.document\n    doc.clear();\n    const i = window.Bokeh.documents.indexOf(doc);\n    if (i > -1) {\n      window.Bokeh.documents.splice(i, 1);\n    }\n  }\n}\n\n/**\n * Handle kernel restart event\n */\nfunction handle_kernel_cleanup(event, handle) {\n  delete PyViz.comms[\"hv-extension-comm\"];\n  window.PyViz.plot_index = {}\n}\n\n/**\n * Handle update_display_data messages\n */\nfunction handle_update_output(event, handle) {\n  handle_clear_output(event, {cell: {output_area: handle.output_area}})\n  handle_add_output(event, handle)\n}\n\nfunction register_renderer(events, OutputArea) {\n  function append_mime(data, metadata, element) {\n    // create a DOM node to render to\n    var toinsert = this.create_output_subarea(\n    metadata,\n    CLASS_NAME,\n    EXEC_MIME_TYPE\n    );\n    this.keyboard_manager.register_events(toinsert);\n    // Render to node\n    var props = {data: data, metadata: metadata[EXEC_MIME_TYPE]};\n    render(props, toinsert[0]);\n    element.append(toinsert);\n    return toinsert\n  }\n\n  events.on('output_added.OutputArea', handle_add_output);\n  events.on('output_updated.OutputArea', handle_update_output);\n  events.on('clear_output.CodeCell', handle_clear_output);\n  events.on('delete.Cell', handle_clear_output);\n  events.on('kernel_ready.Kernel', handle_kernel_cleanup);\n\n  OutputArea.prototype.register_mime_type(EXEC_MIME_TYPE, append_mime, {\n    safe: true,\n    index: 0\n  });\n}\n\nif (window.Jupyter !== undefined) {\n  try {\n    var events = require('base/js/events');\n    var OutputArea = require('notebook/js/outputarea').OutputArea;\n    if (OutputArea.prototype.mime_types().indexOf(EXEC_MIME_TYPE) == -1) {\n      register_renderer(events, OutputArea);\n    }\n  } catch(err) {\n  }\n}\n"
     },
     "metadata": {},
     "output_type": "display_data"
    },
    {
     "data": {},
     "metadata": {},
     "output_type": "display_data"
    },
    {
     "data": {
      "application/vnd.holoviews_exec.v0+json": "",
      "text/html": [
       "<div id='1957'>\n",
       "\n",
       "\n",
       "\n",
       "\n",
       "\n",
       "  <div class=\"bk-root\" id=\"f387242c-77b0-4491-9bb7-811b61db4583\" data-root-id=\"1957\"></div>\n",
       "</div>\n",
       "<script type=\"application/javascript\">(function(root) {\n",
       "  function embed_document(root) {\n",
       "    var docs_json = {\"aef2e5b6-82ec-4a3e-98e7-53cad1b042a2\":{\"defs\":[],\"roots\":{\"references\":[{\"attributes\":{\"children\":[{\"id\":\"1964\"},{\"id\":\"1965\"},{\"id\":\"1966\"}],\"margin\":[0,0,0,0],\"name\":\"Column00813\"},\"id\":\"1963\",\"type\":\"Column\"},{\"attributes\":{\"button_type\":\"primary\",\"icon\":null,\"label\":\"View structure\",\"margin\":[5,10,5,10],\"subscribed_events\":[\"button_click\"]},\"id\":\"1985\",\"type\":\"Button\"},{\"attributes\":{\"editor\":{\"id\":\"2055\"},\"field\":\"Degrees\",\"formatter\":{\"id\":\"2054\"},\"title\":\"Degrees\",\"width\":0},\"id\":\"2056\",\"type\":\"TableColumn\"},{\"attributes\":{},\"id\":\"2082\",\"type\":\"NumberFormatter\"},{\"attributes\":{\"children\":[{\"id\":\"1968\"},{\"id\":\"1969\"}],\"margin\":[0,0,0,0],\"name\":\"Column00814\"},\"id\":\"1967\",\"type\":\"Column\"},{\"attributes\":{\"children\":[{\"id\":\"2072\"}],\"css_classes\":[\"card-header-row\"],\"margin\":[0,0,0,0],\"name\":\"Row00880\",\"sizing_mode\":\"stretch_width\"},\"id\":\"2071\",\"type\":\"Row\"},{\"attributes\":{\"css_classes\":[\"markdown\"],\"margin\":[5,5,5,5],\"name\":\"Markdown00097\",\"text\":\"&lt;p&gt;Please &lt;strong&gt;refresh&lt;/strong&gt; the page using the refresh button of the browser if plotly figures are not shown.&lt;/p&gt;\"},\"id\":\"1977\",\"type\":\"panel.models.markup.HTML\"},{\"attributes\":{\"children\":[{\"id\":\"1987\"},{\"id\":\"1988\"}],\"margin\":[0,0,0,0],\"name\":\"Column00828\"},\"id\":\"1986\",\"type\":\"Column\"},{\"attributes\":{},\"id\":\"2087\",\"type\":\"StringFormatter\"},{\"attributes\":{\"css_classes\":[\"card-title\"],\"margin\":[2,5,2,5],\"name\":\"HTML00874\",\"sizing_mode\":\"stretch_width\",\"text\":\"Help\"},\"id\":\"1991\",\"type\":\"panel.models.markup.HTML\"},{\"attributes\":{\"editor\":{\"id\":\"2010\"},\"field\":\"0\",\"formatter\":{\"id\":\"2009\"},\"title\":\"0\",\"width\":0},\"id\":\"2011\",\"type\":\"TableColumn\"},{\"attributes\":{\"margin\":[5,5,5,5],\"name\":\"Divider00832\",\"style\":{\"height\":\"100%\",\"width\":\"100%\"},\"text\":\"<hr style=\\\"margin: 0px\\\">\",\"width_policy\":\"fit\"},\"id\":\"1987\",\"type\":\"Div\"},{\"attributes\":{\"css_classes\":[\"card-title\"],\"margin\":[2,5,2,5],\"name\":\"HTML00882\",\"sizing_mode\":\"stretch_width\",\"text\":\"Coordinates of Si sites:\"},\"id\":\"2072\",\"type\":\"panel.models.markup.HTML\"},{\"attributes\":{\"css_classes\":[\"card-title\"],\"margin\":[2,5,2,5],\"name\":\"HTML00866\",\"sizing_mode\":\"stretch_width\",\"text\":\"Help\"},\"id\":\"1972\",\"type\":\"panel.models.markup.HTML\"},{\"attributes\":{\"margin\":[5,10,5,10],\"options\":[\"jsmol\",\"vesta\",\"xcrysden\",\"vtk\",\"crystalk\",\"ngl\",\"matplotlib\",\"ase_atoms\",\"mayavi\"],\"title\":\"Select viewer\",\"value\":\"vesta\"},\"id\":\"1984\",\"type\":\"Select\"},{\"attributes\":{\"labels\":[\"show gaps\"],\"margin\":[5,10,5,10]},\"id\":\"1964\",\"type\":\"CheckboxGroup\"},{\"attributes\":{\"active_header_background\":\"#ccc\",\"button_css_classes\":[\"card-button\"],\"children\":[{\"id\":\"1975\"},{\"id\":\"1977\"}],\"css_classes\":[\"accordion\"],\"header_background\":\"\",\"header_color\":\"\",\"header_css_classes\":[\"accordion-header\"],\"margin\":[0,5,5,5],\"name\":\"Card00869\"},\"id\":\"1974\",\"type\":\"panel.models.layout.Card\"},{\"attributes\":{\"format\":\"0,0.0[00000]\"},\"id\":\"2059\",\"type\":\"NumberFormatter\"},{\"attributes\":{\"children\":[{\"id\":\"2092\"},{\"id\":\"2096\"}],\"margin\":[0,0,0,0],\"name\":\"Column00854\",\"sizing_mode\":\"stretch_width\"},\"id\":\"2073\",\"type\":\"Column\"},{\"attributes\":{},\"id\":\"2060\",\"type\":\"NumberEditor\"},{\"attributes\":{},\"id\":\"2088\",\"type\":\"StringEditor\"},{\"attributes\":{\"active_header_background\":\"#ccc\",\"button_css_classes\":[\"card-button\"],\"children\":[{\"id\":\"2071\"},{\"id\":\"2073\"}],\"css_classes\":[\"accordion\"],\"header_background\":\"\",\"header_color\":\"\",\"header_css_classes\":[\"accordion-header\"],\"margin\":[5,5,0,5],\"name\":\"Card00881\",\"sizing_mode\":\"stretch_width\"},\"id\":\"2070\",\"type\":\"panel.models.layout.Card\"},{\"attributes\":{\"editor\":{\"id\":\"2060\"},\"field\":\"Radians\",\"formatter\":{\"id\":\"2059\"},\"title\":\"Radians\",\"width\":0},\"id\":\"2061\",\"type\":\"TableColumn\"},{\"attributes\":{},\"id\":\"2083\",\"type\":\"IntEditor\"},{\"attributes\":{\"labels\":[\"Set Fermie to VBM\"],\"margin\":[5,10,5,10]},\"id\":\"1965\",\"type\":\"CheckboxGroup\"},{\"attributes\":{\"source\":{\"id\":\"2046\"}},\"id\":\"2066\",\"type\":\"CDSView\"},{\"attributes\":{\"children\":[{\"id\":\"2039\"},{\"id\":\"2043\"}],\"margin\":[0,0,0,0],\"name\":\"Column00843\",\"sizing_mode\":\"stretch_width\"},\"id\":\"2020\",\"type\":\"Column\"},{\"attributes\":{\"css_classes\":[\"markdown\"],\"margin\":[5,5,5,5],\"name\":\"MyMarkdown00850\",\"text\":\"&lt;h1&gt;Lattice angles:&lt;/h1&gt;\"},\"id\":\"2044\",\"type\":\"panel.models.markup.HTML\"},{\"attributes\":{},\"id\":\"2078\",\"type\":\"CellEditor\"},{\"attributes\":{\"css_classes\":[\"markdown\"],\"margin\":[5,5,5,5],\"name\":\"MyMarkdown00833\",\"text\":\"&lt;h1&gt;Visualize structure&lt;/h1&gt;\"},\"id\":\"1983\",\"type\":\"panel.models.markup.HTML\"},{\"attributes\":{\"active_header_background\":\"#ccc\",\"button_css_classes\":[\"card-button\"],\"children\":[{\"id\":\"1990\"},{\"id\":\"1992\"}],\"css_classes\":[\"accordion\"],\"header_background\":\"\",\"header_color\":\"\",\"header_css_classes\":[\"accordion-header\"],\"margin\":[5,5,0,5],\"name\":\"Card00873\"},\"id\":\"1989\",\"type\":\"panel.models.layout.Card\"},{\"attributes\":{\"active_header_background\":\"#ccc\",\"button_css_classes\":[\"card-button\"],\"children\":[{\"id\":\"1971\"},{\"id\":\"1973\"}],\"css_classes\":[\"accordion\"],\"header_background\":\"\",\"header_color\":\"\",\"header_css_classes\":[\"accordion-header\"],\"margin\":[5,5,0,5],\"name\":\"Card00865\"},\"id\":\"1970\",\"type\":\"panel.models.layout.Card\"},{\"attributes\":{\"button_type\":\"primary\",\"icon\":null,\"label\":\"Plot e-bands\",\"margin\":[5,10,5,10],\"subscribed_events\":[\"button_click\"]},\"id\":\"1966\",\"type\":\"Button\"},{\"attributes\":{\"source\":{\"id\":\"2001\"}},\"id\":\"2016\",\"type\":\"CDSView\"},{\"attributes\":{\"data\":{\"Bohr\":{\"__ndarray__\":\"xOP/ZZDvDkCKDgBmkO8OQL1M/2WQ7w5A\",\"dtype\":\"float64\",\"order\":\"little\",\"shape\":[3]},\"Lattice lenghts\":[\"a\",\"b\",\"c\"],\"\\u212b\":{\"__ndarray__\":\"QZj3UOc6HUCrwPdQ5zodQI4J91DnOh1A\",\"dtype\":\"float64\",\"order\":\"little\",\"shape\":[3]}},\"selected\":{\"id\":\"2022\"},\"selection_policy\":{\"id\":\"2102\"}},\"id\":\"2021\",\"type\":\"ColumnDataSource\"},{\"attributes\":{\"margin\":[5,5,5,5],\"name\":\"Divider00849\",\"style\":{\"height\":\"100%\",\"width\":\"100%\"},\"text\":\"<hr style=\\\"margin: 0px\\\">\",\"width_policy\":\"fit\"},\"id\":\"2068\",\"type\":\"Div\"},{\"attributes\":{},\"id\":\"2106\",\"type\":\"UnionRenderers\"},{\"attributes\":{\"indices\":[]},\"id\":\"2022\",\"type\":\"Selection\"},{\"attributes\":{\"css_classes\":[\"card-title\"],\"margin\":[2,5,2,5],\"name\":\"HTML00870\",\"sizing_mode\":\"stretch_width\",\"text\":\"Warning\"},\"id\":\"1976\",\"type\":\"panel.models.markup.HTML\"},{\"attributes\":{},\"id\":\"2076\",\"type\":\"NumberFormatter\"},{\"attributes\":{\"active_header_background\":\"#ccc\",\"button_css_classes\":[\"card-button\"],\"children\":[{\"id\":\"1994\"},{\"id\":\"1996\"}],\"css_classes\":[\"accordion\"],\"header_background\":\"\",\"header_color\":\"\",\"header_css_classes\":[\"accordion-header\"],\"margin\":[0,5,5,5],\"name\":\"Card00877\"},\"id\":\"1993\",\"type\":\"panel.models.layout.Card\"},{\"attributes\":{\"children\":[{\"id\":\"1989\"},{\"id\":\"1993\"}],\"margin\":[0,0,0,0],\"name\":\"Accordion00831\"},\"id\":\"1988\",\"type\":\"Column\"},{\"attributes\":{\"indices\":[]},\"id\":\"2075\",\"type\":\"Selection\"},{\"attributes\":{\"margin\":[5,5,5,5],\"name\":\"Str00824\"},\"id\":\"1979\",\"type\":\"panel.models.markup.HTML\"},{\"attributes\":{},\"id\":\"2023\",\"type\":\"StringFormatter\"},{\"attributes\":{\"children\":[{\"id\":\"1995\"}],\"css_classes\":[\"card-header-row\"],\"margin\":[0,0,0,0],\"name\":\"Row00876\",\"sizing_mode\":\"stretch_width\"},\"id\":\"1994\",\"type\":\"Row\"},{\"attributes\":{\"editor\":{\"id\":\"2025\"},\"field\":\"Lattice lenghts\",\"formatter\":{\"id\":\"2023\"},\"title\":\"Lattice lenghts\",\"width\":0},\"id\":\"2026\",\"type\":\"TableColumn\"},{\"attributes\":{\"css_classes\":[\"markdown\"],\"margin\":[5,5,5,5],\"name\":\"Markdown00097\",\"text\":\"&lt;p&gt;Please &lt;strong&gt;refresh&lt;/strong&gt; the page using the refresh button of the browser if plotly figures are not shown.&lt;/p&gt;\"},\"id\":\"1996\",\"type\":\"panel.models.markup.HTML\"},{\"attributes\":{\"children\":[{\"id\":\"1999\"},{\"id\":\"2000\"},{\"id\":\"2019\"},{\"id\":\"2020\"},{\"id\":\"2044\"},{\"id\":\"2045\"},{\"id\":\"2069\"}],\"margin\":[0,0,0,0],\"name\":\"Column00836\",\"sizing_mode\":\"stretch_width\"},\"id\":\"1998\",\"type\":\"Column\"},{\"attributes\":{},\"id\":\"2005\",\"type\":\"CellEditor\"},{\"attributes\":{},\"id\":\"2102\",\"type\":\"UnionRenderers\"},{\"attributes\":{},\"id\":\"2025\",\"type\":\"CellEditor\"},{\"attributes\":{\"sizing_mode\":\"scale_both\",\"text\":\"================================= File Info =================================\\nName: si_nscf_GSR.nc\\nDirectory: /Users/gmatteo/git_repos/abipy_abidev2021\\nSize: 12.31 kb\\nAccess Time: Fri May  7 23:26:57 2021\\nModification Time: Fri May  7 23:25:37 2021\\nChange Time: Fri May  7 23:25:37 2021\\n\\n================================= Structure =================================\\nFull Formula (Si2)\\nReduced Formula: Si\\nabc   :   3.866975   3.866975   3.866975\\nangles:  60.000000  60.000000  60.000000\\nSites (2)\\n  #  SP       a     b     c  cartesian_forces\\n---  ----  ----  ----  ----  -----------------------------------------------------------\\n  0  Si    0     0     0     [5.14220675e+101 5.14220675e+101 5.14220675e+101] eV ang^-1\\n  1  Si    0.25  0.25  0.25  [5.14220675e+101 5.14220675e+101 5.14220675e+101] eV ang^-1\\n\\nAbinit Spacegroup: spgid: 227, num_spatial_symmetries: 48, has_timerev: True, symmorphic: True\\n\\nStress tensor (Cartesian coordinates in GPa):\\n[[2.94210108e+104 2.94210108e+104 2.94210108e+104]\\n [2.94210108e+104 2.94210108e+104 2.94210108e+104]\\n [2.94210108e+104 2.94210108e+104 2.94210108e+104]]\\n\\nPressure: -294210108029007021798593732450854339797442512732257107491275409743734121486157862082944796572910801125376.000 (GPa)\\nEnergy: -241.23647031 (eV)\\n\\n============================== Electronic Bands ==============================\\nNumber of electrons: 8.0, Fermi level: 5.598 (eV)\\nnsppol: 1, nkpt: 14, mband: 8, nspinor: 1, nspden: 1\\nsmearing scheme: none (occopt 1), tsmear_eV: 0.272\\nDirect gap:\\n    Energy: 2.532 (eV)\\n    Initial state: spin: 0, kpt: [+0.000, +0.000, +0.000], name: $\\\\Gamma$, weight: 0.000, band: 3, eig: 5.598, occ: 2.000\\n    Final state:   spin: 0, kpt: [+0.000, +0.000, +0.000], name: $\\\\Gamma$, weight: 0.000, band: 4, eig: 8.130, occ: 0.000\\nFundamental gap:\\n    Energy: 0.524 (eV)\\n    Initial state: spin: 0, kpt: [+0.000, +0.000, +0.000], name: $\\\\Gamma$, weight: 0.000, band: 3, eig: 5.598, occ: 2.000\\n    Final state:   spin: 0, kpt: [+0.000, +0.429, +0.429], weight: 0.000, band: 4, eig: 6.123, occ: 0.000\\nBandwidth: 11.856 (eV)\\nValence maximum located at:\\n    spin: 0, kpt: [+0.000, +0.000, +0.000], name: $\\\\Gamma$, weight: 0.000, band: 3, eig: 5.598, occ: 2.000\\nConduction minimum located at:\\n    spin: 0, kpt: [+0.000, +0.429, +0.429], weight: 0.000, band: 4, eig: 6.123, occ: 0.000\\n\\nTIP: Call set_fermie_to_vbm() to set the Fermi level to the VBM if this is a non-magnetic semiconductor\\n\"},\"id\":\"1956\",\"type\":\"PreText\"},{\"attributes\":{\"children\":[{\"id\":\"1970\"},{\"id\":\"1974\"}],\"margin\":[0,0,0,0],\"name\":\"Accordion00817\"},\"id\":\"1969\",\"type\":\"Column\"},{\"attributes\":{\"margin\":[5,5,5,5],\"name\":\"Str00858\"},\"id\":\"2098\",\"type\":\"panel.models.markup.HTML\"},{\"attributes\":{\"css_classes\":[\"markdown\"],\"margin\":[5,5,5,5],\"name\":\"Markdown00829\",\"text\":\"&lt;p&gt;Visualize input structure.&lt;/p&gt;\"},\"id\":\"1992\",\"type\":\"panel.models.markup.HTML\"},{\"attributes\":{\"child\":{\"id\":\"1981\"},\"name\":\"Row00862\",\"title\":\"Structure\"},\"id\":\"2099\",\"type\":\"Panel\"},{\"attributes\":{\"css_classes\":[\"markdown\"],\"margin\":[5,5,5,5],\"name\":\"MyMarkdown00840\",\"text\":\"&lt;h1&gt;Space group:&lt;/h1&gt;\"},\"id\":\"1999\",\"type\":\"panel.models.markup.HTML\"},{\"attributes\":{\"children\":[{\"id\":\"1972\"}],\"css_classes\":[\"card-header-row\"],\"margin\":[0,0,0,0],\"name\":\"Row00864\",\"sizing_mode\":\"stretch_width\"},\"id\":\"1971\",\"type\":\"Row\"},{\"attributes\":{\"format\":\"0,0.0[00000]\"},\"id\":\"2029\",\"type\":\"NumberFormatter\"},{\"attributes\":{\"editor\":{\"id\":\"2088\"},\"field\":\"frac_coords\",\"formatter\":{\"id\":\"2087\"},\"title\":\"frac_coords\",\"width\":0},\"id\":\"2089\",\"type\":\"TableColumn\"},{\"attributes\":{\"children\":[{\"id\":\"1982\"},{\"id\":\"1997\"}],\"margin\":[0,0,0,0],\"name\":\"Row00862\"},\"id\":\"1981\",\"type\":\"Row\"},{\"attributes\":{\"children\":[{\"id\":\"1991\"}],\"css_classes\":[\"card-header-row\"],\"margin\":[0,0,0,0],\"name\":\"Row00872\",\"sizing_mode\":\"stretch_width\"},\"id\":\"1990\",\"type\":\"Row\"},{\"attributes\":{},\"id\":\"2030\",\"type\":\"NumberEditor\"},{\"attributes\":{\"css_classes\":[\"markdown\"],\"margin\":[5,5,5,5],\"name\":\"MyMarkdown00845\",\"text\":\"&lt;h1&gt;Lattice lengths:&lt;/h1&gt;\"},\"id\":\"2019\",\"type\":\"panel.models.markup.HTML\"},{\"attributes\":{\"children\":[{\"id\":\"1983\"},{\"id\":\"1984\"},{\"id\":\"1985\"},{\"id\":\"1986\"}],\"margin\":[0,0,0,0],\"name\":\"Column00835\"},\"id\":\"1982\",\"type\":\"Column\"},{\"attributes\":{\"editor\":{\"id\":\"2030\"},\"field\":\"\\u212b\",\"formatter\":{\"id\":\"2029\"},\"title\":\"\\u212b\",\"width\":0},\"id\":\"2031\",\"type\":\"TableColumn\"},{\"attributes\":{\"children\":[{\"id\":\"2098\"}],\"margin\":[0,0,0,0],\"name\":\"Row00860\"},\"id\":\"2097\",\"type\":\"Row\"},{\"attributes\":{\"children\":[{\"id\":\"1998\"},{\"id\":\"2097\"}],\"margin\":[0,0,0,0],\"name\":\"Column00861\"},\"id\":\"1997\",\"type\":\"Column\"},{\"attributes\":{\"source\":{\"id\":\"2074\"}},\"id\":\"2094\",\"type\":\"CDSView\"},{\"attributes\":{\"children\":[{\"id\":\"1979\"}],\"margin\":[0,0,0,0],\"name\":\"Row00826\"},\"id\":\"1978\",\"type\":\"Row\"},{\"attributes\":{\"margin\":[5,5,5,5],\"name\":\"Divider00818\",\"style\":{\"height\":\"100%\",\"width\":\"100%\"},\"text\":\"<hr style=\\\"margin: 0px\\\">\",\"width_policy\":\"fit\"},\"id\":\"1968\",\"type\":\"Div\"},{\"attributes\":{\"margin\":[5,5,5,5],\"name\":\"Divider00839\",\"style\":{\"height\":\"100%\",\"width\":\"100%\"},\"text\":\"<hr style=\\\"margin: 0px\\\">\",\"width_policy\":\"fit\"},\"id\":\"2018\",\"type\":\"Div\"},{\"attributes\":{\"margin\":[5,5,5,5],\"name\":\"Divider00844\",\"style\":{\"height\":\"100%\",\"width\":\"100%\"},\"text\":\"<hr style=\\\"margin: 0px\\\">\",\"width_policy\":\"fit\"},\"id\":\"2043\",\"type\":\"Div\"},{\"attributes\":{},\"id\":\"2009\",\"type\":\"StringFormatter\"},{\"attributes\":{\"format\":\"0,0.0[00000]\"},\"id\":\"2034\",\"type\":\"NumberFormatter\"},{\"attributes\":{\"css_classes\":[\"markdown\"],\"margin\":[5,5,5,5],\"name\":\"Markdown00815\",\"text\":\"&lt;p&gt;Button triggering ebands plot.&lt;/p&gt;\"},\"id\":\"1973\",\"type\":\"panel.models.markup.HTML\"},{\"attributes\":{\"children\":[{\"id\":\"1976\"}],\"css_classes\":[\"card-header-row\"],\"margin\":[0,0,0,0],\"name\":\"Row00868\",\"sizing_mode\":\"stretch_width\"},\"id\":\"1975\",\"type\":\"Row\"},{\"attributes\":{},\"id\":\"2035\",\"type\":\"NumberEditor\"},{\"attributes\":{\"margin\":[5,5,5,5],\"name\":\"Divider00855\",\"style\":{\"height\":\"100%\",\"width\":\"100%\"},\"text\":\"<hr style=\\\"margin: 0px\\\">\",\"width_policy\":\"fit\"},\"id\":\"2096\",\"type\":\"Div\"},{\"attributes\":{\"editor\":{\"id\":\"2035\"},\"field\":\"Bohr\",\"formatter\":{\"id\":\"2034\"},\"title\":\"Bohr\",\"width\":0},\"id\":\"2036\",\"type\":\"TableColumn\"},{\"attributes\":{\"css_classes\":[\"card-title\"],\"margin\":[2,5,2,5],\"name\":\"HTML00878\",\"sizing_mode\":\"stretch_width\",\"text\":\"Warning\"},\"id\":\"1995\",\"type\":\"panel.models.markup.HTML\"},{\"attributes\":{\"children\":[{\"id\":\"1962\"},{\"id\":\"1963\"},{\"id\":\"1967\"}],\"margin\":[0,0,0,0],\"name\":\"Column00821\"},\"id\":\"1961\",\"type\":\"Column\"},{\"attributes\":{},\"id\":\"2104\",\"type\":\"UnionRenderers\"},{\"attributes\":{\"child\":{\"id\":\"1960\"},\"name\":\"Row00827\",\"title\":\"e-Bands\"},\"id\":\"1980\",\"type\":\"Panel\"},{\"attributes\":{\"data\":{\"frac_coords\":[[0.0,0.0,0.0],[0.25,0.25,0.25]],\"idx\":[0,1],\"index\":[0,1]},\"selected\":{\"id\":\"2075\"},\"selection_policy\":{\"id\":\"2106\"}},\"id\":\"2074\",\"type\":\"ColumnDataSource\"},{\"attributes\":{\"children\":[{\"id\":\"1961\"},{\"id\":\"1978\"}],\"margin\":[0,0,0,0],\"name\":\"Row00827\"},\"id\":\"1960\",\"type\":\"Row\"},{\"attributes\":{\"editor\":{\"id\":\"2083\"},\"field\":\"idx\",\"formatter\":{\"id\":\"2082\"},\"title\":\"idx\",\"width\":0},\"id\":\"2084\",\"type\":\"TableColumn\"},{\"attributes\":{\"columns\":[{\"id\":\"2079\"},{\"id\":\"2084\"},{\"id\":\"2089\"}],\"height\":110,\"index_position\":null,\"margin\":[5,10,5,10],\"name\":\"\",\"row_height\":40,\"sizing_mode\":\"stretch_width\",\"source\":{\"id\":\"2074\"},\"view\":{\"id\":\"2094\"}},\"id\":\"2092\",\"type\":\"DataTable\"},{\"attributes\":{\"source\":{\"id\":\"2021\"}},\"id\":\"2041\",\"type\":\"CDSView\"},{\"attributes\":{\"child\":{\"id\":\"1958\"},\"name\":\"Row00812\",\"title\":\"Summary\"},\"id\":\"1959\",\"type\":\"Panel\"},{\"attributes\":{},\"id\":\"2055\",\"type\":\"NumberEditor\"},{\"attributes\":{\"children\":[{\"id\":\"1956\"}],\"margin\":[0,0,0,0],\"name\":\"Row00812\"},\"id\":\"1958\",\"type\":\"Row\"},{\"attributes\":{\"children\":[{\"id\":\"2064\"},{\"id\":\"2068\"}],\"margin\":[0,0,0,0],\"name\":\"Column00848\",\"sizing_mode\":\"stretch_width\"},\"id\":\"2045\",\"type\":\"Column\"},{\"attributes\":{},\"id\":\"2100\",\"type\":\"UnionRenderers\"},{\"attributes\":{\"children\":[{\"id\":\"2070\"}],\"margin\":[0,0,0,0],\"name\":\"Accordion00852\",\"sizing_mode\":\"stretch_width\"},\"id\":\"2069\",\"type\":\"Column\"},{\"attributes\":{\"data\":{\"Degrees\":{\"__ndarray__\":\"n2cAAAAATkDBUAAAAABOQGPcAAAAAE5A\",\"dtype\":\"float64\",\"order\":\"little\",\"shape\":[3]},\"Lattice angles\":[\"alpha\",\"beta\",\"gamma\"],\"Radians\":{\"__ndarray__\":\"Ra0tOFLB8D9/oC04UsHwP3zuLThSwfA/\",\"dtype\":\"float64\",\"order\":\"little\",\"shape\":[3]}},\"selected\":{\"id\":\"2047\"},\"selection_policy\":{\"id\":\"2104\"}},\"id\":\"2046\",\"type\":\"ColumnDataSource\"},{\"attributes\":{\"margin\":[0,0,0,0],\"tabs\":[{\"id\":\"1959\"},{\"id\":\"1980\"},{\"id\":\"2099\"}]},\"id\":\"1957\",\"type\":\"Tabs\"},{\"attributes\":{\"indices\":[]},\"id\":\"2047\",\"type\":\"Selection\"},{\"attributes\":{\"children\":[{\"id\":\"2014\"},{\"id\":\"2018\"}],\"margin\":[0,0,0,0],\"name\":\"Column00838\",\"sizing_mode\":\"stretch_width\"},\"id\":\"2000\",\"type\":\"Column\"},{\"attributes\":{\"columns\":[{\"id\":\"2051\"},{\"id\":\"2056\"},{\"id\":\"2061\"}],\"height\":150,\"index_position\":null,\"margin\":[5,10,5,10],\"name\":\"\",\"row_height\":40,\"sizing_mode\":\"stretch_width\",\"source\":{\"id\":\"2046\"},\"view\":{\"id\":\"2066\"}},\"id\":\"2064\",\"type\":\"DataTable\"},{\"attributes\":{\"columns\":[{\"id\":\"2026\"},{\"id\":\"2031\"},{\"id\":\"2036\"}],\"height\":150,\"index_position\":null,\"margin\":[5,10,5,10],\"name\":\"\",\"row_height\":40,\"sizing_mode\":\"stretch_width\",\"source\":{\"id\":\"2021\"},\"view\":{\"id\":\"2041\"}},\"id\":\"2039\",\"type\":\"DataTable\"},{\"attributes\":{},\"id\":\"2048\",\"type\":\"StringFormatter\"},{\"attributes\":{\"client_comm_id\":\"b2b1c9469f7e4271801134e732218d10\",\"comm_id\":\"f352675f04ad4db08a556feefe54e5bc\",\"plot_id\":\"1957\"},\"id\":\"2124\",\"type\":\"panel.models.comm_manager.CommManager\"},{\"attributes\":{\"data\":{\"0\":[\"Si2\",2,40.88829232994348,\"NaN\",\"Fd-3m\",227,\"cubic\"],\"index\":[\"formula\",\"natom\",\"volume\",\"abi_spg_number\",\"spglib_symb\",\"spglib_num\",\"spglib_lattice_type\"]},\"selected\":{\"id\":\"2002\"},\"selection_policy\":{\"id\":\"2100\"}},\"id\":\"2001\",\"type\":\"ColumnDataSource\"},{\"attributes\":{\"editor\":{\"id\":\"2078\"},\"field\":\"index\",\"formatter\":{\"id\":\"2076\"},\"title\":\"index\",\"width\":0},\"id\":\"2079\",\"type\":\"TableColumn\"},{\"attributes\":{\"editor\":{\"id\":\"2050\"},\"field\":\"Lattice angles\",\"formatter\":{\"id\":\"2048\"},\"title\":\"Lattice angles\",\"width\":0},\"id\":\"2051\",\"type\":\"TableColumn\"},{\"attributes\":{\"indices\":[]},\"id\":\"2002\",\"type\":\"Selection\"},{\"attributes\":{},\"id\":\"2050\",\"type\":\"CellEditor\"},{\"attributes\":{\"columns\":[{\"id\":\"2006\"},{\"id\":\"2011\"}],\"height\":310,\"index_position\":null,\"margin\":[5,10,5,10],\"name\":\"\",\"row_height\":40,\"sizing_mode\":\"stretch_width\",\"source\":{\"id\":\"2001\"},\"view\":{\"id\":\"2016\"}},\"id\":\"2014\",\"type\":\"DataTable\"},{\"attributes\":{},\"id\":\"2003\",\"type\":\"StringFormatter\"},{\"attributes\":{\"css_classes\":[\"markdown\"],\"margin\":[5,5,5,5],\"name\":\"MyMarkdown00819\",\"text\":\"&lt;h1&gt;Options&lt;/h1&gt;\"},\"id\":\"1962\",\"type\":\"panel.models.markup.HTML\"},{\"attributes\":{\"format\":\"0,0.0[00000]\"},\"id\":\"2054\",\"type\":\"NumberFormatter\"},{\"attributes\":{\"editor\":{\"id\":\"2005\"},\"field\":\"index\",\"formatter\":{\"id\":\"2003\"},\"title\":\"index\",\"width\":0},\"id\":\"2006\",\"type\":\"TableColumn\"},{\"attributes\":{},\"id\":\"2010\",\"type\":\"StringEditor\"}],\"root_ids\":[\"1957\",\"2124\"]},\"title\":\"Bokeh Application\",\"version\":\"2.3.1\"}};\n",
       "    var render_items = [{\"docid\":\"aef2e5b6-82ec-4a3e-98e7-53cad1b042a2\",\"root_ids\":[\"1957\"],\"roots\":{\"1957\":\"f387242c-77b0-4491-9bb7-811b61db4583\"}}];\n",
       "    root.Bokeh.embed.embed_items_notebook(docs_json, render_items);\n",
       "  }\n",
       "  if (root.Bokeh !== undefined && root.Bokeh.Panel !== undefined && root['Plotly'] !== undefined ) {\n",
       "    embed_document(root);\n",
       "  } else {\n",
       "    var attempts = 0;\n",
       "    var timer = setInterval(function(root) {\n",
       "      if (root.Bokeh !== undefined && root.Bokeh.Panel !== undefined && root['Plotly'] !== undefined) {\n",
       "        clearInterval(timer);\n",
       "        embed_document(root);\n",
       "      } else if (document.readyState == \"complete\") {\n",
       "        attempts++;\n",
       "        if (attempts > 100) {\n",
       "          clearInterval(timer);\n",
       "          console.log(\"Bokeh: ERROR: Unable to run BokehJS code because BokehJS library is missing\");\n",
       "        }\n",
       "      }\n",
       "    }, 10, root)\n",
       "  }\n",
       "})(window);</script>"
      ],
      "text/plain": [
       "Tabs\n",
       "    [0] Row\n",
       "        [0] Bokeh(PreText)\n",
       "    [1] Row\n",
       "        [0] Column\n",
       "            [0] MyMarkdown(str)\n",
       "            [1] Column\n",
       "                [0] Checkbox(name='show gaps')\n",
       "                [1] Checkbox(name='Set Fermie to VBM')\n",
       "                [2] Button(button_type='primary', name='Plot e-bands')\n",
       "            [2] Column\n",
       "                [0] Divider()\n",
       "                [1] Accordion\n",
       "                    [0] Markdown(str)\n",
       "                    [1] Markdown(str)\n",
       "        [1] ParamMethod(method)\n",
       "    [2] Row\n",
       "        [0] Column\n",
       "            [0] MyMarkdown(str)\n",
       "            [1] Select(options=['jsmol', 'vesta', ...], value='vesta')\n",
       "            [2] Button(button_type='primary', name='View structure')\n",
       "            [3] Column\n",
       "                [0] Divider()\n",
       "                [1] Accordion\n",
       "                    [0] Markdown(str)\n",
       "                    [1] Markdown(str)\n",
       "        [1] Column\n",
       "            [0] Column(sizing_mode='stretch_width')\n",
       "                [0] MyMarkdown(str)\n",
       "                [1] Column(sizing_mode='stretch_width')\n",
       "                    [0] DataFrame(disabled=True, sizing_mode='stretch_width', value=              ...)\n",
       "                    [1] Divider()\n",
       "                [2] MyMarkdown(str)\n",
       "                [3] Column(sizing_mode='stretch_width')\n",
       "                    [0] DataFrame(disabled=True, sizing_mode='stretch_width', value=              ...)\n",
       "                    [1] Divider()\n",
       "                [4] MyMarkdown(str)\n",
       "                [5] Column(sizing_mode='stretch_width')\n",
       "                    [0] DataFrame(disabled=True, sizing_mode='stretch_width', value=              ...)\n",
       "                    [1] Divider()\n",
       "                [6] Accordion(sizing_mode='stretch_width')\n",
       "                    [0] Column(sizing_mode='stretch_width')\n",
       "                        [0] DataFrame(disabled=True, sizing_mode='stretch_width', value=   idx         frac_coords...)\n",
       "                        [1] Divider()\n",
       "            [1] ParamMethod(method)"
      ]
     },
     "execution_count": 23,
     "metadata": {
      "application/vnd.holoviews_exec.v0+json": {
       "id": "1957"
      }
     },
     "output_type": "execute_result"
    }
   ],
   "source": [
    "abilab.abipanel()\n",
    "gsr.get_panel()"
   ]
  },
  {
   "cell_type": "code",
   "execution_count": 24,
   "metadata": {},
   "outputs": [
    {
     "data": {},
     "metadata": {},
     "output_type": "display_data"
    },
    {
     "data": {
      "application/vnd.holoviews_exec.v0+json": "",
      "text/html": [
       "<div id='2167'>\n",
       "\n",
       "\n",
       "\n",
       "\n",
       "\n",
       "  <div class=\"bk-root\" id=\"73a46d7d-3f0d-4fc5-8da4-5ab089aa8e0b\" data-root-id=\"2167\"></div>\n",
       "</div>\n",
       "<script type=\"application/javascript\">(function(root) {\n",
       "  function embed_document(root) {\n",
       "    var docs_json = {\"dfc83eac-32ee-4efc-b4af-f568e1358395\":{\"defs\":[],\"roots\":{\"references\":[{\"attributes\":{\"active_header_background\":\"#ccc\",\"button_css_classes\":[\"card-button\"],\"children\":[{\"id\":\"2179\"},{\"id\":\"2181\"}],\"css_classes\":[\"accordion\"],\"header_background\":\"\",\"header_color\":\"\",\"header_css_classes\":[\"accordion-header\"],\"margin\":[5,5,0,5],\"name\":\"Card01002\"},\"id\":\"2178\",\"type\":\"panel.models.layout.Card\"},{\"attributes\":{\"css_classes\":[\"markdown\"],\"margin\":[5,5,5,5],\"name\":\"Markdown00097\",\"text\":\"&lt;p&gt;Please &lt;strong&gt;refresh&lt;/strong&gt; the page using the refresh button of the browser if plotly figures are not shown.&lt;/p&gt;\"},\"id\":\"2185\",\"type\":\"panel.models.markup.HTML\"},{\"attributes\":{},\"id\":\"2333\",\"type\":\"StringFormatter\"},{\"attributes\":{\"children\":[{\"id\":\"2171\"},{\"id\":\"2186\"}],\"margin\":[0,0,0,0],\"name\":\"Row00907\"},\"id\":\"2170\",\"type\":\"Row\"},{\"attributes\":{\"css_classes\":[\"markdown\"],\"margin\":[5,5,5,5],\"name\":\"Markdown00909\",\"text\":\"&lt;p&gt;Generate high-symmetry k-path from input structure in ABINIT format..&lt;/p&gt;\"},\"id\":\"2200\",\"type\":\"panel.models.markup.HTML\"},{\"attributes\":{\"children\":[{\"id\":\"2172\"},{\"id\":\"2173\"},{\"id\":\"2174\"},{\"id\":\"2175\"}],\"margin\":[0,0,0,0],\"name\":\"Column00897\"},\"id\":\"2171\",\"type\":\"Column\"},{\"attributes\":{\"children\":[{\"id\":\"2166\"}],\"margin\":[0,0,0,0],\"name\":\"Row00905\"},\"id\":\"2187\",\"type\":\"Row\"},{\"attributes\":{\"css_classes\":[\"markdown\"],\"margin\":[5,5,5,5],\"name\":\"MyMarkdown00931\",\"text\":\"&lt;h1&gt;Convert structure&lt;/h1&gt;\"},\"id\":\"2211\",\"type\":\"panel.models.markup.HTML\"},{\"attributes\":{\"css_classes\":[\"markdown\"],\"margin\":[5,5,5,5],\"name\":\"Markdown00097\",\"text\":\"&lt;p&gt;Please &lt;strong&gt;refresh&lt;/strong&gt; the page using the refresh button of the browser if plotly figures are not shown.&lt;/p&gt;\"},\"id\":\"2242\",\"type\":\"panel.models.markup.HTML\"},{\"attributes\":{\"children\":[{\"id\":\"2180\"}],\"css_classes\":[\"card-header-row\"],\"margin\":[0,0,0,0],\"name\":\"Row01001\",\"sizing_mode\":\"stretch_width\"},\"id\":\"2179\",\"type\":\"Row\"},{\"attributes\":{\"low\":0,\"margin\":[5,10,5,10],\"mode\":\"int\",\"placeholder\":\"0\",\"step\":1000,\"title\":\"kppra\",\"value\":1000,\"value_throttled\":1000},\"id\":\"2351\",\"type\":\"Spinner\"},{\"attributes\":{\"editor\":{\"id\":\"2329\"},\"field\":\"idx\",\"formatter\":{\"id\":\"2328\"},\"title\":\"idx\",\"width\":0},\"id\":\"2330\",\"type\":\"TableColumn\"},{\"attributes\":{\"active_header_background\":\"#ccc\",\"button_css_classes\":[\"card-button\"],\"children\":[{\"id\":\"2361\"},{\"id\":\"2363\"}],\"css_classes\":[\"accordion\"],\"header_background\":\"\",\"header_color\":\"\",\"header_css_classes\":[\"accordion-header\"],\"margin\":[0,5,5,5],\"name\":\"Card01042\"},\"id\":\"2360\",\"type\":\"panel.models.layout.Card\"},{\"attributes\":{\"children\":[{\"id\":\"2362\"}],\"css_classes\":[\"card-header-row\"],\"margin\":[0,0,0,0],\"name\":\"Row01041\",\"sizing_mode\":\"stretch_width\"},\"id\":\"2361\",\"type\":\"Row\"},{\"attributes\":{},\"id\":\"2334\",\"type\":\"StringEditor\"},{\"attributes\":{\"children\":[{\"id\":\"2214\"},{\"id\":\"2215\"}],\"margin\":[0,0,0,0],\"name\":\"Column00926\"},\"id\":\"2213\",\"type\":\"Column\"},{\"attributes\":{\"css_classes\":[\"markdown\"],\"margin\":[5,5,5,5],\"name\":\"Markdown00097\",\"text\":\"&lt;p&gt;Please &lt;strong&gt;refresh&lt;/strong&gt; the page using the refresh button of the browser if plotly figures are not shown.&lt;/p&gt;\"},\"id\":\"2223\",\"type\":\"panel.models.markup.HTML\"},{\"attributes\":{\"margin\":[5,10,5,10],\"options\":[\"abinit\",\"cif\",\"xsf\",\"poscar\",\"qe\",\"siesta\",\"wannier90\",\"cssr\",\"json\"],\"title\":\"format\",\"value\":\"abinit\"},\"id\":\"2212\",\"type\":\"Select\"},{\"attributes\":{\"source\":{\"id\":\"2320\"}},\"id\":\"2340\",\"type\":\"CDSView\"},{\"attributes\":{\"low\":0.0,\"margin\":[5,10,5,10],\"placeholder\":\"0\",\"step\":0.01,\"title\":\"symprec\",\"value\":0.01,\"value_throttled\":0.01},\"id\":\"2173\",\"type\":\"Spinner\"},{\"attributes\":{\"sizing_mode\":\"stretch_width\",\"text\":\"Full Formula (Si2)\\nReduced Formula: Si\\nabc   :   3.866975   3.866975   3.866975\\nangles:  60.000000  60.000000  60.000000\\n\\nSpglib space group info (magnetic symmetries not taken into account).\\nSpacegroup: Fd-3m (227), Hall: F 4d 2 3 -1d, Abinit spg_number: 227\\nCrystal_system: cubic, Lattice_type: cubic, Point_group: m-3m\\n\\n  Idx  Symbol    Reduced_Coords              Wyckoff      EqIdx\\n-----  --------  --------------------------  ---------  -------\\n    0  Si        +0.00000 +0.00000 +0.00000  (2a)             0\\n    1  Si        +0.25000 +0.25000 +0.25000  (2a)             0\"},\"id\":\"2166\",\"type\":\"PreText\"},{\"attributes\":{\"css_classes\":[\"markdown\"],\"margin\":[5,5,5,5],\"name\":\"Markdown00927\",\"text\":\"&lt;p&gt;Convert the input structure to one of the format selected by the user.&lt;/p&gt;\"},\"id\":\"2219\",\"type\":\"panel.models.markup.HTML\"},{\"attributes\":{\"low\":0.0,\"margin\":[5,10,5,10],\"placeholder\":\"0\",\"title\":\"angtol\",\"value\":5,\"value_throttled\":5},\"id\":\"2174\",\"type\":\"Spinner\"},{\"attributes\":{\"active_header_background\":\"#ccc\",\"button_css_classes\":[\"card-button\"],\"children\":[{\"id\":\"2240\"},{\"id\":\"2242\"}],\"css_classes\":[\"accordion\"],\"header_background\":\"\",\"header_color\":\"\",\"header_css_classes\":[\"accordion-header\"],\"margin\":[0,5,5,5],\"name\":\"Card01030\"},\"id\":\"2239\",\"type\":\"panel.models.layout.Card\"},{\"attributes\":{\"children\":[{\"id\":\"2176\"},{\"id\":\"2177\"}],\"margin\":[0,0,0,0],\"name\":\"Column00890\"},\"id\":\"2175\",\"type\":\"Column\"},{\"attributes\":{\"margin\":[5,5,5,5],\"name\":\"HTMLwithClipboardBtn00922\",\"text\":\"\\n&lt;div id=&quot;uuid-a94a71bd-562d-4ecd-897b-8388cdbf027e&quot;&gt;&lt;pre&gt; # Abinit Structure\\n natom 2\\n ntypat 1\\n typat 1 1\\n znucl 14\\n xred\\n    0.0000000000    0.0000000000    0.0000000000\\n    0.2500000000    0.2500000000    0.2500000000\\n acell    1.0    1.0    1.0\\n rprim\\n    6.3285005521    0.0000000000    3.6537614973\\n    2.1095001840    5.9665675402    3.6537614973\\n    0.0000000000    0.0000000000    7.3075229946\\n\\n# tolwfr 1e-20 iscf -2 # NSCF run\\n# To read previous DEN file, use: getden -1 or specify filename via getden_path &quot;out_DEN&quot;\\n\\n# K-path in reduced coordinates:\\n ndivsm 10\\n kptopt -11\\n kptbounds\\n    +0.00000  +0.00000  +0.00000  # $\\\\Gamma$\\n    +0.50000  +0.00000  +0.50000  # X\\n    +0.50000  +0.25000  +0.75000  # W\\n    +0.37500  +0.37500  +0.75000  # K\\n    +0.00000  +0.00000  +0.00000  # $\\\\Gamma$\\n    +0.50000  +0.50000  +0.50000  # L\\n    +0.62500  +0.25000  +0.62500  # U\\n    +0.50000  +0.25000  +0.75000  # W\\n    +0.50000  +0.50000  +0.50000  # L\\n    +0.37500  +0.37500  +0.75000  # K\\n    +0.62500  +0.25000  +0.62500  # U\\n    +0.50000  +0.00000  +0.50000  # X &lt;/pre&gt;&lt;/div&gt;\\n&lt;br&gt;\\n&lt;button class=&quot;clip-btn bk bk-btn bk-btn-default&quot; type=&quot;button&quot; data-clipboard-target=&quot;#uuid-a94a71bd-562d-4ecd-897b-8388cdbf027e&quot;&gt; Copy to clipboard &lt;/button&gt;\\n&lt;hr&gt;\\n\"},\"id\":\"2207\",\"type\":\"panel.models.markup.HTML\"},{\"attributes\":{\"active_header_background\":\"#ccc\",\"button_css_classes\":[\"card-button\"],\"children\":[{\"id\":\"2198\"},{\"id\":\"2200\"}],\"css_classes\":[\"accordion\"],\"header_background\":\"\",\"header_color\":\"\",\"header_css_classes\":[\"accordion-header\"],\"margin\":[5,5,0,5],\"name\":\"Card01010\"},\"id\":\"2197\",\"type\":\"panel.models.layout.Card\"},{\"attributes\":{\"children\":[{\"id\":\"2210\"},{\"id\":\"2224\"}],\"margin\":[0,0,0,0],\"name\":\"Row00943\"},\"id\":\"2209\",\"type\":\"Row\"},{\"attributes\":{\"margin\":[0,0,0,0],\"tabs\":[{\"id\":\"2169\"},{\"id\":\"2188\"},{\"id\":\"2208\"},{\"id\":\"2226\"},{\"id\":\"2345\"},{\"id\":\"2366\"},{\"id\":\"2372\"}]},\"id\":\"2167\",\"type\":\"Tabs\"},{\"attributes\":{\"margin\":[5,5,5,5],\"name\":\"Divider00894\",\"style\":{\"height\":\"100%\",\"width\":\"100%\"},\"text\":\"<hr style=\\\"margin: 0px\\\">\",\"width_policy\":\"fit\"},\"id\":\"2176\",\"type\":\"Div\"},{\"attributes\":{\"css_classes\":[\"markdown\"],\"margin\":[5,5,5,5],\"name\":\"Markdown00891\",\"text\":\"&lt;p&gt;Call spglib to find space group symmetries and Wyckoff positions.&lt;/p&gt;\"},\"id\":\"2181\",\"type\":\"panel.models.markup.HTML\"},{\"attributes\":{\"children\":[{\"id\":\"2241\"}],\"css_classes\":[\"card-header-row\"],\"margin\":[0,0,0,0],\"name\":\"Row01029\",\"sizing_mode\":\"stretch_width\"},\"id\":\"2240\",\"type\":\"Row\"},{\"attributes\":{\"margin\":[5,5,5,5],\"name\":\"Divider00971\",\"style\":{\"height\":\"100%\",\"width\":\"100%\"},\"text\":\"<hr style=\\\"margin: 0px\\\">\",\"width_policy\":\"fit\"},\"id\":\"2342\",\"type\":\"Div\"},{\"attributes\":{\"children\":[{\"id\":\"2187\"}],\"margin\":[0,0,0,0],\"name\":\"Row00902\"},\"id\":\"2186\",\"type\":\"Row\"},{\"attributes\":{\"child\":{\"id\":\"2209\"},\"name\":\"Row00943\",\"title\":\"Convert\"},\"id\":\"2226\",\"type\":\"Panel\"},{\"attributes\":{\"children\":[{\"id\":\"2178\"},{\"id\":\"2182\"}],\"margin\":[0,0,0,0],\"name\":\"Accordion00893\"},\"id\":\"2177\",\"type\":\"Column\"},{\"attributes\":{\"css_classes\":[\"card-title\"],\"margin\":[2,5,2,5],\"name\":\"HTML01019\",\"sizing_mode\":\"stretch_width\",\"text\":\"Help\"},\"id\":\"2218\",\"type\":\"panel.models.markup.HTML\"},{\"attributes\":{\"children\":[{\"id\":\"2211\"},{\"id\":\"2212\"},{\"id\":\"2213\"}],\"margin\":[0,0,0,0],\"name\":\"Column00933\"},\"id\":\"2210\",\"type\":\"Column\"},{\"attributes\":{\"css_classes\":[\"card-title\"],\"margin\":[2,5,2,5],\"name\":\"HTML01031\",\"sizing_mode\":\"stretch_width\",\"text\":\"Warning\"},\"id\":\"2241\",\"type\":\"panel.models.markup.HTML\"},{\"attributes\":{\"children\":[{\"id\":\"2203\"}],\"css_classes\":[\"card-header-row\"],\"margin\":[0,0,0,0],\"name\":\"Row01013\",\"sizing_mode\":\"stretch_width\"},\"id\":\"2202\",\"type\":\"Row\"},{\"attributes\":{\"children\":[{\"id\":\"2225\"}],\"margin\":[0,0,0,0],\"name\":\"Row00938\"},\"id\":\"2224\",\"type\":\"Row\"},{\"attributes\":{\"children\":[{\"id\":\"2199\"}],\"css_classes\":[\"card-header-row\"],\"margin\":[0,0,0,0],\"name\":\"Row01009\",\"sizing_mode\":\"stretch_width\"},\"id\":\"2198\",\"type\":\"Row\"},{\"attributes\":{\"margin\":[5,5,5,5],\"name\":\"HTMLwithClipboardBtn00939\",\"text\":\"\\n&lt;div id=&quot;uuid-013c76c0-045a-42c1-b627-fb0c1f65e471&quot;&gt;\\n&lt;div id=&quot;uuid-21fe2964-b57d-418e-a68d-1015bf4bd3c5&quot;&gt;&lt;pre&gt;  natom 2\\n ntypat 1\\n typat 1 1\\n znucl 14\\n xred\\n    0.0000000000    0.0000000000    0.0000000000\\n    0.2500000000    0.2500000000    0.2500000000\\n acell    1.0    1.0    1.0\\n rprim\\n    6.3285005521    0.0000000000    3.6537614973\\n    2.1095001840    5.9665675402    3.6537614973\\n    0.0000000000    0.0000000000    7.3075229946 &lt;/pre&gt;&lt;/div&gt;\\n&lt;br&gt;\\n&lt;button class=&quot;clip-btn bk bk-btn bk-btn-default&quot; type=&quot;button&quot; data-clipboard-target=&quot;#uuid-21fe2964-b57d-418e-a68d-1015bf4bd3c5&quot;&gt; Copy to clipboard &lt;/button&gt;\\n&lt;hr&gt;\\n&lt;/div&gt;\\n&lt;br&gt;\\n&lt;button class=&quot;clip-btn bk bk-btn bk-btn-default&quot; type=&quot;button&quot; data-clipboard-target=&quot;#uuid-013c76c0-045a-42c1-b627-fb0c1f65e471&quot;&gt; Copy to clipboard &lt;/button&gt;\\n&lt;hr&gt;\\n\"},\"id\":\"2225\",\"type\":\"panel.models.markup.HTML\"},{\"attributes\":{\"editor\":{\"id\":\"2334\"},\"field\":\"frac_coords\",\"formatter\":{\"id\":\"2333\"},\"title\":\"frac_coords\",\"width\":0},\"id\":\"2335\",\"type\":\"TableColumn\"},{\"attributes\":{\"margin\":[5,5,5,5],\"name\":\"Str00989\"},\"id\":\"2365\",\"type\":\"panel.models.markup.HTML\"},{\"attributes\":{\"css_classes\":[\"card-title\"],\"margin\":[2,5,2,5],\"name\":\"HTML01043\",\"sizing_mode\":\"stretch_width\",\"text\":\"Warning\"},\"id\":\"2362\",\"type\":\"panel.models.markup.HTML\"},{\"attributes\":{\"child\":{\"id\":\"2189\"},\"name\":\"Row00925\",\"title\":\"Kpath\"},\"id\":\"2208\",\"type\":\"Panel\"},{\"attributes\":{\"margin\":[5,10,5,10],\"options\":[\"abinit\",\"siesta\",\"wannier90\"],\"title\":\"format\",\"value\":\"abinit\"},\"id\":\"2192\",\"type\":\"Select\"},{\"attributes\":{\"children\":[{\"id\":\"2356\"},{\"id\":\"2360\"}],\"margin\":[0,0,0,0],\"name\":\"Accordion00982\"},\"id\":\"2355\",\"type\":\"Column\"},{\"attributes\":{\"children\":[{\"id\":\"2190\"},{\"id\":\"2205\"}],\"margin\":[0,0,0,0],\"name\":\"Row00925\"},\"id\":\"2189\",\"type\":\"Row\"},{\"attributes\":{\"low\":0,\"margin\":[5,10,5,10],\"mode\":\"int\",\"placeholder\":\"0\",\"step\":5,\"title\":\"line density\",\"value\":10,\"value_throttled\":10},\"id\":\"2193\",\"type\":\"Spinner\"},{\"attributes\":{\"css_classes\":[\"card-title\"],\"margin\":[2,5,2,5],\"name\":\"HTML01023\",\"sizing_mode\":\"stretch_width\",\"text\":\"Warning\"},\"id\":\"2222\",\"type\":\"panel.models.markup.HTML\"},{\"attributes\":{\"children\":[{\"id\":\"2195\"},{\"id\":\"2196\"}],\"margin\":[0,0,0,0],\"name\":\"Column00908\"},\"id\":\"2194\",\"type\":\"Column\"},{\"attributes\":{\"children\":[{\"id\":\"2310\"},{\"id\":\"2314\"}],\"margin\":[0,0,0,0],\"name\":\"Column00964\",\"sizing_mode\":\"stretch_width\"},\"id\":\"2291\",\"type\":\"Column\"},{\"attributes\":{\"margin\":[5,5,5,5],\"name\":\"Divider00983\",\"style\":{\"height\":\"100%\",\"width\":\"100%\"},\"text\":\"<hr style=\\\"margin: 0px\\\">\",\"width_policy\":\"fit\"},\"id\":\"2354\",\"type\":\"Div\"},{\"attributes\":{\"children\":[{\"id\":\"2354\"},{\"id\":\"2355\"}],\"margin\":[0,0,0,0],\"name\":\"Column00979\"},\"id\":\"2353\",\"type\":\"Column\"},{\"attributes\":{\"active_header_background\":\"#ccc\",\"button_css_classes\":[\"card-button\"],\"children\":[{\"id\":\"2221\"},{\"id\":\"2223\"}],\"css_classes\":[\"accordion\"],\"header_background\":\"\",\"header_color\":\"\",\"header_css_classes\":[\"accordion-header\"],\"margin\":[0,5,5,5],\"name\":\"Card01022\"},\"id\":\"2220\",\"type\":\"panel.models.layout.Card\"},{\"attributes\":{\"children\":[{\"id\":\"2207\"}],\"margin\":[0,0,0,0],\"name\":\"Column00921\",\"sizing_mode\":\"stretch_width\"},\"id\":\"2206\",\"type\":\"Column\"},{\"attributes\":{},\"id\":\"2373\",\"type\":\"UnionRenderers\"},{\"attributes\":{},\"id\":\"2328\",\"type\":\"NumberFormatter\"},{\"attributes\":{\"button_type\":\"primary\",\"icon\":null,\"label\":\"Generate input\",\"margin\":[5,10,5,10],\"subscribed_events\":[\"button_click\"]},\"id\":\"2352\",\"type\":\"Button\"},{\"attributes\":{\"margin\":[5,5,5,5],\"name\":\"Divider00912\",\"style\":{\"height\":\"100%\",\"width\":\"100%\"},\"text\":\"<hr style=\\\"margin: 0px\\\">\",\"width_policy\":\"fit\"},\"id\":\"2195\",\"type\":\"Div\"},{\"attributes\":{\"data\":{\"Degrees\":{\"__ndarray__\":\"n2cAAAAATkDBUAAAAABOQGPcAAAAAE5A\",\"dtype\":\"float64\",\"order\":\"little\",\"shape\":[3]},\"Lattice angles\":[\"alpha\",\"beta\",\"gamma\"],\"Radians\":{\"__ndarray__\":\"Ra0tOFLB8D9/oC04UsHwP3zuLThSwfA/\",\"dtype\":\"float64\",\"order\":\"little\",\"shape\":[3]}},\"selected\":{\"id\":\"2293\"},\"selection_policy\":{\"id\":\"2377\"}},\"id\":\"2292\",\"type\":\"ColumnDataSource\"},{\"attributes\":{\"children\":[{\"id\":\"2206\"}],\"margin\":[0,0,0,0],\"name\":\"Row00920\"},\"id\":\"2205\",\"type\":\"Row\"},{\"attributes\":{\"css_classes\":[\"markdown\"],\"margin\":[5,5,5,5],\"name\":\"MyMarkdown00895\",\"text\":\"&lt;h1&gt;Spglib options&lt;/h1&gt;\"},\"id\":\"2172\",\"type\":\"panel.models.markup.HTML\"},{\"attributes\":{\"indices\":[]},\"id\":\"2293\",\"type\":\"Selection\"},{\"attributes\":{\"children\":[{\"id\":\"2222\"}],\"css_classes\":[\"card-header-row\"],\"margin\":[0,0,0,0],\"name\":\"Row01021\",\"sizing_mode\":\"stretch_width\"},\"id\":\"2221\",\"type\":\"Row\"},{\"attributes\":{},\"id\":\"2294\",\"type\":\"StringFormatter\"},{\"attributes\":{\"margin\":[5,5,5,5],\"name\":\"Divider00930\",\"style\":{\"height\":\"100%\",\"width\":\"100%\"},\"text\":\"<hr style=\\\"margin: 0px\\\">\",\"width_policy\":\"fit\"},\"id\":\"2214\",\"type\":\"Div\"},{\"attributes\":{\"editor\":{\"id\":\"2296\"},\"field\":\"Lattice angles\",\"formatter\":{\"id\":\"2294\"},\"title\":\"Lattice angles\",\"width\":0},\"id\":\"2297\",\"type\":\"TableColumn\"},{\"attributes\":{\"children\":[{\"id\":\"2165\"}],\"margin\":[0,0,0,0],\"name\":\"Row00889\"},\"id\":\"2168\",\"type\":\"Row\"},{\"attributes\":{\"children\":[{\"id\":\"2216\"},{\"id\":\"2220\"}],\"margin\":[0,0,0,0],\"name\":\"Accordion00929\"},\"id\":\"2215\",\"type\":\"Column\"},{\"attributes\":{},\"id\":\"2296\",\"type\":\"CellEditor\"},{\"attributes\":{\"children\":[{\"id\":\"2191\"},{\"id\":\"2192\"},{\"id\":\"2193\"},{\"id\":\"2194\"}],\"margin\":[0,0,0,0],\"name\":\"Column00915\"},\"id\":\"2190\",\"type\":\"Column\"},{\"attributes\":{\"active_header_background\":\"#ccc\",\"button_css_classes\":[\"card-button\"],\"children\":[{\"id\":\"2202\"},{\"id\":\"2204\"}],\"css_classes\":[\"accordion\"],\"header_background\":\"\",\"header_color\":\"\",\"header_css_classes\":[\"accordion-header\"],\"margin\":[0,5,5,5],\"name\":\"Card01014\"},\"id\":\"2201\",\"type\":\"panel.models.layout.Card\"},{\"attributes\":{\"css_classes\":[\"markdown\"],\"margin\":[5,5,5,5],\"name\":\"MyMarkdown00913\",\"text\":\"&lt;h1&gt;K-path options&lt;/h1&gt;\"},\"id\":\"2191\",\"type\":\"panel.models.markup.HTML\"},{\"attributes\":{\"children\":[{\"id\":\"2197\"},{\"id\":\"2201\"}],\"margin\":[0,0,0,0],\"name\":\"Accordion00911\"},\"id\":\"2196\",\"type\":\"Column\"},{\"attributes\":{\"active_header_background\":\"#ccc\",\"button_css_classes\":[\"card-button\"],\"children\":[{\"id\":\"2183\"},{\"id\":\"2185\"}],\"css_classes\":[\"accordion\"],\"header_background\":\"\",\"header_color\":\"\",\"header_css_classes\":[\"accordion-header\"],\"margin\":[0,5,5,5],\"name\":\"Card01006\"},\"id\":\"2182\",\"type\":\"panel.models.layout.Card\"},{\"attributes\":{\"css_classes\":[\"markdown\"],\"margin\":[5,5,5,5],\"name\":\"Markdown00097\",\"text\":\"&lt;p&gt;Please &lt;strong&gt;refresh&lt;/strong&gt; the page using the refresh button of the browser if plotly figures are not shown.&lt;/p&gt;\"},\"id\":\"2363\",\"type\":\"panel.models.markup.HTML\"},{\"attributes\":{\"format\":\"0,0.0[00000]\"},\"id\":\"2300\",\"type\":\"NumberFormatter\"},{\"attributes\":{\"margin\":[5,10,5,10],\"options\":[\"scf\",\"relax\"],\"title\":\"GS type\",\"value\":\"scf\"},\"id\":\"2349\",\"type\":\"Select\"},{\"attributes\":{\"children\":[{\"id\":\"2218\"}],\"css_classes\":[\"card-header-row\"],\"margin\":[0,0,0,0],\"name\":\"Row01017\",\"sizing_mode\":\"stretch_width\"},\"id\":\"2217\",\"type\":\"Row\"},{\"attributes\":{\"active_header_background\":\"#ccc\",\"button_css_classes\":[\"card-button\"],\"children\":[{\"id\":\"2217\"},{\"id\":\"2219\"}],\"css_classes\":[\"accordion\"],\"header_background\":\"\",\"header_color\":\"\",\"header_css_classes\":[\"accordion-header\"],\"margin\":[5,5,0,5],\"name\":\"Card01018\"},\"id\":\"2216\",\"type\":\"panel.models.layout.Card\"},{\"attributes\":{\"css_classes\":[\"markdown\"],\"margin\":[5,5,5,5],\"name\":\"Markdown00097\",\"text\":\"&lt;p&gt;Please &lt;strong&gt;refresh&lt;/strong&gt; the page using the refresh button of the browser if plotly figures are not shown.&lt;/p&gt;\"},\"id\":\"2204\",\"type\":\"panel.models.markup.HTML\"},{\"attributes\":{},\"id\":\"2329\",\"type\":\"IntEditor\"},{\"attributes\":{\"child\":{\"id\":\"2168\"},\"name\":\"Row00889\",\"title\":\"Summary\"},\"id\":\"2169\",\"type\":\"Panel\"},{\"attributes\":{\"margin\":[5,10,5,10],\"options\":[\"unpolarized\",\"polarized\",\"anti-ferromagnetic\",\"non-collinear with magnetism\",\"non-collinear, no magnetism\"],\"title\":\"SpinMode\",\"value\":\"unpolarized\"},\"id\":\"2350\",\"type\":\"Select\"},{\"attributes\":{\"children\":[{\"id\":\"2184\"}],\"css_classes\":[\"card-header-row\"],\"margin\":[0,0,0,0],\"name\":\"Row01005\",\"sizing_mode\":\"stretch_width\"},\"id\":\"2183\",\"type\":\"Row\"},{\"attributes\":{\"css_classes\":[\"card-title\"],\"margin\":[2,5,2,5],\"name\":\"HTML01003\",\"sizing_mode\":\"stretch_width\",\"text\":\"Help\"},\"id\":\"2180\",\"type\":\"panel.models.markup.HTML\"},{\"attributes\":{\"css_classes\":[\"card-title\"],\"margin\":[2,5,2,5],\"name\":\"HTML01011\",\"sizing_mode\":\"stretch_width\",\"text\":\"Help\"},\"id\":\"2199\",\"type\":\"panel.models.markup.HTML\"},{\"attributes\":{\"client_comm_id\":\"3a3a00cf09284963b7e7865eb4091578\",\"comm_id\":\"e0140f21d88f4b79b81fff49c43f1546\",\"plot_id\":\"2167\"},\"id\":\"2397\",\"type\":\"panel.models.comm_manager.CommManager\"},{\"attributes\":{\"child\":{\"id\":\"2170\"},\"name\":\"Row00907\",\"title\":\"Spglib\"},\"id\":\"2188\",\"type\":\"Panel\"},{\"attributes\":{\"css_classes\":[\"markdown\"],\"margin\":[5,5,5,5],\"name\":\"MyMarkdown00949\",\"text\":\"&lt;h1&gt;Visualize structure&lt;/h1&gt;\"},\"id\":\"2229\",\"type\":\"panel.models.markup.HTML\"},{\"attributes\":{\"css_classes\":[\"card-title\"],\"margin\":[2,5,2,5],\"name\":\"HTML01007\",\"sizing_mode\":\"stretch_width\",\"text\":\"Warning\"},\"id\":\"2184\",\"type\":\"panel.models.markup.HTML\"},{\"attributes\":{\"css_classes\":[\"card-title\"],\"margin\":[2,5,2,5],\"name\":\"HTML01015\",\"sizing_mode\":\"stretch_width\",\"text\":\"Warning\"},\"id\":\"2203\",\"type\":\"panel.models.markup.HTML\"},{\"attributes\":{\"children\":[{\"id\":\"2344\"}],\"margin\":[0,0,0,0],\"name\":\"Row00976\"},\"id\":\"2343\",\"type\":\"Row\"},{\"attributes\":{\"children\":[{\"id\":\"2369\"}],\"margin\":[0,0,0,0],\"name\":\"Column00993\"},\"id\":\"2368\",\"type\":\"Column\"},{\"attributes\":{\"children\":[{\"id\":\"2235\"},{\"id\":\"2239\"}],\"margin\":[0,0,0,0],\"name\":\"Accordion00947\"},\"id\":\"2234\",\"type\":\"Column\"},{\"attributes\":{\"active_header_background\":\"#ccc\",\"button_css_classes\":[\"card-button\"],\"children\":[{\"id\":\"2357\"},{\"id\":\"2359\"}],\"css_classes\":[\"accordion\"],\"header_background\":\"\",\"header_color\":\"\",\"header_css_classes\":[\"accordion-header\"],\"margin\":[5,5,0,5],\"name\":\"Card01038\"},\"id\":\"2356\",\"type\":\"panel.models.layout.Card\"},{\"attributes\":{\"css_classes\":[\"markdown\"],\"margin\":[5,5,5,5],\"name\":\"MyMarkdown00961\",\"text\":\"&lt;h1&gt;Lattice lengths:&lt;/h1&gt;\"},\"id\":\"2265\",\"type\":\"panel.models.markup.HTML\"},{\"attributes\":{\"children\":[{\"id\":\"2245\"},{\"id\":\"2246\"},{\"id\":\"2265\"},{\"id\":\"2266\"},{\"id\":\"2290\"},{\"id\":\"2291\"},{\"id\":\"2315\"}],\"margin\":[0,0,0,0],\"name\":\"Column00952\",\"sizing_mode\":\"stretch_width\"},\"id\":\"2244\",\"type\":\"Column\"},{\"attributes\":{\"child\":{\"id\":\"2367\"},\"name\":\"Row00999\",\"title\":\"MP-match\"},\"id\":\"2372\",\"type\":\"Panel\"},{\"attributes\":{\"css_classes\":[\"markdown\"],\"margin\":[5,5,5,5],\"name\":\"Markdown00980\",\"text\":\"&lt;p&gt;Generate minimalistic input file from the input structure.&lt;/p&gt;\"},\"id\":\"2359\",\"type\":\"panel.models.markup.HTML\"},{\"attributes\":{\"format\":\"0,0.0[00000]\"},\"id\":\"2280\",\"type\":\"NumberFormatter\"},{\"attributes\":{\"children\":[{\"id\":\"2347\"},{\"id\":\"2364\"}],\"margin\":[0,0,0,0],\"name\":\"Row00992\"},\"id\":\"2346\",\"type\":\"Row\"},{\"attributes\":{\"child\":{\"id\":\"2346\"},\"name\":\"Row00992\",\"title\":\"GS-input\"},\"id\":\"2366\",\"type\":\"Panel\"},{\"attributes\":{},\"id\":\"2281\",\"type\":\"NumberEditor\"},{\"attributes\":{\"editor\":{\"id\":\"2281\"},\"field\":\"Bohr\",\"formatter\":{\"id\":\"2280\"},\"title\":\"Bohr\",\"width\":0},\"id\":\"2282\",\"type\":\"TableColumn\"},{\"attributes\":{\"margin\":[5,5,5,5],\"name\":\"Divider00948\",\"style\":{\"height\":\"100%\",\"width\":\"100%\"},\"text\":\"<hr style=\\\"margin: 0px\\\">\",\"width_policy\":\"fit\"},\"id\":\"2233\",\"type\":\"Div\"},{\"attributes\":{},\"id\":\"2377\",\"type\":\"UnionRenderers\"},{\"attributes\":{\"children\":[{\"id\":\"2365\"}],\"margin\":[0,0,0,0],\"name\":\"Row00991\"},\"id\":\"2364\",\"type\":\"Row\"},{\"attributes\":{\"children\":[{\"id\":\"2233\"},{\"id\":\"2234\"}],\"margin\":[0,0,0,0],\"name\":\"Column00944\"},\"id\":\"2232\",\"type\":\"Column\"},{\"attributes\":{\"source\":{\"id\":\"2267\"}},\"id\":\"2287\",\"type\":\"CDSView\"},{\"attributes\":{},\"id\":\"2271\",\"type\":\"CellEditor\"},{\"attributes\":{},\"id\":\"2379\",\"type\":\"UnionRenderers\"},{\"attributes\":{\"button_type\":\"primary\",\"icon\":null,\"label\":\"View structure\",\"margin\":[5,10,5,10],\"subscribed_events\":[\"button_click\"]},\"id\":\"2231\",\"type\":\"Button\"},{\"attributes\":{\"css_classes\":[\"markdown\"],\"margin\":[5,5,5,5],\"name\":\"MyMarkdown00984\",\"text\":\"&lt;h1&gt;Generate GS input&lt;/h1&gt;\"},\"id\":\"2348\",\"type\":\"panel.models.markup.HTML\"},{\"attributes\":{\"margin\":[5,5,5,5],\"name\":\"Divider00960\",\"style\":{\"height\":\"100%\",\"width\":\"100%\"},\"text\":\"<hr style=\\\"margin: 0px\\\">\",\"width_policy\":\"fit\"},\"id\":\"2289\",\"type\":\"Div\"},{\"attributes\":{\"editor\":{\"id\":\"2271\"},\"field\":\"Lattice lenghts\",\"formatter\":{\"id\":\"2269\"},\"title\":\"Lattice lenghts\",\"width\":0},\"id\":\"2272\",\"type\":\"TableColumn\"},{\"attributes\":{},\"id\":\"2375\",\"type\":\"UnionRenderers\"},{\"attributes\":{},\"id\":\"2269\",\"type\":\"StringFormatter\"},{\"attributes\":{\"children\":[{\"id\":\"2260\"},{\"id\":\"2264\"}],\"margin\":[0,0,0,0],\"name\":\"Column00954\",\"sizing_mode\":\"stretch_width\"},\"id\":\"2246\",\"type\":\"Column\"},{\"attributes\":{\"columns\":[{\"id\":\"2272\"},{\"id\":\"2277\"},{\"id\":\"2282\"}],\"height\":150,\"index_position\":null,\"margin\":[5,10,5,10],\"name\":\"\",\"row_height\":40,\"sizing_mode\":\"stretch_width\",\"source\":{\"id\":\"2267\"},\"view\":{\"id\":\"2287\"}},\"id\":\"2285\",\"type\":\"DataTable\"},{\"attributes\":{\"children\":[{\"id\":\"2368\"},{\"id\":\"2370\"}],\"margin\":[0,0,0,0],\"name\":\"Row00999\"},\"id\":\"2367\",\"type\":\"Row\"},{\"attributes\":{\"active_header_background\":\"#ccc\",\"button_css_classes\":[\"card-button\"],\"children\":[{\"id\":\"2236\"},{\"id\":\"2238\"}],\"css_classes\":[\"accordion\"],\"header_background\":\"\",\"header_color\":\"\",\"header_css_classes\":[\"accordion-header\"],\"margin\":[5,5,0,5],\"name\":\"Card01026\"},\"id\":\"2235\",\"type\":\"panel.models.layout.Card\"},{\"attributes\":{\"indices\":[]},\"id\":\"2268\",\"type\":\"Selection\"},{\"attributes\":{\"data\":{\"0\":[\"Si2\",2,40.88829232994348,\"NaN\",\"Fd-3m\",227,\"cubic\"],\"index\":[\"formula\",\"natom\",\"volume\",\"abi_spg_number\",\"spglib_symb\",\"spglib_num\",\"spglib_lattice_type\"]},\"selected\":{\"id\":\"2248\"},\"selection_policy\":{\"id\":\"2373\"}},\"id\":\"2247\",\"type\":\"ColumnDataSource\"},{\"attributes\":{\"editor\":{\"id\":\"2301\"},\"field\":\"Degrees\",\"formatter\":{\"id\":\"2300\"},\"title\":\"Degrees\",\"width\":0},\"id\":\"2302\",\"type\":\"TableColumn\"},{\"attributes\":{\"data\":{\"Bohr\":{\"__ndarray__\":\"xOP/ZZDvDkCKDgBmkO8OQL1M/2WQ7w5A\",\"dtype\":\"float64\",\"order\":\"little\",\"shape\":[3]},\"Lattice lenghts\":[\"a\",\"b\",\"c\"],\"\\u212b\":{\"__ndarray__\":\"QZj3UOc6HUCrwPdQ5zodQI4J91DnOh1A\",\"dtype\":\"float64\",\"order\":\"little\",\"shape\":[3]}},\"selected\":{\"id\":\"2268\"},\"selection_policy\":{\"id\":\"2375\"}},\"id\":\"2267\",\"type\":\"ColumnDataSource\"},{\"attributes\":{\"indices\":[]},\"id\":\"2248\",\"type\":\"Selection\"},{\"attributes\":{},\"id\":\"2301\",\"type\":\"NumberEditor\"},{\"attributes\":{\"children\":[{\"id\":\"2285\"},{\"id\":\"2289\"}],\"margin\":[0,0,0,0],\"name\":\"Column00959\",\"sizing_mode\":\"stretch_width\"},\"id\":\"2266\",\"type\":\"Column\"},{\"attributes\":{\"columns\":[{\"id\":\"2252\"},{\"id\":\"2257\"}],\"height\":310,\"index_position\":null,\"margin\":[5,10,5,10],\"name\":\"\",\"row_height\":40,\"sizing_mode\":\"stretch_width\",\"source\":{\"id\":\"2247\"},\"view\":{\"id\":\"2262\"}},\"id\":\"2260\",\"type\":\"DataTable\"},{\"attributes\":{\"source\":{\"id\":\"2292\"}},\"id\":\"2312\",\"type\":\"CDSView\"},{\"attributes\":{},\"id\":\"2249\",\"type\":\"StringFormatter\"},{\"attributes\":{\"columns\":[{\"id\":\"2297\"},{\"id\":\"2302\"},{\"id\":\"2307\"}],\"height\":150,\"index_position\":null,\"margin\":[5,10,5,10],\"name\":\"\",\"row_height\":40,\"sizing_mode\":\"stretch_width\",\"source\":{\"id\":\"2292\"},\"view\":{\"id\":\"2312\"}},\"id\":\"2310\",\"type\":\"DataTable\"},{\"attributes\":{\"margin\":[5,10,5,10],\"options\":[\"jsmol\",\"vesta\",\"xcrysden\",\"vtk\",\"crystalk\",\"ngl\",\"matplotlib\",\"ase_atoms\",\"mayavi\"],\"title\":\"Select viewer\",\"value\":\"vesta\"},\"id\":\"2230\",\"type\":\"Select\"},{\"attributes\":{\"editor\":{\"id\":\"2251\"},\"field\":\"index\",\"formatter\":{\"id\":\"2249\"},\"title\":\"index\",\"width\":0},\"id\":\"2252\",\"type\":\"TableColumn\"},{\"attributes\":{\"editor\":{\"id\":\"2306\"},\"field\":\"Radians\",\"formatter\":{\"id\":\"2305\"},\"title\":\"Radians\",\"width\":0},\"id\":\"2307\",\"type\":\"TableColumn\"},{\"attributes\":{},\"id\":\"2251\",\"type\":\"CellEditor\"},{\"attributes\":{},\"id\":\"2306\",\"type\":\"NumberEditor\"},{\"attributes\":{\"children\":[{\"id\":\"2228\"},{\"id\":\"2243\"}],\"margin\":[0,0,0,0],\"name\":\"Row00978\"},\"id\":\"2227\",\"type\":\"Row\"},{\"attributes\":{\"format\":\"0,0.0[00000]\"},\"id\":\"2305\",\"type\":\"NumberFormatter\"},{\"attributes\":{\"css_classes\":[\"markdown\"],\"margin\":[5,5,5,5],\"name\":\"Markdown00945\",\"text\":\"&lt;p&gt;Visualize input structure.&lt;/p&gt;\"},\"id\":\"2238\",\"type\":\"panel.models.markup.HTML\"},{\"attributes\":{},\"id\":\"2255\",\"type\":\"StringFormatter\"},{\"attributes\":{\"columns\":[{\"id\":\"2325\"},{\"id\":\"2330\"},{\"id\":\"2335\"}],\"height\":110,\"index_position\":null,\"margin\":[5,10,5,10],\"name\":\"\",\"row_height\":40,\"sizing_mode\":\"stretch_width\",\"source\":{\"id\":\"2320\"},\"view\":{\"id\":\"2340\"}},\"id\":\"2338\",\"type\":\"DataTable\"},{\"attributes\":{\"css_classes\":[\"card-title\"],\"margin\":[2,5,2,5],\"name\":\"HTML01039\",\"sizing_mode\":\"stretch_width\",\"text\":\"Help\"},\"id\":\"2358\",\"type\":\"panel.models.markup.HTML\"},{\"attributes\":{},\"id\":\"2322\",\"type\":\"NumberFormatter\"},{\"attributes\":{\"children\":[{\"id\":\"2229\"},{\"id\":\"2230\"},{\"id\":\"2231\"},{\"id\":\"2232\"}],\"margin\":[0,0,0,0],\"name\":\"Column00951\"},\"id\":\"2228\",\"type\":\"Column\"},{\"attributes\":{\"css_classes\":[\"markdown\"],\"margin\":[5,5,5,5],\"name\":\"MyMarkdown00956\",\"text\":\"&lt;h1&gt;Space group:&lt;/h1&gt;\"},\"id\":\"2245\",\"type\":\"panel.models.markup.HTML\"},{\"attributes\":{},\"id\":\"2256\",\"type\":\"StringEditor\"},{\"attributes\":{\"children\":[{\"id\":\"2244\"},{\"id\":\"2343\"}],\"margin\":[0,0,0,0],\"name\":\"Column00977\"},\"id\":\"2243\",\"type\":\"Column\"},{\"attributes\":{\"indices\":[]},\"id\":\"2321\",\"type\":\"Selection\"},{\"attributes\":{\"format\":\"0,0.0[00000]\"},\"id\":\"2275\",\"type\":\"NumberFormatter\"},{\"attributes\":{\"data\":{\"frac_coords\":[[0.0,0.0,0.0],[0.25,0.25,0.25]],\"idx\":[0,1],\"index\":[0,1]},\"selected\":{\"id\":\"2321\"},\"selection_policy\":{\"id\":\"2379\"}},\"id\":\"2320\",\"type\":\"ColumnDataSource\"},{\"attributes\":{},\"id\":\"2276\",\"type\":\"NumberEditor\"},{\"attributes\":{\"editor\":{\"id\":\"2256\"},\"field\":\"0\",\"formatter\":{\"id\":\"2255\"},\"title\":\"0\",\"width\":0},\"id\":\"2257\",\"type\":\"TableColumn\"},{\"attributes\":{\"children\":[{\"id\":\"2338\"},{\"id\":\"2342\"}],\"margin\":[0,0,0,0],\"name\":\"Column00970\",\"sizing_mode\":\"stretch_width\"},\"id\":\"2319\",\"type\":\"Column\"},{\"attributes\":{\"child\":{\"id\":\"2227\"},\"name\":\"Row00978\",\"title\":\"Structure\"},\"id\":\"2345\",\"type\":\"Panel\"},{\"attributes\":{\"source\":{\"id\":\"2247\"}},\"id\":\"2262\",\"type\":\"CDSView\"},{\"attributes\":{\"children\":[{\"id\":\"2358\"}],\"css_classes\":[\"card-header-row\"],\"margin\":[0,0,0,0],\"name\":\"Row01037\",\"sizing_mode\":\"stretch_width\"},\"id\":\"2357\",\"type\":\"Row\"},{\"attributes\":{\"css_classes\":[\"card-title\"],\"margin\":[2,5,2,5],\"name\":\"HTML01035\",\"sizing_mode\":\"stretch_width\",\"text\":\"Coordinates of Si sites:\"},\"id\":\"2318\",\"type\":\"panel.models.markup.HTML\"},{\"attributes\":{\"margin\":[5,5,5,5],\"name\":\"Str00996\"},\"id\":\"2371\",\"type\":\"panel.models.markup.HTML\"},{\"attributes\":{\"margin\":[5,5,5,5],\"name\":\"Str00974\"},\"id\":\"2344\",\"type\":\"panel.models.markup.HTML\"},{\"attributes\":{\"sizing_mode\":\"scale_both\",\"text\":\"Full Formula (Si2)\\nReduced Formula: Si\\nabc   :   3.866975   3.866975   3.866975\\nangles:  60.000000  60.000000  60.000000\\nSites (2)\\n  #  SP       a     b     c  cartesian_forces\\n---  ----  ----  ----  ----  -----------------------------------------------------------\\n  0  Si    0     0     0     [5.14220675e+101 5.14220675e+101 5.14220675e+101] eV ang^-1\\n  1  Si    0.25  0.25  0.25  [5.14220675e+101 5.14220675e+101 5.14220675e+101] eV ang^-1\\n\\nAbinit Spacegroup: spgid: 227, num_spatial_symmetries: 48, has_timerev: True, symmorphic: True\"},\"id\":\"2165\",\"type\":\"PreText\"},{\"attributes\":{\"children\":[{\"id\":\"2318\"}],\"css_classes\":[\"card-header-row\"],\"margin\":[0,0,0,0],\"name\":\"Row01033\",\"sizing_mode\":\"stretch_width\"},\"id\":\"2317\",\"type\":\"Row\"},{\"attributes\":{\"margin\":[5,5,5,5],\"name\":\"Divider00955\",\"style\":{\"height\":\"100%\",\"width\":\"100%\"},\"text\":\"<hr style=\\\"margin: 0px\\\">\",\"width_policy\":\"fit\"},\"id\":\"2264\",\"type\":\"Div\"},{\"attributes\":{\"active_header_background\":\"#ccc\",\"button_css_classes\":[\"card-button\"],\"children\":[{\"id\":\"2317\"},{\"id\":\"2319\"}],\"css_classes\":[\"accordion\"],\"header_background\":\"\",\"header_color\":\"\",\"header_css_classes\":[\"accordion-header\"],\"margin\":[5,5,0,5],\"name\":\"Card01034\",\"sizing_mode\":\"stretch_width\"},\"id\":\"2316\",\"type\":\"panel.models.layout.Card\"},{\"attributes\":{\"children\":[{\"id\":\"2348\"},{\"id\":\"2349\"},{\"id\":\"2350\"},{\"id\":\"2351\"},{\"id\":\"2352\"},{\"id\":\"2353\"}],\"margin\":[0,0,0,0],\"name\":\"Column00986\"},\"id\":\"2347\",\"type\":\"Column\"},{\"attributes\":{\"margin\":[5,5,5,5],\"name\":\"Divider00965\",\"style\":{\"height\":\"100%\",\"width\":\"100%\"},\"text\":\"<hr style=\\\"margin: 0px\\\">\",\"width_policy\":\"fit\"},\"id\":\"2314\",\"type\":\"Div\"},{\"attributes\":{\"editor\":{\"id\":\"2276\"},\"field\":\"\\u212b\",\"formatter\":{\"id\":\"2275\"},\"title\":\"\\u212b\",\"width\":0},\"id\":\"2277\",\"type\":\"TableColumn\"},{\"attributes\":{\"children\":[{\"id\":\"2371\"}],\"margin\":[0,0,0,0],\"name\":\"Row00998\"},\"id\":\"2370\",\"type\":\"Row\"},{\"attributes\":{\"children\":[{\"id\":\"2316\"}],\"margin\":[0,0,0,0],\"name\":\"Accordion00968\",\"sizing_mode\":\"stretch_width\"},\"id\":\"2315\",\"type\":\"Column\"},{\"attributes\":{\"children\":[{\"id\":\"2237\"}],\"css_classes\":[\"card-header-row\"],\"margin\":[0,0,0,0],\"name\":\"Row01025\",\"sizing_mode\":\"stretch_width\"},\"id\":\"2236\",\"type\":\"Row\"},{\"attributes\":{\"button_type\":\"primary\",\"icon\":null,\"label\":\"Connect to Materials Project\",\"margin\":[5,10,5,10],\"subscribed_events\":[\"button_click\"]},\"id\":\"2369\",\"type\":\"Button\"},{\"attributes\":{\"css_classes\":[\"markdown\"],\"margin\":[5,5,5,5],\"name\":\"MyMarkdown00966\",\"text\":\"&lt;h1&gt;Lattice angles:&lt;/h1&gt;\"},\"id\":\"2290\",\"type\":\"panel.models.markup.HTML\"},{\"attributes\":{\"css_classes\":[\"card-title\"],\"margin\":[2,5,2,5],\"name\":\"HTML01027\",\"sizing_mode\":\"stretch_width\",\"text\":\"Help\"},\"id\":\"2237\",\"type\":\"panel.models.markup.HTML\"},{\"attributes\":{\"editor\":{\"id\":\"2324\"},\"field\":\"index\",\"formatter\":{\"id\":\"2322\"},\"title\":\"index\",\"width\":0},\"id\":\"2325\",\"type\":\"TableColumn\"},{\"attributes\":{},\"id\":\"2324\",\"type\":\"CellEditor\"}],\"root_ids\":[\"2167\",\"2397\"]},\"title\":\"Bokeh Application\",\"version\":\"2.3.1\"}};\n",
       "    var render_items = [{\"docid\":\"dfc83eac-32ee-4efc-b4af-f568e1358395\",\"root_ids\":[\"2167\"],\"roots\":{\"2167\":\"73a46d7d-3f0d-4fc5-8da4-5ab089aa8e0b\"}}];\n",
       "    root.Bokeh.embed.embed_items_notebook(docs_json, render_items);\n",
       "  }\n",
       "  if (root.Bokeh !== undefined && root.Bokeh.Panel !== undefined && root['Plotly'] !== undefined ) {\n",
       "    embed_document(root);\n",
       "  } else {\n",
       "    var attempts = 0;\n",
       "    var timer = setInterval(function(root) {\n",
       "      if (root.Bokeh !== undefined && root.Bokeh.Panel !== undefined && root['Plotly'] !== undefined) {\n",
       "        clearInterval(timer);\n",
       "        embed_document(root);\n",
       "      } else if (document.readyState == \"complete\") {\n",
       "        attempts++;\n",
       "        if (attempts > 100) {\n",
       "          clearInterval(timer);\n",
       "          console.log(\"Bokeh: ERROR: Unable to run BokehJS code because BokehJS library is missing\");\n",
       "        }\n",
       "      }\n",
       "    }, 10, root)\n",
       "  }\n",
       "})(window);</script>"
      ],
      "text/plain": [
       "Tabs\n",
       "    [0] Row\n",
       "        [0] Bokeh(PreText)\n",
       "    [1] Row\n",
       "        [0] Column\n",
       "            [0] MyMarkdown(str)\n",
       "            [1] FloatInput(name='symprec', start=0.0, step=0.01, value=0.01)\n",
       "            [2] FloatInput(name='angtol', start=0.0, step=1, value=5)\n",
       "            [3] Column\n",
       "                [0] Divider()\n",
       "                [1] Accordion\n",
       "                    [0] Markdown(str)\n",
       "                    [1] Markdown(str)\n",
       "        [1] ParamMethod(method)\n",
       "    [2] Row\n",
       "        [0] Column\n",
       "            [0] MyMarkdown(str)\n",
       "            [1] Select(name='format', options=['abinit', 'siesta', ...], value='abinit')\n",
       "            [2] IntInput(name='line density', start=0, step=5, value=10)\n",
       "            [3] Column\n",
       "                [0] Divider()\n",
       "                [1] Accordion\n",
       "                    [0] Markdown(str)\n",
       "                    [1] Markdown(str)\n",
       "        [1] ParamMethod(method)\n",
       "    [3] Row\n",
       "        [0] Column\n",
       "            [0] MyMarkdown(str)\n",
       "            [1] Select(name='format', options=['abinit', 'cif', ...], value='abinit')\n",
       "            [2] Column\n",
       "                [0] Divider()\n",
       "                [1] Accordion\n",
       "                    [0] Markdown(str)\n",
       "                    [1] Markdown(str)\n",
       "        [1] ParamMethod(method)\n",
       "    [4] Row\n",
       "        [0] Column\n",
       "            [0] MyMarkdown(str)\n",
       "            [1] Select(options=['jsmol', 'vesta', ...], value='vesta')\n",
       "            [2] Button(button_type='primary', name='View structure')\n",
       "            [3] Column\n",
       "                [0] Divider()\n",
       "                [1] Accordion\n",
       "                    [0] Markdown(str)\n",
       "                    [1] Markdown(str)\n",
       "        [1] Column\n",
       "            [0] Column(sizing_mode='stretch_width')\n",
       "                [0] MyMarkdown(str)\n",
       "                [1] Column(sizing_mode='stretch_width')\n",
       "                    [0] DataFrame(disabled=True, sizing_mode='stretch_width', value=              ...)\n",
       "                    [1] Divider()\n",
       "                [2] MyMarkdown(str)\n",
       "                [3] Column(sizing_mode='stretch_width')\n",
       "                    [0] DataFrame(disabled=True, sizing_mode='stretch_width', value=              ...)\n",
       "                    [1] Divider()\n",
       "                [4] MyMarkdown(str)\n",
       "                [5] Column(sizing_mode='stretch_width')\n",
       "                    [0] DataFrame(disabled=True, sizing_mode='stretch_width', value=              ...)\n",
       "                    [1] Divider()\n",
       "                [6] Accordion(sizing_mode='stretch_width')\n",
       "                    [0] Column(sizing_mode='stretch_width')\n",
       "                        [0] DataFrame(disabled=True, sizing_mode='stretch_width', value=   idx         frac_coords...)\n",
       "                        [1] Divider()\n",
       "            [1] ParamMethod(method)\n",
       "    [5] Row\n",
       "        [0] Column\n",
       "            [0] MyMarkdown(str)\n",
       "            [1] Select(name='GS type', options=['scf', 'relax'], value='scf')\n",
       "            [2] Select(name='SpinMode', options=['unpolarized', ...], value='unpolarized')\n",
       "            [3] IntInput(name='kppra', start=0, step=1000, value=1000)\n",
       "            [4] Button(button_type='primary', name='Generate input')\n",
       "            [5] Column\n",
       "                [0] Divider()\n",
       "                [1] Accordion\n",
       "                    [0] Markdown(str)\n",
       "                    [1] Markdown(str)\n",
       "        [1] ParamMethod(method)\n",
       "    [6] Row\n",
       "        [0] Column\n",
       "            [0] Button(button_type='primary', name='Connect to Materials P...)\n",
       "        [1] ParamMethod(method)"
      ]
     },
     "execution_count": 24,
     "metadata": {
      "application/vnd.holoviews_exec.v0+json": {
       "id": "2167"
      }
     },
     "output_type": "execute_result"
    }
   ],
   "source": [
    "gsr.structure.get_panel()"
   ]
  },
  {
   "cell_type": "code",
   "execution_count": 25,
   "metadata": {},
   "outputs": [],
   "source": [
    "#gsr.ebands.plotly_ebands_with_edos(\"si_scf_GSR.nc\", with_gaps=True)"
   ]
  },
  {
   "cell_type": "markdown",
   "metadata": {
    "slideshow": {
     "slide_type": "slide"
    }
   },
   "source": [
    "#### Print results stored in FILE  (more than 45 file extensions supported)"
   ]
  },
  {
   "cell_type": "code",
   "execution_count": 8,
   "metadata": {
    "slideshow": {
     "slide_type": "-"
    }
   },
   "outputs": [],
   "source": [
    "ddb = abilab.abiopen(\"ZnSe_hex_qpt_DDB\")"
   ]
  },
  {
   "cell_type": "code",
   "execution_count": 9,
   "metadata": {
    "slideshow": {
     "slide_type": "subslide"
    }
   },
   "outputs": [
    {
     "data": {
      "application/javascript": [
       "\n",
       "(function(root) {\n",
       "  function now() {\n",
       "    return new Date();\n",
       "  }\n",
       "\n",
       "  var force = true;\n",
       "\n",
       "  if (typeof root._bokeh_onload_callbacks === \"undefined\" || force === true) {\n",
       "    root._bokeh_onload_callbacks = [];\n",
       "    root._bokeh_is_loading = undefined;\n",
       "  }\n",
       "\n",
       "  if (typeof (root._bokeh_timeout) === \"undefined\" || force === true) {\n",
       "    root._bokeh_timeout = Date.now() + 5000;\n",
       "    root._bokeh_failed_load = false;\n",
       "  }\n",
       "\n",
       "  function run_callbacks() {\n",
       "    try {\n",
       "      root._bokeh_onload_callbacks.forEach(function(callback) {\n",
       "        if (callback != null)\n",
       "          callback();\n",
       "      });\n",
       "    } finally {\n",
       "      delete root._bokeh_onload_callbacks\n",
       "    }\n",
       "    console.debug(\"Bokeh: all callbacks have finished\");\n",
       "  }\n",
       "\n",
       "  function load_libs(css_urls, js_urls, js_modules, callback) {\n",
       "    if (css_urls == null) css_urls = [];\n",
       "    if (js_urls == null) js_urls = [];\n",
       "    if (js_modules == null) js_modules = [];\n",
       "\n",
       "    root._bokeh_onload_callbacks.push(callback);\n",
       "    if (root._bokeh_is_loading > 0) {\n",
       "      console.debug(\"Bokeh: BokehJS is being loaded, scheduling callback at\", now());\n",
       "      return null;\n",
       "    }\n",
       "    if (js_urls.length === 0 && js_modules.length === 0) {\n",
       "      run_callbacks();\n",
       "      return null;\n",
       "    }\n",
       "    console.debug(\"Bokeh: BokehJS not loaded, scheduling load and callback at\", now());\n",
       "    root._bokeh_is_loading = css_urls.length + js_urls.length + js_modules.length;\n",
       "\n",
       "    function on_load() {\n",
       "      root._bokeh_is_loading--;\n",
       "      if (root._bokeh_is_loading === 0) {\n",
       "        console.debug(\"Bokeh: all BokehJS libraries/stylesheets loaded\");\n",
       "        run_callbacks()\n",
       "      }\n",
       "    }\n",
       "\n",
       "    function on_error() {\n",
       "      console.error(\"failed to load \" + url);\n",
       "    }\n",
       "\n",
       "    for (var i = 0; i < css_urls.length; i++) {\n",
       "      var url = css_urls[i];\n",
       "      const element = document.createElement(\"link\");\n",
       "      element.onload = on_load;\n",
       "      element.onerror = on_error;\n",
       "      element.rel = \"stylesheet\";\n",
       "      element.type = \"text/css\";\n",
       "      element.href = url;\n",
       "      console.debug(\"Bokeh: injecting link tag for BokehJS stylesheet: \", url);\n",
       "      document.body.appendChild(element);\n",
       "    }\n",
       "\n",
       "    var skip = [];\n",
       "    if (window.requirejs) {\n",
       "      window.requirejs.config({'paths': {'tabulator': 'https://unpkg.com/tabulator-tables@4.9.3/dist/js/tabulator'}});\n",
       "      window.requirejs.config({'paths': {'plotly': 'https://cdn.plot.ly/plotly-latest.min'}});\n",
       "      window.requirejs.config({'paths': {'clipboard': 'https://cdn.jsdelivr.net/npm/clipboard@2/dist/clipboard.min'}});\n",
       "      require([\"clipboard\"], function(clipboard,) {\n",
       "        window.clipboard = clipboard;\n",
       "      })\n",
       "    }\n",
       "    if (((window['tabulator'] !== undefined) && (!(window['tabulator'] instanceof HTMLElement))) || window.requirejs) {\n",
       "      var urls = ['https://unpkg.com/tabulator-tables@4.9.3/dist/js/tabulator.js', 'https://unpkg.com/moment@2.27.0/moment.js'];\n",
       "      for (var i = 0; i < urls.length; i++) {\n",
       "        skip.push(urls[i])\n",
       "      }\n",
       "    }\n",
       "    if (((window['Plotly'] !== undefined) && (!(window['Plotly'] instanceof HTMLElement))) || window.requirejs) {\n",
       "      var urls = ['https://cdn.plot.ly/plotly-latest.min.js'];\n",
       "      for (var i = 0; i < urls.length; i++) {\n",
       "        skip.push(urls[i])\n",
       "      }\n",
       "    }\n",
       "    for (var i = 0; i < js_urls.length; i++) {\n",
       "      var url = js_urls[i];\n",
       "      if (skip.indexOf(url) >= 0) { on_load(); continue; }\n",
       "      var element = document.createElement('script');\n",
       "      element.onload = on_load;\n",
       "      element.onerror = on_error;\n",
       "      element.async = false;\n",
       "      element.src = url;\n",
       "      console.debug(\"Bokeh: injecting script tag for BokehJS library: \", url);\n",
       "      document.head.appendChild(element);\n",
       "    }\n",
       "    for (var i = 0; i < js_modules.length; i++) {\n",
       "      var url = js_modules[i];\n",
       "      if (skip.indexOf(url) >= 0) { on_load(); continue; }\n",
       "      var element = document.createElement('script');\n",
       "      element.onload = on_load;\n",
       "      element.onerror = on_error;\n",
       "      element.async = false;\n",
       "      element.src = url;\n",
       "      element.type = \"module\";\n",
       "      console.debug(\"Bokeh: injecting script tag for BokehJS library: \", url);\n",
       "      document.head.appendChild(element);\n",
       "    }\n",
       "    if (!js_urls.length && !js_modules.length) {\n",
       "      on_load()\n",
       "    }\n",
       "  };\n",
       "\n",
       "  function inject_raw_css(css) {\n",
       "    const element = document.createElement(\"style\");\n",
       "    element.appendChild(document.createTextNode(css));\n",
       "    document.body.appendChild(element);\n",
       "  }\n",
       "\n",
       "  var js_urls = [\"https://code.jquery.com/jquery-3.4.1.min.js\", \"https://cdn.plot.ly/plotly-latest.min.js\", \"https://unpkg.com/tabulator-tables@4.9.3/dist/js/tabulator.js\", \"https://unpkg.com/moment@2.27.0/moment.js\", \"https://cdn.bokeh.org/bokeh/release/bokeh-2.3.1.min.js\", \"https://cdn.bokeh.org/bokeh/release/bokeh-widgets-2.3.1.min.js\", \"https://cdn.bokeh.org/bokeh/release/bokeh-tables-2.3.1.min.js\", \"https://cdn.jsdelivr.net/npm/clipboard@2/dist/clipboard.min.js\", \"https://unpkg.com/@holoviz/panel@^0.11.3/dist/panel.min.js\"];\n",
       "  var js_modules = [];\n",
       "  var css_urls = [\"https://unpkg.com/tabulator-tables@4.9.3/dist/css/tabulator_simple.min.css\", \"https://unpkg.com/@holoviz/panel@0.11.3/dist/css/alerts.css\", \"https://unpkg.com/@holoviz/panel@0.11.3/dist/css/card.css\", \"https://unpkg.com/@holoviz/panel@0.11.3/dist/css/widgets.css\", \"https://unpkg.com/@holoviz/panel@0.11.3/dist/css/markdown.css\", \"https://unpkg.com/@holoviz/panel@0.11.3/dist/css/json.css\", \"https://unpkg.com/@holoviz/panel@0.11.3/dist/css/loading.css\", \"https://unpkg.com/@holoviz/panel@0.11.3/dist/css/dataframe.css\"];\n",
       "  var inline_js = [\n",
       "    function(Bokeh) {\n",
       "      inject_raw_css(\"\\n    .bk.pn-loading.arcs:before {\\n      background-image: url(\\\"data:image/svg+xml;base64,PHN2ZyB4bWxucz0iaHR0cDovL3d3dy53My5vcmcvMjAwMC9zdmciIHhtbG5zOnhsaW5rPSJodHRwOi8vd3d3LnczLm9yZy8xOTk5L3hsaW5rIiBzdHlsZT0ibWFyZ2luOiBhdXRvOyBiYWNrZ3JvdW5kOiBub25lOyBkaXNwbGF5OiBibG9jazsgc2hhcGUtcmVuZGVyaW5nOiBhdXRvOyIgdmlld0JveD0iMCAwIDEwMCAxMDAiIHByZXNlcnZlQXNwZWN0UmF0aW89InhNaWRZTWlkIj4gIDxjaXJjbGUgY3g9IjUwIiBjeT0iNTAiIHI9IjMyIiBzdHJva2Utd2lkdGg9IjgiIHN0cm9rZT0iI2MzYzNjMyIgc3Ryb2tlLWRhc2hhcnJheT0iNTAuMjY1NDgyNDU3NDM2NjkgNTAuMjY1NDgyNDU3NDM2NjkiIGZpbGw9Im5vbmUiIHN0cm9rZS1saW5lY2FwPSJyb3VuZCI+ICAgIDxhbmltYXRlVHJhbnNmb3JtIGF0dHJpYnV0ZU5hbWU9InRyYW5zZm9ybSIgdHlwZT0icm90YXRlIiByZXBlYXRDb3VudD0iaW5kZWZpbml0ZSIgZHVyPSIxcyIga2V5VGltZXM9IjA7MSIgdmFsdWVzPSIwIDUwIDUwOzM2MCA1MCA1MCI+PC9hbmltYXRlVHJhbnNmb3JtPiAgPC9jaXJjbGU+PC9zdmc+\\\")\\n    }\\n    \");\n",
       "    },\n",
       "    function(Bokeh) {\n",
       "      Bokeh.set_log_level(\"info\");\n",
       "    },\n",
       "    function(Bokeh) {} // ensure no trailing comma for IE\n",
       "  ];\n",
       "\n",
       "  function run_inline_js() {\n",
       "    if ((root.Bokeh !== undefined) || (force === true)) {\n",
       "      for (var i = 0; i < inline_js.length; i++) {\n",
       "        inline_js[i].call(root, root.Bokeh);\n",
       "      }} else if (Date.now() < root._bokeh_timeout) {\n",
       "      setTimeout(run_inline_js, 100);\n",
       "    } else if (!root._bokeh_failed_load) {\n",
       "      console.log(\"Bokeh: BokehJS failed to load within specified timeout.\");\n",
       "      root._bokeh_failed_load = true;\n",
       "    }\n",
       "  }\n",
       "\n",
       "  if (root._bokeh_is_loading === 0) {\n",
       "    console.debug(\"Bokeh: BokehJS loaded, going straight to plotting\");\n",
       "    run_inline_js();\n",
       "  } else {\n",
       "    load_libs(css_urls, js_urls, js_modules, function() {\n",
       "      console.debug(\"Bokeh: BokehJS plotting callback run at\", now());\n",
       "      run_inline_js();\n",
       "    });\n",
       "  }\n",
       "}(window));"
      ],
      "application/vnd.holoviews_load.v0+json": "\n(function(root) {\n  function now() {\n    return new Date();\n  }\n\n  var force = true;\n\n  if (typeof root._bokeh_onload_callbacks === \"undefined\" || force === true) {\n    root._bokeh_onload_callbacks = [];\n    root._bokeh_is_loading = undefined;\n  }\n\n  if (typeof (root._bokeh_timeout) === \"undefined\" || force === true) {\n    root._bokeh_timeout = Date.now() + 5000;\n    root._bokeh_failed_load = false;\n  }\n\n  function run_callbacks() {\n    try {\n      root._bokeh_onload_callbacks.forEach(function(callback) {\n        if (callback != null)\n          callback();\n      });\n    } finally {\n      delete root._bokeh_onload_callbacks\n    }\n    console.debug(\"Bokeh: all callbacks have finished\");\n  }\n\n  function load_libs(css_urls, js_urls, js_modules, callback) {\n    if (css_urls == null) css_urls = [];\n    if (js_urls == null) js_urls = [];\n    if (js_modules == null) js_modules = [];\n\n    root._bokeh_onload_callbacks.push(callback);\n    if (root._bokeh_is_loading > 0) {\n      console.debug(\"Bokeh: BokehJS is being loaded, scheduling callback at\", now());\n      return null;\n    }\n    if (js_urls.length === 0 && js_modules.length === 0) {\n      run_callbacks();\n      return null;\n    }\n    console.debug(\"Bokeh: BokehJS not loaded, scheduling load and callback at\", now());\n    root._bokeh_is_loading = css_urls.length + js_urls.length + js_modules.length;\n\n    function on_load() {\n      root._bokeh_is_loading--;\n      if (root._bokeh_is_loading === 0) {\n        console.debug(\"Bokeh: all BokehJS libraries/stylesheets loaded\");\n        run_callbacks()\n      }\n    }\n\n    function on_error() {\n      console.error(\"failed to load \" + url);\n    }\n\n    for (var i = 0; i < css_urls.length; i++) {\n      var url = css_urls[i];\n      const element = document.createElement(\"link\");\n      element.onload = on_load;\n      element.onerror = on_error;\n      element.rel = \"stylesheet\";\n      element.type = \"text/css\";\n      element.href = url;\n      console.debug(\"Bokeh: injecting link tag for BokehJS stylesheet: \", url);\n      document.body.appendChild(element);\n    }\n\n    var skip = [];\n    if (window.requirejs) {\n      window.requirejs.config({'paths': {'tabulator': 'https://unpkg.com/tabulator-tables@4.9.3/dist/js/tabulator'}});\n      window.requirejs.config({'paths': {'plotly': 'https://cdn.plot.ly/plotly-latest.min'}});\n      window.requirejs.config({'paths': {'clipboard': 'https://cdn.jsdelivr.net/npm/clipboard@2/dist/clipboard.min'}});\n      require([\"clipboard\"], function(clipboard,) {\n        window.clipboard = clipboard;\n      })\n    }\n    if (((window['tabulator'] !== undefined) && (!(window['tabulator'] instanceof HTMLElement))) || window.requirejs) {\n      var urls = ['https://unpkg.com/tabulator-tables@4.9.3/dist/js/tabulator.js', 'https://unpkg.com/moment@2.27.0/moment.js'];\n      for (var i = 0; i < urls.length; i++) {\n        skip.push(urls[i])\n      }\n    }\n    if (((window['Plotly'] !== undefined) && (!(window['Plotly'] instanceof HTMLElement))) || window.requirejs) {\n      var urls = ['https://cdn.plot.ly/plotly-latest.min.js'];\n      for (var i = 0; i < urls.length; i++) {\n        skip.push(urls[i])\n      }\n    }\n    for (var i = 0; i < js_urls.length; i++) {\n      var url = js_urls[i];\n      if (skip.indexOf(url) >= 0) { on_load(); continue; }\n      var element = document.createElement('script');\n      element.onload = on_load;\n      element.onerror = on_error;\n      element.async = false;\n      element.src = url;\n      console.debug(\"Bokeh: injecting script tag for BokehJS library: \", url);\n      document.head.appendChild(element);\n    }\n    for (var i = 0; i < js_modules.length; i++) {\n      var url = js_modules[i];\n      if (skip.indexOf(url) >= 0) { on_load(); continue; }\n      var element = document.createElement('script');\n      element.onload = on_load;\n      element.onerror = on_error;\n      element.async = false;\n      element.src = url;\n      element.type = \"module\";\n      console.debug(\"Bokeh: injecting script tag for BokehJS library: \", url);\n      document.head.appendChild(element);\n    }\n    if (!js_urls.length && !js_modules.length) {\n      on_load()\n    }\n  };\n\n  function inject_raw_css(css) {\n    const element = document.createElement(\"style\");\n    element.appendChild(document.createTextNode(css));\n    document.body.appendChild(element);\n  }\n\n  var js_urls = [\"https://code.jquery.com/jquery-3.4.1.min.js\", \"https://cdn.plot.ly/plotly-latest.min.js\", \"https://unpkg.com/tabulator-tables@4.9.3/dist/js/tabulator.js\", \"https://unpkg.com/moment@2.27.0/moment.js\", \"https://cdn.bokeh.org/bokeh/release/bokeh-2.3.1.min.js\", \"https://cdn.bokeh.org/bokeh/release/bokeh-widgets-2.3.1.min.js\", \"https://cdn.bokeh.org/bokeh/release/bokeh-tables-2.3.1.min.js\", \"https://cdn.jsdelivr.net/npm/clipboard@2/dist/clipboard.min.js\", \"https://unpkg.com/@holoviz/panel@^0.11.3/dist/panel.min.js\"];\n  var js_modules = [];\n  var css_urls = [\"https://unpkg.com/tabulator-tables@4.9.3/dist/css/tabulator_simple.min.css\", \"https://unpkg.com/@holoviz/panel@0.11.3/dist/css/alerts.css\", \"https://unpkg.com/@holoviz/panel@0.11.3/dist/css/card.css\", \"https://unpkg.com/@holoviz/panel@0.11.3/dist/css/widgets.css\", \"https://unpkg.com/@holoviz/panel@0.11.3/dist/css/markdown.css\", \"https://unpkg.com/@holoviz/panel@0.11.3/dist/css/json.css\", \"https://unpkg.com/@holoviz/panel@0.11.3/dist/css/loading.css\", \"https://unpkg.com/@holoviz/panel@0.11.3/dist/css/dataframe.css\"];\n  var inline_js = [\n    function(Bokeh) {\n      inject_raw_css(\"\\n    .bk.pn-loading.arcs:before {\\n      background-image: url(\\\"data:image/svg+xml;base64,PHN2ZyB4bWxucz0iaHR0cDovL3d3dy53My5vcmcvMjAwMC9zdmciIHhtbG5zOnhsaW5rPSJodHRwOi8vd3d3LnczLm9yZy8xOTk5L3hsaW5rIiBzdHlsZT0ibWFyZ2luOiBhdXRvOyBiYWNrZ3JvdW5kOiBub25lOyBkaXNwbGF5OiBibG9jazsgc2hhcGUtcmVuZGVyaW5nOiBhdXRvOyIgdmlld0JveD0iMCAwIDEwMCAxMDAiIHByZXNlcnZlQXNwZWN0UmF0aW89InhNaWRZTWlkIj4gIDxjaXJjbGUgY3g9IjUwIiBjeT0iNTAiIHI9IjMyIiBzdHJva2Utd2lkdGg9IjgiIHN0cm9rZT0iI2MzYzNjMyIgc3Ryb2tlLWRhc2hhcnJheT0iNTAuMjY1NDgyNDU3NDM2NjkgNTAuMjY1NDgyNDU3NDM2NjkiIGZpbGw9Im5vbmUiIHN0cm9rZS1saW5lY2FwPSJyb3VuZCI+ICAgIDxhbmltYXRlVHJhbnNmb3JtIGF0dHJpYnV0ZU5hbWU9InRyYW5zZm9ybSIgdHlwZT0icm90YXRlIiByZXBlYXRDb3VudD0iaW5kZWZpbml0ZSIgZHVyPSIxcyIga2V5VGltZXM9IjA7MSIgdmFsdWVzPSIwIDUwIDUwOzM2MCA1MCA1MCI+PC9hbmltYXRlVHJhbnNmb3JtPiAgPC9jaXJjbGU+PC9zdmc+\\\")\\n    }\\n    \");\n    },\n    function(Bokeh) {\n      Bokeh.set_log_level(\"info\");\n    },\n    function(Bokeh) {} // ensure no trailing comma for IE\n  ];\n\n  function run_inline_js() {\n    if ((root.Bokeh !== undefined) || (force === true)) {\n      for (var i = 0; i < inline_js.length; i++) {\n        inline_js[i].call(root, root.Bokeh);\n      }} else if (Date.now() < root._bokeh_timeout) {\n      setTimeout(run_inline_js, 100);\n    } else if (!root._bokeh_failed_load) {\n      console.log(\"Bokeh: BokehJS failed to load within specified timeout.\");\n      root._bokeh_failed_load = true;\n    }\n  }\n\n  if (root._bokeh_is_loading === 0) {\n    console.debug(\"Bokeh: BokehJS loaded, going straight to plotting\");\n    run_inline_js();\n  } else {\n    load_libs(css_urls, js_urls, js_modules, function() {\n      console.debug(\"Bokeh: BokehJS plotting callback run at\", now());\n      run_inline_js();\n    });\n  }\n}(window));"
     },
     "metadata": {},
     "output_type": "display_data"
    },
    {
     "data": {
      "application/javascript": [
       "\n",
       "if ((window.PyViz === undefined) || (window.PyViz instanceof HTMLElement)) {\n",
       "  window.PyViz = {comms: {}, comm_status:{}, kernels:{}, receivers: {}, plot_index: []}\n",
       "}\n",
       "\n",
       "\n",
       "    function JupyterCommManager() {\n",
       "    }\n",
       "\n",
       "    JupyterCommManager.prototype.register_target = function(plot_id, comm_id, msg_handler) {\n",
       "      if (window.comm_manager || ((window.Jupyter !== undefined) && (Jupyter.notebook.kernel != null))) {\n",
       "        var comm_manager = window.comm_manager || Jupyter.notebook.kernel.comm_manager;\n",
       "        comm_manager.register_target(comm_id, function(comm) {\n",
       "          comm.on_msg(msg_handler);\n",
       "        });\n",
       "      } else if ((plot_id in window.PyViz.kernels) && (window.PyViz.kernels[plot_id])) {\n",
       "        window.PyViz.kernels[plot_id].registerCommTarget(comm_id, function(comm) {\n",
       "          comm.onMsg = msg_handler;\n",
       "        });\n",
       "      } else if (typeof google != 'undefined' && google.colab.kernel != null) {\n",
       "        google.colab.kernel.comms.registerTarget(comm_id, (comm) => {\n",
       "          var messages = comm.messages[Symbol.asyncIterator]();\n",
       "          function processIteratorResult(result) {\n",
       "            var message = result.value;\n",
       "            console.log(message)\n",
       "            var content = {data: message.data, comm_id};\n",
       "            var buffers = []\n",
       "            for (var buffer of message.buffers || []) {\n",
       "              buffers.push(new DataView(buffer))\n",
       "            }\n",
       "            var metadata = message.metadata || {};\n",
       "            var msg = {content, buffers, metadata}\n",
       "            msg_handler(msg);\n",
       "            return messages.next().then(processIteratorResult);\n",
       "          }\n",
       "          return messages.next().then(processIteratorResult);\n",
       "        })\n",
       "      }\n",
       "    }\n",
       "\n",
       "    JupyterCommManager.prototype.get_client_comm = function(plot_id, comm_id, msg_handler) {\n",
       "      if (comm_id in window.PyViz.comms) {\n",
       "        return window.PyViz.comms[comm_id];\n",
       "      } else if (window.comm_manager || ((window.Jupyter !== undefined) && (Jupyter.notebook.kernel != null))) {\n",
       "        var comm_manager = window.comm_manager || Jupyter.notebook.kernel.comm_manager;\n",
       "        var comm = comm_manager.new_comm(comm_id, {}, {}, {}, comm_id);\n",
       "        if (msg_handler) {\n",
       "          comm.on_msg(msg_handler);\n",
       "        }\n",
       "      } else if ((plot_id in window.PyViz.kernels) && (window.PyViz.kernels[plot_id])) {\n",
       "        var comm = window.PyViz.kernels[plot_id].connectToComm(comm_id);\n",
       "        comm.open();\n",
       "        if (msg_handler) {\n",
       "          comm.onMsg = msg_handler;\n",
       "        }\n",
       "      } else if (typeof google != 'undefined' && google.colab.kernel != null) {\n",
       "        var comm_promise = google.colab.kernel.comms.open(comm_id)\n",
       "        comm_promise.then((comm) => {\n",
       "          window.PyViz.comms[comm_id] = comm;\n",
       "          if (msg_handler) {\n",
       "            var messages = comm.messages[Symbol.asyncIterator]();\n",
       "            function processIteratorResult(result) {\n",
       "              var message = result.value;\n",
       "              var content = {data: message.data};\n",
       "              var metadata = message.metadata || {comm_id};\n",
       "              var msg = {content, metadata}\n",
       "              msg_handler(msg);\n",
       "              return messages.next().then(processIteratorResult);\n",
       "            }\n",
       "            return messages.next().then(processIteratorResult);\n",
       "          }\n",
       "        }) \n",
       "        var sendClosure = (data, metadata, buffers, disposeOnDone) => {\n",
       "          return comm_promise.then((comm) => {\n",
       "            comm.send(data, metadata, buffers, disposeOnDone);\n",
       "          });\n",
       "        };\n",
       "        var comm = {\n",
       "          send: sendClosure\n",
       "        };\n",
       "      }\n",
       "      window.PyViz.comms[comm_id] = comm;\n",
       "      return comm;\n",
       "    }\n",
       "    window.PyViz.comm_manager = new JupyterCommManager();\n",
       "    \n",
       "\n",
       "\n",
       "var JS_MIME_TYPE = 'application/javascript';\n",
       "var HTML_MIME_TYPE = 'text/html';\n",
       "var EXEC_MIME_TYPE = 'application/vnd.holoviews_exec.v0+json';\n",
       "var CLASS_NAME = 'output';\n",
       "\n",
       "/**\n",
       " * Render data to the DOM node\n",
       " */\n",
       "function render(props, node) {\n",
       "  var div = document.createElement(\"div\");\n",
       "  var script = document.createElement(\"script\");\n",
       "  node.appendChild(div);\n",
       "  node.appendChild(script);\n",
       "}\n",
       "\n",
       "/**\n",
       " * Handle when a new output is added\n",
       " */\n",
       "function handle_add_output(event, handle) {\n",
       "  var output_area = handle.output_area;\n",
       "  var output = handle.output;\n",
       "  if ((output.data == undefined) || (!output.data.hasOwnProperty(EXEC_MIME_TYPE))) {\n",
       "    return\n",
       "  }\n",
       "  var id = output.metadata[EXEC_MIME_TYPE][\"id\"];\n",
       "  var toinsert = output_area.element.find(\".\" + CLASS_NAME.split(' ')[0]);\n",
       "  if (id !== undefined) {\n",
       "    var nchildren = toinsert.length;\n",
       "    var html_node = toinsert[nchildren-1].children[0];\n",
       "    html_node.innerHTML = output.data[HTML_MIME_TYPE];\n",
       "    var scripts = [];\n",
       "    var nodelist = html_node.querySelectorAll(\"script\");\n",
       "    for (var i in nodelist) {\n",
       "      if (nodelist.hasOwnProperty(i)) {\n",
       "        scripts.push(nodelist[i])\n",
       "      }\n",
       "    }\n",
       "\n",
       "    scripts.forEach( function (oldScript) {\n",
       "      var newScript = document.createElement(\"script\");\n",
       "      var attrs = [];\n",
       "      var nodemap = oldScript.attributes;\n",
       "      for (var j in nodemap) {\n",
       "        if (nodemap.hasOwnProperty(j)) {\n",
       "          attrs.push(nodemap[j])\n",
       "        }\n",
       "      }\n",
       "      attrs.forEach(function(attr) { newScript.setAttribute(attr.name, attr.value) });\n",
       "      newScript.appendChild(document.createTextNode(oldScript.innerHTML));\n",
       "      oldScript.parentNode.replaceChild(newScript, oldScript);\n",
       "    });\n",
       "    if (JS_MIME_TYPE in output.data) {\n",
       "      toinsert[nchildren-1].children[1].textContent = output.data[JS_MIME_TYPE];\n",
       "    }\n",
       "    output_area._hv_plot_id = id;\n",
       "    if ((window.Bokeh !== undefined) && (id in Bokeh.index)) {\n",
       "      window.PyViz.plot_index[id] = Bokeh.index[id];\n",
       "    } else {\n",
       "      window.PyViz.plot_index[id] = null;\n",
       "    }\n",
       "  } else if (output.metadata[EXEC_MIME_TYPE][\"server_id\"] !== undefined) {\n",
       "    var bk_div = document.createElement(\"div\");\n",
       "    bk_div.innerHTML = output.data[HTML_MIME_TYPE];\n",
       "    var script_attrs = bk_div.children[0].attributes;\n",
       "    for (var i = 0; i < script_attrs.length; i++) {\n",
       "      toinsert[toinsert.length - 1].childNodes[1].setAttribute(script_attrs[i].name, script_attrs[i].value);\n",
       "    }\n",
       "    // store reference to server id on output_area\n",
       "    output_area._bokeh_server_id = output.metadata[EXEC_MIME_TYPE][\"server_id\"];\n",
       "  }\n",
       "}\n",
       "\n",
       "/**\n",
       " * Handle when an output is cleared or removed\n",
       " */\n",
       "function handle_clear_output(event, handle) {\n",
       "  var id = handle.cell.output_area._hv_plot_id;\n",
       "  var server_id = handle.cell.output_area._bokeh_server_id;\n",
       "  if (((id === undefined) || !(id in PyViz.plot_index)) && (server_id !== undefined)) { return; }\n",
       "  var comm = window.PyViz.comm_manager.get_client_comm(\"hv-extension-comm\", \"hv-extension-comm\", function () {});\n",
       "  if (server_id !== null) {\n",
       "    comm.send({event_type: 'server_delete', 'id': server_id});\n",
       "    return;\n",
       "  } else if (comm !== null) {\n",
       "    comm.send({event_type: 'delete', 'id': id});\n",
       "  }\n",
       "  delete PyViz.plot_index[id];\n",
       "  if ((window.Bokeh !== undefined) & (id in window.Bokeh.index)) {\n",
       "    var doc = window.Bokeh.index[id].model.document\n",
       "    doc.clear();\n",
       "    const i = window.Bokeh.documents.indexOf(doc);\n",
       "    if (i > -1) {\n",
       "      window.Bokeh.documents.splice(i, 1);\n",
       "    }\n",
       "  }\n",
       "}\n",
       "\n",
       "/**\n",
       " * Handle kernel restart event\n",
       " */\n",
       "function handle_kernel_cleanup(event, handle) {\n",
       "  delete PyViz.comms[\"hv-extension-comm\"];\n",
       "  window.PyViz.plot_index = {}\n",
       "}\n",
       "\n",
       "/**\n",
       " * Handle update_display_data messages\n",
       " */\n",
       "function handle_update_output(event, handle) {\n",
       "  handle_clear_output(event, {cell: {output_area: handle.output_area}})\n",
       "  handle_add_output(event, handle)\n",
       "}\n",
       "\n",
       "function register_renderer(events, OutputArea) {\n",
       "  function append_mime(data, metadata, element) {\n",
       "    // create a DOM node to render to\n",
       "    var toinsert = this.create_output_subarea(\n",
       "    metadata,\n",
       "    CLASS_NAME,\n",
       "    EXEC_MIME_TYPE\n",
       "    );\n",
       "    this.keyboard_manager.register_events(toinsert);\n",
       "    // Render to node\n",
       "    var props = {data: data, metadata: metadata[EXEC_MIME_TYPE]};\n",
       "    render(props, toinsert[0]);\n",
       "    element.append(toinsert);\n",
       "    return toinsert\n",
       "  }\n",
       "\n",
       "  events.on('output_added.OutputArea', handle_add_output);\n",
       "  events.on('output_updated.OutputArea', handle_update_output);\n",
       "  events.on('clear_output.CodeCell', handle_clear_output);\n",
       "  events.on('delete.Cell', handle_clear_output);\n",
       "  events.on('kernel_ready.Kernel', handle_kernel_cleanup);\n",
       "\n",
       "  OutputArea.prototype.register_mime_type(EXEC_MIME_TYPE, append_mime, {\n",
       "    safe: true,\n",
       "    index: 0\n",
       "  });\n",
       "}\n",
       "\n",
       "if (window.Jupyter !== undefined) {\n",
       "  try {\n",
       "    var events = require('base/js/events');\n",
       "    var OutputArea = require('notebook/js/outputarea').OutputArea;\n",
       "    if (OutputArea.prototype.mime_types().indexOf(EXEC_MIME_TYPE) == -1) {\n",
       "      register_renderer(events, OutputArea);\n",
       "    }\n",
       "  } catch(err) {\n",
       "  }\n",
       "}\n"
      ],
      "application/vnd.holoviews_load.v0+json": "\nif ((window.PyViz === undefined) || (window.PyViz instanceof HTMLElement)) {\n  window.PyViz = {comms: {}, comm_status:{}, kernels:{}, receivers: {}, plot_index: []}\n}\n\n\n    function JupyterCommManager() {\n    }\n\n    JupyterCommManager.prototype.register_target = function(plot_id, comm_id, msg_handler) {\n      if (window.comm_manager || ((window.Jupyter !== undefined) && (Jupyter.notebook.kernel != null))) {\n        var comm_manager = window.comm_manager || Jupyter.notebook.kernel.comm_manager;\n        comm_manager.register_target(comm_id, function(comm) {\n          comm.on_msg(msg_handler);\n        });\n      } else if ((plot_id in window.PyViz.kernels) && (window.PyViz.kernels[plot_id])) {\n        window.PyViz.kernels[plot_id].registerCommTarget(comm_id, function(comm) {\n          comm.onMsg = msg_handler;\n        });\n      } else if (typeof google != 'undefined' && google.colab.kernel != null) {\n        google.colab.kernel.comms.registerTarget(comm_id, (comm) => {\n          var messages = comm.messages[Symbol.asyncIterator]();\n          function processIteratorResult(result) {\n            var message = result.value;\n            console.log(message)\n            var content = {data: message.data, comm_id};\n            var buffers = []\n            for (var buffer of message.buffers || []) {\n              buffers.push(new DataView(buffer))\n            }\n            var metadata = message.metadata || {};\n            var msg = {content, buffers, metadata}\n            msg_handler(msg);\n            return messages.next().then(processIteratorResult);\n          }\n          return messages.next().then(processIteratorResult);\n        })\n      }\n    }\n\n    JupyterCommManager.prototype.get_client_comm = function(plot_id, comm_id, msg_handler) {\n      if (comm_id in window.PyViz.comms) {\n        return window.PyViz.comms[comm_id];\n      } else if (window.comm_manager || ((window.Jupyter !== undefined) && (Jupyter.notebook.kernel != null))) {\n        var comm_manager = window.comm_manager || Jupyter.notebook.kernel.comm_manager;\n        var comm = comm_manager.new_comm(comm_id, {}, {}, {}, comm_id);\n        if (msg_handler) {\n          comm.on_msg(msg_handler);\n        }\n      } else if ((plot_id in window.PyViz.kernels) && (window.PyViz.kernels[plot_id])) {\n        var comm = window.PyViz.kernels[plot_id].connectToComm(comm_id);\n        comm.open();\n        if (msg_handler) {\n          comm.onMsg = msg_handler;\n        }\n      } else if (typeof google != 'undefined' && google.colab.kernel != null) {\n        var comm_promise = google.colab.kernel.comms.open(comm_id)\n        comm_promise.then((comm) => {\n          window.PyViz.comms[comm_id] = comm;\n          if (msg_handler) {\n            var messages = comm.messages[Symbol.asyncIterator]();\n            function processIteratorResult(result) {\n              var message = result.value;\n              var content = {data: message.data};\n              var metadata = message.metadata || {comm_id};\n              var msg = {content, metadata}\n              msg_handler(msg);\n              return messages.next().then(processIteratorResult);\n            }\n            return messages.next().then(processIteratorResult);\n          }\n        }) \n        var sendClosure = (data, metadata, buffers, disposeOnDone) => {\n          return comm_promise.then((comm) => {\n            comm.send(data, metadata, buffers, disposeOnDone);\n          });\n        };\n        var comm = {\n          send: sendClosure\n        };\n      }\n      window.PyViz.comms[comm_id] = comm;\n      return comm;\n    }\n    window.PyViz.comm_manager = new JupyterCommManager();\n    \n\n\nvar JS_MIME_TYPE = 'application/javascript';\nvar HTML_MIME_TYPE = 'text/html';\nvar EXEC_MIME_TYPE = 'application/vnd.holoviews_exec.v0+json';\nvar CLASS_NAME = 'output';\n\n/**\n * Render data to the DOM node\n */\nfunction render(props, node) {\n  var div = document.createElement(\"div\");\n  var script = document.createElement(\"script\");\n  node.appendChild(div);\n  node.appendChild(script);\n}\n\n/**\n * Handle when a new output is added\n */\nfunction handle_add_output(event, handle) {\n  var output_area = handle.output_area;\n  var output = handle.output;\n  if ((output.data == undefined) || (!output.data.hasOwnProperty(EXEC_MIME_TYPE))) {\n    return\n  }\n  var id = output.metadata[EXEC_MIME_TYPE][\"id\"];\n  var toinsert = output_area.element.find(\".\" + CLASS_NAME.split(' ')[0]);\n  if (id !== undefined) {\n    var nchildren = toinsert.length;\n    var html_node = toinsert[nchildren-1].children[0];\n    html_node.innerHTML = output.data[HTML_MIME_TYPE];\n    var scripts = [];\n    var nodelist = html_node.querySelectorAll(\"script\");\n    for (var i in nodelist) {\n      if (nodelist.hasOwnProperty(i)) {\n        scripts.push(nodelist[i])\n      }\n    }\n\n    scripts.forEach( function (oldScript) {\n      var newScript = document.createElement(\"script\");\n      var attrs = [];\n      var nodemap = oldScript.attributes;\n      for (var j in nodemap) {\n        if (nodemap.hasOwnProperty(j)) {\n          attrs.push(nodemap[j])\n        }\n      }\n      attrs.forEach(function(attr) { newScript.setAttribute(attr.name, attr.value) });\n      newScript.appendChild(document.createTextNode(oldScript.innerHTML));\n      oldScript.parentNode.replaceChild(newScript, oldScript);\n    });\n    if (JS_MIME_TYPE in output.data) {\n      toinsert[nchildren-1].children[1].textContent = output.data[JS_MIME_TYPE];\n    }\n    output_area._hv_plot_id = id;\n    if ((window.Bokeh !== undefined) && (id in Bokeh.index)) {\n      window.PyViz.plot_index[id] = Bokeh.index[id];\n    } else {\n      window.PyViz.plot_index[id] = null;\n    }\n  } else if (output.metadata[EXEC_MIME_TYPE][\"server_id\"] !== undefined) {\n    var bk_div = document.createElement(\"div\");\n    bk_div.innerHTML = output.data[HTML_MIME_TYPE];\n    var script_attrs = bk_div.children[0].attributes;\n    for (var i = 0; i < script_attrs.length; i++) {\n      toinsert[toinsert.length - 1].childNodes[1].setAttribute(script_attrs[i].name, script_attrs[i].value);\n    }\n    // store reference to server id on output_area\n    output_area._bokeh_server_id = output.metadata[EXEC_MIME_TYPE][\"server_id\"];\n  }\n}\n\n/**\n * Handle when an output is cleared or removed\n */\nfunction handle_clear_output(event, handle) {\n  var id = handle.cell.output_area._hv_plot_id;\n  var server_id = handle.cell.output_area._bokeh_server_id;\n  if (((id === undefined) || !(id in PyViz.plot_index)) && (server_id !== undefined)) { return; }\n  var comm = window.PyViz.comm_manager.get_client_comm(\"hv-extension-comm\", \"hv-extension-comm\", function () {});\n  if (server_id !== null) {\n    comm.send({event_type: 'server_delete', 'id': server_id});\n    return;\n  } else if (comm !== null) {\n    comm.send({event_type: 'delete', 'id': id});\n  }\n  delete PyViz.plot_index[id];\n  if ((window.Bokeh !== undefined) & (id in window.Bokeh.index)) {\n    var doc = window.Bokeh.index[id].model.document\n    doc.clear();\n    const i = window.Bokeh.documents.indexOf(doc);\n    if (i > -1) {\n      window.Bokeh.documents.splice(i, 1);\n    }\n  }\n}\n\n/**\n * Handle kernel restart event\n */\nfunction handle_kernel_cleanup(event, handle) {\n  delete PyViz.comms[\"hv-extension-comm\"];\n  window.PyViz.plot_index = {}\n}\n\n/**\n * Handle update_display_data messages\n */\nfunction handle_update_output(event, handle) {\n  handle_clear_output(event, {cell: {output_area: handle.output_area}})\n  handle_add_output(event, handle)\n}\n\nfunction register_renderer(events, OutputArea) {\n  function append_mime(data, metadata, element) {\n    // create a DOM node to render to\n    var toinsert = this.create_output_subarea(\n    metadata,\n    CLASS_NAME,\n    EXEC_MIME_TYPE\n    );\n    this.keyboard_manager.register_events(toinsert);\n    // Render to node\n    var props = {data: data, metadata: metadata[EXEC_MIME_TYPE]};\n    render(props, toinsert[0]);\n    element.append(toinsert);\n    return toinsert\n  }\n\n  events.on('output_added.OutputArea', handle_add_output);\n  events.on('output_updated.OutputArea', handle_update_output);\n  events.on('clear_output.CodeCell', handle_clear_output);\n  events.on('delete.Cell', handle_clear_output);\n  events.on('kernel_ready.Kernel', handle_kernel_cleanup);\n\n  OutputArea.prototype.register_mime_type(EXEC_MIME_TYPE, append_mime, {\n    safe: true,\n    index: 0\n  });\n}\n\nif (window.Jupyter !== undefined) {\n  try {\n    var events = require('base/js/events');\n    var OutputArea = require('notebook/js/outputarea').OutputArea;\n    if (OutputArea.prototype.mime_types().indexOf(EXEC_MIME_TYPE) == -1) {\n      register_renderer(events, OutputArea);\n    }\n  } catch(err) {\n  }\n}\n"
     },
     "metadata": {},
     "output_type": "display_data"
    },
    {
     "data": {},
     "metadata": {},
     "output_type": "display_data"
    },
    {
     "data": {
      "application/vnd.holoviews_exec.v0+json": "",
      "text/html": [
       "<div id='1494'>\n",
       "\n",
       "\n",
       "\n",
       "\n",
       "\n",
       "  <div class=\"bk-root\" id=\"145b5238-233e-4975-8e3e-2e9627acd17a\" data-root-id=\"1494\"></div>\n",
       "</div>\n",
       "<script type=\"application/javascript\">(function(root) {\n",
       "  function embed_document(root) {\n",
       "    var docs_json = {\"ba93a13a-e31c-48ee-96d1-c1414a2e7856\":{\"defs\":[],\"roots\":{\"references\":[{\"attributes\":{\"margin\":[5,10,5,10],\"options\":[[\"0\",\"0\"],[\"1\",\"1\"],[\"-1\",\"-1\"]],\"title\":\"Dipdip\",\"value\":\"1\"},\"id\":\"1616\",\"type\":\"Select\"},{\"attributes\":{\"children\":[{\"id\":\"1824\"}],\"margin\":[0,0,0,0],\"name\":\"Row00692\"},\"id\":\"1823\",\"type\":\"Row\"},{\"attributes\":{\"columns\":[{\"id\":\"1840\"},{\"id\":\"1845\"}],\"height\":670,\"index_position\":null,\"margin\":[5,10,5,10],\"name\":\"\",\"row_height\":40,\"sizing_mode\":\"stretch_width\",\"source\":{\"id\":\"1835\"},\"view\":{\"id\":\"1850\"}},\"id\":\"1848\",\"type\":\"DataTable\"},{\"attributes\":{\"children\":[{\"id\":\"1853\"},{\"id\":\"1854\"},{\"id\":\"1855\"},{\"id\":\"1856\"}],\"margin\":[0,0,0,0],\"name\":\"Row00719\",\"sizing_mode\":\"scale_width\"},\"id\":\"1852\",\"type\":\"Row\"},{\"attributes\":{\"margin\":[5,5,5,5],\"name\":\"Divider00720\",\"style\":{\"height\":\"100%\",\"width\":\"100%\"},\"text\":\"<hr style=\\\"margin: 0px\\\">\",\"width_policy\":\"fit\"},\"id\":\"1857\",\"type\":\"Div\"},{\"attributes\":{},\"id\":\"1859\",\"type\":\"UnionRenderers\"},{\"attributes\":{\"children\":[{\"id\":\"1626\"}],\"css_classes\":[\"card-header-row\"],\"margin\":[0,0,0,0],\"name\":\"Row00766\",\"sizing_mode\":\"stretch_width\"},\"id\":\"1625\",\"type\":\"Row\"},{\"attributes\":{\"children\":[{\"id\":\"1698\"},{\"id\":\"1699\"},{\"id\":\"1718\"},{\"id\":\"1719\"},{\"id\":\"1743\"},{\"id\":\"1744\"},{\"id\":\"1768\"}],\"margin\":[0,0,0,0],\"name\":\"Column00665\",\"sizing_mode\":\"stretch_width\"},\"id\":\"1697\",\"type\":\"Column\"},{\"attributes\":{},\"id\":\"1839\",\"type\":\"CellEditor\"},{\"attributes\":{\"active_header_background\":\"#ccc\",\"button_css_classes\":[\"card-button\"],\"children\":[{\"id\":\"1563\"},{\"id\":\"1565\"}],\"css_classes\":[\"accordion\"],\"header_background\":\"\",\"header_color\":\"\",\"header_css_classes\":[\"accordion-header\"],\"margin\":[0,5,5,5],\"name\":\"Card00747\"},\"id\":\"1562\",\"type\":\"panel.models.layout.Card\"},{\"attributes\":{\"children\":[{\"id\":\"1833\"},{\"id\":\"1834\"}],\"margin\":[0,0,0,0],\"name\":\"Column00723\",\"sizing_mode\":\"scale_width\"},\"id\":\"1832\",\"type\":\"Column\"},{\"attributes\":{\"active_header_background\":\"#ccc\",\"button_css_classes\":[\"card-button\"],\"children\":[{\"id\":\"1689\"},{\"id\":\"1691\"}],\"css_classes\":[\"accordion\"],\"header_background\":\"\",\"header_color\":\"\",\"header_css_classes\":[\"accordion-header\"],\"margin\":[5,5,0,5],\"name\":\"Card00791\"},\"id\":\"1688\",\"type\":\"panel.models.layout.Card\"},{\"attributes\":{},\"id\":\"1722\",\"type\":\"StringFormatter\"},{\"attributes\":{\"client_comm_id\":\"ed0a4e92e4054339b313379976611b4d\",\"comm_id\":\"2b59583d091440b186a5dad4b1c16c9c\",\"plot_id\":\"1494\"},\"id\":\"1895\",\"type\":\"panel.models.comm_manager.CommManager\"},{\"attributes\":{\"editor\":{\"id\":\"1809\"},\"field\":\"idx\",\"formatter\":{\"id\":\"1808\"},\"title\":\"idx\",\"width\":0},\"id\":\"1810\",\"type\":\"TableColumn\"},{\"attributes\":{\"children\":[{\"id\":\"1564\"}],\"css_classes\":[\"card-header-row\"],\"margin\":[0,0,0,0],\"name\":\"Row00746\",\"sizing_mode\":\"stretch_width\"},\"id\":\"1563\",\"type\":\"Row\"},{\"attributes\":{\"children\":[{\"id\":\"1690\"}],\"css_classes\":[\"card-header-row\"],\"margin\":[0,0,0,0],\"name\":\"Row00790\",\"sizing_mode\":\"stretch_width\"},\"id\":\"1689\",\"type\":\"Row\"},{\"attributes\":{\"auto\":true,\"filename\":\"data.xlsx\",\"label\":\"Download data.xlsx\",\"margin\":[5,10,5,10]},\"id\":\"1853\",\"type\":\"panel.models.widgets.FileDownload\"},{\"attributes\":{\"css_classes\":[\"markdown\"],\"margin\":[5,5,5,5],\"name\":\"Markdown00469\",\"text\":\"&lt;p&gt;Compute eps0(omega) from DDB and plot the results.&lt;/p&gt;\"},\"id\":\"1561\",\"type\":\"panel.models.markup.HTML\"},{\"attributes\":{\"css_classes\":[\"card-title\"],\"margin\":[2,5,2,5],\"name\":\"HTML00748\",\"sizing_mode\":\"stretch_width\",\"text\":\"Warning\"},\"id\":\"1564\",\"type\":\"panel.models.markup.HTML\"},{\"attributes\":{\"margin\":[0,0,0,0],\"tabs\":[{\"id\":\"1496\"},{\"id\":\"1523\"},{\"id\":\"1545\"},{\"id\":\"1568\"},{\"id\":\"1589\"},{\"id\":\"1610\"},{\"id\":\"1634\"},{\"id\":\"1658\"},{\"id\":\"1679\"},{\"id\":\"1825\"},{\"id\":\"1858\"}]},\"id\":\"1494\",\"type\":\"Tabs\"},{\"attributes\":{\"css_classes\":[\"card-title\"],\"margin\":[2,5,2,5],\"name\":\"HTML00764\",\"sizing_mode\":\"stretch_width\",\"text\":\"Warning\"},\"id\":\"1606\",\"type\":\"panel.models.markup.HTML\"},{\"attributes\":{},\"id\":\"1729\",\"type\":\"NumberEditor\"},{\"attributes\":{\"children\":[{\"id\":\"1622\"},{\"id\":\"1623\"}],\"margin\":[0,0,0,0],\"name\":\"Column00555\"},\"id\":\"1621\",\"type\":\"Column\"},{\"attributes\":{},\"id\":\"1861\",\"type\":\"UnionRenderers\"},{\"attributes\":{\"children\":[{\"id\":\"1493\"}],\"margin\":[0,0,0,0],\"name\":\"Row00389\"},\"id\":\"1495\",\"type\":\"Row\"},{\"attributes\":{\"margin\":[5,10,5,10],\"options\":[[\"0\",\"0\"],[\"1\",\"1\"],[\"2\",\"2\"]],\"title\":\"Asr\",\"value\":\"2\"},\"id\":\"1549\",\"type\":\"Select\"},{\"attributes\":{\"format\":\"0,0.0[00000]\"},\"id\":\"1728\",\"type\":\"NumberFormatter\"},{\"attributes\":{\"margin\":[5,5,5,5],\"name\":\"Str00551\"},\"id\":\"1609\",\"type\":\"panel.models.markup.HTML\"},{\"attributes\":{\"margin\":[5,10,5,10],\"options\":[[\"0\",\"0\"],[\"1\",\"1\"],[\"-1\",\"-1\"]],\"title\":\"Dipdip\",\"value\":\"1\"},\"id\":\"1551\",\"type\":\"Select\"},{\"attributes\":{\"child\":{\"id\":\"1495\"},\"name\":\"Row00389\",\"title\":\"Summary\"},\"id\":\"1496\",\"type\":\"Panel\"},{\"attributes\":{\"editor\":{\"id\":\"1729\"},\"field\":\"\\u212b\",\"formatter\":{\"id\":\"1728\"},\"title\":\"\\u212b\",\"width\":0},\"id\":\"1730\",\"type\":\"TableColumn\"},{\"attributes\":{\"margin\":[5,5,5,5],\"name\":\"Divider00673\",\"style\":{\"height\":\"100%\",\"width\":\"100%\"},\"text\":\"<hr style=\\\"margin: 0px\\\">\",\"width_policy\":\"fit\"},\"id\":\"1742\",\"type\":\"Div\"},{\"attributes\":{\"children\":[{\"id\":\"1498\"},{\"id\":\"1521\"}],\"margin\":[0,0,0,0],\"name\":\"Row00433\"},\"id\":\"1497\",\"type\":\"Row\"},{\"attributes\":{\"css_classes\":[\"markdown\"],\"margin\":[5,5,5,5],\"name\":\"Markdown00658\",\"text\":\"&lt;p&gt;Visualize input structure.&lt;/p&gt;\"},\"id\":\"1691\",\"type\":\"panel.models.markup.HTML\"},{\"attributes\":{\"child\":{\"id\":\"1497\"},\"name\":\"Row00433\",\"title\":\"PH-bands\"},\"id\":\"1523\",\"type\":\"Panel\"},{\"attributes\":{\"data\":{\"Bohr\":{\"__ndarray__\":\"slVrRGQzEECyVWtEZDMQQGF8bvH7mxpA\",\"dtype\":\"float64\",\"order\":\"little\",\"shape\":[3]},\"Lattice lenghts\":[\"a\",\"b\",\"c\"],\"\\u212b\":{\"__ndarray__\":\"+r0pNm+dHkD6vSk2b50eQNC3hGlkJClA\",\"dtype\":\"float64\",\"order\":\"little\",\"shape\":[3]}},\"selected\":{\"id\":\"1721\"},\"selection_policy\":{\"id\":\"1863\"}},\"id\":\"1720\",\"type\":\"ColumnDataSource\"},{\"attributes\":{\"children\":[{\"id\":\"1499\"},{\"id\":\"1500\"},{\"id\":\"1501\"},{\"id\":\"1502\"},{\"id\":\"1503\"},{\"id\":\"1504\"},{\"id\":\"1505\"},{\"id\":\"1506\"},{\"id\":\"1507\"},{\"id\":\"1508\"},{\"id\":\"1509\"},{\"id\":\"1510\"}],\"margin\":[0,0,0,0],\"name\":\"Column00427\"},\"id\":\"1498\",\"type\":\"Column\"},{\"attributes\":{\"active_header_background\":\"#ccc\",\"button_css_classes\":[\"card-button\"],\"children\":[{\"id\":\"1540\"},{\"id\":\"1542\"}],\"css_classes\":[\"accordion\"],\"header_background\":\"\",\"header_color\":\"\",\"header_css_classes\":[\"accordion-header\"],\"margin\":[0,5,5,5],\"name\":\"Card00739\"},\"id\":\"1539\",\"type\":\"panel.models.layout.Card\"},{\"attributes\":{\"children\":[{\"id\":\"1522\"}],\"margin\":[0,0,0,0],\"name\":\"Row00432\"},\"id\":\"1521\",\"type\":\"Row\"},{\"attributes\":{\"editor\":{\"id\":\"1724\"},\"field\":\"Lattice lenghts\",\"formatter\":{\"id\":\"1722\"},\"title\":\"Lattice lenghts\",\"width\":0},\"id\":\"1725\",\"type\":\"TableColumn\"},{\"attributes\":{\"margin\":[5,10,5,10],\"options\":[[\"0\",\"0\"],[\"1\",\"1\"],[\"2\",\"2\"]],\"title\":\"Chneut\",\"value\":\"1\"},\"id\":\"1550\",\"type\":\"Select\"},{\"attributes\":{\"columns\":[{\"id\":\"1725\"},{\"id\":\"1730\"},{\"id\":\"1735\"}],\"height\":150,\"index_position\":null,\"margin\":[5,10,5,10],\"name\":\"\",\"row_height\":40,\"sizing_mode\":\"stretch_width\",\"source\":{\"id\":\"1720\"},\"view\":{\"id\":\"1740\"}},\"id\":\"1738\",\"type\":\"DataTable\"},{\"attributes\":{\"css_classes\":[\"markdown\"],\"margin\":[5,5,5,5],\"name\":\"warning\",\"text\":\"&lt;p&gt;Refresh the page if the plotly figure is not shown.&lt;/p&gt;\\n&lt;p&gt;Note that widgets for input variables such as &lt;em&gt;asr&lt;/em&gt;, &lt;em&gt;chneut&lt;/em&gt;, &lt;em&gt;dipdip&lt;/em&gt;, &lt;em&gt;dos_method&lt;/em&gt;, &lt;em&gt;etc.&lt;/em&gt;\\nare &lt;strong&gt;shared by the different tabs&lt;/strong&gt;.&lt;/p&gt;\\n&lt;p&gt;This means that if you change the value of one of these variables in the active tab,\\nthe same value will &lt;strong&gt;automagically&lt;/strong&gt; appear in the other tabs yet the results/figures\\nare not automatically recomputed when you change the value.&lt;/p&gt;\\n&lt;p&gt;In other words, if you change some variable in the active tab and then you move to another tab,\\nthe results/figures are stil computed with the &lt;strong&gt;old input variables&lt;/strong&gt; and you will need to\\nrecompute the new results by clicking the button.&lt;/p&gt;\"},\"id\":\"1676\",\"type\":\"panel.models.markup.HTML\"},{\"attributes\":{\"css_classes\":[\"markdown\"],\"margin\":[5,5,5,5],\"name\":\"MyMarkdown00633\",\"text\":\"&lt;h1&gt;IFCs options&lt;/h1&gt;\"},\"id\":\"1661\",\"type\":\"panel.models.markup.HTML\"},{\"attributes\":{},\"id\":\"1724\",\"type\":\"CellEditor\"},{\"attributes\":{\"children\":[{\"id\":\"1541\"}],\"css_classes\":[\"card-header-row\"],\"margin\":[0,0,0,0],\"name\":\"Row00738\",\"sizing_mode\":\"stretch_width\"},\"id\":\"1540\",\"type\":\"Row\"},{\"attributes\":{\"children\":[{\"id\":\"1612\"},{\"id\":\"1632\"}],\"margin\":[0,0,0,0],\"name\":\"Row00588\"},\"id\":\"1611\",\"type\":\"Row\"},{\"attributes\":{\"children\":[{\"id\":\"1738\"},{\"id\":\"1742\"}],\"margin\":[0,0,0,0],\"name\":\"Column00672\",\"sizing_mode\":\"stretch_width\"},\"id\":\"1719\",\"type\":\"Column\"},{\"attributes\":{\"css_classes\":[\"card-title\"],\"margin\":[2,5,2,5],\"name\":\"HTML00740\",\"sizing_mode\":\"stretch_width\",\"text\":\"Warning\"},\"id\":\"1541\",\"type\":\"panel.models.markup.HTML\"},{\"attributes\":{\"margin\":[5,5,5,5],\"name\":\"Divider00559\",\"style\":{\"height\":\"100%\",\"width\":\"100%\"},\"text\":\"<hr style=\\\"margin: 0px\\\">\",\"width_policy\":\"fit\"},\"id\":\"1622\",\"type\":\"Div\"},{\"attributes\":{\"children\":[{\"id\":\"1624\"},{\"id\":\"1628\"}],\"margin\":[0,0,0,0],\"name\":\"Accordion00558\"},\"id\":\"1623\",\"type\":\"Column\"},{\"attributes\":{\"css_classes\":[\"markdown\"],\"margin\":[5,5,5,5],\"name\":\"Markdown00590\",\"text\":\"&lt;p&gt;Compare phonon bands and DOSes computed with/without the inclusion\\nof the dipole-quadrupole and quadrupole-quadrupole terms in the dynamical matrix.\\nRequires DDB file with eps_inf, BECS and dynamical quadrupoles.&lt;/p&gt;\"},\"id\":\"1651\",\"type\":\"panel.models.markup.HTML\"},{\"attributes\":{\"active_header_background\":\"#ccc\",\"button_css_classes\":[\"card-button\"],\"children\":[{\"id\":\"1770\"},{\"id\":\"1772\"}],\"css_classes\":[\"accordion\"],\"header_background\":\"\",\"header_color\":\"\",\"header_css_classes\":[\"accordion-header\"],\"margin\":[5,5,0,5],\"name\":\"Card00799\",\"sizing_mode\":\"stretch_width\"},\"id\":\"1769\",\"type\":\"panel.models.layout.Card\"},{\"attributes\":{},\"id\":\"1813\",\"type\":\"StringFormatter\"},{\"attributes\":{\"margin\":[5,10,5,10],\"title\":\"nsmalls (python list)\",\"value\":\"[10, 20, 30]\"},\"id\":\"1618\",\"type\":\"TextInput\"},{\"attributes\":{\"css_classes\":[\"markdown\"],\"margin\":[5,5,5,5],\"name\":\"MyMarkdown00594\",\"text\":\"&lt;h1&gt;Quadrupoles options&lt;/h1&gt;\"},\"id\":\"1637\",\"type\":\"panel.models.markup.HTML\"},{\"attributes\":{\"children\":[{\"id\":\"1848\"},{\"id\":\"1852\"},{\"id\":\"1857\"}],\"margin\":[0,0,0,0],\"name\":\"Column00714\",\"sizing_mode\":\"stretch_width\"},\"id\":\"1834\",\"type\":\"Column\"},{\"attributes\":{\"source\":{\"id\":\"1800\"}},\"id\":\"1820\",\"type\":\"CDSView\"},{\"attributes\":{\"editor\":{\"id\":\"1734\"},\"field\":\"Bohr\",\"formatter\":{\"id\":\"1733\"},\"title\":\"Bohr\",\"width\":0},\"id\":\"1735\",\"type\":\"TableColumn\"},{\"attributes\":{\"css_classes\":[\"card-title\"],\"margin\":[2,5,2,5],\"name\":\"HTML00760\",\"sizing_mode\":\"stretch_width\",\"text\":\"Help\"},\"id\":\"1602\",\"type\":\"panel.models.markup.HTML\"},{\"attributes\":{\"end\":1000,\"margin\":[5,10,5,10],\"start\":0.0,\"step\":20,\"title\":\"T-range\",\"value\":[0.0,300.0]},\"id\":\"1619\",\"type\":\"RangeSlider\"},{\"attributes\":{\"css_classes\":[\"card-title\"],\"margin\":[2,5,2,5],\"name\":\"HTML00768\",\"sizing_mode\":\"stretch_width\",\"text\":\"Help\"},\"id\":\"1626\",\"type\":\"panel.models.markup.HTML\"},{\"attributes\":{\"editor\":{\"id\":\"1839\"},\"field\":\"Package\",\"formatter\":{\"id\":\"1837\"},\"title\":\"Package\",\"width\":0},\"id\":\"1840\",\"type\":\"TableColumn\"},{\"attributes\":{\"format\":\"0,0.0[00000]\"},\"id\":\"1758\",\"type\":\"NumberFormatter\"},{\"attributes\":{\"children\":[{\"id\":\"1630\"}],\"css_classes\":[\"card-header-row\"],\"margin\":[0,0,0,0],\"name\":\"Row00770\",\"sizing_mode\":\"stretch_width\"},\"id\":\"1629\",\"type\":\"Row\"},{\"attributes\":{\"margin\":[5,10,5,10],\"options\":[[\"0\",\"0\"],[\"1\",\"1\"],[\"2\",\"2\"]],\"title\":\"Chneut\",\"value\":\"1\"},\"id\":\"1615\",\"type\":\"Select\"},{\"attributes\":{},\"id\":\"1734\",\"type\":\"NumberEditor\"},{\"attributes\":{\"active_header_background\":\"#ccc\",\"button_css_classes\":[\"card-button\"],\"children\":[{\"id\":\"1629\"},{\"id\":\"1631\"}],\"css_classes\":[\"accordion\"],\"header_background\":\"\",\"header_color\":\"\",\"header_css_classes\":[\"accordion-header\"],\"margin\":[0,5,5,5],\"name\":\"Card00771\"},\"id\":\"1628\",\"type\":\"panel.models.layout.Card\"},{\"attributes\":{\"children\":[{\"id\":\"1771\"}],\"css_classes\":[\"card-header-row\"],\"margin\":[0,0,0,0],\"name\":\"Row00798\",\"sizing_mode\":\"stretch_width\"},\"id\":\"1770\",\"type\":\"Row\"},{\"attributes\":{\"children\":[{\"id\":\"1633\"}],\"margin\":[0,0,0,0],\"name\":\"Row00587\"},\"id\":\"1632\",\"type\":\"Row\"},{\"attributes\":{\"children\":[{\"id\":\"1827\"},{\"id\":\"1832\"}],\"margin\":[0,0,0,0],\"name\":\"Row00724\"},\"id\":\"1826\",\"type\":\"Row\"},{\"attributes\":{\"children\":[{\"id\":\"1613\"},{\"id\":\"1614\"},{\"id\":\"1615\"},{\"id\":\"1616\"},{\"id\":\"1617\"},{\"id\":\"1618\"},{\"id\":\"1619\"},{\"id\":\"1620\"},{\"id\":\"1621\"}],\"margin\":[0,0,0,0],\"name\":\"Column00582\"},\"id\":\"1612\",\"type\":\"Column\"},{\"attributes\":{\"source\":{\"id\":\"1745\"}},\"id\":\"1765\",\"type\":\"CDSView\"},{\"attributes\":{\"css_classes\":[\"markdown\"],\"margin\":[5,5,5,5],\"name\":\"warning\",\"text\":\"&lt;p&gt;Refresh the page if the plotly figure is not shown.&lt;/p&gt;\\n&lt;p&gt;Note that widgets for input variables such as &lt;em&gt;asr&lt;/em&gt;, &lt;em&gt;chneut&lt;/em&gt;, &lt;em&gt;dipdip&lt;/em&gt;, &lt;em&gt;dos_method&lt;/em&gt;, &lt;em&gt;etc.&lt;/em&gt;\\nare &lt;strong&gt;shared by the different tabs&lt;/strong&gt;.&lt;/p&gt;\\n&lt;p&gt;This means that if you change the value of one of these variables in the active tab,\\nthe same value will &lt;strong&gt;automagically&lt;/strong&gt; appear in the other tabs yet the results/figures\\nare not automatically recomputed when you change the value.&lt;/p&gt;\\n&lt;p&gt;In other words, if you change some variable in the active tab and then you move to another tab,\\nthe results/figures are stil computed with the &lt;strong&gt;old input variables&lt;/strong&gt; and you will need to\\nrecompute the new results by clicking the button.&lt;/p&gt;\"},\"id\":\"1631\",\"type\":\"panel.models.markup.HTML\"},{\"attributes\":{\"margin\":[5,10,5,10],\"options\":[[\"0\",\"0\"],[\"1\",\"1\"],[\"2\",\"2\"]],\"title\":\"Asr\",\"value\":\"2\"},\"id\":\"1614\",\"type\":\"Select\"},{\"attributes\":{\"child\":{\"id\":\"1611\"},\"name\":\"Row00588\",\"title\":\"DOS vs q-mesh\"},\"id\":\"1634\",\"type\":\"Panel\"},{\"attributes\":{\"children\":[{\"id\":\"1828\"},{\"id\":\"1829\"},{\"id\":\"1830\"},{\"id\":\"1831\"}],\"margin\":[0,0,0,0],\"name\":\"Column00712\"},\"id\":\"1827\",\"type\":\"Column\"},{\"attributes\":{\"css_classes\":[\"markdown\"],\"margin\":[5,5,5,5],\"name\":\"MyMarkdown00662\",\"text\":\"&lt;h1&gt;Visualize structure&lt;/h1&gt;\"},\"id\":\"1682\",\"type\":\"panel.models.markup.HTML\"},{\"attributes\":{\"css_classes\":[\"markdown\"],\"margin\":[5,5,5,5],\"name\":\"warning\",\"text\":\"&lt;p&gt;Refresh the page if the plotly figure is not shown.&lt;/p&gt;\\n&lt;p&gt;Note that widgets for input variables such as &lt;em&gt;asr&lt;/em&gt;, &lt;em&gt;chneut&lt;/em&gt;, &lt;em&gt;dipdip&lt;/em&gt;, &lt;em&gt;dos_method&lt;/em&gt;, &lt;em&gt;etc.&lt;/em&gt;\\nare &lt;strong&gt;shared by the different tabs&lt;/strong&gt;.&lt;/p&gt;\\n&lt;p&gt;This means that if you change the value of one of these variables in the active tab,\\nthe same value will &lt;strong&gt;automagically&lt;/strong&gt; appear in the other tabs yet the results/figures\\nare not automatically recomputed when you change the value.&lt;/p&gt;\\n&lt;p&gt;In other words, if you change some variable in the active tab and then you move to another tab,\\nthe results/figures are stil computed with the &lt;strong&gt;old input variables&lt;/strong&gt; and you will need to\\nrecompute the new results by clicking the button.&lt;/p&gt;\"},\"id\":\"1655\",\"type\":\"panel.models.markup.HTML\"},{\"attributes\":{\"css_classes\":[\"markdown\"],\"margin\":[5,5,5,5],\"name\":\"Markdown00629\"},\"id\":\"1672\",\"type\":\"panel.models.markup.HTML\"},{\"attributes\":{\"css_classes\":[\"card-title\"],\"margin\":[2,5,2,5],\"name\":\"HTML00800\",\"sizing_mode\":\"stretch_width\",\"text\":\"Coordinates of Se sites:\"},\"id\":\"1771\",\"type\":\"panel.models.markup.HTML\"},{\"attributes\":{\"margin\":[5,5,5,5],\"name\":\"Divider00687\",\"style\":{\"height\":\"100%\",\"width\":\"100%\"},\"text\":\"<hr style=\\\"margin: 0px\\\">\",\"width_policy\":\"fit\"},\"id\":\"1822\",\"type\":\"Div\"},{\"attributes\":{},\"id\":\"1814\",\"type\":\"StringEditor\"},{\"attributes\":{},\"id\":\"1837\",\"type\":\"StringFormatter\"},{\"attributes\":{},\"id\":\"1759\",\"type\":\"NumberEditor\"},{\"attributes\":{\"source\":{\"id\":\"1835\"}},\"id\":\"1850\",\"type\":\"CDSView\"},{\"attributes\":{\"source\":{\"id\":\"1720\"}},\"id\":\"1740\",\"type\":\"CDSView\"},{\"attributes\":{\"css_classes\":[\"card-title\"],\"margin\":[2,5,2,5],\"name\":\"HTML00772\",\"sizing_mode\":\"stretch_width\",\"text\":\"Warning\"},\"id\":\"1630\",\"type\":\"panel.models.markup.HTML\"},{\"attributes\":{\"indices\":[]},\"id\":\"1836\",\"type\":\"Selection\"},{\"attributes\":{\"data\":{\"Package\":[\"system\",\"python_version\",\"numpy\",\"scipy\",\"netCDF4\",\"apscheduler\",\"pydispatch\",\"yaml\",\"boken\",\"panel\",\"plotly\",\"ase\",\"phonopy\",\"monty\",\"pymatgen\",\"abipy\"],\"version\":[\"Darwin\",\"3.7.0\",\"1.20.2\",\"1.6.2\",\"1.5.6\",\"3.7.0\",\"2.0.5\",\"5.4.1\",\"2.3.1\",\"0.11.3\",\"4.14.3\",\"3.21.1\",\"2.9.3\",\"2021.3.3\",\"2022.0.5\",\"0.9.0\"]},\"selected\":{\"id\":\"1836\"},\"selection_policy\":{\"id\":\"1859\"}},\"id\":\"1835\",\"type\":\"ColumnDataSource\"},{\"attributes\":{\"css_classes\":[\"markdown\"],\"margin\":[5,5,5,5],\"name\":\"warning\",\"text\":\"&lt;p&gt;Refresh the page if the plotly figure is not shown.&lt;/p&gt;\\n&lt;p&gt;Note that widgets for input variables such as &lt;em&gt;asr&lt;/em&gt;, &lt;em&gt;chneut&lt;/em&gt;, &lt;em&gt;dipdip&lt;/em&gt;, &lt;em&gt;dos_method&lt;/em&gt;, &lt;em&gt;etc.&lt;/em&gt;\\nare &lt;strong&gt;shared by the different tabs&lt;/strong&gt;.&lt;/p&gt;\\n&lt;p&gt;This means that if you change the value of one of these variables in the active tab,\\nthe same value will &lt;strong&gt;automagically&lt;/strong&gt; appear in the other tabs yet the results/figures\\nare not automatically recomputed when you change the value.&lt;/p&gt;\\n&lt;p&gt;In other words, if you change some variable in the active tab and then you move to another tab,\\nthe results/figures are stil computed with the &lt;strong&gt;old input variables&lt;/strong&gt; and you will need to\\nrecompute the new results by clicking the button.&lt;/p&gt;\"},\"id\":\"1565\",\"type\":\"panel.models.markup.HTML\"},{\"attributes\":{\"margin\":[5,5,5,5],\"name\":\"Str00585\"},\"id\":\"1633\",\"type\":\"panel.models.markup.HTML\"},{\"attributes\":{\"margin\":[5,5,5,5],\"name\":\"Divider00678\",\"style\":{\"height\":\"100%\",\"width\":\"100%\"},\"text\":\"<hr style=\\\"margin: 0px\\\">\",\"width_policy\":\"fit\"},\"id\":\"1767\",\"type\":\"Div\"},{\"attributes\":{\"format\":\"0,0.0[00000]\"},\"id\":\"1733\",\"type\":\"NumberFormatter\"},{\"attributes\":{},\"id\":\"1843\",\"type\":\"StringFormatter\"},{\"attributes\":{\"editor\":{\"id\":\"1814\"},\"field\":\"frac_coords\",\"formatter\":{\"id\":\"1813\"},\"title\":\"frac_coords\",\"width\":0},\"id\":\"1815\",\"type\":\"TableColumn\"},{\"attributes\":{\"button_type\":\"primary\",\"icon\":null,\"label\":\"Plot PHDos vs Qmesh\",\"margin\":[5,10,5,10],\"subscribed_events\":[\"button_click\"]},\"id\":\"1620\",\"type\":\"Button\"},{\"attributes\":{},\"id\":\"1844\",\"type\":\"StringEditor\"},{\"attributes\":{\"editor\":{\"id\":\"1754\"},\"field\":\"Degrees\",\"formatter\":{\"id\":\"1753\"},\"title\":\"Degrees\",\"width\":0},\"id\":\"1755\",\"type\":\"TableColumn\"},{\"attributes\":{\"children\":[{\"id\":\"1547\"},{\"id\":\"1566\"}],\"margin\":[0,0,0,0],\"name\":\"Row00501\"},\"id\":\"1546\",\"type\":\"Row\"},{\"attributes\":{\"editor\":{\"id\":\"1844\"},\"field\":\"version\",\"formatter\":{\"id\":\"1843\"},\"title\":\"version\",\"width\":0},\"id\":\"1845\",\"type\":\"TableColumn\"},{\"attributes\":{\"editor\":{\"id\":\"1759\"},\"field\":\"Radians\",\"formatter\":{\"id\":\"1758\"},\"title\":\"Radians\",\"width\":0},\"id\":\"1760\",\"type\":\"TableColumn\"},{\"attributes\":{\"children\":[{\"id\":\"1567\"}],\"margin\":[0,0,0,0],\"name\":\"Row00500\"},\"id\":\"1566\",\"type\":\"Row\"},{\"attributes\":{\"css_classes\":[\"card-title\"],\"margin\":[2,5,2,5],\"name\":\"HTML00792\",\"sizing_mode\":\"stretch_width\",\"text\":\"Help\"},\"id\":\"1690\",\"type\":\"panel.models.markup.HTML\"},{\"attributes\":{\"child\":{\"id\":\"1546\"},\"name\":\"Row00501\",\"title\":\"eps0\"},\"id\":\"1568\",\"type\":\"Panel\"},{\"attributes\":{\"css_classes\":[\"markdown\"],\"margin\":[5,5,5,5],\"name\":\"MyMarkdown00669\",\"text\":\"&lt;h1&gt;Space group:&lt;/h1&gt;\"},\"id\":\"1698\",\"type\":\"panel.models.markup.HTML\"},{\"attributes\":{\"active_header_background\":\"#ccc\",\"button_css_classes\":[\"card-button\"],\"children\":[{\"id\":\"1625\"},{\"id\":\"1627\"}],\"css_classes\":[\"accordion\"],\"header_background\":\"\",\"header_color\":\"\",\"header_css_classes\":[\"accordion-header\"],\"margin\":[5,5,0,5],\"name\":\"Card00767\"},\"id\":\"1624\",\"type\":\"panel.models.layout.Card\"},{\"attributes\":{\"indices\":[]},\"id\":\"1721\",\"type\":\"Selection\"},{\"attributes\":{\"children\":[{\"id\":\"1548\"},{\"id\":\"1549\"},{\"id\":\"1550\"},{\"id\":\"1551\"},{\"id\":\"1552\"},{\"id\":\"1553\"},{\"id\":\"1554\"},{\"id\":\"1555\"}],\"margin\":[0,0,0,0],\"name\":\"Column00495\"},\"id\":\"1547\",\"type\":\"Column\"},{\"attributes\":{\"children\":[{\"id\":\"1577\"},{\"id\":\"1578\"}],\"margin\":[0,0,0,0],\"name\":\"Column00502\"},\"id\":\"1576\",\"type\":\"Column\"},{\"attributes\":{\"button_type\":\"primary\",\"icon\":null,\"label\":\"Plot eps0(omega)\",\"margin\":[5,10,5,10],\"subscribed_events\":[\"button_click\"]},\"id\":\"1554\",\"type\":\"Button\"},{\"attributes\":{\"margin\":[5,5,5,5],\"name\":\"Str00498\"},\"id\":\"1567\",\"type\":\"panel.models.markup.HTML\"},{\"attributes\":{\"css_classes\":[\"card-title\"],\"margin\":[2,5,2,5],\"name\":\"HTML00752\",\"sizing_mode\":\"stretch_width\",\"text\":\"Help\"},\"id\":\"1581\",\"type\":\"panel.models.markup.HTML\"},{\"attributes\":{\"children\":[{\"id\":\"1558\"},{\"id\":\"1562\"}],\"margin\":[0,0,0,0],\"name\":\"Accordion00471\"},\"id\":\"1557\",\"type\":\"Column\"},{\"attributes\":{\"children\":[{\"id\":\"1581\"}],\"css_classes\":[\"card-header-row\"],\"margin\":[0,0,0,0],\"name\":\"Row00750\",\"sizing_mode\":\"stretch_width\"},\"id\":\"1580\",\"type\":\"Row\"},{\"attributes\":{\"margin\":[5,5,5,5],\"name\":\"Divider00472\",\"style\":{\"height\":\"100%\",\"width\":\"100%\"},\"text\":\"<hr style=\\\"margin: 0px\\\">\",\"width_policy\":\"fit\"},\"id\":\"1556\",\"type\":\"Div\"},{\"attributes\":{\"active_header_background\":\"#ccc\",\"button_css_classes\":[\"card-button\"],\"children\":[{\"id\":\"1580\"},{\"id\":\"1582\"}],\"css_classes\":[\"accordion\"],\"header_background\":\"\",\"header_color\":\"\",\"header_css_classes\":[\"accordion-header\"],\"margin\":[5,5,0,5],\"name\":\"Card00751\"},\"id\":\"1579\",\"type\":\"panel.models.layout.Card\"},{\"attributes\":{\"children\":[{\"id\":\"1556\"},{\"id\":\"1557\"}],\"margin\":[0,0,0,0],\"name\":\"Column00468\"},\"id\":\"1555\",\"type\":\"Column\"},{\"attributes\":{\"end\":1.0,\"margin\":[5,10,5,10],\"start\":0.0,\"step\":0.001,\"title\":\"Frequency range (eV)\",\"value\":[0.0,0.1]},\"id\":\"1553\",\"type\":\"RangeSlider\"},{\"attributes\":{\"auto\":true,\"filename\":\"data.tex\",\"label\":\"Download data.tex\",\"margin\":[5,10,5,10]},\"id\":\"1854\",\"type\":\"panel.models.widgets.FileDownload\"},{\"attributes\":{\"css_classes\":[\"markdown\"],\"margin\":[5,5,5,5],\"name\":\"MyMarkdown00536\",\"text\":\"&lt;h1&gt;ASR &amp;amp; DIPDIP options&lt;/h1&gt;\"},\"id\":\"1592\",\"type\":\"panel.models.markup.HTML\"},{\"attributes\":{},\"id\":\"1869\",\"type\":\"UnionRenderers\"},{\"attributes\":{\"css_classes\":[\"markdown\"],\"margin\":[5,5,5,5],\"name\":\"MyMarkdown00560\",\"text\":\"&lt;h1&gt;DOS vs q-mesh options&lt;/h1&gt;\"},\"id\":\"1613\",\"type\":\"panel.models.markup.HTML\"},{\"attributes\":{\"margin\":[5,10,5,10],\"options\":[[\"eV\",\"eV\"],[\"meV\",\"meV\"],[\"Ha\",\"Ha\"],[\"cm-1\",\"cm-1\"],[\"Thz\",\"Thz\"]],\"title\":\"Units\",\"value\":\"eV\"},\"id\":\"1829\",\"type\":\"Select\"},{\"attributes\":{\"auto\":true,\"filename\":\"data.json\",\"label\":\"Download data.json\",\"margin\":[5,10,5,10]},\"id\":\"1856\",\"type\":\"panel.models.widgets.FileDownload\"},{\"attributes\":{\"auto\":true,\"filename\":\"data.md\",\"label\":\"Download data.md\",\"margin\":[5,10,5,10]},\"id\":\"1855\",\"type\":\"panel.models.widgets.FileDownload\"},{\"attributes\":{},\"id\":\"1867\",\"type\":\"UnionRenderers\"},{\"attributes\":{\"css_classes\":[\"markdown\"],\"margin\":[5,5,5,5],\"name\":\"Markdown00532\",\"text\":\"&lt;p&gt;Compare phonon bands and DOSes computed with/without the acoustic sum rule\\nand the treatment of the dipole-dipole interaction in the dynamical matrix.\\nRequires DDB file with eps_inf, BECS.&lt;/p&gt;\"},\"id\":\"1603\",\"type\":\"panel.models.markup.HTML\"},{\"attributes\":{},\"id\":\"1865\",\"type\":\"UnionRenderers\"},{\"attributes\":{\"css_classes\":[\"markdown\"],\"margin\":[5,5,5,5],\"name\":\"Markdown00556\",\"text\":\"&lt;p&gt;Compare phonon DOSes computed with/without the inclusion\\nof the dipole-quadrupole and quadrupole-quadrupole terms in the dynamical matrix.\\nRequires DDB file with eps_inf, BECS and dynamical quadrupoles.&lt;/p&gt;\"},\"id\":\"1627\",\"type\":\"panel.models.markup.HTML\"},{\"attributes\":{\"css_classes\":[\"markdown\"],\"margin\":[5,5,5,5],\"name\":\"MyMarkdown00721\",\"text\":\"&lt;h2&gt;Software stack:&lt;/h2&gt;\"},\"id\":\"1833\",\"type\":\"panel.models.markup.HTML\"},{\"attributes\":{\"margin\":[5,10,5,10],\"options\":[[\"tetra\",\"tetra\"],[\"gaussian\",\"gaussian\"]],\"title\":\"Dos method\",\"value\":\"tetra\"},\"id\":\"1617\",\"type\":\"Select\"},{\"attributes\":{\"low\":0,\"margin\":[5,10,5,10],\"mode\":\"int\",\"placeholder\":\"0\",\"title\":\"Verbose\",\"value\":0,\"value_throttled\":0},\"id\":\"1831\",\"type\":\"Spinner\"},{\"attributes\":{},\"id\":\"1863\",\"type\":\"UnionRenderers\"},{\"attributes\":{\"children\":[{\"id\":\"1560\"}],\"css_classes\":[\"card-header-row\"],\"margin\":[0,0,0,0],\"name\":\"Row00742\",\"sizing_mode\":\"stretch_width\"},\"id\":\"1559\",\"type\":\"Row\"},{\"attributes\":{\"css_classes\":[\"markdown\"],\"margin\":[5,5,5,5],\"name\":\"MyMarkdown00473\",\"text\":\"&lt;h1&gt;epsilon_0&lt;/h1&gt;\"},\"id\":\"1548\",\"type\":\"panel.models.markup.HTML\"},{\"attributes\":{\"css_classes\":[\"markdown\"],\"margin\":[5,5,5,5],\"name\":\"MyMarkdown00507\",\"text\":\"&lt;h1&gt;Speed of sound options&lt;/h1&gt;\"},\"id\":\"1571\",\"type\":\"panel.models.markup.HTML\"},{\"attributes\":{\"margin\":[5,5,5,5],\"name\":\"Str00527\"},\"id\":\"1588\",\"type\":\"panel.models.markup.HTML\"},{\"attributes\":{\"active_header_background\":\"#ccc\",\"button_css_classes\":[\"card-button\"],\"children\":[{\"id\":\"1559\"},{\"id\":\"1561\"}],\"css_classes\":[\"accordion\"],\"header_background\":\"\",\"header_color\":\"\",\"header_css_classes\":[\"accordion-header\"],\"margin\":[5,5,0,5],\"name\":\"Card00743\"},\"id\":\"1558\",\"type\":\"panel.models.layout.Card\"},{\"attributes\":{\"low\":1e-20,\"margin\":[5,10,5,10],\"placeholder\":\"0\",\"step\":0.1,\"title\":\"Gamma ev\",\"value\":0.0001,\"value_throttled\":0.0001},\"id\":\"1552\",\"type\":\"Spinner\"},{\"attributes\":{\"children\":[{\"id\":\"1579\"},{\"id\":\"1583\"}],\"margin\":[0,0,0,0],\"name\":\"Accordion00505\"},\"id\":\"1578\",\"type\":\"Column\"},{\"attributes\":{\"margin\":[5,5,5,5],\"name\":\"Divider00506\",\"style\":{\"height\":\"100%\",\"width\":\"100%\"},\"text\":\"<hr style=\\\"margin: 0px\\\">\",\"width_policy\":\"fit\"},\"id\":\"1577\",\"type\":\"Div\"},{\"attributes\":{\"low\":1,\"margin\":[5,10,5,10],\"mode\":\"int\",\"placeholder\":\"0\",\"title\":\"Mpi procs\",\"value\":1,\"value_throttled\":1},\"id\":\"1830\",\"type\":\"Spinner\"},{\"attributes\":{\"css_classes\":[\"card-title\"],\"margin\":[2,5,2,5],\"name\":\"HTML00744\",\"sizing_mode\":\"stretch_width\",\"text\":\"Help\"},\"id\":\"1560\",\"type\":\"panel.models.markup.HTML\"},{\"attributes\":{\"css_classes\":[\"markdown\"],\"margin\":[5,5,5,5],\"name\":\"warning\",\"text\":\"&lt;p&gt;Refresh the page if the plotly figure is not shown.&lt;/p&gt;\\n&lt;p&gt;Note that widgets for input variables such as &lt;em&gt;asr&lt;/em&gt;, &lt;em&gt;chneut&lt;/em&gt;, &lt;em&gt;dipdip&lt;/em&gt;, &lt;em&gt;dos_method&lt;/em&gt;, &lt;em&gt;etc.&lt;/em&gt;\\nare &lt;strong&gt;shared by the different tabs&lt;/strong&gt;.&lt;/p&gt;\\n&lt;p&gt;This means that if you change the value of one of these variables in the active tab,\\nthe same value will &lt;strong&gt;automagically&lt;/strong&gt; appear in the other tabs yet the results/figures\\nare not automatically recomputed when you change the value.&lt;/p&gt;\\n&lt;p&gt;In other words, if you change some variable in the active tab and then you move to another tab,\\nthe results/figures are stil computed with the &lt;strong&gt;old input variables&lt;/strong&gt; and you will need to\\nrecompute the new results by clicking the button.&lt;/p&gt;\"},\"id\":\"1586\",\"type\":\"panel.models.markup.HTML\"},{\"attributes\":{\"css_classes\":[\"markdown\"],\"margin\":[5,5,5,5],\"name\":\"warning\",\"text\":\"&lt;p&gt;Refresh the page if the plotly figure is not shown.&lt;/p&gt;\\n&lt;p&gt;Note that widgets for input variables such as &lt;em&gt;asr&lt;/em&gt;, &lt;em&gt;chneut&lt;/em&gt;, &lt;em&gt;dipdip&lt;/em&gt;, &lt;em&gt;dos_method&lt;/em&gt;, &lt;em&gt;etc.&lt;/em&gt;\\nare &lt;strong&gt;shared by the different tabs&lt;/strong&gt;.&lt;/p&gt;\\n&lt;p&gt;This means that if you change the value of one of these variables in the active tab,\\nthe same value will &lt;strong&gt;automagically&lt;/strong&gt; appear in the other tabs yet the results/figures\\nare not automatically recomputed when you change the value.&lt;/p&gt;\\n&lt;p&gt;In other words, if you change some variable in the active tab and then you move to another tab,\\nthe results/figures are stil computed with the &lt;strong&gt;old input variables&lt;/strong&gt; and you will need to\\nrecompute the new results by clicking the button.&lt;/p&gt;\"},\"id\":\"1607\",\"type\":\"panel.models.markup.HTML\"},{\"attributes\":{\"css_classes\":[\"card-title\"],\"margin\":[2,5,2,5],\"name\":\"HTML00804\",\"sizing_mode\":\"stretch_width\",\"text\":\"Coordinates of Zn sites:\"},\"id\":\"1798\",\"type\":\"panel.models.markup.HTML\"},{\"attributes\":{\"active_header_background\":\"#ccc\",\"button_css_classes\":[\"card-button\"],\"children\":[{\"id\":\"1649\"},{\"id\":\"1651\"}],\"css_classes\":[\"accordion\"],\"header_background\":\"\",\"header_color\":\"\",\"header_css_classes\":[\"accordion-header\"],\"margin\":[5,5,0,5],\"name\":\"Card00775\"},\"id\":\"1648\",\"type\":\"panel.models.layout.Card\"},{\"attributes\":{\"css_classes\":[\"card-title\"],\"margin\":[2,5,2,5],\"name\":\"HTML00776\",\"sizing_mode\":\"stretch_width\",\"text\":\"Help\"},\"id\":\"1650\",\"type\":\"panel.models.markup.HTML\"},{\"attributes\":{\"data\":{\"0\":[\"Zn2 Se2\",4,94.50493606512416,\"NaN\",\"P6_3mc\",186,\"hexagonal\"],\"index\":[\"formula\",\"natom\",\"volume\",\"abi_spg_number\",\"spglib_symb\",\"spglib_num\",\"spglib_lattice_type\"]},\"selected\":{\"id\":\"1701\"},\"selection_policy\":{\"id\":\"1861\"}},\"id\":\"1700\",\"type\":\"ColumnDataSource\"},{\"attributes\":{},\"id\":\"1782\",\"type\":\"IntEditor\"},{\"attributes\":{\"children\":[{\"id\":\"1606\"}],\"css_classes\":[\"card-header-row\"],\"margin\":[0,0,0,0],\"name\":\"Row00762\",\"sizing_mode\":\"stretch_width\"},\"id\":\"1605\",\"type\":\"Row\"},{\"attributes\":{},\"id\":\"1787\",\"type\":\"StringEditor\"},{\"attributes\":{\"children\":[{\"id\":\"1537\"}],\"css_classes\":[\"card-header-row\"],\"margin\":[0,0,0,0],\"name\":\"Row00734\",\"sizing_mode\":\"stretch_width\"},\"id\":\"1536\",\"type\":\"Row\"},{\"attributes\":{\"active\":true,\"icon\":null,\"label\":\"Stacked PJDOS\",\"margin\":[5,10,5,10]},\"id\":\"1507\",\"type\":\"Toggle\"},{\"attributes\":{\"active_header_background\":\"#ccc\",\"button_css_classes\":[\"card-button\"],\"children\":[{\"id\":\"1670\"},{\"id\":\"1672\"}],\"css_classes\":[\"accordion\"],\"header_background\":\"\",\"header_color\":\"\",\"header_css_classes\":[\"accordion-header\"],\"margin\":[5,5,0,5],\"name\":\"Card00783\"},\"id\":\"1669\",\"type\":\"panel.models.layout.Card\"},{\"attributes\":{\"margin\":[5,10,5,10],\"options\":[[\"0\",\"0\"],[\"1\",\"1\"],[\"-1\",\"-1\"]],\"title\":\"Dipdip\",\"value\":\"1\"},\"id\":\"1504\",\"type\":\"Select\"},{\"attributes\":{\"margin\":[5,10,5,10],\"options\":[[\"automatic\",\"automatic\"],[\"True\",\"True\"],[\"False\",\"False\"]],\"title\":\"Lo to splitting\",\"value\":\"automatic\"},\"id\":\"1505\",\"type\":\"Select\"},{\"attributes\":{\"children\":[{\"id\":\"1657\"}],\"margin\":[0,0,0,0],\"name\":\"Row00626\"},\"id\":\"1656\",\"type\":\"Row\"},{\"attributes\":{\"editor\":{\"id\":\"1787\"},\"field\":\"frac_coords\",\"formatter\":{\"id\":\"1786\"},\"title\":\"frac_coords\",\"width\":0},\"id\":\"1788\",\"type\":\"TableColumn\"},{\"attributes\":{\"margin\":[5,10,5,10],\"options\":[[\"tetra\",\"tetra\"],[\"gaussian\",\"gaussian\"]],\"title\":\"Dos method\",\"value\":\"tetra\"},\"id\":\"1506\",\"type\":\"Select\"},{\"attributes\":{\"children\":[{\"id\":\"1648\"},{\"id\":\"1652\"}],\"margin\":[0,0,0,0],\"name\":\"Accordion00592\"},\"id\":\"1647\",\"type\":\"Column\"},{\"attributes\":{},\"id\":\"1781\",\"type\":\"NumberFormatter\"},{\"attributes\":{\"css_classes\":[\"markdown\"],\"margin\":[5,5,5,5],\"name\":\"Markdown00391\",\"text\":\"&lt;p&gt;Compute phonon bands and DOSes from DDB and plot the results.&lt;/p&gt;\"},\"id\":\"1516\",\"type\":\"panel.models.markup.HTML\"},{\"attributes\":{\"children\":[{\"id\":\"1654\"}],\"css_classes\":[\"card-header-row\"],\"margin\":[0,0,0,0],\"name\":\"Row00778\",\"sizing_mode\":\"stretch_width\"},\"id\":\"1653\",\"type\":\"Row\"},{\"attributes\":{\"end\":1000,\"margin\":[5,10,5,10],\"start\":0.0,\"step\":20,\"title\":\"T-range\",\"value\":[0.0,300.0]},\"id\":\"1508\",\"type\":\"RangeSlider\"},{\"attributes\":{\"low\":1e-20,\"margin\":[5,10,5,10],\"placeholder\":\"0\",\"step\":0.1,\"title\":\"Gamma ev\",\"value\":0.0001,\"value_throttled\":0.0001},\"id\":\"1530\",\"type\":\"Spinner\"},{\"attributes\":{\"button_type\":\"primary\",\"icon\":null,\"label\":\"Compute phonons with/wo ASR and DIPDIP\",\"margin\":[5,10,5,10],\"subscribed_events\":[\"button_click\"]},\"id\":\"1596\",\"type\":\"Button\"},{\"attributes\":{\"children\":[{\"id\":\"1713\"},{\"id\":\"1717\"}],\"margin\":[0,0,0,0],\"name\":\"Column00667\",\"sizing_mode\":\"stretch_width\"},\"id\":\"1699\",\"type\":\"Column\"},{\"attributes\":{\"children\":[{\"id\":\"1818\"},{\"id\":\"1822\"}],\"margin\":[0,0,0,0],\"name\":\"Column00686\",\"sizing_mode\":\"stretch_width\"},\"id\":\"1799\",\"type\":\"Column\"},{\"attributes\":{\"active_header_background\":\"#ccc\",\"button_css_classes\":[\"card-button\"],\"children\":[{\"id\":\"1653\"},{\"id\":\"1655\"}],\"css_classes\":[\"accordion\"],\"header_background\":\"\",\"header_color\":\"\",\"header_css_classes\":[\"accordion-header\"],\"margin\":[0,5,5,5],\"name\":\"Card00779\"},\"id\":\"1652\",\"type\":\"panel.models.layout.Card\"},{\"attributes\":{\"active_header_background\":\"#ccc\",\"button_css_classes\":[\"card-button\"],\"children\":[{\"id\":\"1536\"},{\"id\":\"1538\"}],\"css_classes\":[\"accordion\"],\"header_background\":\"\",\"header_color\":\"\",\"header_css_classes\":[\"accordion-header\"],\"margin\":[5,5,0,5],\"name\":\"Card00735\"},\"id\":\"1535\",\"type\":\"panel.models.layout.Card\"},{\"attributes\":{\"button_type\":\"primary\",\"icon\":null,\"label\":\"Plot Bands and DOS\",\"margin\":[5,10,5,10],\"subscribed_events\":[\"button_click\"]},\"id\":\"1509\",\"type\":\"Button\"},{\"attributes\":{\"children\":[{\"id\":\"1650\"}],\"css_classes\":[\"card-header-row\"],\"margin\":[0,0,0,0],\"name\":\"Row00774\",\"sizing_mode\":\"stretch_width\"},\"id\":\"1649\",\"type\":\"Row\"},{\"attributes\":{\"button_type\":\"primary\",\"icon\":null,\"label\":\"Plot PHbands with/without quadrupoles\",\"margin\":[5,10,5,10],\"subscribed_events\":[\"button_click\"]},\"id\":\"1644\",\"type\":\"Button\"},{\"attributes\":{\"editor\":{\"id\":\"1782\"},\"field\":\"idx\",\"formatter\":{\"id\":\"1781\"},\"title\":\"idx\",\"width\":0},\"id\":\"1783\",\"type\":\"TableColumn\"},{\"attributes\":{\"children\":[{\"id\":\"1511\"},{\"id\":\"1512\"}],\"margin\":[0,0,0,0],\"name\":\"Column00390\"},\"id\":\"1510\",\"type\":\"Column\"},{\"attributes\":{\"margin\":[5,10,5,10],\"options\":[[\"tetra\",\"tetra\"],[\"gaussian\",\"gaussian\"]],\"title\":\"Dos method\",\"value\":\"tetra\"},\"id\":\"1643\",\"type\":\"Select\"},{\"attributes\":{},\"id\":\"1808\",\"type\":\"NumberFormatter\"},{\"attributes\":{\"margin\":[5,5,5,5],\"name\":\"Str00624\"},\"id\":\"1657\",\"type\":\"panel.models.markup.HTML\"},{\"attributes\":{\"margin\":[5,5,5,5],\"name\":\"Divider00394\",\"style\":{\"height\":\"100%\",\"width\":\"100%\"},\"text\":\"<hr style=\\\"margin: 0px\\\">\",\"width_policy\":\"fit\"},\"id\":\"1511\",\"type\":\"Div\"},{\"attributes\":{\"child\":{\"id\":\"1590\"},\"name\":\"Row00554\",\"title\":\"ASR & DIPDIP\"},\"id\":\"1610\",\"type\":\"Panel\"},{\"attributes\":{\"children\":[{\"id\":\"1533\"},{\"id\":\"1534\"}],\"margin\":[0,0,0,0],\"name\":\"Column00434\"},\"id\":\"1532\",\"type\":\"Column\"},{\"attributes\":{\"children\":[{\"id\":\"1513\"},{\"id\":\"1517\"}],\"margin\":[0,0,0,0],\"name\":\"Accordion00393\"},\"id\":\"1512\",\"type\":\"Column\"},{\"attributes\":{\"css_classes\":[\"card-title\"],\"margin\":[2,5,2,5],\"name\":\"HTML00736\",\"sizing_mode\":\"stretch_width\",\"text\":\"Help\"},\"id\":\"1537\",\"type\":\"panel.models.markup.HTML\"},{\"attributes\":{\"children\":[{\"id\":\"1600\"},{\"id\":\"1604\"}],\"margin\":[0,0,0,0],\"name\":\"Accordion00534\"},\"id\":\"1599\",\"type\":\"Column\"},{\"attributes\":{\"children\":[{\"id\":\"1798\"}],\"css_classes\":[\"card-header-row\"],\"margin\":[0,0,0,0],\"name\":\"Row00802\",\"sizing_mode\":\"stretch_width\"},\"id\":\"1797\",\"type\":\"Row\"},{\"attributes\":{\"css_classes\":[\"markdown\"],\"margin\":[5,5,5,5],\"name\":\"MyMarkdown00439\",\"text\":\"&lt;h1&gt;Born effective charges options&lt;/h1&gt;\"},\"id\":\"1526\",\"type\":\"panel.models.markup.HTML\"},{\"attributes\":{\"active_header_background\":\"#ccc\",\"button_css_classes\":[\"card-button\"],\"children\":[{\"id\":\"1797\"},{\"id\":\"1799\"}],\"css_classes\":[\"accordion\"],\"header_background\":\"\",\"header_color\":\"\",\"header_css_classes\":[\"accordion-header\"],\"margin\":[0,5,5,5],\"name\":\"Card00803\",\"sizing_mode\":\"stretch_width\"},\"id\":\"1796\",\"type\":\"panel.models.layout.Card\"},{\"attributes\":{\"margin\":[5,5,5,5],\"name\":\"Str00430\"},\"id\":\"1522\",\"type\":\"panel.models.markup.HTML\"},{\"attributes\":{\"children\":[{\"id\":\"1637\"},{\"id\":\"1638\"},{\"id\":\"1639\"},{\"id\":\"1640\"},{\"id\":\"1641\"},{\"id\":\"1642\"},{\"id\":\"1643\"},{\"id\":\"1644\"},{\"id\":\"1645\"}],\"margin\":[0,0,0,0],\"name\":\"Column00621\"},\"id\":\"1636\",\"type\":\"Column\"},{\"attributes\":{\"children\":[{\"id\":\"1535\"},{\"id\":\"1539\"}],\"margin\":[0,0,0,0],\"name\":\"Accordion00437\"},\"id\":\"1534\",\"type\":\"Column\"},{\"attributes\":{\"margin\":[5,5,5,5],\"name\":\"Divider00535\",\"style\":{\"height\":\"100%\",\"width\":\"100%\"},\"text\":\"<hr style=\\\"margin: 0px\\\">\",\"width_policy\":\"fit\"},\"id\":\"1598\",\"type\":\"Div\"},{\"attributes\":{\"children\":[{\"id\":\"1598\"},{\"id\":\"1599\"}],\"margin\":[0,0,0,0],\"name\":\"Column00531\"},\"id\":\"1597\",\"type\":\"Column\"},{\"attributes\":{},\"id\":\"1809\",\"type\":\"IntEditor\"},{\"attributes\":{\"children\":[{\"id\":\"1609\"}],\"margin\":[0,0,0,0],\"name\":\"Row00553\"},\"id\":\"1608\",\"type\":\"Row\"},{\"attributes\":{\"children\":[{\"id\":\"1636\"},{\"id\":\"1656\"}],\"margin\":[0,0,0,0],\"name\":\"Row00627\"},\"id\":\"1635\",\"type\":\"Row\"},{\"attributes\":{\"margin\":[5,5,5,5],\"name\":\"Str00464\"},\"id\":\"1544\",\"type\":\"panel.models.markup.HTML\"},{\"attributes\":{\"low\":1,\"margin\":[5,10,5,10],\"mode\":\"int\",\"placeholder\":\"0\",\"title\":\"ndivsm\",\"value\":5,\"value_throttled\":5},\"id\":\"1594\",\"type\":\"Spinner\"},{\"attributes\":{},\"id\":\"1802\",\"type\":\"NumberFormatter\"},{\"attributes\":{\"active_header_background\":\"#ccc\",\"button_css_classes\":[\"card-button\"],\"children\":[{\"id\":\"1514\"},{\"id\":\"1516\"}],\"css_classes\":[\"accordion\"],\"header_background\":\"\",\"header_color\":\"\",\"header_css_classes\":[\"accordion-header\"],\"margin\":[5,5,0,5],\"name\":\"Card00727\"},\"id\":\"1513\",\"type\":\"panel.models.layout.Card\"},{\"attributes\":{\"low\":1,\"margin\":[5,10,5,10],\"mode\":\"int\",\"placeholder\":\"0\",\"title\":\"Nqsmall\",\"value\":10,\"value_throttled\":10},\"id\":\"1593\",\"type\":\"Spinner\"},{\"attributes\":{},\"id\":\"1804\",\"type\":\"CellEditor\"},{\"attributes\":{\"children\":[{\"id\":\"1525\"},{\"id\":\"1543\"}],\"margin\":[0,0,0,0],\"name\":\"Row00467\"},\"id\":\"1524\",\"type\":\"Row\"},{\"attributes\":{\"children\":[{\"id\":\"1588\"}],\"margin\":[0,0,0,0],\"name\":\"Row00529\"},\"id\":\"1587\",\"type\":\"Row\"},{\"attributes\":{\"children\":[{\"id\":\"1515\"}],\"css_classes\":[\"card-header-row\"],\"margin\":[0,0,0,0],\"name\":\"Row00726\",\"sizing_mode\":\"stretch_width\"},\"id\":\"1514\",\"type\":\"Row\"},{\"attributes\":{\"child\":{\"id\":\"1826\"},\"name\":\"Row00724\",\"title\":\"Global\"},\"id\":\"1858\",\"type\":\"Panel\"},{\"attributes\":{\"child\":{\"id\":\"1524\"},\"name\":\"Row00467\",\"title\":\"BECs\"},\"id\":\"1545\",\"type\":\"Panel\"},{\"attributes\":{\"css_classes\":[\"markdown\"],\"margin\":[5,5,5,5],\"name\":\"warning\",\"text\":\"&lt;p&gt;Refresh the page if the plotly figure is not shown.&lt;/p&gt;\\n&lt;p&gt;Note that widgets for input variables such as &lt;em&gt;asr&lt;/em&gt;, &lt;em&gt;chneut&lt;/em&gt;, &lt;em&gt;dipdip&lt;/em&gt;, &lt;em&gt;dos_method&lt;/em&gt;, &lt;em&gt;etc.&lt;/em&gt;\\nare &lt;strong&gt;shared by the different tabs&lt;/strong&gt;.&lt;/p&gt;\\n&lt;p&gt;This means that if you change the value of one of these variables in the active tab,\\nthe same value will &lt;strong&gt;automagically&lt;/strong&gt; appear in the other tabs yet the results/figures\\nare not automatically recomputed when you change the value.&lt;/p&gt;\\n&lt;p&gt;In other words, if you change some variable in the active tab and then you move to another tab,\\nthe results/figures are stil computed with the &lt;strong&gt;old input variables&lt;/strong&gt; and you will need to\\nrecompute the new results by clicking the button.&lt;/p&gt;\"},\"id\":\"1542\",\"type\":\"panel.models.markup.HTML\"},{\"attributes\":{\"css_classes\":[\"markdown\"],\"margin\":[5,5,5,5],\"name\":\"Markdown00435\",\"text\":\"&lt;p&gt;Compute eps_infinity and Born effective charges from DDB.&lt;/p&gt;\"},\"id\":\"1538\",\"type\":\"panel.models.markup.HTML\"},{\"attributes\":{\"css_classes\":[\"card-title\"],\"margin\":[2,5,2,5],\"name\":\"HTML00728\",\"sizing_mode\":\"stretch_width\",\"text\":\"Help\"},\"id\":\"1515\",\"type\":\"panel.models.markup.HTML\"},{\"attributes\":{\"data\":{\"frac_coords\":[[0.33333333333333,0.66666666666667,0.9996220302],[0.66666666666667,0.33333333333333,0.4996220302]],\"idx\":[0,1],\"index\":[0,1]},\"selected\":{\"id\":\"1801\"},\"selection_policy\":{\"id\":\"1869\"}},\"id\":\"1800\",\"type\":\"ColumnDataSource\"},{\"attributes\":{\"children\":[{\"id\":\"1526\"},{\"id\":\"1527\"},{\"id\":\"1528\"},{\"id\":\"1529\"},{\"id\":\"1530\"},{\"id\":\"1531\"},{\"id\":\"1532\"}],\"margin\":[0,0,0,0],\"name\":\"Column00461\"},\"id\":\"1525\",\"type\":\"Column\"},{\"attributes\":{\"active_header_background\":\"#ccc\",\"button_css_classes\":[\"card-button\"],\"children\":[{\"id\":\"1518\"},{\"id\":\"1520\"}],\"css_classes\":[\"accordion\"],\"header_background\":\"\",\"header_color\":\"\",\"header_css_classes\":[\"accordion-header\"],\"margin\":[0,5,5,5],\"name\":\"Card00731\"},\"id\":\"1517\",\"type\":\"panel.models.layout.Card\"},{\"attributes\":{\"children\":[{\"id\":\"1544\"}],\"margin\":[0,0,0,0],\"name\":\"Row00466\"},\"id\":\"1543\",\"type\":\"Row\"},{\"attributes\":{\"source\":{\"id\":\"1773\"}},\"id\":\"1793\",\"type\":\"CDSView\"},{\"attributes\":{\"columns\":[{\"id\":\"1805\"},{\"id\":\"1810\"},{\"id\":\"1815\"}],\"height\":110,\"index_position\":null,\"margin\":[5,10,5,10],\"name\":\"\",\"row_height\":40,\"sizing_mode\":\"stretch_width\",\"source\":{\"id\":\"1800\"},\"view\":{\"id\":\"1820\"}},\"id\":\"1818\",\"type\":\"DataTable\"},{\"attributes\":{\"margin\":[5,10,5,10],\"options\":[[\"0\",\"0\"],[\"1\",\"1\"],[\"2\",\"2\"]],\"title\":\"Chneut\",\"value\":\"1\"},\"id\":\"1528\",\"type\":\"Select\"},{\"attributes\":{\"editor\":{\"id\":\"1777\"},\"field\":\"index\",\"formatter\":{\"id\":\"1775\"},\"title\":\"index\",\"width\":0},\"id\":\"1778\",\"type\":\"TableColumn\"},{\"attributes\":{\"children\":[{\"id\":\"1519\"}],\"css_classes\":[\"card-header-row\"],\"margin\":[0,0,0,0],\"name\":\"Row00730\",\"sizing_mode\":\"stretch_width\"},\"id\":\"1518\",\"type\":\"Row\"},{\"attributes\":{\"margin\":[5,5,5,5],\"name\":\"Str00690\"},\"id\":\"1824\",\"type\":\"panel.models.markup.HTML\"},{\"attributes\":{\"margin\":[5,5,5,5],\"name\":\"Divider00684\",\"style\":{\"height\":\"100%\",\"width\":\"100%\"},\"text\":\"<hr style=\\\"margin: 0px\\\">\",\"width_policy\":\"fit\"},\"id\":\"1795\",\"type\":\"Div\"},{\"attributes\":{\"editor\":{\"id\":\"1804\"},\"field\":\"index\",\"formatter\":{\"id\":\"1802\"},\"title\":\"index\",\"width\":0},\"id\":\"1805\",\"type\":\"TableColumn\"},{\"attributes\":{\"margin\":[5,5,5,5],\"name\":\"Divider00593\",\"style\":{\"height\":\"100%\",\"width\":\"100%\"},\"text\":\"<hr style=\\\"margin: 0px\\\">\",\"width_policy\":\"fit\"},\"id\":\"1646\",\"type\":\"Div\"},{\"attributes\":{\"button_type\":\"primary\",\"icon\":null,\"label\":\"Compute\",\"margin\":[5,10,5,10],\"subscribed_events\":[\"button_click\"]},\"id\":\"1531\",\"type\":\"Button\"},{\"attributes\":{\"margin\":[5,10,5,10],\"options\":[[\"0\",\"0\"],[\"1\",\"1\"],[\"-1\",\"-1\"]],\"title\":\"Dipdip\",\"value\":\"1\"},\"id\":\"1529\",\"type\":\"Select\"},{\"attributes\":{\"css_classes\":[\"markdown\"],\"margin\":[5,5,5,5],\"name\":\"warning\",\"text\":\"&lt;p&gt;Refresh the page if the plotly figure is not shown.&lt;/p&gt;\\n&lt;p&gt;Note that widgets for input variables such as &lt;em&gt;asr&lt;/em&gt;, &lt;em&gt;chneut&lt;/em&gt;, &lt;em&gt;dipdip&lt;/em&gt;, &lt;em&gt;dos_method&lt;/em&gt;, &lt;em&gt;etc.&lt;/em&gt;\\nare &lt;strong&gt;shared by the different tabs&lt;/strong&gt;.&lt;/p&gt;\\n&lt;p&gt;This means that if you change the value of one of these variables in the active tab,\\nthe same value will &lt;strong&gt;automagically&lt;/strong&gt; appear in the other tabs yet the results/figures\\nare not automatically recomputed when you change the value.&lt;/p&gt;\\n&lt;p&gt;In other words, if you change some variable in the active tab and then you move to another tab,\\nthe results/figures are stil computed with the &lt;strong&gt;old input variables&lt;/strong&gt; and you will need to\\nrecompute the new results by clicking the button.&lt;/p&gt;\"},\"id\":\"1520\",\"type\":\"panel.models.markup.HTML\"},{\"attributes\":{\"indices\":[]},\"id\":\"1801\",\"type\":\"Selection\"},{\"attributes\":{\"margin\":[5,5,5,5],\"name\":\"Divider00438\",\"style\":{\"height\":\"100%\",\"width\":\"100%\"},\"text\":\"<hr style=\\\"margin: 0px\\\">\",\"width_policy\":\"fit\"},\"id\":\"1533\",\"type\":\"Div\"},{\"attributes\":{\"css_classes\":[\"card-title\"],\"margin\":[2,5,2,5],\"name\":\"HTML00732\",\"sizing_mode\":\"stretch_width\",\"text\":\"Warning\"},\"id\":\"1519\",\"type\":\"panel.models.markup.HTML\"},{\"attributes\":{\"margin\":[5,10,5,10],\"options\":[[\"tetra\",\"tetra\"],[\"gaussian\",\"gaussian\"]],\"title\":\"Dos method\",\"value\":\"tetra\"},\"id\":\"1595\",\"type\":\"Select\"},{\"attributes\":{},\"id\":\"1786\",\"type\":\"StringFormatter\"},{\"attributes\":{\"button_type\":\"primary\",\"icon\":null,\"label\":\"Calculate speed of sound\",\"margin\":[5,10,5,10],\"subscribed_events\":[\"button_click\"]},\"id\":\"1575\",\"type\":\"Button\"},{\"attributes\":{},\"id\":\"1777\",\"type\":\"CellEditor\"},{\"attributes\":{\"active_header_background\":\"#ccc\",\"button_css_classes\":[\"card-button\"],\"children\":[{\"id\":\"1605\"},{\"id\":\"1607\"}],\"css_classes\":[\"accordion\"],\"header_background\":\"\",\"header_color\":\"\",\"header_css_classes\":[\"accordion-header\"],\"margin\":[0,5,5,5],\"name\":\"Card00763\"},\"id\":\"1604\",\"type\":\"panel.models.layout.Card\"},{\"attributes\":{\"css_classes\":[\"card-title\"],\"margin\":[2,5,2,5],\"name\":\"HTML00780\",\"sizing_mode\":\"stretch_width\",\"text\":\"Warning\"},\"id\":\"1654\",\"type\":\"panel.models.markup.HTML\"},{\"attributes\":{\"css_classes\":[\"markdown\"],\"margin\":[5,5,5,5],\"name\":\"MyMarkdown00679\",\"text\":\"&lt;h1&gt;Lattice angles:&lt;/h1&gt;\"},\"id\":\"1743\",\"type\":\"panel.models.markup.HTML\"},{\"attributes\":{\"children\":[{\"id\":\"1570\"},{\"id\":\"1587\"}],\"margin\":[0,0,0,0],\"name\":\"Row00530\"},\"id\":\"1569\",\"type\":\"Row\"},{\"attributes\":{\"css_classes\":[\"markdown\"],\"margin\":[5,5,5,5],\"name\":\"MyMarkdown00695\",\"text\":\"&lt;h1&gt;Global options&lt;/h1&gt;\"},\"id\":\"1828\",\"type\":\"panel.models.markup.HTML\"},{\"attributes\":{\"children\":[{\"id\":\"1571\"},{\"id\":\"1572\"},{\"id\":\"1573\"},{\"id\":\"1574\"},{\"id\":\"1575\"},{\"id\":\"1576\"}],\"margin\":[0,0,0,0],\"name\":\"Column00524\"},\"id\":\"1570\",\"type\":\"Column\"},{\"attributes\":{\"margin\":[5,10,5,10],\"options\":[[\"0\",\"0\"],[\"1\",\"1\"],[\"2\",\"2\"]],\"title\":\"Asr\",\"value\":\"2\"},\"id\":\"1527\",\"type\":\"Select\"},{\"attributes\":{\"child\":{\"id\":\"1569\"},\"name\":\"Row00530\",\"title\":\"Speed of sound\"},\"id\":\"1589\",\"type\":\"Panel\"},{\"attributes\":{\"children\":[{\"id\":\"1646\"},{\"id\":\"1647\"}],\"margin\":[0,0,0,0],\"name\":\"Column00589\"},\"id\":\"1645\",\"type\":\"Column\"},{\"attributes\":{\"children\":[{\"id\":\"1681\"},{\"id\":\"1696\"}],\"margin\":[0,0,0,0],\"name\":\"Row00694\"},\"id\":\"1680\",\"type\":\"Row\"},{\"attributes\":{\"margin\":[5,10,5,10],\"options\":[[\"0\",\"0\"],[\"1\",\"1\"],[\"2\",\"2\"]],\"title\":\"Asr\",\"value\":\"2\"},\"id\":\"1638\",\"type\":\"Select\"},{\"attributes\":{\"css_classes\":[\"markdown\"],\"margin\":[5,5,5,5],\"name\":\"MyMarkdown00395\",\"text\":\"&lt;h1&gt;PH-bands options&lt;/h1&gt;\"},\"id\":\"1499\",\"type\":\"panel.models.markup.HTML\"},{\"attributes\":{\"margin\":[5,10,5,10],\"options\":[[\"automatic\",\"automatic\"],[\"True\",\"True\"],[\"False\",\"False\"]],\"title\":\"Lo to splitting\",\"value\":\"automatic\"},\"id\":\"1641\",\"type\":\"Select\"},{\"attributes\":{\"margin\":[5,5,5,5],\"name\":\"Divider00632\",\"style\":{\"height\":\"100%\",\"width\":\"100%\"},\"text\":\"<hr style=\\\"margin: 0px\\\">\",\"width_policy\":\"fit\"},\"id\":\"1667\",\"type\":\"Div\"},{\"attributes\":{\"children\":[{\"id\":\"1660\"},{\"id\":\"1677\"}],\"margin\":[0,0,0,0],\"name\":\"Row00656\"},\"id\":\"1659\",\"type\":\"Row\"},{\"attributes\":{\"button_type\":\"primary\",\"icon\":null,\"label\":\"Compute IFC(R)\",\"margin\":[5,10,5,10],\"subscribed_events\":[\"button_click\"]},\"id\":\"1665\",\"type\":\"Button\"},{\"attributes\":{\"active_header_background\":\"#ccc\",\"button_css_classes\":[\"card-button\"],\"children\":[{\"id\":\"1584\"},{\"id\":\"1586\"}],\"css_classes\":[\"accordion\"],\"header_background\":\"\",\"header_color\":\"\",\"header_css_classes\":[\"accordion-header\"],\"margin\":[0,5,5,5],\"name\":\"Card00755\"},\"id\":\"1583\",\"type\":\"panel.models.layout.Card\"},{\"attributes\":{\"columns\":[{\"id\":\"1705\"},{\"id\":\"1710\"}],\"height\":310,\"index_position\":null,\"margin\":[5,10,5,10],\"name\":\"\",\"row_height\":40,\"sizing_mode\":\"stretch_width\",\"source\":{\"id\":\"1700\"},\"view\":{\"id\":\"1715\"}},\"id\":\"1713\",\"type\":\"DataTable\"},{\"attributes\":{\"children\":[{\"id\":\"1667\"},{\"id\":\"1668\"}],\"margin\":[0,0,0,0],\"name\":\"Column00628\"},\"id\":\"1666\",\"type\":\"Column\"},{\"attributes\":{\"indices\":[]},\"id\":\"1701\",\"type\":\"Selection\"},{\"attributes\":{\"children\":[{\"id\":\"1669\"},{\"id\":\"1673\"}],\"margin\":[0,0,0,0],\"name\":\"Accordion00631\"},\"id\":\"1668\",\"type\":\"Column\"},{\"attributes\":{\"format\":\"0,0.0[00000]\"},\"id\":\"1753\",\"type\":\"NumberFormatter\"},{\"attributes\":{\"children\":[{\"id\":\"1661\"},{\"id\":\"1662\"},{\"id\":\"1663\"},{\"id\":\"1664\"},{\"id\":\"1665\"},{\"id\":\"1666\"}],\"margin\":[0,0,0,0],\"name\":\"Column00650\"},\"id\":\"1660\",\"type\":\"Column\"},{\"attributes\":{\"margin\":[5,5,5,5],\"name\":\"Str00653\"},\"id\":\"1678\",\"type\":\"panel.models.markup.HTML\"},{\"attributes\":{\"columns\":[{\"id\":\"1750\"},{\"id\":\"1755\"},{\"id\":\"1760\"}],\"height\":150,\"index_position\":null,\"margin\":[5,10,5,10],\"name\":\"\",\"row_height\":40,\"sizing_mode\":\"stretch_width\",\"source\":{\"id\":\"1745\"},\"view\":{\"id\":\"1765\"}},\"id\":\"1763\",\"type\":\"DataTable\"},{\"attributes\":{\"css_classes\":[\"card-title\"],\"margin\":[2,5,2,5],\"name\":\"HTML00784\",\"sizing_mode\":\"stretch_width\",\"text\":\"Help\"},\"id\":\"1671\",\"type\":\"panel.models.markup.HTML\"},{\"attributes\":{},\"id\":\"1702\",\"type\":\"StringFormatter\"},{\"attributes\":{\"editor\":{\"id\":\"1749\"},\"field\":\"Lattice angles\",\"formatter\":{\"id\":\"1747\"},\"title\":\"Lattice angles\",\"width\":0},\"id\":\"1750\",\"type\":\"TableColumn\"},{\"attributes\":{\"children\":[{\"id\":\"1763\"},{\"id\":\"1767\"}],\"margin\":[0,0,0,0],\"name\":\"Column00677\",\"sizing_mode\":\"stretch_width\"},\"id\":\"1744\",\"type\":\"Column\"},{\"attributes\":{\"child\":{\"id\":\"1635\"},\"name\":\"Row00627\",\"title\":\"Quadrupoles\"},\"id\":\"1658\",\"type\":\"Panel\"},{\"attributes\":{\"margin\":[5,10,5,10],\"options\":[[\"0\",\"0\"],[\"1\",\"1\"],[\"2\",\"2\"]],\"title\":\"Asr\",\"value\":\"2\"},\"id\":\"1572\",\"type\":\"Select\"},{\"attributes\":{\"children\":[{\"id\":\"1678\"}],\"margin\":[0,0,0,0],\"name\":\"Row00655\"},\"id\":\"1677\",\"type\":\"Row\"},{\"attributes\":{\"indices\":[]},\"id\":\"1774\",\"type\":\"Selection\"},{\"attributes\":{\"children\":[{\"id\":\"1694\"}],\"css_classes\":[\"card-header-row\"],\"margin\":[0,0,0,0],\"name\":\"Row00794\",\"sizing_mode\":\"stretch_width\"},\"id\":\"1693\",\"type\":\"Row\"},{\"attributes\":{\"children\":[{\"id\":\"1791\"},{\"id\":\"1795\"}],\"margin\":[0,0,0,0],\"name\":\"Column00683\",\"sizing_mode\":\"stretch_width\"},\"id\":\"1772\",\"type\":\"Column\"},{\"attributes\":{\"data\":{\"frac_coords\":[[0.33333333333333,0.66666666666667,0.6253779698],[0.66666666666667,0.33333333333333,0.1253779698]],\"idx\":[2,3],\"index\":[0,1]},\"selected\":{\"id\":\"1774\"},\"selection_policy\":{\"id\":\"1867\"}},\"id\":\"1773\",\"type\":\"ColumnDataSource\"},{\"attributes\":{\"margin\":[5,10,5,10],\"options\":[[\"0\",\"0\"],[\"1\",\"1\"],[\"2\",\"2\"]],\"title\":\"Asr\",\"value\":\"2\"},\"id\":\"1662\",\"type\":\"Select\"},{\"attributes\":{\"children\":[{\"id\":\"1769\"},{\"id\":\"1796\"}],\"margin\":[0,0,0,0],\"name\":\"Accordion00681\",\"sizing_mode\":\"stretch_width\"},\"id\":\"1768\",\"type\":\"Column\"},{\"attributes\":{\"columns\":[{\"id\":\"1778\"},{\"id\":\"1783\"},{\"id\":\"1788\"}],\"height\":110,\"index_position\":null,\"margin\":[5,10,5,10],\"name\":\"\",\"row_height\":40,\"sizing_mode\":\"stretch_width\",\"source\":{\"id\":\"1773\"},\"view\":{\"id\":\"1793\"}},\"id\":\"1791\",\"type\":\"DataTable\"},{\"attributes\":{\"margin\":[5,10,5,10],\"options\":[[\"0\",\"0\"],[\"1\",\"1\"],[\"-1\",\"-1\"]],\"title\":\"Dipdip\",\"value\":\"1\"},\"id\":\"1640\",\"type\":\"Select\"},{\"attributes\":{\"margin\":[5,10,5,10],\"options\":[\"jsmol\",\"vesta\",\"xcrysden\",\"vtk\",\"crystalk\",\"ngl\",\"matplotlib\",\"ase_atoms\",\"mayavi\"],\"title\":\"Select viewer\",\"value\":\"vesta\"},\"id\":\"1683\",\"type\":\"Select\"},{\"attributes\":{\"margin\":[5,10,5,10],\"options\":[[\"0\",\"0\"],[\"1\",\"1\"],[\"2\",\"2\"]],\"title\":\"Chneut\",\"value\":\"1\"},\"id\":\"1573\",\"type\":\"Select\"},{\"attributes\":{\"margin\":[5,10,5,10],\"options\":[[\"0\",\"0\"],[\"1\",\"1\"],[\"2\",\"2\"]],\"title\":\"Chneut\",\"value\":\"1\"},\"id\":\"1664\",\"type\":\"Select\"},{\"attributes\":{\"button_type\":\"primary\",\"icon\":null,\"label\":\"View structure\",\"margin\":[5,10,5,10],\"subscribed_events\":[\"button_click\"]},\"id\":\"1684\",\"type\":\"Button\"},{\"attributes\":{\"children\":[{\"id\":\"1686\"},{\"id\":\"1687\"}],\"margin\":[0,0,0,0],\"name\":\"Column00657\"},\"id\":\"1685\",\"type\":\"Column\"},{\"attributes\":{\"active_header_background\":\"#ccc\",\"button_css_classes\":[\"card-button\"],\"children\":[{\"id\":\"1674\"},{\"id\":\"1676\"}],\"css_classes\":[\"accordion\"],\"header_background\":\"\",\"header_color\":\"\",\"header_css_classes\":[\"accordion-header\"],\"margin\":[0,5,5,5],\"name\":\"Card00787\"},\"id\":\"1673\",\"type\":\"panel.models.layout.Card\"},{\"attributes\":{\"children\":[{\"id\":\"1697\"},{\"id\":\"1823\"}],\"margin\":[0,0,0,0],\"name\":\"Column00693\"},\"id\":\"1696\",\"type\":\"Column\"},{\"attributes\":{\"children\":[{\"id\":\"1591\"},{\"id\":\"1608\"}],\"margin\":[0,0,0,0],\"name\":\"Row00554\"},\"id\":\"1590\",\"type\":\"Row\"},{\"attributes\":{\"margin\":[5,10,5,10],\"options\":[[\"0\",\"0\"],[\"1\",\"1\"],[\"2\",\"2\"]],\"title\":\"Chneut\",\"value\":\"1\"},\"id\":\"1639\",\"type\":\"Select\"},{\"attributes\":{\"margin\":[5,5,5,5],\"name\":\"Divider00661\",\"style\":{\"height\":\"100%\",\"width\":\"100%\"},\"text\":\"<hr style=\\\"margin: 0px\\\">\",\"width_policy\":\"fit\"},\"id\":\"1686\",\"type\":\"Div\"},{\"attributes\":{\"children\":[{\"id\":\"1675\"}],\"css_classes\":[\"card-header-row\"],\"margin\":[0,0,0,0],\"name\":\"Row00786\",\"sizing_mode\":\"stretch_width\"},\"id\":\"1674\",\"type\":\"Row\"},{\"attributes\":{\"child\":{\"id\":\"1680\"},\"name\":\"Row00694\",\"title\":\"Structure\"},\"id\":\"1825\",\"type\":\"Panel\"},{\"attributes\":{\"margin\":[5,10,5,10],\"options\":[[\"0\",\"0\"],[\"1\",\"1\"],[\"-1\",\"-1\"]],\"title\":\"Dipdip\",\"value\":\"1\"},\"id\":\"1574\",\"type\":\"Select\"},{\"attributes\":{\"children\":[{\"id\":\"1688\"},{\"id\":\"1692\"}],\"margin\":[0,0,0,0],\"name\":\"Accordion00660\"},\"id\":\"1687\",\"type\":\"Column\"},{\"attributes\":{\"css_classes\":[\"card-title\"],\"margin\":[2,5,2,5],\"name\":\"HTML00756\",\"sizing_mode\":\"stretch_width\",\"text\":\"Warning\"},\"id\":\"1585\",\"type\":\"panel.models.markup.HTML\"},{\"attributes\":{\"css_classes\":[\"card-title\"],\"margin\":[2,5,2,5],\"name\":\"HTML00788\",\"sizing_mode\":\"stretch_width\",\"text\":\"Warning\"},\"id\":\"1675\",\"type\":\"panel.models.markup.HTML\"},{\"attributes\":{\"children\":[{\"id\":\"1585\"}],\"css_classes\":[\"card-header-row\"],\"margin\":[0,0,0,0],\"name\":\"Row00754\",\"sizing_mode\":\"stretch_width\"},\"id\":\"1584\",\"type\":\"Row\"},{\"attributes\":{\"editor\":{\"id\":\"1704\"},\"field\":\"index\",\"formatter\":{\"id\":\"1702\"},\"title\":\"index\",\"width\":0},\"id\":\"1705\",\"type\":\"TableColumn\"},{\"attributes\":{\"children\":[{\"id\":\"1592\"},{\"id\":\"1593\"},{\"id\":\"1594\"},{\"id\":\"1595\"},{\"id\":\"1596\"},{\"id\":\"1597\"}],\"margin\":[0,0,0,0],\"name\":\"Column00548\"},\"id\":\"1591\",\"type\":\"Column\"},{\"attributes\":{\"css_classes\":[\"markdown\"],\"margin\":[5,5,5,5],\"name\":\"Markdown00503\",\"text\":\"&lt;p&gt;Compute the speed of sound by fitting phonon frequencies\\nalong selected directions by linear least-squares fit.&lt;/p&gt;\"},\"id\":\"1582\",\"type\":\"panel.models.markup.HTML\"},{\"attributes\":{\"source\":{\"id\":\"1700\"}},\"id\":\"1715\",\"type\":\"CDSView\"},{\"attributes\":{\"children\":[{\"id\":\"1682\"},{\"id\":\"1683\"},{\"id\":\"1684\"},{\"id\":\"1685\"}],\"margin\":[0,0,0,0],\"name\":\"Column00664\"},\"id\":\"1681\",\"type\":\"Column\"},{\"attributes\":{\"children\":[{\"id\":\"1671\"}],\"css_classes\":[\"card-header-row\"],\"margin\":[0,0,0,0],\"name\":\"Row00782\",\"sizing_mode\":\"stretch_width\"},\"id\":\"1670\",\"type\":\"Row\"},{\"attributes\":{\"editor\":{\"id\":\"1709\"},\"field\":\"0\",\"formatter\":{\"id\":\"1708\"},\"title\":\"0\",\"width\":0},\"id\":\"1710\",\"type\":\"TableColumn\"},{\"attributes\":{},\"id\":\"1704\",\"type\":\"CellEditor\"},{\"attributes\":{\"active_header_background\":\"#ccc\",\"button_css_classes\":[\"card-button\"],\"children\":[{\"id\":\"1601\"},{\"id\":\"1603\"}],\"css_classes\":[\"accordion\"],\"header_background\":\"\",\"header_color\":\"\",\"header_css_classes\":[\"accordion-header\"],\"margin\":[5,5,0,5],\"name\":\"Card00759\"},\"id\":\"1600\",\"type\":\"panel.models.layout.Card\"},{\"attributes\":{\"child\":{\"id\":\"1659\"},\"name\":\"Row00656\",\"title\":\"IFCs\"},\"id\":\"1679\",\"type\":\"Panel\"},{\"attributes\":{},\"id\":\"1749\",\"type\":\"CellEditor\"},{\"attributes\":{\"children\":[{\"id\":\"1602\"}],\"css_classes\":[\"card-header-row\"],\"margin\":[0,0,0,0],\"name\":\"Row00758\",\"sizing_mode\":\"stretch_width\"},\"id\":\"1601\",\"type\":\"Row\"},{\"attributes\":{\"low\":1,\"margin\":[5,10,5,10],\"mode\":\"int\",\"placeholder\":\"0\",\"title\":\"ndivsm\",\"value\":5,\"value_throttled\":5},\"id\":\"1642\",\"type\":\"Spinner\"},{\"attributes\":{\"data\":{\"Degrees\":{\"__ndarray__\":\"AAAAAACAVkAAAAAAAIBWQHVAAQAAAF5A\",\"dtype\":\"float64\",\"order\":\"little\",\"shape\":[3]},\"Lattice angles\":[\"alpha\",\"beta\",\"gamma\"],\"Radians\":{\"__ndarray__\":\"GC1EVPsh+T8YLURU+yH5P2AmLjhSwQBA\",\"dtype\":\"float64\",\"order\":\"little\",\"shape\":[3]}},\"selected\":{\"id\":\"1746\"},\"selection_policy\":{\"id\":\"1865\"}},\"id\":\"1745\",\"type\":\"ColumnDataSource\"},{\"attributes\":{\"indices\":[]},\"id\":\"1746\",\"type\":\"Selection\"},{\"attributes\":{},\"id\":\"1708\",\"type\":\"StringFormatter\"},{\"attributes\":{},\"id\":\"1747\",\"type\":\"StringFormatter\"},{\"attributes\":{\"low\":1,\"margin\":[5,10,5,10],\"mode\":\"int\",\"placeholder\":\"0\",\"title\":\"Nqsmall\",\"value\":10,\"value_throttled\":10},\"id\":\"1500\",\"type\":\"Spinner\"},{\"attributes\":{},\"id\":\"1709\",\"type\":\"StringEditor\"},{\"attributes\":{\"css_classes\":[\"markdown\"],\"margin\":[5,5,5,5],\"name\":\"warning\",\"text\":\"&lt;p&gt;Refresh the page if the plotly figure is not shown.&lt;/p&gt;\\n&lt;p&gt;Note that widgets for input variables such as &lt;em&gt;asr&lt;/em&gt;, &lt;em&gt;chneut&lt;/em&gt;, &lt;em&gt;dipdip&lt;/em&gt;, &lt;em&gt;dos_method&lt;/em&gt;, &lt;em&gt;etc.&lt;/em&gt;\\nare &lt;strong&gt;shared by the different tabs&lt;/strong&gt;.&lt;/p&gt;\\n&lt;p&gt;This means that if you change the value of one of these variables in the active tab,\\nthe same value will &lt;strong&gt;automagically&lt;/strong&gt; appear in the other tabs yet the results/figures\\nare not automatically recomputed when you change the value.&lt;/p&gt;\\n&lt;p&gt;In other words, if you change some variable in the active tab and then you move to another tab,\\nthe results/figures are stil computed with the &lt;strong&gt;old input variables&lt;/strong&gt; and you will need to\\nrecompute the new results by clicking the button.&lt;/p&gt;\"},\"id\":\"1695\",\"type\":\"panel.models.markup.HTML\"},{\"attributes\":{\"low\":1,\"margin\":[5,10,5,10],\"mode\":\"int\",\"placeholder\":\"0\",\"title\":\"ndivsm\",\"value\":5,\"value_throttled\":5},\"id\":\"1501\",\"type\":\"Spinner\"},{\"attributes\":{\"css_classes\":[\"card-title\"],\"margin\":[2,5,2,5],\"name\":\"HTML00796\",\"sizing_mode\":\"stretch_width\",\"text\":\"Warning\"},\"id\":\"1694\",\"type\":\"panel.models.markup.HTML\"},{\"attributes\":{\"sizing_mode\":\"scale_both\",\"text\":\"================================= File Info =================================\\nName: ZnSe_hex_qpt_DDB\\nDirectory: /Users/gmatteo/git_repos/abipy_abidev2021\\nSize: 1.09 Mb\\nAccess Time: Fri May  7 23:20:24 2021\\nModification Time: Fri May  7 23:20:23 2021\\nChange Time: Fri May  7 23:20:23 2021\\n\\n================================= Structure =================================\\nFull Formula (Zn2 Se2)\\nReduced Formula: ZnSe\\nabc   :   4.050187   4.050187   6.652328\\nangles:  90.000000  90.000000 120.000000\\nSites (4)\\n  #  SP           a         b         c\\n---  ----  --------  --------  --------\\n  0  Zn    0.333333  0.666667  0.999622\\n  1  Zn    0.666667  0.333333  0.499622\\n  2  Se    0.333333  0.666667  0.625378\\n  3  Se    0.666667  0.333333  0.125378\\n\\nAbinit Spacegroup: spgid: 0, num_spatial_symmetries: 12, has_timerev: True, symmorphic: True\\n\\n================================== DDB Info ==================================\\n\\nNumber of q-points in DDB: 121\\nguessed_ngqpt: [10 10  8] (guess for the q-mesh divisions made by AbiPy)\\necut = 37.000000, ecutsm = 0.000000, nkpt = 384, nsym = 12, usepaw = 0\\nnsppol 1, nspinor 1, nspden 1, ixc = 11, occopt = 3, tsmear = 0.003675\\n\\nHas total energy: False, Has forces: False\\nHas stress tensor: False\\n\\nHas (at least one) atomic pertubation: True\\nHas (at least one diagonal) electric-field perturbation: True\\nHas (at least one) Born effective charge: True\\nHas (all) strain terms: False\\nHas (all) internal strain terms: False\\nHas (all) piezoelectric terms: False\"},\"id\":\"1493\",\"type\":\"PreText\"},{\"attributes\":{\"css_classes\":[\"markdown\"],\"margin\":[5,5,5,5],\"name\":\"MyMarkdown00674\",\"text\":\"&lt;h1&gt;Lattice lengths:&lt;/h1&gt;\"},\"id\":\"1718\",\"type\":\"panel.models.markup.HTML\"},{\"attributes\":{\"margin\":[5,10,5,10],\"options\":[[\"0\",\"0\"],[\"1\",\"1\"],[\"2\",\"2\"]],\"title\":\"Asr\",\"value\":\"2\"},\"id\":\"1502\",\"type\":\"Select\"},{\"attributes\":{},\"id\":\"1754\",\"type\":\"NumberEditor\"},{\"attributes\":{\"margin\":[5,10,5,10],\"options\":[[\"0\",\"0\"],[\"1\",\"1\"],[\"2\",\"2\"]],\"title\":\"Chneut\",\"value\":\"1\"},\"id\":\"1503\",\"type\":\"Select\"},{\"attributes\":{},\"id\":\"1775\",\"type\":\"NumberFormatter\"},{\"attributes\":{\"margin\":[5,5,5,5],\"name\":\"Divider00668\",\"style\":{\"height\":\"100%\",\"width\":\"100%\"},\"text\":\"<hr style=\\\"margin: 0px\\\">\",\"width_policy\":\"fit\"},\"id\":\"1717\",\"type\":\"Div\"},{\"attributes\":{\"margin\":[5,10,5,10],\"options\":[[\"0\",\"0\"],[\"1\",\"1\"],[\"-1\",\"-1\"]],\"title\":\"Dipdip\",\"value\":\"1\"},\"id\":\"1663\",\"type\":\"Select\"},{\"attributes\":{\"active_header_background\":\"#ccc\",\"button_css_classes\":[\"card-button\"],\"children\":[{\"id\":\"1693\"},{\"id\":\"1695\"}],\"css_classes\":[\"accordion\"],\"header_background\":\"\",\"header_color\":\"\",\"header_css_classes\":[\"accordion-header\"],\"margin\":[0,5,5,5],\"name\":\"Card00795\"},\"id\":\"1692\",\"type\":\"panel.models.layout.Card\"}],\"root_ids\":[\"1494\",\"1895\"]},\"title\":\"Bokeh Application\",\"version\":\"2.3.1\"}};\n",
       "    var render_items = [{\"docid\":\"ba93a13a-e31c-48ee-96d1-c1414a2e7856\",\"root_ids\":[\"1494\"],\"roots\":{\"1494\":\"145b5238-233e-4975-8e3e-2e9627acd17a\"}}];\n",
       "    root.Bokeh.embed.embed_items_notebook(docs_json, render_items);\n",
       "  }\n",
       "  if (root.Bokeh !== undefined && root.Bokeh.Panel !== undefined && root['Plotly'] !== undefined ) {\n",
       "    embed_document(root);\n",
       "  } else {\n",
       "    var attempts = 0;\n",
       "    var timer = setInterval(function(root) {\n",
       "      if (root.Bokeh !== undefined && root.Bokeh.Panel !== undefined && root['Plotly'] !== undefined) {\n",
       "        clearInterval(timer);\n",
       "        embed_document(root);\n",
       "      } else if (document.readyState == \"complete\") {\n",
       "        attempts++;\n",
       "        if (attempts > 100) {\n",
       "          clearInterval(timer);\n",
       "          console.log(\"Bokeh: ERROR: Unable to run BokehJS code because BokehJS library is missing\");\n",
       "        }\n",
       "      }\n",
       "    }, 10, root)\n",
       "  }\n",
       "})(window);</script>"
      ],
      "text/plain": [
       "Tabs\n",
       "    [0] Row\n",
       "        [0] Bokeh(PreText)\n",
       "    [1] Row\n",
       "        [0] Column\n",
       "            [0] MyMarkdown(str)\n",
       "            [1] IntInput(name='Nqsmall', start=1, value=10)\n",
       "            [2] IntInput(name='ndivsm', start=1, value=5)\n",
       "            [3] Select(name='Asr', options=OrderedDict([('0', ...]), value=2)\n",
       "            [4] Select(name='Chneut', options=OrderedDict([('0', ...]), value=1)\n",
       "            [5] Select(name='Dipdip', options=OrderedDict([('0', ...]), value=1)\n",
       "            [6] Select(name='Lo to splitting', options=OrderedDict([('automatic',...]), value='automatic')\n",
       "            [7] Select(name='Dos method', options=OrderedDict([('tetra', ...]), value='tetra')\n",
       "            [8] Toggle(name='Stacked PJDOS', value=True)\n",
       "            [9] RangeSlider(end=1000, name='T-range', step=20, value=(0.0, 300.0))\n",
       "            [10] Button(button_type='primary', name='Plot Bands and DOS')\n",
       "            [11] Column\n",
       "                [0] Divider()\n",
       "                [1] Accordion\n",
       "                    [0] Markdown(str)\n",
       "                    [1] Markdown(str, name='warning')\n",
       "        [1] ParamMethod(method)\n",
       "    [2] Row\n",
       "        [0] Column\n",
       "            [0] MyMarkdown(str)\n",
       "            [1] Select(name='Asr', options=OrderedDict([('0', ...]), value=2)\n",
       "            [2] Select(name='Chneut', options=OrderedDict([('0', ...]), value=1)\n",
       "            [3] Select(name='Dipdip', options=OrderedDict([('0', ...]), value=1)\n",
       "            [4] FloatInput(name='Gamma ev', start=1e-20, value=0.0001)\n",
       "            [5] Button(button_type='primary', name='Compute')\n",
       "            [6] Column\n",
       "                [0] Divider()\n",
       "                [1] Accordion\n",
       "                    [0] Markdown(str)\n",
       "                    [1] Markdown(str, name='warning')\n",
       "        [1] ParamMethod(method)\n",
       "    [3] Row\n",
       "        [0] Column\n",
       "            [0] MyMarkdown(str)\n",
       "            [1] Select(name='Asr', options=OrderedDict([('0', ...]), value=2)\n",
       "            [2] Select(name='Chneut', options=OrderedDict([('0', ...]), value=1)\n",
       "            [3] Select(name='Dipdip', options=OrderedDict([('0', ...]), value=1)\n",
       "            [4] FloatInput(name='Gamma ev', start=1e-20, value=0.0001)\n",
       "            [5] RangeSlider(name='Frequency range (eV)', step=0.001, value=(0.0, 0.1))\n",
       "            [6] Button(button_type='primary', name='Plot eps0(omega)')\n",
       "            [7] Column\n",
       "                [0] Divider()\n",
       "                [1] Accordion\n",
       "                    [0] Markdown(str)\n",
       "                    [1] Markdown(str, name='warning')\n",
       "        [1] ParamMethod(method)\n",
       "    [4] Row\n",
       "        [0] Column\n",
       "            [0] MyMarkdown(str)\n",
       "            [1] Select(name='Asr', options=OrderedDict([('0', ...]), value=2)\n",
       "            [2] Select(name='Chneut', options=OrderedDict([('0', ...]), value=1)\n",
       "            [3] Select(name='Dipdip', options=OrderedDict([('0', ...]), value=1)\n",
       "            [4] Button(button_type='primary', name='Calculate speed o...)\n",
       "            [5] Column\n",
       "                [0] Divider()\n",
       "                [1] Accordion\n",
       "                    [0] Markdown(str)\n",
       "                    [1] Markdown(str, name='warning')\n",
       "        [1] ParamMethod(method)\n",
       "    [5] Row\n",
       "        [0] Column\n",
       "            [0] MyMarkdown(str)\n",
       "            [1] IntInput(name='Nqsmall', start=1, value=10)\n",
       "            [2] IntInput(name='ndivsm', start=1, value=5)\n",
       "            [3] Select(name='Dos method', options=OrderedDict([('tetra', ...]), value='tetra')\n",
       "            [4] Button(button_type='primary', name='Compute phonons w...)\n",
       "            [5] Column\n",
       "                [0] Divider()\n",
       "                [1] Accordion\n",
       "                    [0] Markdown(str)\n",
       "                    [1] Markdown(str, name='warning')\n",
       "        [1] ParamMethod(method)\n",
       "    [6] Row\n",
       "        [0] Column\n",
       "            [0] MyMarkdown(str)\n",
       "            [1] Select(name='Asr', options=OrderedDict([('0', ...]), value=2)\n",
       "            [2] Select(name='Chneut', options=OrderedDict([('0', ...]), value=1)\n",
       "            [3] Select(name='Dipdip', options=OrderedDict([('0', ...]), value=1)\n",
       "            [4] Select(name='Dos method', options=OrderedDict([('tetra', ...]), value='tetra')\n",
       "            [5] LiteralInput(name='nsmalls (python list)', type=<class 'list'>, value=[10, 20, 30])\n",
       "            [6] RangeSlider(end=1000, name='T-range', step=20, value=(0.0, 300.0))\n",
       "            [7] Button(button_type='primary', name='Plot PHDos vs Qmesh')\n",
       "            [8] Column\n",
       "                [0] Divider()\n",
       "                [1] Accordion\n",
       "                    [0] Markdown(str)\n",
       "                    [1] Markdown(str, name='warning')\n",
       "        [1] ParamMethod(method)\n",
       "    [7] Row\n",
       "        [0] Column\n",
       "            [0] MyMarkdown(str)\n",
       "            [1] Select(name='Asr', options=OrderedDict([('0', ...]), value=2)\n",
       "            [2] Select(name='Chneut', options=OrderedDict([('0', ...]), value=1)\n",
       "            [3] Select(name='Dipdip', options=OrderedDict([('0', ...]), value=1)\n",
       "            [4] Select(name='Lo to splitting', options=OrderedDict([('automatic',...]), value='automatic')\n",
       "            [5] IntInput(name='ndivsm', start=1, value=5)\n",
       "            [6] Select(name='Dos method', options=OrderedDict([('tetra', ...]), value='tetra')\n",
       "            [7] Button(button_type='primary', name='Plot PHbands w...)\n",
       "            [8] Column\n",
       "                [0] Divider()\n",
       "                [1] Accordion\n",
       "                    [0] Markdown(str)\n",
       "                    [1] Markdown(str, name='warning')\n",
       "        [1] ParamMethod(method)\n",
       "    [8] Row\n",
       "        [0] Column\n",
       "            [0] MyMarkdown(str)\n",
       "            [1] Select(name='Asr', options=OrderedDict([('0', ...]), value=2)\n",
       "            [2] Select(name='Dipdip', options=OrderedDict([('0', ...]), value=1)\n",
       "            [3] Select(name='Chneut', options=OrderedDict([('0', ...]), value=1)\n",
       "            [4] Button(button_type='primary', name='Compute IFC(R)')\n",
       "            [5] Column\n",
       "                [0] Divider()\n",
       "                [1] Accordion\n",
       "                    [0] Markdown(None)\n",
       "                    [1] Markdown(str, name='warning')\n",
       "        [1] ParamMethod(method)\n",
       "    [9] Row\n",
       "        [0] Column\n",
       "            [0] MyMarkdown(str)\n",
       "            [1] Select(options=['jsmol', 'vesta', ...], value='vesta')\n",
       "            [2] Button(button_type='primary', name='View structure')\n",
       "            [3] Column\n",
       "                [0] Divider()\n",
       "                [1] Accordion\n",
       "                    [0] Markdown(str)\n",
       "                    [1] Markdown(str, name='warning')\n",
       "        [1] Column\n",
       "            [0] Column(sizing_mode='stretch_width')\n",
       "                [0] MyMarkdown(str)\n",
       "                [1] Column(sizing_mode='stretch_width')\n",
       "                    [0] DataFrame(disabled=True, sizing_mode='stretch_width', value=              ...)\n",
       "                    [1] Divider()\n",
       "                [2] MyMarkdown(str)\n",
       "                [3] Column(sizing_mode='stretch_width')\n",
       "                    [0] DataFrame(disabled=True, sizing_mode='stretch_width', value=              ...)\n",
       "                    [1] Divider()\n",
       "                [4] MyMarkdown(str)\n",
       "                [5] Column(sizing_mode='stretch_width')\n",
       "                    [0] DataFrame(disabled=True, sizing_mode='stretch_width', value=              ...)\n",
       "                    [1] Divider()\n",
       "                [6] Accordion(sizing_mode='stretch_width')\n",
       "                    [0] Column(sizing_mode='stretch_width')\n",
       "                        [0] DataFrame(disabled=True, sizing_mode='stretch_width', value=   idx                    ...)\n",
       "                        [1] Divider()\n",
       "                    [1] Column(sizing_mode='stretch_width')\n",
       "                        [0] DataFrame(disabled=True, sizing_mode='stretch_width', value=   idx                    ...)\n",
       "                        [1] Divider()\n",
       "            [1] ParamMethod(method)\n",
       "    [10] Row\n",
       "        [0] Column\n",
       "            [0] MyMarkdown(str)\n",
       "            [1] Select(name='Units', options=OrderedDict([('eV', ...]), value='eV')\n",
       "            [2] IntInput(name='Mpi procs', start=1, value=1)\n",
       "            [3] IntInput(name='Verbose', start=0)\n",
       "        [1] Column(sizing_mode='scale_width')\n",
       "            [0] MyMarkdown(str)\n",
       "            [1] Column(sizing_mode='stretch_width')\n",
       "                [0] DataFrame(disabled=True, sizing_mode='stretch_width', value=              ...)\n",
       "                [1] Row(sizing_mode='scale_width')\n",
       "                    [0] FileDownload(callback=<function dfc.<locals>.to_..., filename='data.xlsx', label='Download data.xlsx')\n",
       "                    [1] FileDownload(callback=<function dfc.<locals>.to_..., filename='data.tex', label='Download data.tex')\n",
       "                    [2] FileDownload(callback=<function dfc.<locals>.to_..., filename='data.md', label='Download data.md')\n",
       "                    [3] FileDownload(callback=<function dfc.<locals>.to_..., filename='data.json', label='Download data.json')\n",
       "                [2] Divider()"
      ]
     },
     "execution_count": 9,
     "metadata": {
      "application/vnd.holoviews_exec.v0+json": {
       "id": "1494"
      }
     },
     "output_type": "execute_result"
    }
   ],
   "source": [
    "abilab.abipanel()\n",
    "ddb.get_panel()"
   ]
  },
  {
   "cell_type": "markdown",
   "metadata": {
    "slideshow": {
     "slide_type": "subslide"
    }
   },
   "source": [
    "#### To produce a predefined set of matplotlib figures, use:\n",
    "<p></p>\n",
    "\n",
    "```shell\n",
    "abiopen.py mgb2_kpath_FATBANDS.nc --expose --seaborn\n",
    "```    \n",
    "\n",
    "<img src=\"assets/mgb2_fatbands.png\" width=\"100%\" align=\"center\" alt=\"abiopen_expose\">"
   ]
  },
  {
   "cell_type": "markdown",
   "metadata": {
    "slideshow": {
     "slide_type": "-"
    }
   },
   "source": [
    "#### Replace *--expose* with *--notebook* to generate a jupyter notebook with predefined python code"
   ]
  },
  {
   "cell_type": "markdown",
   "metadata": {
    "slideshow": {
     "slide_type": "subslide"
    }
   },
   "source": [
    "#### *abiopen.py* supports output files (note *abo* extension):"
   ]
  },
  {
   "cell_type": "code",
   "execution_count": 10,
   "metadata": {
    "slideshow": {
     "slide_type": "-"
    }
   },
   "outputs": [
    {
     "name": "stdout",
     "output_type": "stream",
     "text": [
      "Traceback (most recent call last):\r\n",
      "  File \"/Users/gmatteo/miniconda3/envs/env3.8/bin/abiopen.py\", line 7, in <module>\r\n",
      "    exec(compile(f.read(), __file__, 'exec'))\r\n",
      "  File \"/Users/gmatteo/git_repos/abipy/abipy/scripts/abiopen.py\", line 339, in <module>\r\n",
      "    sys.exit(main())\r\n",
      "  File \"/Users/gmatteo/miniconda3/envs/env3.8/lib/python3.8/site-packages/monty-2021.3.3-py3.8.egg/monty/functools.py\", line 405, in wrapper\r\n",
      "    sys.exit(main())\r\n",
      "  File \"/Users/gmatteo/git_repos/abipy/abipy/scripts/abiopen.py\", line 206, in main\r\n",
      "    raise RuntimeError(\"%s: no such file\" % options.filepath)\r\n",
      "RuntimeError: gs_dfpt.abo: no such file\r\n"
     ]
    }
   ],
   "source": [
    "!abiopen.py gs_dfpt.abo -p "
   ]
  },
  {
   "cell_type": "markdown",
   "metadata": {
    "slideshow": {
     "slide_type": "subslide"
    }
   },
   "source": [
    "#### and log files as well:"
   ]
  },
  {
   "cell_type": "code",
   "execution_count": 11,
   "metadata": {},
   "outputs": [
    {
     "name": "stdout",
     "output_type": "stream",
     "text": [
      "Traceback (most recent call last):\r\n",
      "  File \"/Users/gmatteo/miniconda3/envs/env3.8/bin/abiopen.py\", line 7, in <module>\r\n",
      "    exec(compile(f.read(), __file__, 'exec'))\r\n",
      "  File \"/Users/gmatteo/git_repos/abipy/abipy/scripts/abiopen.py\", line 339, in <module>\r\n",
      "    sys.exit(main())\r\n",
      "  File \"/Users/gmatteo/miniconda3/envs/env3.8/lib/python3.8/site-packages/monty-2021.3.3-py3.8.egg/monty/functools.py\", line 405, in wrapper\r\n",
      "    sys.exit(main())\r\n",
      "  File \"/Users/gmatteo/git_repos/abipy/abipy/scripts/abiopen.py\", line 206, in main\r\n",
      "    raise RuntimeError(\"%s: no such file\" % options.filepath)\r\n",
      "RuntimeError: run.log: no such file\r\n"
     ]
    }
   ],
   "source": [
    "!abiopen.py run.log -p "
   ]
  },
  {
   "cell_type": "markdown",
   "metadata": {
    "slideshow": {
     "slide_type": "subslide"
    }
   },
   "source": [
    "#### If you are still using perl scripts to extract data from the main output file, check this out:\n",
    "<p></p>\n",
    "\n",
    "```sh\n",
    "abiopen.py gs_dfpt.abo --expose --seaborn\n",
    "```\n",
    "\n",
    "<center>\n",
    "<img src=\"assets/abiopen_abo.png\" width=\"75%\" align=\"center\">\n",
    "</center>\n",
    "\n",
    "#### The introduction of Yaml documents in the main output (*cfr.* Theo's talk) will facilitate the implementation of new post-processing tools..."
   ]
  },
  {
   "cell_type": "markdown",
   "metadata": {
    "slideshow": {
     "slide_type": "slide"
    }
   },
   "source": [
    "<img src=\"assets/abistruct.png\" width=\"35%\" align=\"center\">\n",
    "\n",
    "#### It works with any file providing a structure object (*.nc*, .abi, *.cif* …) "
   ]
  },
  {
   "cell_type": "markdown",
   "metadata": {
    "slideshow": {
     "slide_type": "subslide"
    }
   },
   "source": [
    "#### Convert structure from netcdf format to CIF (*abivars*, *xsf*, *poscar*,  *qe*,  *siesta*,  *wannier90*,  *json*)"
   ]
  },
  {
   "cell_type": "code",
   "execution_count": 12,
   "metadata": {
    "slideshow": {
     "slide_type": "-"
    }
   },
   "outputs": [
    {
     "name": "stdout",
     "output_type": "stream",
     "text": [
      "# generated using pymatgen\r\n",
      "data_Si\r\n",
      "_symmetry_space_group_name_H-M   'P 1'\r\n",
      "_cell_length_a   3.86697464\r\n",
      "_cell_length_b   3.86697464\r\n",
      "_cell_length_c   3.86697464\r\n",
      "_cell_angle_alpha   60.00000000\r\n",
      "_cell_angle_beta   60.00000000\r\n",
      "_cell_angle_gamma   60.00000000\r\n",
      "_symmetry_Int_Tables_number   1\r\n",
      "_chemical_formula_structural   Si\r\n",
      "_chemical_formula_sum   Si2\r\n",
      "_cell_volume   40.88829233\r\n",
      "_cell_formula_units_Z   2\r\n",
      "loop_\r\n",
      " _symmetry_equiv_pos_site_id\r\n",
      " _symmetry_equiv_pos_as_xyz\r\n",
      "  1  'x, y, z'\r\n",
      "loop_\r\n",
      " _atom_site_type_symbol\r\n",
      " _atom_site_label\r\n",
      " _atom_site_symmetry_multiplicity\r\n",
      " _atom_site_fract_x\r\n",
      " _atom_site_fract_y\r\n",
      " _atom_site_fract_z\r\n",
      " _atom_site_occupancy\r\n",
      "  Si  Si0  1  0.00000000  0.00000000  0.00000000  1\r\n",
      "  Si  Si1  1  0.25000000  0.25000000  0.25000000  1\r\n",
      "\r\n"
     ]
    }
   ],
   "source": [
    "!abistruct.py convert si_scf_GSR.nc -f cif"
   ]
  },
  {
   "cell_type": "markdown",
   "metadata": {
    "slideshow": {
     "slide_type": "subslide"
    }
   },
   "source": [
    "#### Are you still using *cut3d* to export the structure in a format that other applications can understand?\n",
    "<p></p>\n",
    "\n",
    "\n",
    "```sh\n",
    "abistruct.py visualize run_si02.abi\n",
    "```\n",
    "\n",
    "<img src=\"assets/sio2_vesta.png\" width=\"75%\" align=\"center\">\n",
    "\n",
    "#### Supports also *ovito*, *xcrysden*, *vtk*, *mayavi*, *matplotlib*  (Use *--application* option)"
   ]
  },
  {
   "cell_type": "markdown",
   "metadata": {
    "slideshow": {
     "slide_type": "skip"
    }
   },
   "source": [
    "#### Read structure from FILE and print ABINIT variables for NSCF along k-path:"
   ]
  },
  {
   "cell_type": "code",
   "execution_count": 13,
   "metadata": {
    "slideshow": {
     "slide_type": "skip"
    }
   },
   "outputs": [
    {
     "name": "stdout",
     "output_type": "stream",
     "text": [
      "/Users/gmatteo/git_repos/pymatgen/pymatgen/symmetry/kpath.py:179: UserWarning: The input structure does not match the expected standard primitive! The path can be incorrect. Use at your own risk.\r\n",
      "  warn(\r\n",
      "# Abinit Structure\r\n",
      " natom 2\r\n",
      " ntypat 1\r\n",
      " typat 1 1\r\n",
      " znucl 14\r\n",
      " xred\r\n",
      "    0.0000000000    0.0000000000    0.0000000000\r\n",
      "    0.2500000000    0.2500000000    0.2500000000\r\n",
      " acell    1.0    1.0    1.0\r\n",
      " rprim\r\n",
      "    6.3285005521    0.0000000000    3.6537614973\r\n",
      "    2.1095001840    5.9665675402    3.6537614973\r\n",
      "    0.0000000000    0.0000000000    7.3075229946\r\n",
      "\r\n",
      "# tolwfr 1e-20 iscf -2 # NSCF run\r\n",
      "# To read previous DEN file, use: getden -1 or specify filename via getden_path \"out_DEN\"\r\n",
      "\r\n",
      "# K-path in reduced coordinates:\r\n",
      " ndivsm 10\r\n",
      " kptopt -11\r\n",
      " kptbounds\r\n",
      "    +0.00000  +0.00000  +0.00000  # $\\Gamma$\r\n",
      "    +0.50000  +0.00000  +0.50000  # X\r\n",
      "    +0.50000  +0.25000  +0.75000  # W\r\n",
      "    +0.37500  +0.37500  +0.75000  # K\r\n",
      "    +0.00000  +0.00000  +0.00000  # $\\Gamma$\r\n",
      "    +0.50000  +0.50000  +0.50000  # L\r\n",
      "    +0.62500  +0.25000  +0.62500  # U\r\n",
      "    +0.50000  +0.25000  +0.75000  # W\r\n",
      "    +0.50000  +0.50000  +0.50000  # L\r\n",
      "    +0.37500  +0.37500  +0.75000  # K\r\n",
      "    +0.62500  +0.25000  +0.62500  # U\r\n",
      "    +0.50000  +0.00000  +0.50000  # X\r\n"
     ]
    }
   ],
   "source": [
    "!abistruct.py kpath si_scf_GSR.nc"
   ]
  },
  {
   "cell_type": "markdown",
   "metadata": {
    "slideshow": {
     "slide_type": "skip"
    }
   },
   "source": [
    "#### Want to know what's happening in the structural relaxation?\n",
    "<p></p>\n",
    "\n",
    "```sh\n",
    "abiview.py hist sic_relax_HIST.nc\n",
    "```\n",
    "\n",
    "<center>\n",
    "<img src=\"assets/abiview_hist.png\" width=\"60%\" align=\"center\">\n",
    "</center>"
   ]
  },
  {
   "cell_type": "markdown",
   "metadata": {
    "slideshow": {
     "slide_type": "skip"
    }
   },
   "source": [
    "#### Want a GUI? \n",
    "\n",
    "Use *--appname* for app in [avogadro, ovito, v_sim, vesta, xcrysden, mpl, mayavi, vtk]"
   ]
  },
  {
   "cell_type": "markdown",
   "metadata": {
    "slideshow": {
     "slide_type": "subslide"
    }
   },
   "source": [
    "#### Need to call *anaddb* to compute and visualize ph-bands and DOS from DDB?\n",
    "<p></p>\n",
    "\n",
    "```sh\n",
    "abiview.py ddb ZnSe_hex_qpt_DDB --seaborn\n",
    "```"
   ]
  },
  {
   "cell_type": "markdown",
   "metadata": {
    "slideshow": {
     "slide_type": "slide"
    }
   },
   "source": [
    "<img src=\"assets/abicomp.png\" width=\"30%\" align=\"center\">"
   ]
  },
  {
   "cell_type": "markdown",
   "metadata": {
    "slideshow": {
     "slide_type": "skip"
    }
   },
   "source": [
    "## Abipy Robots\n",
    "\n",
    "* High-level interface to operate on <u>multiple files</u> with the same file extension\n",
    "\n",
    "* Useful for:\n",
    "\n",
    "     * convergence studies\n",
    "     * producing multiple plots\n",
    "     * building [Pandas dataframes](https://pandas.pydata.org/) (data in tabular format powered by python)\n",
    "\n",
    "* Each *Robot* is associated to a file extension, *e.g.* \n",
    "\n",
    "     * GSR.nc ➝ *GsrRobot*\n",
    "     * DDB ➝ *DdbRobot*\n",
    "     \n",
    "* *Robots* can be constructed from:\n",
    "\n",
    "    1. List of filenames\n",
    "    2. Directories and regular expressions\n",
    "    \n",
    "* Command line interface provided by the *abicomp.py* script:\n",
    "\n",
    "* To generate notebook to compare multiple *GSR* files, use:\n",
    "\n",
    "            abicomp.py gsr out1_GSR.nc  out2_GSR.nc --notebook"
   ]
  },
  {
   "cell_type": "markdown",
   "metadata": {
    "slideshow": {
     "slide_type": "subslide"
    }
   },
   "source": [
    "#### To compare multiple structures:"
   ]
  },
  {
   "cell_type": "code",
   "execution_count": 14,
   "metadata": {
    "slideshow": {
     "slide_type": "-"
    }
   },
   "outputs": [
    {
     "name": "stdout",
     "output_type": "stream",
     "text": [
      "zsh:1: no matches found: *.cif\r\n"
     ]
    }
   ],
   "source": [
    "!abicomp.py structure *.cif si_nscf_GSR.nc `find . -name *_DDB`"
   ]
  },
  {
   "cell_type": "markdown",
   "metadata": {
    "slideshow": {
     "slide_type": "-"
    }
   },
   "source": [
    "#### Note shell wildcard characters and Unix `find` inside backticks (bash rocks!)"
   ]
  },
  {
   "cell_type": "code",
   "execution_count": 15,
   "metadata": {
    "slideshow": {
     "slide_type": "notes"
    }
   },
   "outputs": [],
   "source": [
    "#plotter = abilab.ElectronBandsPlotter()\n",
    "#plotter.add_ebands(label=\"BZ sampling\", bands=\"si_scf_GSR.nc\")\n",
    "#plotter.add_ebands(label=\"k-path\", bands=\"si_nscf_GSR.nc\")\n",
    "#plotter.gridplot(with_gaps=True);"
   ]
  },
  {
   "cell_type": "markdown",
   "metadata": {
    "slideshow": {
     "slide_type": "subslide"
    }
   },
   "source": [
    "#### Using *ElectronBandsPlotter* to visualize multiple band structures:\n",
    "<p></p>\n",
    "\n",
    "```sh\n",
    "abicomp.py ebands *_GSR.nc\n",
    "```\n",
    "\n",
    "<p></p>\n",
    "\n",
    "<img src=\"assets/abicomp_ebands.png\" width=\"85%\" align=\"center\">"
   ]
  },
  {
   "cell_type": "markdown",
   "metadata": {
    "slideshow": {
     "slide_type": "skip"
    }
   },
   "source": [
    "#### Pandas dataframe printed to terminal:"
   ]
  },
  {
   "cell_type": "markdown",
   "metadata": {
    "slideshow": {
     "slide_type": "skip"
    }
   },
   "source": [
    "```text\n",
    "               nsppol  nspinor  nspden  nkpt  nband  nelect    fermie  \\\n",
    "si_nscf_GSR.nc       1        1       1    14      8     8.0  5.598453\n",
    "si_scf_GSR.nc        1        1       1    29      8     8.0  5.598453\n",
    "\n",
    "               formula  natom  alpha  beta  gamma         a         b  \\\n",
    "si_nscf_GSR.nc     Si2      2   60.0  60.0   60.0  3.866975  3.866975\n",
    "si_scf_GSR.nc      Si2      2   60.0  60.0   60.0  3.866975  3.866975\n",
    "\n",
    "                       c     volume abispg_num spglib_symb  spglib_num  \\\n",
    "si_nscf_GSR.nc  3.866975  40.888292        227       Fd-3m         227\n",
    "si_scf_GSR.nc   3.866975  40.888292        227       Fd-3m         227\n",
    "\n",
    "               spglib_lattice_type scheme  occopt  tsmear_ev  bandwidth_spin0  \\\n",
    "si_nscf_GSR.nc               cubic   none       1   0.272114        11.855854\n",
    "si_scf_GSR.nc                cubic   none       1   0.272114        11.855874\n",
    "\n",
    "                fundgap_spin0  dirgap_spin0  gap_type  \\\n",
    "si_nscf_GSR.nc       0.524340      2.531828  indirect\n",
    "si_scf_GSR.nc        0.562277      2.531798  indirect\n",
    "\n",
    "                                   fundgap_kstart              fundgap_kend  \\\n",
    "si_nscf_GSR.nc  [+0.000, +0.000, +0.000] $\\Gamma$  [+0.000, +0.429, +0.429]\n",
    "si_scf_GSR.nc            [+0.000, +0.000, +0.000]  [+0.375, +0.375, +0.000]\n",
    "\n",
    "                                    dirgap_kstart  \\\n",
    "si_nscf_GSR.nc  [+0.000, +0.000, +0.000] $\\Gamma$\n",
    "si_scf_GSR.nc            [+0.000, +0.000, +0.000]\n",
    "\n",
    "                                      dirgap_kend\n",
    "si_nscf_GSR.nc  [+0.000, +0.000, +0.000] $\\Gamma$\n",
    "si_scf_GSR.nc            [+0.000, +0.000, +0.000]\n",
    "```"
   ]
  },
  {
   "cell_type": "markdown",
   "metadata": {
    "slideshow": {
     "slide_type": "slide"
    }
   },
   "source": [
    "## Bash is handy but python is more flexible\n",
    "\n",
    "##### Let's use the *DdbRobot* to compare phonons obtained with different ${\\bf k}$-meshes and smearing values:"
   ]
  },
  {
   "cell_type": "code",
   "execution_count": 16,
   "metadata": {
    "run_control": {
     "marked": true
    },
    "slideshow": {
     "slide_type": "-"
    }
   },
   "outputs": [],
   "source": [
    "paths = [\n",
    "    \"mgb2_888k_0.01tsmear_DDB\",\n",
    "    \"mgb2_888k_0.04tsmear_DDB\",\n",
    "    \"mgb2_121212k_0.01tsmear_DDB\",\n",
    "    \"mgb2_121212k_0.04tsmear_DDB\",\n",
    "]\n",
    "\n",
    "paths = [os.path.join(abidata.dirpath, \"refs\", \"mgb2_phonons_nkpt_tsmear\", f) \n",
    "         for f in paths]\n",
    "\n",
    "robot = abilab.DdbRobot()\n",
    "for i, path in enumerate(paths):\n",
    "    robot.add_file(path, path)"
   ]
  },
  {
   "cell_type": "code",
   "execution_count": 17,
   "metadata": {
    "slideshow": {
     "slide_type": "-"
    }
   },
   "outputs": [
    {
     "data": {
      "text/html": [
       "<ol start=\"0\">\n",
       "<li>nkpt: 256, tsmear: 0.01</li>\n",
       "<li>nkpt: 256, tsmear: 0.04</li>\n",
       "<li>nkpt: 864, tsmear: 0.01</li>\n",
       "<li>nkpt: 864, tsmear: 0.04</li>\n",
       "</ol>"
      ],
      "text/plain": [
       "Label                    Relpath\n",
       "-----------------------  -----------------------------------------------------------------------------\n",
       "nkpt: 256, tsmear: 0.01  ../abipy/abipy/data/refs/mgb2_phonons_nkpt_tsmear/mgb2_888k_0.01tsmear_DDB\n",
       "nkpt: 256, tsmear: 0.04  ../abipy/abipy/data/refs/mgb2_phonons_nkpt_tsmear/mgb2_888k_0.04tsmear_DDB\n",
       "nkpt: 864, tsmear: 0.01  ../abipy/abipy/data/refs/mgb2_phonons_nkpt_tsmear/mgb2_121212k_0.01tsmear_DDB\n",
       "nkpt: 864, tsmear: 0.04  ../abipy/abipy/data/refs/mgb2_phonons_nkpt_tsmear/mgb2_121212k_0.04tsmear_DDB"
      ]
     },
     "execution_count": 17,
     "metadata": {},
     "output_type": "execute_result"
    }
   ],
   "source": [
    "# Define function to change labels:\n",
    "func = lambda ddb: \"nkpt: %s, tsmear: %.2f\" % (\n",
    "    ddb.header[\"nkpt\"], ddb.header[\"tsmear\"])\n",
    "\n",
    "robot.remap_labels(func)\n",
    "robot"
   ]
  },
  {
   "cell_type": "markdown",
   "metadata": {
    "slideshow": {
     "slide_type": "subslide"
    }
   },
   "source": [
    "<!-- We are usually interested in the convergence behavior with respect to one or two parameters of \n",
    "the calculations.-->\n",
    "\n",
    "#### Now we can build a dataframe with the most important parameters:"
   ]
  },
  {
   "cell_type": "code",
   "execution_count": 18,
   "metadata": {
    "slideshow": {
     "slide_type": "-"
    }
   },
   "outputs": [
    {
     "data": {
      "text/html": [
       "<div>\n",
       "<style scoped>\n",
       "    .dataframe tbody tr th:only-of-type {\n",
       "        vertical-align: middle;\n",
       "    }\n",
       "\n",
       "    .dataframe tbody tr th {\n",
       "        vertical-align: top;\n",
       "    }\n",
       "\n",
       "    .dataframe thead th {\n",
       "        text-align: right;\n",
       "    }\n",
       "</style>\n",
       "<table border=\"1\" class=\"dataframe\">\n",
       "  <thead>\n",
       "    <tr style=\"text-align: right;\">\n",
       "      <th></th>\n",
       "      <th>nkpt</th>\n",
       "      <th>nsppol</th>\n",
       "      <th>ecut</th>\n",
       "      <th>tsmear</th>\n",
       "      <th>occopt</th>\n",
       "      <th>ixc</th>\n",
       "      <th>nband</th>\n",
       "      <th>usepaw</th>\n",
       "    </tr>\n",
       "  </thead>\n",
       "  <tbody>\n",
       "    <tr>\n",
       "      <th>nkpt: 256, tsmear: 0.01</th>\n",
       "      <td>256</td>\n",
       "      <td>1</td>\n",
       "      <td>35.0</td>\n",
       "      <td>0.01</td>\n",
       "      <td>4</td>\n",
       "      <td>1</td>\n",
       "      <td>8</td>\n",
       "      <td>0</td>\n",
       "    </tr>\n",
       "    <tr>\n",
       "      <th>nkpt: 256, tsmear: 0.04</th>\n",
       "      <td>256</td>\n",
       "      <td>1</td>\n",
       "      <td>35.0</td>\n",
       "      <td>0.04</td>\n",
       "      <td>4</td>\n",
       "      <td>1</td>\n",
       "      <td>8</td>\n",
       "      <td>0</td>\n",
       "    </tr>\n",
       "    <tr>\n",
       "      <th>nkpt: 864, tsmear: 0.01</th>\n",
       "      <td>864</td>\n",
       "      <td>1</td>\n",
       "      <td>35.0</td>\n",
       "      <td>0.01</td>\n",
       "      <td>4</td>\n",
       "      <td>1</td>\n",
       "      <td>8</td>\n",
       "      <td>0</td>\n",
       "    </tr>\n",
       "    <tr>\n",
       "      <th>nkpt: 864, tsmear: 0.04</th>\n",
       "      <td>864</td>\n",
       "      <td>1</td>\n",
       "      <td>35.0</td>\n",
       "      <td>0.04</td>\n",
       "      <td>4</td>\n",
       "      <td>1</td>\n",
       "      <td>8</td>\n",
       "      <td>0</td>\n",
       "    </tr>\n",
       "  </tbody>\n",
       "</table>\n",
       "</div>"
      ],
      "text/plain": [
       "                         nkpt  nsppol  ecut  tsmear  occopt  ixc  nband  \\\n",
       "nkpt: 256, tsmear: 0.01   256       1  35.0    0.01       4    1      8   \n",
       "nkpt: 256, tsmear: 0.04   256       1  35.0    0.04       4    1      8   \n",
       "nkpt: 864, tsmear: 0.01   864       1  35.0    0.01       4    1      8   \n",
       "nkpt: 864, tsmear: 0.04   864       1  35.0    0.04       4    1      8   \n",
       "\n",
       "                         usepaw  \n",
       "nkpt: 256, tsmear: 0.01       0  \n",
       "nkpt: 256, tsmear: 0.04       0  \n",
       "nkpt: 864, tsmear: 0.01       0  \n",
       "nkpt: 864, tsmear: 0.04       0  "
      ]
     },
     "execution_count": 18,
     "metadata": {},
     "output_type": "execute_result"
    }
   ],
   "source": [
    "robot.get_params_dataframe()"
   ]
  },
  {
   "cell_type": "markdown",
   "metadata": {
    "slideshow": {
     "slide_type": "-"
    }
   },
   "source": [
    "#### and check that all DDBs have been computed with the same crystalline structure:"
   ]
  },
  {
   "cell_type": "code",
   "execution_count": 19,
   "metadata": {
    "slideshow": {
     "slide_type": "-"
    }
   },
   "outputs": [
    {
     "data": {
      "text/html": [
       "<div>\n",
       "<style scoped>\n",
       "    .dataframe tbody tr th:only-of-type {\n",
       "        vertical-align: middle;\n",
       "    }\n",
       "\n",
       "    .dataframe tbody tr th {\n",
       "        vertical-align: top;\n",
       "    }\n",
       "\n",
       "    .dataframe thead th {\n",
       "        text-align: right;\n",
       "    }\n",
       "</style>\n",
       "<table border=\"1\" class=\"dataframe\">\n",
       "  <thead>\n",
       "    <tr style=\"text-align: right;\">\n",
       "      <th></th>\n",
       "      <th>formula</th>\n",
       "      <th>natom</th>\n",
       "      <th>alpha</th>\n",
       "      <th>beta</th>\n",
       "      <th>gamma</th>\n",
       "      <th>a</th>\n",
       "      <th>b</th>\n",
       "      <th>c</th>\n",
       "      <th>volume</th>\n",
       "      <th>abispg_num</th>\n",
       "      <th>spglib_symb</th>\n",
       "      <th>spglib_num</th>\n",
       "      <th>spglib_lattice_type</th>\n",
       "    </tr>\n",
       "  </thead>\n",
       "  <tbody>\n",
       "    <tr>\n",
       "      <th>nkpt: 256, tsmear: 0.01</th>\n",
       "      <td>Mg1 B2</td>\n",
       "      <td>3</td>\n",
       "      <td>90.0</td>\n",
       "      <td>90.0</td>\n",
       "      <td>120.0</td>\n",
       "      <td>3.086</td>\n",
       "      <td>3.086</td>\n",
       "      <td>3.523</td>\n",
       "      <td>29.055953</td>\n",
       "      <td>0</td>\n",
       "      <td>P6/mmm</td>\n",
       "      <td>191</td>\n",
       "      <td>hexagonal</td>\n",
       "    </tr>\n",
       "    <tr>\n",
       "      <th>nkpt: 256, tsmear: 0.04</th>\n",
       "      <td>Mg1 B2</td>\n",
       "      <td>3</td>\n",
       "      <td>90.0</td>\n",
       "      <td>90.0</td>\n",
       "      <td>120.0</td>\n",
       "      <td>3.086</td>\n",
       "      <td>3.086</td>\n",
       "      <td>3.523</td>\n",
       "      <td>29.055953</td>\n",
       "      <td>0</td>\n",
       "      <td>P6/mmm</td>\n",
       "      <td>191</td>\n",
       "      <td>hexagonal</td>\n",
       "    </tr>\n",
       "    <tr>\n",
       "      <th>nkpt: 864, tsmear: 0.01</th>\n",
       "      <td>Mg1 B2</td>\n",
       "      <td>3</td>\n",
       "      <td>90.0</td>\n",
       "      <td>90.0</td>\n",
       "      <td>120.0</td>\n",
       "      <td>3.086</td>\n",
       "      <td>3.086</td>\n",
       "      <td>3.523</td>\n",
       "      <td>29.055953</td>\n",
       "      <td>0</td>\n",
       "      <td>P6/mmm</td>\n",
       "      <td>191</td>\n",
       "      <td>hexagonal</td>\n",
       "    </tr>\n",
       "    <tr>\n",
       "      <th>nkpt: 864, tsmear: 0.04</th>\n",
       "      <td>Mg1 B2</td>\n",
       "      <td>3</td>\n",
       "      <td>90.0</td>\n",
       "      <td>90.0</td>\n",
       "      <td>120.0</td>\n",
       "      <td>3.086</td>\n",
       "      <td>3.086</td>\n",
       "      <td>3.523</td>\n",
       "      <td>29.055953</td>\n",
       "      <td>0</td>\n",
       "      <td>P6/mmm</td>\n",
       "      <td>191</td>\n",
       "      <td>hexagonal</td>\n",
       "    </tr>\n",
       "  </tbody>\n",
       "</table>\n",
       "</div>"
      ],
      "text/plain": [
       "                        formula  natom  alpha  beta  gamma      a      b  \\\n",
       "nkpt: 256, tsmear: 0.01  Mg1 B2      3   90.0  90.0  120.0  3.086  3.086   \n",
       "nkpt: 256, tsmear: 0.04  Mg1 B2      3   90.0  90.0  120.0  3.086  3.086   \n",
       "nkpt: 864, tsmear: 0.01  Mg1 B2      3   90.0  90.0  120.0  3.086  3.086   \n",
       "nkpt: 864, tsmear: 0.04  Mg1 B2      3   90.0  90.0  120.0  3.086  3.086   \n",
       "\n",
       "                             c     volume  abispg_num spglib_symb  spglib_num  \\\n",
       "nkpt: 256, tsmear: 0.01  3.523  29.055953           0      P6/mmm         191   \n",
       "nkpt: 256, tsmear: 0.04  3.523  29.055953           0      P6/mmm         191   \n",
       "nkpt: 864, tsmear: 0.01  3.523  29.055953           0      P6/mmm         191   \n",
       "nkpt: 864, tsmear: 0.04  3.523  29.055953           0      P6/mmm         191   \n",
       "\n",
       "                        spglib_lattice_type  \n",
       "nkpt: 256, tsmear: 0.01           hexagonal  \n",
       "nkpt: 256, tsmear: 0.04           hexagonal  \n",
       "nkpt: 864, tsmear: 0.01           hexagonal  \n",
       "nkpt: 864, tsmear: 0.04           hexagonal  "
      ]
     },
     "execution_count": 19,
     "metadata": {},
     "output_type": "execute_result"
    }
   ],
   "source": [
    "robot.get_lattice_dataframe()"
   ]
  },
  {
   "cell_type": "markdown",
   "metadata": {
    "slideshow": {
     "slide_type": "skip"
    }
   },
   "source": [
    "* Dataframes can be exported to different formats: CSV, $Latex$, JSON, Excel, ...\n",
    "* Use [dataframe.to_clipboard()](https://pandas.pydata.org/pandas-docs/stable/reference/api/pandas.DataFrame.to_clipboard.html#pandas-dataframe-to-clipboard) \n",
    "to copy to clipboard and paste into spreadsheet editor\n",
    "* Explore your *DataFrames* inside *jupyter* with [qgrid](https://github.com/quantopian/qgrid)\n",
    "* High-level plotting interface provided by [seaborn](https://seaborn.pydata.org/)\n",
    "<p></p>\n",
    "\n",
    "```python\n",
    "energy_table.plot(x=\"nkpt\", y=[\"energy_Ha\", \"ediff_Ha\", \"pressure\"], \n",
    "                  style=\"-o\", subplots=True);\n",
    "```"
   ]
  },
  {
   "cell_type": "markdown",
   "metadata": {
    "slideshow": {
     "slide_type": "subslide"
    }
   },
   "source": [
    "#### To analyze the effect of k-sampling/smearing on the vibrational properties:"
   ]
  },
  {
   "cell_type": "code",
   "execution_count": 20,
   "metadata": {
    "slideshow": {
     "slide_type": "-"
    }
   },
   "outputs": [
    {
     "data": {
      "image/png": "[encoded data removed]",
      "text/plain": [
       "<Figure size 1200x800 with 4 Axes>"
      ]
     },
     "metadata": {},
     "output_type": "display_data"
    }
   ],
   "source": [
    "# Invoke anaddb and store results\n",
    "r = robot.anaget_phonon_plotters(nqsmall=2)\n",
    "\n",
    "r.phbands_plotter.gridplot_with_hue(\"tsmear\", with_dos=True);"
   ]
  },
  {
   "cell_type": "markdown",
   "metadata": {
    "slideshow": {
     "slide_type": "skip"
    }
   },
   "source": [
    "## *AbinitInput* object \n",
    "\n",
    "Programmatic interface to generate input files:\n",
    "\n",
    "* *Dict-like* object storing ABINIT variables \n",
    "* Methods to set multiple variables (*e.g.* **k**-path from *structure*)\n",
    "* Factory functions to generate input files with minimal effort\n",
    "\n",
    "Can invoke ABINIT to get important parameters such as:\n",
    "\n",
    "  * list of **k**-points in the IBZ\n",
    "  * list of irreducible DFPT perturbations\n",
    "  * list of possible configurations for MPI jobs (*npkpt*, *npfft*, *npband* …)\n",
    "     \n",
    "#### To build an input, we need a *structure* and a list of *pseudos*:"
   ]
  },
  {
   "cell_type": "markdown",
   "metadata": {
    "slideshow": {
     "slide_type": "subslide"
    }
   },
   "source": [
    "### Input file for band structure calculation + DOS\n",
    "\n",
    "1. GS run to get the density \n",
    "2. NSCF run along high-symmetry **k**-path\n",
    "3. NSCF run with **k**-mesh to compute the DOS"
   ]
  },
  {
   "cell_type": "code",
   "execution_count": 21,
   "metadata": {
    "slideshow": {
     "slide_type": "-"
    }
   },
   "outputs": [
    {
     "ename": "FileNotFoundError",
     "evalue": "[Errno 2] No such file or directory: 'si.cif'",
     "output_type": "error",
     "traceback": [
      "\u001b[0;31m---------------------------------------------------------------------------\u001b[0m",
      "\u001b[0;31mFileNotFoundError\u001b[0m                         Traceback (most recent call last)",
      "\u001b[0;32m<ipython-input-21-bb8704306b8e>\u001b[0m in \u001b[0;36m<module>\u001b[0;34m\u001b[0m\n\u001b[1;32m      4\u001b[0m                             \u001b[0mspin_mode\u001b[0m\u001b[0;34m=\u001b[0m\u001b[0;34m\"unpolarized\"\u001b[0m\u001b[0;34m,\u001b[0m\u001b[0;34m\u001b[0m\u001b[0m\n\u001b[1;32m      5\u001b[0m                             \u001b[0msmearing\u001b[0m\u001b[0;34m=\u001b[0m\u001b[0;32mNone\u001b[0m\u001b[0;34m,\u001b[0m\u001b[0;34m\u001b[0m\u001b[0m\n\u001b[0;32m----> 6\u001b[0;31m                             dos_kppa=5000)\n\u001b[0m\u001b[1;32m      7\u001b[0m \u001b[0;34m\u001b[0m\u001b[0m\n\u001b[1;32m      8\u001b[0m \u001b[0mmulti\u001b[0m\u001b[0;34m.\u001b[0m\u001b[0mget_vars_dataframe\u001b[0m\u001b[0;34m(\u001b[0m\u001b[0;34m\"kptopt\"\u001b[0m\u001b[0;34m,\u001b[0m \u001b[0;34m\"iscf\"\u001b[0m\u001b[0;34m,\u001b[0m \u001b[0;34m\"ngkpt\"\u001b[0m\u001b[0;34m)\u001b[0m\u001b[0;34m\u001b[0m\u001b[0m\n",
      "\u001b[0;32m~/git_repos/abipy/abipy/abio/factories.py\u001b[0m in \u001b[0;36mebands_input\u001b[0;34m(structure, pseudos, kppa, nscf_nband, ndivsm, ecut, pawecutdg, scf_nband, accuracy, spin_mode, smearing, charge, scf_algorithm, dos_kppa)\u001b[0m\n\u001b[1;32m    235\u001b[0m             \u001b[0mto\u001b[0m \u001b[0mbe\u001b[0m \u001b[0mused\u001b[0m \u001b[0;32mfor\u001b[0m \u001b[0mthe\u001b[0m \u001b[0mcomputation\u001b[0m \u001b[0mof\u001b[0m \u001b[0mthe\u001b[0m \u001b[0mDOS\u001b[0m \u001b[0;34m(\u001b[0m\u001b[0;32mNone\u001b[0m \u001b[0;32mif\u001b[0m \u001b[0mDOS\u001b[0m \u001b[0;32mis\u001b[0m \u001b[0;32mnot\u001b[0m \u001b[0mwanted\u001b[0m\u001b[0;34m)\u001b[0m\u001b[0;34m.\u001b[0m\u001b[0;34m\u001b[0m\u001b[0m\n\u001b[1;32m    236\u001b[0m     \"\"\"\n\u001b[0;32m--> 237\u001b[0;31m     \u001b[0mstructure\u001b[0m \u001b[0;34m=\u001b[0m \u001b[0mStructure\u001b[0m\u001b[0;34m.\u001b[0m\u001b[0mas_structure\u001b[0m\u001b[0;34m(\u001b[0m\u001b[0mstructure\u001b[0m\u001b[0;34m)\u001b[0m\u001b[0;34m\u001b[0m\u001b[0m\n\u001b[0m\u001b[1;32m    238\u001b[0m \u001b[0;34m\u001b[0m\u001b[0m\n\u001b[1;32m    239\u001b[0m     \u001b[0;32mif\u001b[0m \u001b[0mdos_kppa\u001b[0m \u001b[0;32mis\u001b[0m \u001b[0;32mnot\u001b[0m \u001b[0;32mNone\u001b[0m \u001b[0;32mand\u001b[0m \u001b[0;32mnot\u001b[0m \u001b[0misinstance\u001b[0m\u001b[0;34m(\u001b[0m\u001b[0mdos_kppa\u001b[0m\u001b[0;34m,\u001b[0m \u001b[0;34m(\u001b[0m\u001b[0mlist\u001b[0m\u001b[0;34m,\u001b[0m \u001b[0mtuple\u001b[0m\u001b[0;34m)\u001b[0m\u001b[0;34m)\u001b[0m\u001b[0;34m:\u001b[0m\u001b[0;34m\u001b[0m\u001b[0m\n",
      "\u001b[0;32m~/git_repos/abipy/abipy/core/structure.py\u001b[0m in \u001b[0;36mas_structure\u001b[0;34m(cls, obj)\u001b[0m\n\u001b[1;32m    172\u001b[0m \u001b[0;34m\u001b[0m\u001b[0m\n\u001b[1;32m    173\u001b[0m         \u001b[0;32mif\u001b[0m \u001b[0mis_string\u001b[0m\u001b[0;34m(\u001b[0m\u001b[0mobj\u001b[0m\u001b[0;34m)\u001b[0m\u001b[0;34m:\u001b[0m\u001b[0;34m\u001b[0m\u001b[0m\n\u001b[0;32m--> 174\u001b[0;31m             \u001b[0;32mreturn\u001b[0m \u001b[0mcls\u001b[0m\u001b[0;34m.\u001b[0m\u001b[0mfrom_file\u001b[0m\u001b[0;34m(\u001b[0m\u001b[0mobj\u001b[0m\u001b[0;34m)\u001b[0m\u001b[0;34m\u001b[0m\u001b[0m\n\u001b[0m\u001b[1;32m    175\u001b[0m \u001b[0;34m\u001b[0m\u001b[0m\n\u001b[1;32m    176\u001b[0m         \u001b[0;32mif\u001b[0m \u001b[0misinstance\u001b[0m\u001b[0;34m(\u001b[0m\u001b[0mobj\u001b[0m\u001b[0;34m,\u001b[0m \u001b[0mcollections\u001b[0m\u001b[0;34m.\u001b[0m\u001b[0mabc\u001b[0m\u001b[0;34m.\u001b[0m\u001b[0mMapping\u001b[0m\u001b[0;34m)\u001b[0m\u001b[0;34m:\u001b[0m\u001b[0;34m\u001b[0m\u001b[0m\n",
      "\u001b[0;32m~/git_repos/abipy/abipy/core/structure.py\u001b[0m in \u001b[0;36mfrom_file\u001b[0;34m(cls, filepath, primitive, sort)\u001b[0m\n\u001b[1;32m    280\u001b[0m             \u001b[0;31m# Invoke pymatgen and change class\u001b[0m\u001b[0;34m\u001b[0m\u001b[0;34m\u001b[0m\u001b[0m\n\u001b[1;32m    281\u001b[0m             \u001b[0;31m# Note that AbinitSpacegroup is missing here.\u001b[0m\u001b[0;34m\u001b[0m\u001b[0;34m\u001b[0m\u001b[0m\n\u001b[0;32m--> 282\u001b[0;31m             \u001b[0mnew\u001b[0m \u001b[0;34m=\u001b[0m \u001b[0msuper\u001b[0m\u001b[0;34m(\u001b[0m\u001b[0;34m)\u001b[0m\u001b[0;34m.\u001b[0m\u001b[0mfrom_file\u001b[0m\u001b[0;34m(\u001b[0m\u001b[0mfilepath\u001b[0m\u001b[0;34m,\u001b[0m \u001b[0mprimitive\u001b[0m\u001b[0;34m=\u001b[0m\u001b[0mprimitive\u001b[0m\u001b[0;34m,\u001b[0m \u001b[0msort\u001b[0m\u001b[0;34m=\u001b[0m\u001b[0msort\u001b[0m\u001b[0;34m)\u001b[0m\u001b[0;34m\u001b[0m\u001b[0m\n\u001b[0m\u001b[1;32m    283\u001b[0m             \u001b[0;32mif\u001b[0m \u001b[0mnew\u001b[0m\u001b[0;34m.\u001b[0m\u001b[0m__class__\u001b[0m \u001b[0;34m!=\u001b[0m \u001b[0mcls\u001b[0m\u001b[0;34m:\u001b[0m \u001b[0mnew\u001b[0m\u001b[0;34m.\u001b[0m\u001b[0m__class__\u001b[0m \u001b[0;34m=\u001b[0m \u001b[0mcls\u001b[0m\u001b[0;34m\u001b[0m\u001b[0m\n\u001b[1;32m    284\u001b[0m \u001b[0;34m\u001b[0m\u001b[0m\n",
      "\u001b[0;32m~/miniconda3/envs/env3.7/lib/python3.7/site-packages/pymatgen-2022.0.5-py3.7-macosx-10.7-x86_64.egg/pymatgen/core/structure.py\u001b[0m in \u001b[0;36mfrom_file\u001b[0;34m(cls, filename, primitive, sort, merge_tol)\u001b[0m\n\u001b[1;32m   2426\u001b[0m \u001b[0;34m\u001b[0m\u001b[0m\n\u001b[1;32m   2427\u001b[0m         \u001b[0mfname\u001b[0m \u001b[0;34m=\u001b[0m \u001b[0mos\u001b[0m\u001b[0;34m.\u001b[0m\u001b[0mpath\u001b[0m\u001b[0;34m.\u001b[0m\u001b[0mbasename\u001b[0m\u001b[0;34m(\u001b[0m\u001b[0mfilename\u001b[0m\u001b[0;34m)\u001b[0m\u001b[0;34m\u001b[0m\u001b[0m\n\u001b[0;32m-> 2428\u001b[0;31m         \u001b[0;32mwith\u001b[0m \u001b[0mzopen\u001b[0m\u001b[0;34m(\u001b[0m\u001b[0mfilename\u001b[0m\u001b[0;34m,\u001b[0m \u001b[0;34m\"rt\"\u001b[0m\u001b[0;34m)\u001b[0m \u001b[0;32mas\u001b[0m \u001b[0mf\u001b[0m\u001b[0;34m:\u001b[0m\u001b[0;34m\u001b[0m\u001b[0m\n\u001b[0m\u001b[1;32m   2429\u001b[0m             \u001b[0mcontents\u001b[0m \u001b[0;34m=\u001b[0m \u001b[0mf\u001b[0m\u001b[0;34m.\u001b[0m\u001b[0mread\u001b[0m\u001b[0;34m(\u001b[0m\u001b[0;34m)\u001b[0m\u001b[0;34m\u001b[0m\u001b[0m\n\u001b[1;32m   2430\u001b[0m         \u001b[0;32mif\u001b[0m \u001b[0mfnmatch\u001b[0m\u001b[0;34m(\u001b[0m\u001b[0mfname\u001b[0m\u001b[0;34m.\u001b[0m\u001b[0mlower\u001b[0m\u001b[0;34m(\u001b[0m\u001b[0;34m)\u001b[0m\u001b[0;34m,\u001b[0m \u001b[0;34m\"*.cif*\"\u001b[0m\u001b[0;34m)\u001b[0m \u001b[0;32mor\u001b[0m \u001b[0mfnmatch\u001b[0m\u001b[0;34m(\u001b[0m\u001b[0mfname\u001b[0m\u001b[0;34m.\u001b[0m\u001b[0mlower\u001b[0m\u001b[0;34m(\u001b[0m\u001b[0;34m)\u001b[0m\u001b[0;34m,\u001b[0m \u001b[0;34m\"*.mcif*\"\u001b[0m\u001b[0;34m)\u001b[0m\u001b[0;34m:\u001b[0m\u001b[0;34m\u001b[0m\u001b[0m\n",
      "\u001b[0;32m~/miniconda3/envs/env3.7/lib/python3.7/site-packages/monty-2021.3.3-py3.7.egg/monty/io.py\u001b[0m in \u001b[0;36mzopen\u001b[0;34m(filename, *args, **kwargs)\u001b[0m\n\u001b[1;32m     41\u001b[0m     \u001b[0;32mif\u001b[0m \u001b[0mext\u001b[0m \u001b[0;32min\u001b[0m \u001b[0;34m(\u001b[0m\u001b[0;34m\".GZ\"\u001b[0m\u001b[0;34m,\u001b[0m \u001b[0;34m\".Z\"\u001b[0m\u001b[0;34m)\u001b[0m\u001b[0;34m:\u001b[0m\u001b[0;34m\u001b[0m\u001b[0m\n\u001b[1;32m     42\u001b[0m         \u001b[0;32mreturn\u001b[0m \u001b[0mgzip\u001b[0m\u001b[0;34m.\u001b[0m\u001b[0mopen\u001b[0m\u001b[0;34m(\u001b[0m\u001b[0mfilename\u001b[0m\u001b[0;34m,\u001b[0m \u001b[0;34m*\u001b[0m\u001b[0margs\u001b[0m\u001b[0;34m,\u001b[0m \u001b[0;34m**\u001b[0m\u001b[0mkwargs\u001b[0m\u001b[0;34m)\u001b[0m\u001b[0;34m\u001b[0m\u001b[0m\n\u001b[0;32m---> 43\u001b[0;31m     \u001b[0;32mreturn\u001b[0m \u001b[0mio\u001b[0m\u001b[0;34m.\u001b[0m\u001b[0mopen\u001b[0m\u001b[0;34m(\u001b[0m\u001b[0mfilename\u001b[0m\u001b[0;34m,\u001b[0m \u001b[0;34m*\u001b[0m\u001b[0margs\u001b[0m\u001b[0;34m,\u001b[0m \u001b[0;34m**\u001b[0m\u001b[0mkwargs\u001b[0m\u001b[0;34m)\u001b[0m\u001b[0;34m\u001b[0m\u001b[0m\n\u001b[0m\u001b[1;32m     44\u001b[0m \u001b[0;34m\u001b[0m\u001b[0m\n\u001b[1;32m     45\u001b[0m \u001b[0;34m\u001b[0m\u001b[0m\n",
      "\u001b[0;31mFileNotFoundError\u001b[0m: [Errno 2] No such file or directory: 'si.cif'"
     ]
    }
   ],
   "source": [
    "multi = abilab.ebands_input(structure=\"si.cif\", \n",
    "                            pseudos=\"14si.pspnc\",\n",
    "                            ecut=8, \n",
    "                            spin_mode=\"unpolarized\", \n",
    "                            smearing=None, \n",
    "                            dos_kppa=5000)\n",
    "\n",
    "multi.get_vars_dataframe(\"kptopt\", \"iscf\", \"ngkpt\")"
   ]
  },
  {
   "cell_type": "markdown",
   "metadata": {
    "slideshow": {
     "slide_type": "-"
    }
   },
   "source": [
    "#### To build an input for SCF+NSCF run with (relaxed) structure from the materials project database:\n",
    "<p></p>\n",
    "\n",
    "        abinp.py ebands mp-149          "
   ]
  },
  {
   "cell_type": "markdown",
   "metadata": {
    "slideshow": {
     "slide_type": "slide"
    }
   },
   "source": [
    "## Future developments\n",
    "\n",
    "### Post-processing tools\n",
    "\n",
    "* Support for more *netcdf* files\n",
    "* More post-processing tools for MD calculations\n",
    "* More converters and interfaces for third-party applications\n",
    "* Integrate AbiPy with [jupyterlab](https://github.com/jupyterlab/jupyterlab) to create a flexible graphical enviroment for Abinit exposing (part) \n",
    "  of the python API \n",
    "* Explore web-based technologies for data analysis and visualization ([plotly](https://plot.ly/), [dash](https://plot.ly/products/dash/)) \n",
    "* Develop toolkit to build web apps powered by AbiPy and pymatgen to disseminate scientific results. \n",
    "\n",
    "## Continuous Integration\n",
    "\n",
    "* Use AbiPy programmatic interface to implement:\n",
    "\n",
    "    * Validation of parallel algorithms for np in range(1, N)\n",
    "    * Stress testing\n",
    "    * Benchmarks"
   ]
  }
 ],
 "metadata": {
  "celltoolbar": "Slideshow",
  "kernelspec": {
   "display_name": "Python 3",
   "language": "python",
   "name": "python3"
  },
  "language_info": {
   "codemirror_mode": {
    "name": "ipython",
    "version": 3
   },
   "file_extension": ".py",
   "mimetype": "text/x-python",
   "name": "python",
   "nbconvert_exporter": "python",
   "pygments_lexer": "ipython3",
   "version": "3.7.0"
  },
  "latex_envs": {
   "bibliofile": "biblio.bib",
   "cite_by": "apalike",
   "current_citInitial": 1,
   "eqLabelWithNumbers": true,
   "eqNumInitial": 0
  }
 },
 "nbformat": 4,
 "nbformat_minor": 2
}
