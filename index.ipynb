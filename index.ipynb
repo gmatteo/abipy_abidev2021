{
 "cells": [
  {
   "cell_type": "code",
   "execution_count": null,
   "metadata": {
    "slideshow": {
     "slide_type": "skip"
    }
   },
   "outputs": [],
   "source": [
    "import os\n",
    "\n",
    "# Ignore numpy warnings\n",
    "import warnings\n",
    "warnings.filterwarnings('ignore')\n",
    "\n",
    "%matplotlib inline\n",
    "#%matplotlib notebook\n",
    "\n",
    "# Use seaborn settings.\n",
    "import seaborn as sns\n",
    "sns.set(\n",
    "        #context=\"paper\",\n",
    "        context=\"talk\",\n",
    "        #context=\"poster\",\n",
    "        style='darkgrid',\n",
    "        #style=\"dark\",\n",
    "        #palette='deep',\n",
    "        font='sans-serif', \n",
    "        #font_scale=1.0, \n",
    "        #color_codes=False, \n",
    "        rc={'figure.figsize': (9, 5.0)}, # width and height in inches.\n",
    "        #rc={'figure.figsize': (10, 6.0)}, # width and height in inches.\n",
    "        #rc={'figure.figsize': (12, 8.0)}, # width and height in inches.\n",
    ")\n",
    "\n",
    "import IPython\n",
    "\n",
    "def _embed(src, width=\"800\", height=\"400\"):\n",
    "    return IPython.display.IFrame(src=src, width=str(width), height=str(height))\n",
    "\n",
    "from IPython.core.magic import (register_line_magic, register_cell_magic,\n",
    "                                register_line_cell_magic)\n",
    "\n",
    "@register_line_magic\n",
    "def embed(line):\n",
    "    \"my line magic\"\n",
    "    #return line\n",
    "    return _embed(line)\n",
    "\n",
    "# We delete these to avoid name conflicts for automagic to work\n",
    "del embed\n",
    "#del lcmagic\n",
    "\n",
    "# Theme\n",
    "# import jtplot module in notebook\n",
    "#from jupyterthemes import jtplot\n",
    "\n",
    "# choose which theme to inherit plotting style from\n",
    "# onedork | grade3 | oceans16 | chesterish | monokai | solarizedl | solarizedd\n",
    "#jtplot.style(theme='monokai')\n",
    "\n",
    "# set \"context\" (paper, notebook, talk, poster)\n",
    "# scale font-size of ticklabels, legend, etc.\n",
    "# remove spines from x and y axes and make grid dashed\n",
    "#jtplot.style(context='talk', fscale=1.4, spines=False, gridlines='--')\n",
    "\n",
    "# turn on X- and Y-axis tick marks (default=False)\n",
    "# turn off the axis grid lines (default=True)\n",
    "# and set the default figure size\n",
    "#jtplot.style(ticks=True, grid=False, figsize=(6, 4.5))\n",
    "\n",
    "# reset default matplotlib rcParams\n",
    "#jtplot.reset()\n",
    "\n",
    "from abipy import abilab\n",
    "import abipy.data as abidata\n",
    "abiopen = abilab.abiopen\n",
    "\n",
    "#abilab.abipanel()\n",
    "\n",
    "si_pseudo = os.path.join(abidata.pseudo_dir, \"14si.pspnc\")"
   ]
  },
  {
   "cell_type": "markdown",
   "metadata": {
    "slideshow": {
     "slide_type": "slide"
    }
   },
   "source": [
    "# The new features of AbiPy v0.9.1\n",
    "\n",
    "### M. Giantomassi and the AbiPy group\n",
    "\n",
    "10th international ABINIT developer workshop<br> \n",
    "<small>May 31 - June 4, 2021 - Smart Working, Lockdown</small>\n",
    "\n",
    "<!-- link rel=\"stylesheet\" href=\"reveal.js/css/theme/sky.css\" id=\"theme\" -->\n",
    "<img src=\"./assets/intro_logos.png\" width=\"85%\" heigh=\"15%\" align=\"center\">\n",
    "<hr> \n",
    "\n",
    "* These slides have been generated using [jupyter](https://jupyter.org), [nbconvert](https://github.com/jupyter/nbconvert) and [revealjs](https://revealjs.com/)\n",
    "* The notebook can be downloaded from this [github repo](https://github.com/gmatteo/abipy_intro_abidev2019)\n",
    "* To install and configure the software, follow these [installation instructions](https://github.com/abinit/abipy#getting-abipy)\n",
    "\n",
    "Use the **Space key** to navigate through all slides."
   ]
  },
  {
   "cell_type": "markdown",
   "metadata": {
    "slideshow": {
     "slide_type": "slide"
    }
   },
   "source": [
    "<img src=\"./assets/abipy_logo.jpg\" width=\"55%\" align=\"center\">\n",
    "\n",
    "## What is AbiPy?\n",
    "\n",
    "#### Python package for:\n",
    "\n",
    "   * Generating ABINIT input files automatically\n",
    "   * Post-processing output results (*netcdf* and *text* files)\n",
    "   * Interfacing ABINIT with external tools\n",
    "   * Defining and executing ABINIT-specific workflows\n",
    "   \n",
    "#### Dependencies:\n",
    "\n",
    "   * Hard deps: \n",
    "     [numpy](http://www.numpy.org/), [scipy](https://www.scipy.org/), \n",
    "     [pandas](http://pandas.pydata.org/), [matplotlib](https://matplotlib.org/),\n",
    "     netcdf4, plotly, sympy, [pymatgen](https://github.com/materialsproject)\n",
    "   * Soft: [ipython](http://ipython.org/), [jupyter](https://jupyter.org/), phonopy, ASE.\n",
    "   \n",
    "   \n",
    "NB: AbiPy relies on pymatgen but it be interfaced with other tools (e.g ASE, phonopy, etc) via converters"
   ]
  },
  {
   "cell_type": "markdown",
   "metadata": {
    "slideshow": {
     "slide_type": "slide"
    }
   },
   "source": [
    "## What's new at the level of the installation procedure?\n",
    "\n",
    "- AbiPy now requires python >= 3.6\n",
    "- conda packages for AbiPy and ABINIT are now provided by conda-forge\n",
    "- AbiPy v1.0 will (finally) drop support for Abinit8\n",
    "- We plan to provide recipes for EasyBuild and Spack\n",
    "- We seek for volunteers to support other package managers (homebrew, apt-get, etc)"
   ]
  },
  {
   "cell_type": "markdown",
   "metadata": {
    "slideshow": {
     "slide_type": "subslide"
    }
   },
   "source": [
    "## How to install AbiPy\n",
    "\n",
    "Using [conda](https://conda.io/en/latest/) and the conda forge channel (*recommended*):\n",
    "\n",
    "        conda install abipy --channel conda-forge\n",
    "\n",
    "Recipes for AbiPy and ABINIT are now supported by the conda-forge community 🎉\n",
    "\n",
    "This means that:\n",
    "\n",
    "- conda packages are **automatically generated** when new ABINIT/AbiPy releases are pushed to github \n",
    "- the abiconda channel is **deprecated**. Please use the conda-forge versions\n",
    "\n",
    "Since conda is not limited to python packages, one can easily install ABINIT in the same env with:\n",
    "\n",
    "        conda install abinit -c conda-forge"
   ]
  },
  {
   "cell_type": "markdown",
   "metadata": {
    "slideshow": {
     "slide_type": "subslide"
    }
   },
   "source": [
    "Using [pip](https://pypi.org/project/pip/) and python wheels:\n",
    "\n",
    "        pip install abipy --user\n",
    "\n",
    "\n",
    "From the [github repository](https://github.com/abinit/abipy) (*develop mode*):\n",
    "\n",
    "        git clone https://github.com/abinit/abipy.git\n",
    "        cd abipy \n",
    "        python setup.py develop\n",
    "    \n",
    "<hr>\n",
    "\n",
    "For further info see http://abinit.github.io/abipy/installation.html"
   ]
  },
  {
   "cell_type": "markdown",
   "metadata": {
    "slideshow": {
     "slide_type": "slide"
    }
   },
   "source": [
    "## What's new at the level of the documentation?\n",
    "\n",
    "* New website based on Read-the-Docs theme\n",
    "* Gallery with matplotlib and plotlyt examples\n",
    "* New examples for flows\n",
    "* Each example can be executed on mybinder \n",
    "* Jupyter notebooks \n",
    "* abitutorial github repo with additional example"
   ]
  },
  {
   "cell_type": "markdown",
   "metadata": {
    "slideshow": {
     "slide_type": "subslide"
    }
   },
   "source": [
    "###  New AbiPy website based on Read-the-Docs theme\n",
    "\n",
    "<!--\n",
    "* http://abinit.github.io/abipy/index.html\n",
    "\n",
    "* Jupyter notebooks \n",
    "* Gallery of matplotlib examples and flows\n",
    "* abitutorial github repo with additional example\n",
    "\n",
    "now uses the RTD theme for the documentation with galleries of matplotlib examples and workflows\n",
    "\n",
    "<img src=\"./assets/abipy_doc_homepage.png\" width=\"100%\" align=\"center\">\n",
    "-->"
   ]
  },
  {
   "cell_type": "code",
   "execution_count": null,
   "metadata": {
    "scrolled": false,
    "slideshow": {
     "slide_type": "-"
    }
   },
   "outputs": [],
   "source": [
    "%embed https://abinit.github.io/abipy/index.html"
   ]
  },
  {
   "cell_type": "markdown",
   "metadata": {
    "slideshow": {
     "slide_type": "subslide"
    }
   },
   "source": [
    "### Sphinx-gallery with docs, figures and links to download py scripts, notebooks or run the example via binder."
   ]
  },
  {
   "cell_type": "code",
   "execution_count": null,
   "metadata": {
    "slideshow": {
     "slide_type": "-"
    }
   },
   "outputs": [],
   "source": [
    "%embed https://abinit.github.io/abipy/gallery/plot_phbands_nkpt_tsmear.html#sphx-glr-gallery-plot-phbands-nkpt-tsmear-py"
   ]
  },
  {
   "cell_type": "code",
   "execution_count": null,
   "metadata": {
    "slideshow": {
     "slide_type": "notes"
    }
   },
   "outputs": [],
   "source": [
    "%embed https://abinit.github.io/abipy/gallery/index.html"
   ]
  },
  {
   "cell_type": "code",
   "execution_count": null,
   "metadata": {
    "slideshow": {
     "slide_type": "notes"
    }
   },
   "outputs": [],
   "source": [
    "%embed https://abinit.github.io/abipy/flow_gallery/index.html"
   ]
  },
  {
   "cell_type": "markdown",
   "metadata": {
    "slideshow": {
     "slide_type": "skip"
    }
   },
   "source": [
    "##  Jupyter notebooks with [examples and lessons](https://nbviewer.jupyter.org/github/abinit/abitutorials/blob/master/abitutorials/index.ipynb) inspired by the official tutorials\n",
    "\n",
    "<!-- img src=\"./assets/abipy_notebooks.png\" width=\"100%\" align=\"center\" -->"
   ]
  },
  {
   "cell_type": "code",
   "execution_count": null,
   "metadata": {
    "slideshow": {
     "slide_type": "-"
    }
   },
   "outputs": [],
   "source": [
    "%embed https://nbviewer.jupyter.org/github/abinit/abitutorials/blob/master/abitutorials/index.ipynb"
   ]
  },
  {
   "cell_type": "markdown",
   "metadata": {
    "slideshow": {
     "slide_type": "slide"
    }
   },
   "source": [
    "## What's new at the level of workflow machinery?\n",
    "\n",
    "### For the DFPT part:\n",
    "\n",
    "* Python converters DDB $\\;\\rightleftarrows \\;$ phonopy / tdep\n",
    "* New Flows to compute:\n",
    "\n",
    "   - elastic and piezoelectric tensors with DFPT (clamped/relaxed atoms)\n",
    "   - Gruneisen parameters from DFPT calculations\n",
    "   - Quasi-harmonic approximation with DFPT\n",
    "   - effective masses with DFPT or finite differences\n",
    "\n",
    "### For the e-ph part:\n",
    "\n",
    "* New flows and post-processing tools for: \n",
    "\n",
    "   - Imaginary part of ph-e self-energy\n",
    "   - e-ph self-energy\n",
    "   - transport properties witing SERTA/MRTA/IBTE\n",
    "   - e-ph matrix elements and scattering potentials"
   ]
  },
  {
   "cell_type": "markdown",
   "metadata": {
    "slideshow": {
     "slide_type": "subslide"
    }
   },
   "source": [
    "## Two different workflows infrastructures:\n",
    "   \n",
    "#### Internal implementation (*abipy.flowtk Flows*): \n",
    "\n",
    "* ✅  Lightweigth, **no database** is required\n",
    "* ✅  Designed for rapid prototyping and for testing advanced ABINIT capabilities \n",
    "* ❌  No explicit support for high-throughput (HT) applications.\n",
    "    \n",
    "\n",
    "#### AbiFlows package (requires Fireworks and MongoDB database)\n",
    "\n",
    "- ✅ **HT-oriented**: use database to store workflow status for further analysis\n",
    "- ✅ **High-level no-brainer API** designed for HT applications\n",
    "- ❌ New ABINIT features are first implemented/tested with flowtk Flows and then ported to AbiFlows.\n",
    "\n",
    "NB: There's an ongoing effort to reimplement AbiFlows in terms of the atomate framework\n",
    "so this talk will mainly discuss the features available in *abipy.flowtk*."
   ]
  },
  {
   "cell_type": "markdown",
   "metadata": {
    "slideshow": {
     "slide_type": "skip"
    }
   },
   "source": [
    "## New features related to DFPT and e-ph\n",
    "\n",
    "### For the DFPT part:\n",
    "\n",
    "* Python converters DDB $\\;\\rightleftarrows \\;$ phonopy / tdep\n",
    "* New Flows to compute:\n",
    "\n",
    "   - elastic and piezoelectric tensors with DFPT (clamped/relaxed atoms)\n",
    "   - non-linear optical properties with DFPT\n",
    "   - effective masses with DFPT or finite differences\n",
    "\n",
    "### For the e-ph part:\n",
    "\n",
    "* New flows and post-processing tools for: \n",
    "\n",
    "   - e-ph self-energy\n",
    "   - transport properties\n",
    "   - e-ph matrix elements and scattering potentials"
   ]
  },
  {
   "cell_type": "markdown",
   "metadata": {
    "slideshow": {
     "slide_type": "subslide"
    }
   },
   "source": [
    "## DDB converters \n",
    "<small>(contributed by G. Petretto)</small>\n",
    "\n",
    "* Based on py script by A. Romero. ...\n",
    "\n",
    "* Applications:\n",
    "   * Interface AbiPy with phonopy \n",
    "   * Connect ABINT DPT with other requiring phonony (e.g. anharmonic calculations hipive) \n",
    "\n",
    "\n",
    "Example: obtain irreps from DDB using phonopy"
   ]
  },
  {
   "cell_type": "markdown",
   "metadata": {
    "slideshow": {
     "slide_type": "subslide"
    }
   },
   "source": [
    "## [ElasticWork](https://abinit.github.io/abipy/flow_gallery/run_elastic.html#sphx-glr-flow-gallery-run-elastic-py)\n",
    "\n",
    "#### This flow computes:\n",
    "\n",
    "- the rigid-atom elastic tensor\n",
    "- the rigid-atom piezoelectric tensor (insulators only)\n",
    "- the internal strain tensor\n",
    "- the atomic relaxation corrections to the elastic and piezoelectric tensor\n",
    "\n",
    "For the formalism, see: \n",
    "\n",
    "#### Python API:\n",
    "\n",
    "```python\n",
    "scf_input = make_scf_input() # Build input for GS calculation\n",
    "\n",
    "elast_work = flowtk.ElasticWork.from_scf_input(scf_input, \n",
    "                                               with_relaxed_ion=True, \n",
    "                                               with_piezo=True)\n",
    "```"
   ]
  },
  {
   "cell_type": "markdown",
   "metadata": {
    "slideshow": {
     "slide_type": "subslide"
    }
   },
   "source": [
    "<img src=\"./assets/elastic_work.png\" width=\"60%\" align=\"center\">"
   ]
  },
  {
   "cell_type": "markdown",
   "metadata": {
    "slideshow": {
     "slide_type": "subslide"
    }
   },
   "source": [
    "## To compute elastic tensors from the DDB file, use:"
   ]
  },
  {
   "cell_type": "code",
   "execution_count": null,
   "metadata": {
    "slideshow": {
     "slide_type": "-"
    }
   },
   "outputs": [],
   "source": [
    "elastic_ddb = abilab.abiopen(\"elastic_DDB\")\n",
    "edata = elastic_ddb.anaget_elastic()\n",
    "\n",
    "edata.elastic_relaxed"
   ]
  },
  {
   "cell_type": "code",
   "execution_count": null,
   "metadata": {
    "slideshow": {
     "slide_type": "subslide"
    }
   },
   "outputs": [],
   "source": [
    "edata.get_elastic_properties_dataframe(properties_as_index=True)"
   ]
  },
  {
   "cell_type": "code",
   "execution_count": null,
   "metadata": {
    "slideshow": {
     "slide_type": "subslide"
    }
   },
   "outputs": [],
   "source": [
    "edata.get_elastic_voigt_dataframe(tol=1e-5)"
   ]
  },
  {
   "cell_type": "markdown",
   "metadata": {
    "slideshow": {
     "slide_type": "subslide"
    }
   },
   "source": [
    "For additional info, see the notebook tutorial:\n",
    "\n",
    "https://nbviewer.jupyter.org/github/abinit/abitutorials/blob/master/abitutorials/elastic/lesson_elastic.ipynb"
   ]
  },
  {
   "cell_type": "markdown",
   "metadata": {
    "slideshow": {
     "slide_type": "subslide"
    }
   },
   "source": [
    "## Gruneisen parameters\n",
    "\n",
    "#### This flow computes:\n",
    "\n",
    "- $\\gamma_{\\bf{q}\\nu}$ using finite differences and DFPT phonons\n",
    "\n",
    "#### Python API:\n",
    "\n",
    "```python\n",
    "scf_input = make_scf_input() # Build input for GS calculation\n",
    "\n",
    "# NB: k-mesh in gs_inp and ngqpt q-mesh must be commensurate.\n",
    "from abipy.flowtk.gruneisen import GruneisenWork\n",
    "voldelta = gs_inp.structure.volume * 0.02\n",
    "work = GruneisenWork.from_gs_input(gs_inp, voldelta, ngqpt=[2, 2, 2], with_becs=False)\n",
    "```"
   ]
  },
  {
   "cell_type": "markdown",
   "metadata": {
    "slideshow": {
     "slide_type": "subslide"
    }
   },
   "source": [
    "- Three relaxations at fixed volume (violet task)\n",
    "- Each relaxation task starts a DFPT computation of the dynamical matrix.\n",
    "\n",
    "<img src=\"./assets/gruneisen.png\" width=\"70%\" align=\"center\">"
   ]
  },
  {
   "cell_type": "markdown",
   "metadata": {},
   "source": [
    "## Non-linear optical properties\n",
    "\n",
    "#### This flow computes:\n",
    "\n",
    "- SCF + NSCF along k-path to find band edges automatically\n",
    "- Perform DFPT computation of $m^*$ for these $k$-points\n",
    "- See J. Abreu's talk for applications\n",
    "\n",
    "For the formalism see: \n",
    "\n",
    "#### Python API:\n",
    "\n",
    "```python\n",
    "scf_input = make_scf_input()   # Get the SCF input (without SOC)\n",
    "\n",
    "scf_input = make_scf_input()\n",
    "return flowtk.NonLinearCoeffFlow.from_scf_input(\"nlo_flow\", scf_input)\n",
    "```"
   ]
  },
  {
   "cell_type": "markdown",
   "metadata": {
    "slideshow": {
     "slide_type": "-"
    }
   },
   "source": [
    "<img src=\"./assets/flow_nonlinear.png\" width=\"70%\" align=\"center\">"
   ]
  },
  {
   "cell_type": "markdown",
   "metadata": {
    "slideshow": {
     "slide_type": "subslide"
    }
   },
   "source": [
    "## [Effective masses with DFPT]( https://abinit.github.io/abipy/flow_gallery/run_effmass_dfpt.html#sphx-glr-flow-gallery-run-effmass-dfpt-py)\n",
    "\n",
    "#### This flow computes:\n",
    "\n",
    "- SCF + NSCF along k-path to find band edges automatically\n",
    "- Perform DFPT computation of $m^*$ for these $k$-points\n",
    "- See J. Abreu's talk for applications\n",
    "\n",
    "For the formalism see: \n",
    "\n",
    "#### Python API:\n",
    "\n",
    "```python\n",
    "scf_input = make_scf_input()   # Get the SCF input (without SOC)\n",
    "\n",
    "from abipy.flowtk.effmass_works import EffMassAutoDFPTWork\n",
    "flow = flowtk.Flow(\"effmass_flow\")\n",
    "\n",
    "work = EffMassAutoDFPTWork.from_scf_input(scf_input)\n",
    "flow.register_work(work)\n",
    "```"
   ]
  },
  {
   "cell_type": "markdown",
   "metadata": {
    "slideshow": {
     "slide_type": "subslide"
    }
   },
   "source": [
    "\n",
    "- SCF + NSCF along k-path to find band edges automatically\n",
    "- Perform DFPT computation of $m^*$ for these $k$-points\n",
    "- See Joao's talk\n",
    "\n",
    "<img src=\"./assets/eff_mass_dfpt.png\" width=\"70%\" align=\"center\">"
   ]
  },
  {
   "cell_type": "markdown",
   "metadata": {
    "slideshow": {
     "slide_type": "subslide"
    }
   },
   "source": [
    "##  e-ph matrix elements along an arbitrary q-path\n",
    "\n",
    "\n",
    "#### This flow computes:\n",
    "\n",
    "This example shows how to compute the e-ph matrix elements in AlAs along a q-path with AbiPy flows. \n",
    "The final results are stored in the GKQ.nc file (one file for q-point) in the outdata of each task.\n",
    "\n",
    "#### Python API:\n",
    "\n",
    "```python\n",
    "# Build input for GS calculation on a 2x2x2 k-mesh\n",
    "scf_input = make_scf_input(ngkpt=(2, 2, 2))\n",
    "\n",
    "# q-mesh for phonons\n",
    "ngqpt = (2, 2, 2)\n",
    "\n",
    "# Create flow to compute all the independent atomic perturbations\n",
    "# Use ndivsm = 0 to pass an explicit list of q-points.\n",
    "# If ndivsm > 0, qpath_list is interpreted as a list of boundaries for the q-path\n",
    "qpath_list = [[0.0, 0.0, 0.0], [0.01, 0, 0], [0.1, 0, 0],\n",
    "              [0.24, 0, 0], [0.3, 0, 0], [0.45, 0, 0], [0.5, 0.0, 0.0]]\n",
    "\n",
    "from abipy.flowtk.eph_flows import GkqPathFlow\n",
    "flow = GkqPathFlow.from_scf_input(\"flow_dir\", scf_input,\n",
    "                                  ngqpt, qpath_list, ndivsm=0, with_becs=True,\n",
    "                                  ddk_tolerance={\"tolwfr\": 1e-8})\n",
    "```\n",
    "\n",
    "Formalism:\n",
    "\n",
    "https://abinit.github.io/abipy/flow_gallery/run_gkq.html#sphx-glr-flow-gallery-run-gkq-py"
   ]
  },
  {
   "cell_type": "markdown",
   "metadata": {
    "slideshow": {
     "slide_type": "subslide"
    }
   },
   "source": [
    "- SCF + NSCF along k-path to find band edges automatically\n",
    "- Perform DFPT computation of $m^*$ for these $k$-points\n",
    "- See Joao's talk\n",
    "\n",
    "<img src=\"./assets/gkqpath_flow.png\" width=\"100%\" align=\"center\">"
   ]
  },
  {
   "cell_type": "markdown",
   "metadata": {
    "slideshow": {
     "slide_type": "subslide"
    }
   },
   "source": [
    "### Other applications of AbiPy flows, are discussed in the following talks:\n",
    "\n",
    "- (G.Brunin)\n",
    "- (Gabriel's PhD student\n",
    "- Julien"
   ]
  },
  {
   "cell_type": "markdown",
   "metadata": {
    "slideshow": {
     "slide_type": "slide"
    }
   },
   "source": [
    "## What's new at the level of the post-processing tools?\n",
    "\n",
    "- New plotting tools based on plotly\n",
    "- Post-processing tools for e-ph calculations\n",
    "- GUIs and dashboards based on panel and bokeh"
   ]
  },
  {
   "cell_type": "markdown",
   "metadata": {
    "slideshow": {
     "slide_type": "slide"
    }
   },
   "source": [
    "## Matplotlib vs Plotly\n",
    "\n",
    "<img src=\"./assets/matplotlib_logo.png\" width=\"20%\" align=\"left\"><br>\n",
    "\n",
    "- ✅ Publication quality figures. \n",
    "- ✅ Flexible python API able to produce rather advanced plots\n",
    "- ❌ Plots are difficult to customize without changing the python code \n",
    "- ❌ Plots lacks interactivity and integration with HTML. \n",
    "\n",
    "<br> \n",
    "\n",
    "<img src=\"./assets/plotly_logo.png\" width=\"15%\" align=\"left\"><br>\n",
    "\n",
    "- ✅ Interactive plots + chart editor GUI to customize the figure\n",
    "- ✅ Play well with HTML (plotly us written in js with python bindings)\n",
    "- ❌ Open source project but not all the features are available in the free plan \n",
    "- ❌ Requires browser (this may represent an issue on some HPC centers)"
   ]
  },
  {
   "cell_type": "markdown",
   "metadata": {
    "slideshow": {
     "slide_type": "subslide"
    }
   },
   "source": [
    "## AbiPy plots with matplotlib"
   ]
  },
  {
   "cell_type": "code",
   "execution_count": null,
   "metadata": {
    "slideshow": {
     "slide_type": "-"
    }
   },
   "outputs": [],
   "source": [
    "gsr = abiopen(\"si_nscf_GSR.nc\")\n",
    "gsr.ebands.plot(with_gaps=True);"
   ]
  },
  {
   "cell_type": "markdown",
   "metadata": {
    "slideshow": {
     "slide_type": "subslide"
    }
   },
   "source": [
    "## AbiPy plots with plotly \n",
    "<small>(contributed by Y. He and MG)</small>"
   ]
  },
  {
   "cell_type": "code",
   "execution_count": null,
   "metadata": {
    "slideshow": {
     "slide_type": "-"
    }
   },
   "outputs": [],
   "source": [
    "gsr.ebands.plotly(with_gaps=True);  # object.plot becomes object.plotly"
   ]
  },
  {
   "cell_type": "code",
   "execution_count": null,
   "metadata": {
    "slideshow": {
     "slide_type": "skip"
    }
   },
   "outputs": [],
   "source": [
    "#from abipy.tools.plotting import push_to_chart_studio\n",
    "#push_to_chart_studio(fig)"
   ]
  },
  {
   "cell_type": "markdown",
   "metadata": {
    "slideshow": {
     "slide_type": "subslide"
    }
   },
   "source": [
    "### To update the plotly figure to the chart studio server, use:\n",
    "\n",
    "```python\n",
    "gsr.ebands.plotly(with_gaps=True, chart_studio=True);\n",
    "```\n",
    "\n",
    "<hr>\n",
    "\n",
    "<img src=\"./assets/chart_studio.png\" width=\"80%\" align=\"center\">\n",
    "\n",
    "Now users can finally customize the plot without changing the py code."
   ]
  },
  {
   "cell_type": "markdown",
   "metadata": {
    "slideshow": {
     "slide_type": "skip"
    }
   },
   "source": [
    "\n",
    "<!--\n",
    "<div class=\"alert alert-warning\">\n",
    "Requires chart-studio account and API token in $HOME/.pmgrc.yaml \n",
    "</div>\n",
    "-->\n",
    "\n",
    "#%embed https://chart-studio.plotly.com/~gmatteo/214"
   ]
  },
  {
   "cell_type": "code",
   "execution_count": null,
   "metadata": {
    "slideshow": {
     "slide_type": "skip"
    }
   },
   "outputs": [],
   "source": [
    "#gsr.ebands.plotly_ebands_with_edos(\"si_scf_GSR.nc\", with_gaps=True)\n",
    "#gsr.ebands.plotly_with_edos(abidata(\"si_scf_GSR.nc\"));"
   ]
  },
  {
   "cell_type": "markdown",
   "metadata": {
    "slideshow": {
     "slide_type": "subslide"
    }
   },
   "source": [
    "## Interactive 3d plots with plotly:"
   ]
  },
  {
   "cell_type": "code",
   "execution_count": null,
   "metadata": {
    "slideshow": {
     "slide_type": "-"
    }
   },
   "outputs": [],
   "source": [
    "gsr.ebands.kpoints.plotly();"
   ]
  },
  {
   "cell_type": "markdown",
   "metadata": {
    "slideshow": {
     "slide_type": "subslide"
    }
   },
   "source": [
    "## The matplotlib 3d plot embedded in HTML :"
   ]
  },
  {
   "cell_type": "code",
   "execution_count": null,
   "metadata": {
    "scrolled": true,
    "slideshow": {
     "slide_type": "-"
    }
   },
   "outputs": [],
   "source": [
    "gsr.ebands.kpoints.plot();"
   ]
  },
  {
   "cell_type": "markdown",
   "metadata": {
    "slideshow": {
     "slide_type": "subslide"
    }
   },
   "source": [
    "## Important note\n",
    "\n",
    "- AbiPy will continue to support and develop matplotlib-based tools \n",
    "- We plan to implement plotly-based tools for the most important physical properties\n",
    "  but we cannot support all the possible options already implemented with matplotlib\n",
    "- Fortunately, there are packages such as holoviz or plotly-express that provided the data is stored \n",
    "  in a pandas dataframe.\n",
    "   \n",
    "<small>Several other plotting libraries are available in the pydata ecosystem</small>"
   ]
  },
  {
   "cell_type": "markdown",
   "metadata": {
    "slideshow": {
     "slide_type": "slide"
    }
   },
   "source": [
    "## Integrating Abipy with web-based technologies\n",
    "\n",
    "- Integration between panel and AbiPy \n",
    "- How to create GUIs inside jupyter notebooks\n",
    "- Dashboards and web apps\n",
    "- Integration with the AbiPy command line interface"
   ]
  },
  {
   "cell_type": "markdown",
   "metadata": {
    "slideshow": {
     "slide_type": "subslide"
    }
   },
   "source": [
    "<img src=\"./assets/panel_logo.png\" width=\"15%\" align=\"center\">\n",
    "\n",
    "### What is Panel?\n",
    "\n",
    "   * Panel provides tools for composing widgets, plots, tables into apps and dashboards \n",
    "   * It relies on the **client-server** model where:\n",
    "       - the client is the web browser running HTML/CSS/JS code.\n",
    "       - the server communicates with the client, executes py code and sends the results back to the client\n",
    "   * In a nutshell, panel keeps the browser and python in **synch** e.g.\n",
    "     the user clicks a button in the GUI and the signal to python.\n",
    "     \n",
    "### Why panel?\n",
    "\n",
    "   * Panel works with visualizations from Bokeh, Plotly, Matplotlib, HoloViews, \n",
    "     and many other Python plotting libraries, \n",
    "   * Panel works equally well in Jupyter Notebooks\n",
    "\n",
    "<!--\n",
    "   One implementation  multiple applications\n",
    "   * Most of the work can be done within the python backend:\n",
    "       - scientific computations\n",
    "       - definition of the HTML GUI (layout, widgets and callbacks)\n",
    "       - results on the client (browser) and keep   \n",
    "<small>Other frameworks: plotly-dash, jupyter+voila, streamlit</small>\n",
    "\n",
    "* Fits well with the AbiPy implementation\n",
    "\n",
    "Panel provides tools for easily composing widgets, plots, tables, and other viewable objects and controls into custom analysis tools, apps, and dashboards. Panel works with visualizations from Bokeh, Matplotlib, HoloViews, and many other Python plotting libraries, making them instantly viewable either individually or when combined with interactive widgets that control them. Panel works equally well in Jupyter Notebooks, for creating quick data-exploration tools, or as standalone deployed apps and dashboards, and allows you to easily switch between those contexts as needed.\n",
    "-->"
   ]
  },
  {
   "cell_type": "markdown",
   "metadata": {
    "slideshow": {
     "slide_type": "subslide"
    }
   },
   "source": [
    "Thanks to this infrastructure, developers can \n",
    "\n",
    "- use python to solve the scientific problem using the pydata ecosystem and other ab-inition py packages\n",
    "- use modern web-technologies to present the results to the client without having to deal with HTML/CSS/JS  \n",
    "\n",
    "<img src=\"./assets/panel_software.png\" width=\"70%\" align=\"center\">"
   ]
  },
  {
   "cell_type": "markdown",
   "metadata": {
    "slideshow": {
     "slide_type": "skip"
    }
   },
   "source": [
    "## Client-Server model from 100 miles\n",
    "\n",
    "- The client connects to the server via the browser\n",
    "- The client upload files and/or sends requests to the server via the GUI provided by the browser (HTML/JS/CSS).\n",
    "- The server receives the files/requests, executes python code and sends the results back to the client\n",
    "  in a format that the browser can understand e.g. JSON.\n",
    "- client and server may be running on the same machine or on different machines connected by a network.\n",
    "\n"
   ]
  },
  {
   "cell_type": "markdown",
   "metadata": {
    "slideshow": {
     "slide_type": "subslide"
    }
   },
   "source": [
    "## Pros and cons of the client-server model\n",
    "\n",
    "### Advantages:\n",
    "\n",
    "- Client does not need to install the scientific software stack (when running on different machines)\n",
    "- Can take advantage of modern HTML technologies to present the results in the browser\n",
    "- Can implement web apps that allows the user to upload the data and analyze the results \n",
    "  withouth having to install python software.\n",
    "\n",
    "### Disavantages\n",
    "\n",
    "- Round trip delay if client != host and slow connection\n",
    "- Upoloadng a 1Gb file to the remote server just because you don't want to install software on the localhost \n",
    "  is a very **bad** idea. \n",
    "- OK for relatively small files (< 1Gb) but this approach is not designed to handle big data.\n",
    "- Not all the HPC centers provide specialized nodes to post-process the results inside a web browser/notebook. \n",
    "  "
   ]
  },
  {
   "cell_type": "markdown",
   "metadata": {
    "slideshow": {
     "slide_type": "subslide"
    }
   },
   "source": [
    "## How to use AbiPy panels inside jupyter notebooks\n",
    "\n",
    "To build a panel GUI inside the notebook, use:"
   ]
  },
  {
   "cell_type": "code",
   "execution_count": null,
   "metadata": {
    "slideshow": {
     "slide_type": "notes"
    }
   },
   "outputs": [],
   "source": [
    "#gsr = abiopen(\"si_nscf_GSR.nc\")\n",
    "#abilab.abipanel();\n",
    "#gsr.get_panel()"
   ]
  },
  {
   "cell_type": "code",
   "execution_count": null,
   "metadata": {
    "slideshow": {
     "slide_type": "-"
    }
   },
   "outputs": [],
   "source": [
    "ddb = abilab.abiopen(\"ZnSe_hex_qpt_DDB\")\n",
    "\n",
    "abilab.abipanel(); # Important\n",
    "ddb.get_panel()"
   ]
  },
  {
   "cell_type": "markdown",
   "metadata": {
    "slideshow": {
     "slide_type": "subslide"
    }
   },
   "source": [
    "\n",
    "<div class=\"alert alert-warning\">\n",
    "Don't be surprised if you start to click buttons and **nothing happens**!\n",
    "    \n",
    "One needs a **running python backend**\n",
    "to execute the callbacks triggerered by the GUI widgets.\n",
    "</div>"
   ]
  },
  {
   "cell_type": "markdown",
   "metadata": {
    "slideshow": {
     "slide_type": "subslide"
    }
   },
   "source": [
    "## Other files are supported as well"
   ]
  },
  {
   "cell_type": "code",
   "execution_count": null,
   "metadata": {
    "slideshow": {
     "slide_type": "-"
    }
   },
   "outputs": [],
   "source": [
    "ddb.structure.get_panel()"
   ]
  },
  {
   "cell_type": "markdown",
   "metadata": {
    "slideshow": {
     "slide_type": "subslide"
    }
   },
   "source": [
    "## Creating dashboards from the command line\n",
    "\n",
    "- Using panel inside notebooks is great if you need both the flexibility of the python language \n",
    "  and the easiness of the GUIs to improve your productivity. \n",
    "- In some cases, however, we just want to create a dahhboard with widgets to interact with the data.\n",
    "\n",
    "To create a panel dashboard associated to the DDB file, use:\n",
    "\n",
    "```sh\n",
    "abiopen.py out_DDB --panel  # or -pn if you prefer the short version. \n",
    "```\n",
    "\n",
    "<img src=\"./assets/abiopen_ddb_panel.png\" width=\"70%\" align=\"center\">"
   ]
  },
  {
   "cell_type": "markdown",
   "metadata": {
    "slideshow": {
     "slide_type": "subslide"
    }
   },
   "source": [
    "#### To produce a predefined set of matplotlib figures, use:\n",
    "<p></p>\n",
    "\n",
    "```shell\n",
    "abiopen.py mgb2_kpath_FATBANDS.nc --expose --seaborn\n",
    "```    \n",
    "\n",
    "```shell\n",
    "abiopen.py mgb2_kpath_FATBANDS.nc --expose-web # -ewb\n",
    "```    \n",
    "\n",
    "\n",
    "```shell\n",
    "abiopen.py mgb2_kpath_FATBANDS.nc --plotly # -ply\n",
    "``` \n",
    "\n",
    "<img src=\"assets/mgb2_fatbands.png\" width=\"100%\" align=\"center\" alt=\"abiopen_expose\">"
   ]
  },
  {
   "cell_type": "markdown",
   "metadata": {
    "slideshow": {
     "slide_type": "-"
    }
   },
   "source": [
    "#### Replace *--expose* with *--notebook* to generate a jupyter notebook with predefined python code"
   ]
  },
  {
   "cell_type": "markdown",
   "metadata": {
    "slideshow": {
     "slide_type": "subslide"
    }
   },
   "source": [
    "## Creating dashboards without widgets with abiview\n",
    "\n",
    "\n",
    " to get a quick look at the results\n",
    "\n",
    "```sh\n",
    "abiview.py ddb ZnSe_hex_qpt_DDB --panel  # or -pn if you prefer the short version. \n",
    "```"
   ]
  },
  {
   "cell_type": "code",
   "execution_count": null,
   "metadata": {
    "slideshow": {
     "slide_type": "subslide"
    }
   },
   "outputs": [],
   "source": [
    "## Documentation of new features available at:"
   ]
  },
  {
   "cell_type": "code",
   "execution_count": null,
   "metadata": {
    "slideshow": {
     "slide_type": "-"
    }
   },
   "outputs": [],
   "source": [
    "%embed https://abinit.github.io/abipy/graphical_interface.html"
   ]
  },
  {
   "cell_type": "markdown",
   "metadata": {
    "slideshow": {
     "slide_type": "skip"
    }
   },
   "source": [
    "#### If you are still using perl scripts to extract data from the main output file, check this out:\n",
    "<p></p>\n",
    "\n",
    "```sh\n",
    "abiopen.py gs_dfpt.abo --expose --seaborn\n",
    "```\n",
    "\n",
    "<center>\n",
    "<img src=\"assets/abiopen_abo.png\" width=\"75%\" align=\"center\">\n",
    "</center>\n",
    "\n",
    "#### The introduction of Yaml documents in the main output (*cfr.* Theo's talk) will facilitate the implementation of new post-processing tools..."
   ]
  },
  {
   "cell_type": "markdown",
   "metadata": {
    "slideshow": {
     "slide_type": "skip"
    }
   },
   "source": [
    "#### Want to know what's happening in the structural relaxation?\n",
    "<p></p>\n",
    "\n",
    "```sh\n",
    "abiview.py hist sic_relax_HIST.nc\n",
    "```\n",
    "\n",
    "<center>\n",
    "<img src=\"assets/abiview_hist.png\" width=\"60%\" align=\"center\">\n",
    "</center>"
   ]
  },
  {
   "cell_type": "markdown",
   "metadata": {
    "slideshow": {
     "slide_type": "subslide"
    }
   },
   "source": [
    "#### Need to call *anaddb* to compute and visualize ph-bands and DOS from DDB?\n",
    "<p></p>\n",
    "\n",
    "```sh\n",
    "abiview.py ddb ZnSe_hex_qpt_DDB --seaborn\n",
    "```"
   ]
  },
  {
   "cell_type": "markdown",
   "metadata": {
    "slideshow": {
     "slide_type": "skip"
    }
   },
   "source": [
    "## Abipy Robots\n",
    "\n",
    "* High-level interface to operate on <u>multiple files</u> with the same file extension\n",
    "\n",
    "* Useful for:\n",
    "\n",
    "     * convergence studies\n",
    "     * producing multiple plots\n",
    "     * building [Pandas dataframes](https://pandas.pydata.org/) (data in tabular format powered by python)\n",
    "\n",
    "* Each *Robot* is associated to a file extension, *e.g.* \n",
    "\n",
    "     * GSR.nc ➝ *GsrRobot*\n",
    "     * DDB ➝ *DdbRobot*\n",
    "     \n",
    "* *Robots* can be constructed from:\n",
    "\n",
    "    1. List of filenames\n",
    "    2. Directories and regular expressions\n",
    "    \n",
    "* Command line interface provided by the *abicomp.py* script:\n",
    "\n",
    "* To generate notebook to compare multiple *GSR* files, use:\n",
    "\n",
    "            abicomp.py gsr out1_GSR.nc  out2_GSR.nc --notebook"
   ]
  },
  {
   "cell_type": "markdown",
   "metadata": {
    "slideshow": {
     "slide_type": "skip"
    }
   },
   "source": [
    "#### To compare multiple structures:"
   ]
  },
  {
   "cell_type": "code",
   "execution_count": null,
   "metadata": {
    "slideshow": {
     "slide_type": "skip"
    }
   },
   "outputs": [],
   "source": [
    "!abicomp.py structure *.cif si_nscf_GSR.nc `find . -name *_DDB`"
   ]
  },
  {
   "cell_type": "markdown",
   "metadata": {
    "slideshow": {
     "slide_type": "skip"
    }
   },
   "source": [
    "#### Note shell wildcard characters and Unix `find` inside backticks (bash rocks!)"
   ]
  },
  {
   "cell_type": "code",
   "execution_count": null,
   "metadata": {
    "slideshow": {
     "slide_type": "notes"
    }
   },
   "outputs": [],
   "source": [
    "#plotter = abilab.ElectronBandsPlotter()\n",
    "#plotter.add_ebands(label=\"BZ sampling\", bands=\"si_scf_GSR.nc\")\n",
    "#plotter.add_ebands(label=\"k-path\", bands=\"si_nscf_GSR.nc\")\n",
    "#plotter.gridplot(with_gaps=True);"
   ]
  },
  {
   "cell_type": "markdown",
   "metadata": {
    "slideshow": {
     "slide_type": "skip"
    }
   },
   "source": [
    "#### Using *ElectronBandsPlotter* to visualize multiple band structures:\n",
    "<p></p>\n",
    "\n",
    "```sh\n",
    "abicomp.py ebands *_GSR.nc\n",
    "```\n",
    "\n",
    "<p></p>\n",
    "\n",
    "<img src=\"assets/abicomp_ebands.png\" width=\"85%\" align=\"center\">"
   ]
  },
  {
   "cell_type": "markdown",
   "metadata": {
    "slideshow": {
     "slide_type": "skip"
    }
   },
   "source": [
    "#### Pandas dataframe printed to terminal:"
   ]
  },
  {
   "cell_type": "markdown",
   "metadata": {
    "slideshow": {
     "slide_type": "skip"
    }
   },
   "source": [
    "```text\n",
    "               nsppol  nspinor  nspden  nkpt  nband  nelect    fermie  \\\n",
    "si_nscf_GSR.nc       1        1       1    14      8     8.0  5.598453\n",
    "si_scf_GSR.nc        1        1       1    29      8     8.0  5.598453\n",
    "\n",
    "               formula  natom  alpha  beta  gamma         a         b  \\\n",
    "si_nscf_GSR.nc     Si2      2   60.0  60.0   60.0  3.866975  3.866975\n",
    "si_scf_GSR.nc      Si2      2   60.0  60.0   60.0  3.866975  3.866975\n",
    "\n",
    "                       c     volume abispg_num spglib_symb  spglib_num  \\\n",
    "si_nscf_GSR.nc  3.866975  40.888292        227       Fd-3m         227\n",
    "si_scf_GSR.nc   3.866975  40.888292        227       Fd-3m         227\n",
    "\n",
    "               spglib_lattice_type scheme  occopt  tsmear_ev  bandwidth_spin0  \\\n",
    "si_nscf_GSR.nc               cubic   none       1   0.272114        11.855854\n",
    "si_scf_GSR.nc                cubic   none       1   0.272114        11.855874\n",
    "\n",
    "                fundgap_spin0  dirgap_spin0  gap_type  \\\n",
    "si_nscf_GSR.nc       0.524340      2.531828  indirect\n",
    "si_scf_GSR.nc        0.562277      2.531798  indirect\n",
    "\n",
    "                                   fundgap_kstart              fundgap_kend  \\\n",
    "si_nscf_GSR.nc  [+0.000, +0.000, +0.000] $\\Gamma$  [+0.000, +0.429, +0.429]\n",
    "si_scf_GSR.nc            [+0.000, +0.000, +0.000]  [+0.375, +0.375, +0.000]\n",
    "\n",
    "                                    dirgap_kstart  \\\n",
    "si_nscf_GSR.nc  [+0.000, +0.000, +0.000] $\\Gamma$\n",
    "si_scf_GSR.nc            [+0.000, +0.000, +0.000]\n",
    "\n",
    "                                      dirgap_kend\n",
    "si_nscf_GSR.nc  [+0.000, +0.000, +0.000] $\\Gamma$\n",
    "si_scf_GSR.nc            [+0.000, +0.000, +0.000]\n",
    "```"
   ]
  },
  {
   "cell_type": "markdown",
   "metadata": {
    "slideshow": {
     "slide_type": "slide"
    }
   },
   "source": [
    "## Bash is handy but python is more flexible\n",
    "\n",
    "##### Let's use the *DdbRobot* to compare phonons obtained with different ${\\bf k}$-meshes and smearing values:"
   ]
  },
  {
   "cell_type": "code",
   "execution_count": null,
   "metadata": {
    "run_control": {
     "marked": true
    },
    "slideshow": {
     "slide_type": "skip"
    }
   },
   "outputs": [],
   "source": [
    "paths = [\n",
    "    \"mgb2_888k_0.01tsmear_DDB\",\n",
    "    \"mgb2_888k_0.04tsmear_DDB\",\n",
    "    \"mgb2_121212k_0.01tsmear_DDB\",\n",
    "    \"mgb2_121212k_0.04tsmear_DDB\",\n",
    "]\n",
    "\n",
    "paths = [os.path.join(abidata.dirpath, \"refs\", \"mgb2_phonons_nkpt_tsmear\", f) \n",
    "         for f in paths]\n",
    "\n",
    "robot = abilab.DdbRobot()\n",
    "for i, path in enumerate(paths):\n",
    "    robot.add_file(path, path)"
   ]
  },
  {
   "cell_type": "code",
   "execution_count": null,
   "metadata": {
    "slideshow": {
     "slide_type": "skip"
    }
   },
   "outputs": [],
   "source": [
    "# Define function to change labels:\n",
    "func = lambda ddb: \"nkpt: %s, tsmear: %.2f\" % (\n",
    "    ddb.header[\"nkpt\"], ddb.header[\"tsmear\"])\n",
    "\n",
    "robot.remap_labels(func)\n",
    "robot"
   ]
  },
  {
   "cell_type": "markdown",
   "metadata": {
    "slideshow": {
     "slide_type": "skip"
    }
   },
   "source": [
    "<!-- We are usually interested in the convergence behavior with respect to one or two parameters of \n",
    "the calculations.-->\n",
    "\n",
    "#### Now we can build a dataframe with the most important parameters:"
   ]
  },
  {
   "cell_type": "code",
   "execution_count": null,
   "metadata": {
    "slideshow": {
     "slide_type": "skip"
    }
   },
   "outputs": [],
   "source": [
    "robot.get_params_dataframe()"
   ]
  },
  {
   "cell_type": "markdown",
   "metadata": {
    "slideshow": {
     "slide_type": "skip"
    }
   },
   "source": [
    "#### and check that all DDBs have been computed with the same crystalline structure:"
   ]
  },
  {
   "cell_type": "code",
   "execution_count": null,
   "metadata": {
    "slideshow": {
     "slide_type": "skip"
    }
   },
   "outputs": [],
   "source": [
    "robot.get_lattice_dataframe()"
   ]
  },
  {
   "cell_type": "markdown",
   "metadata": {
    "slideshow": {
     "slide_type": "skip"
    }
   },
   "source": [
    "* Dataframes can be exported to different formats: CSV, $Latex$, JSON, Excel, ...\n",
    "* Use [dataframe.to_clipboard()](https://pandas.pydata.org/pandas-docs/stable/reference/api/pandas.DataFrame.to_clipboard.html#pandas-dataframe-to-clipboard) \n",
    "to copy to clipboard and paste into spreadsheet editor\n",
    "* Explore your *DataFrames* inside *jupyter* with [qgrid](https://github.com/quantopian/qgrid)\n",
    "* High-level plotting interface provided by [seaborn](https://seaborn.pydata.org/)\n",
    "<p></p>\n",
    "\n",
    "```python\n",
    "energy_table.plot(x=\"nkpt\", y=[\"energy_Ha\", \"ediff_Ha\", \"pressure\"], \n",
    "                  style=\"-o\", subplots=True);\n",
    "```"
   ]
  },
  {
   "cell_type": "markdown",
   "metadata": {
    "slideshow": {
     "slide_type": "skip"
    }
   },
   "source": [
    "#### To analyze the effect of k-sampling/smearing on the vibrational properties:"
   ]
  },
  {
   "cell_type": "code",
   "execution_count": null,
   "metadata": {
    "slideshow": {
     "slide_type": "skip"
    }
   },
   "outputs": [],
   "source": [
    "# Invoke anaddb and store results\n",
    "r = robot.anaget_phonon_plotters(nqsmall=2)\n",
    "\n",
    "r.phbands_plotter.gridplot_with_hue(\"tsmear\", with_dos=True);"
   ]
  },
  {
   "cell_type": "markdown",
   "metadata": {
    "slideshow": {
     "slide_type": "skip"
    }
   },
   "source": [
    "## *AbinitInput* object \n",
    "\n",
    "Programmatic interface to generate input files:\n",
    "\n",
    "* *Dict-like* object storing ABINIT variables \n",
    "* Methods to set multiple variables (*e.g.* **k**-path from *structure*)\n",
    "* Factory functions to generate input files with minimal effort\n",
    "\n",
    "Can invoke ABINIT to get important parameters such as:\n",
    "\n",
    "  * list of **k**-points in the IBZ\n",
    "  * list of irreducible DFPT perturbations\n",
    "  * list of possible configurations for MPI jobs (*npkpt*, *npfft*, *npband* …)\n",
    "     \n",
    "#### To build an input, we need a *structure* and a list of *pseudos*:"
   ]
  },
  {
   "cell_type": "markdown",
   "metadata": {
    "slideshow": {
     "slide_type": "skip"
    }
   },
   "source": [
    "### Input file for band structure calculation + DOS\n",
    "\n",
    "1. GS run to get the density \n",
    "2. NSCF run along high-symmetry **k**-path\n",
    "3. NSCF run with **k**-mesh to compute the DOS"
   ]
  },
  {
   "cell_type": "code",
   "execution_count": null,
   "metadata": {
    "slideshow": {
     "slide_type": "notes"
    }
   },
   "outputs": [],
   "source": [
    "#multi = abilab.ebands_input(structure=\"si.cif\", \n",
    "#                            pseudos=\"14si.pspnc\",\n",
    "#                            ecut=8, \n",
    "#                            spin_mode=\"unpolarized\", \n",
    "#                            smearing=None, \n",
    "#                            dos_kppa=5000)\n",
    "\n",
    "#multi.get_vars_dataframe(\"kptopt\", \"iscf\", \"ngkpt\")"
   ]
  },
  {
   "cell_type": "markdown",
   "metadata": {
    "slideshow": {
     "slide_type": "slide"
    }
   },
   "source": [
    "## Future developments\n",
    "\n",
    "### Post-processing tools\n",
    "\n",
    "* Implement panel GUIs for all the *netcdf* files already supported by AbiPy\n",
    "* Develop web applications so that users can upload e.g. DDB files and analyze the results\n",
    "\n",
    "<!--\n",
    "* Integrate AbiPy with [jupyterlab](https://github.com/jupyterlab/jupyterlab) to create a flexible graphical enviroment for Abinit exposing (part) \n",
    "  of the python API \n",
    "* Explore web-based technologies for data analysis and visualization ([plotly](https://plot.ly/), [dash](https://plot.ly/products/dash/)) \n",
    "* Develop toolkit to build web apps powered by AbiPy and pymatgen to disseminate scientific results. \n",
    "-->\n",
    "\n",
    "### Continuous Integration\n",
    "\n",
    "* Use AbiPy programmatic interface to implement:\n",
    "\n",
    "    * Validation of parallel algorithms for np in range(1, N)\n",
    "    * Stress testing\n",
    "    * Benchmarks"
   ]
  }
 ],
 "metadata": {
  "celltoolbar": "Slideshow",
  "kernelspec": {
   "display_name": "Python 3",
   "language": "python",
   "name": "python3"
  },
  "language_info": {
   "codemirror_mode": {
    "name": "ipython",
    "version": 3
   },
   "file_extension": ".py",
   "mimetype": "text/x-python",
   "name": "python",
   "nbconvert_exporter": "python",
   "pygments_lexer": "ipython3",
   "version": "3.7.0"
  },
  "latex_envs": {
   "bibliofile": "biblio.bib",
   "cite_by": "apalike",
   "current_citInitial": 1,
   "eqLabelWithNumbers": true,
   "eqNumInitial": 0
  }
 },
 "nbformat": 4,
 "nbformat_minor": 2
}
